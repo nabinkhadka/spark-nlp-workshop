{
 "cells": [
  {
   "cell_type": "markdown",
   "metadata": {},
   "source": [
    "<img src=\"https://nlp.johnsnowlabs.com/assets/images/logo.png\" width=\"180\" height=\"50\" style=\"float: left;\">"
   ]
  },
  {
   "cell_type": "markdown",
   "metadata": {},
   "source": [
    "## Evaluation Symmetric Spell Checker"
   ]
  },
  {
   "cell_type": "markdown",
   "metadata": {},
   "source": [
    "In the following example, we walk-through an evaluation for a Norvig Spell Checker. We will check metrics such as accuracy and training time."
   ]
  },
  {
   "cell_type": "markdown",
   "metadata": {},
   "source": [
    "**1. Call necessary imports and set the resource path to read local data files**"
   ]
  },
  {
   "cell_type": "code",
   "execution_count": 2,
   "metadata": {},
   "outputs": [],
   "source": [
    "import sparknlp\n",
    "from sparknlp.annotator import *\n",
    "from sparknlp.eval import *\n",
    "\n",
    "spark = sparknlp.start(include_eval=True)"
   ]
  },
  {
   "cell_type": "markdown",
   "metadata": {},
   "source": [
    "**2. Gather the required files**\n",
    "\n",
    "First, we will evaluate a pretrained model. Thus, we will require only a corpus of documents with misspells words (*test_file*) and the same corpus but with correctly spell words (*ground_truth_file*)"
   ]
  },
  {
   "cell_type": "code",
   "execution_count": 3,
   "metadata": {},
   "outputs": [],
   "source": [
    "ground_truth_file = \"./ground_truth.txt\"\n",
    "test_file = \"./misspell.txt\""
   ]
  },
  {
   "cell_type": "markdown",
   "metadata": {},
   "source": [
    "**3. Evaluating Symmetric Spell Model**"
   ]
  },
  {
   "cell_type": "markdown",
   "metadata": {},
   "source": [
    "We just load a pretrained model"
   ]
  },
  {
   "cell_type": "code",
   "execution_count": 4,
   "metadata": {},
   "outputs": [
    {
     "name": "stdout",
     "output_type": "stream",
     "text": [
      "spellcheck_sd download started this may take some time.\n",
      "Approximate size to download 198.1 MB\n",
      "[OK!]\n"
     ]
    }
   ],
   "source": [
    "sym_spell = SymmetricDeleteModel.pretrained()"
   ]
  },
  {
   "cell_type": "markdown",
   "metadata": {},
   "source": [
    "Now, we just make use of *NorvigSpellEvaluation* component to compute the accuracy. Make sure you are running MLflow UI to check the results locally on the browser. Check how to setup MLflow UI [here](https://github.com/JohnSnowLabs/spark-nlp#eval-module)"
   ]
  },
  {
   "cell_type": "code",
   "execution_count": 5,
   "metadata": {},
   "outputs": [],
   "source": [
    "symSpellEvaluation = SymSpellEvaluation(spark, test_file, ground_truth_file)\n",
    "symSpellEvaluation.computeAccuracyModel(sym_spell)"
   ]
  },
  {
   "cell_type": "markdown",
   "metadata": {},
   "source": [
    "When running Mlflow UI you will see an output like this:"
   ]
  },
  {
   "cell_type": "markdown",
   "metadata": {},
   "source": [
    "![Image of Sym Spell Eval Model](images/SymSpellAnnotatorEval.png)"
   ]
  },
  {
   "cell_type": "markdown",
   "metadata": {},
   "source": [
    "**4. Evaluating Symmetric Spell Annotator**"
   ]
  },
  {
   "cell_type": "markdown",
   "metadata": {},
   "source": [
    "Here, we need to include the files for training"
   ]
  },
  {
   "cell_type": "code",
   "execution_count": 6,
   "metadata": {},
   "outputs": [],
   "source": [
    "train_file = \"./sherlockholmes.txt\"\n",
    "dictionary_file = \"./words.txt\""
   ]
  },
  {
   "cell_type": "markdown",
   "metadata": {},
   "source": [
    "Then train the annotator"
   ]
  },
  {
   "cell_type": "code",
   "execution_count": 7,
   "metadata": {},
   "outputs": [],
   "source": [
    "sym_spell = SymmetricDeleteApproach() \\\n",
    "            .setInputCols([\"token\"]) \\\n",
    "            .setOutputCol(\"checked\") \\\n",
    "            .setDictionary(dictionary_file)"
   ]
  },
  {
   "cell_type": "markdown",
   "metadata": {},
   "source": [
    "And invoke the method from eval module"
   ]
  },
  {
   "cell_type": "code",
   "execution_count": 8,
   "metadata": {},
   "outputs": [],
   "source": [
    "symSpellEvaluation = SymSpellEvaluation(spark, test_file, ground_truth_file)\n",
    "symSpellEvaluation.computeAccuracyAnnotator(train_file, sym_spell)"
   ]
  },
  {
   "cell_type": "markdown",
   "metadata": {},
   "source": [
    "When running Mlflow UI you will see an output like this:"
   ]
  },
  {
   "cell_type": "markdown",
   "metadata": {},
   "source": [
    "![Image of SymSpell Eval Pretrained](images/SymSpellPretrainedEval.png)"
   ]
  }
 ],
 "metadata": {
  "kernelspec": {
   "display_name": "Python 3",
   "language": "python",
   "name": "python3"
  },
  "language_info": {
   "codemirror_mode": {
    "name": "ipython",
    "version": 3
   },
   "file_extension": ".py",
   "mimetype": "text/x-python",
   "name": "python",
   "nbconvert_exporter": "python",
   "pygments_lexer": "ipython3",
   "version": "3.6.4"
  }
 },
 "nbformat": 4,
 "nbformat_minor": 2
}
