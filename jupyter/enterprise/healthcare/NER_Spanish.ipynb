{
 "cells": [
  {
   "cell_type": "markdown",
   "metadata": {
    "colab_type": "text",
    "id": "lc_L6EaAWEzo"
   },
   "source": [
    "[![Open In Colab](https://colab.research.google.com/assets/colab-badge.svg)](https://colab.research.google.com/github/JohnSnowLabs/spark-nlp-workshop/blob/master/jupyter/enterprise/healthcare/NER_Spanish.ipynb)"
   ]
  },
  {
   "cell_type": "code",
   "execution_count": 1,
   "metadata": {
    "colab": {
     "base_uri": "https://localhost:8080/",
     "height": 34
    },
    "colab_type": "code",
    "id": "MdE588BiY3z1",
    "outputId": "29dd15c0-3ed4-42a5-d6f6-262ef222dd21"
   },
   "outputs": [
    {
     "data": {
      "text/plain": [
       "dict_keys(['version', 'secret', 'SPARK_NLP_LICENSE', 'JSL_OCR_LICENSE', 'AWS_ACCESS_KEY_ID', 'AWS_SECRET_ACCESS_KEY', 'JSL_OCR_SECRET'])"
      ]
     },
     "execution_count": 1,
     "metadata": {
      "tags": []
     },
     "output_type": "execute_result"
    }
   ],
   "source": [
    "import json\n",
    "\n",
    "with open('keys.json') as f:\n",
    "    license_keys = json.load(f)\n",
    "\n",
    "license_keys.keys()\n"
   ]
  },
  {
   "cell_type": "code",
   "execution_count": 2,
   "metadata": {
    "colab": {
     "base_uri": "https://localhost:8080/",
     "height": 408
    },
    "colab_type": "code",
    "id": "FVFdvGChZDDP",
    "outputId": "8c60e6ac-bbc4-4bd2-b2d2-79338959aa82"
   },
   "source": [
    "import os\n",
    "\n",
    "# Install java\n",
    "! apt-get install -y openjdk-8-jdk-headless -qq > /dev/null\n",
    "os.environ[\"JAVA_HOME\"] = \"/usr/lib/jvm/java-8-openjdk-amd64\"\n",
    "os.environ[\"PATH\"] = os.environ[\"JAVA_HOME\"] + \"/bin:\" + os.environ[\"PATH\"]\n",
    "! java -version\n",
    "\n",
    "secret = license_keys['secret']\n",
    "os.environ['SPARK_NLP_LICENSE'] = license_keys['SPARK_NLP_LICENSE']\n",
    "os.environ['JSL_OCR_LICENSE'] = license_keys['JSL_OCR_LICENSE']\n",
    "os.environ['AWS_ACCESS_KEY_ID']= license_keys['AWS_ACCESS_KEY_ID']\n",
    "os.environ['AWS_SECRET_ACCESS_KEY'] = license_keys['AWS_SECRET_ACCESS_KEY']\n",
    "version = license_keys['version']\n",
    "jsl_version = license_keys['jsl_version']\n",
    "\n",
    "! python -m pip install --upgrade spark-nlp-jsl==$jsl_version  --extra-index-url https://pypi.johnsnowlabs.com/$secret"
   ]
  },
  {
   "cell_type": "code",
   "execution_count": 1,
   "metadata": {},
   "outputs": [
    {
     "name": "stdout",
     "output_type": "stream",
     "text": [
      "2.5.3\n"
     ]
    }
   ],
   "source": [
    "import sparknlp\n",
    "\n",
    "print (sparknlp.version())\n",
    "\n",
    "import json\n",
    "import os\n",
    "from pyspark.ml import Pipeline\n",
    "from pyspark.sql import SparkSession\n",
    "\n",
    "\n",
    "from sparknlp.annotator import *\n",
    "from sparknlp_jsl.annotator import *\n",
    "from sparknlp.base import *\n",
    "import sparknlp_jsl"
   ]
  },
  {
   "cell_type": "code",
   "execution_count": 12,
   "metadata": {},
   "outputs": [],
   "source": [
    "def start(secret):\n",
    "    builder = SparkSession.builder \\\n",
    "        .appName(\"Spark NLP Licensed\") \\\n",
    "        .master(\"local[*]\") \\\n",
    "        .config(\"spark.driver.memory\", \"16G\") \\\n",
    "        .config(\"spark.serializer\", \"org.apache.spark.serializer.KryoSerializer\") \\\n",
    "        .config(\"spark.kryoserializer.buffer.max\", \"2000M\") \\\n",
    "        .config(\"spark.jars.packages\", \"com.johnsnowlabs.nlp:spark-nlp_2.11:\"+version) \\\n",
    "        .config(\"spark.jars\", \"https://pypi.johnsnowlabs.com/\"+secret+\"/spark-nlp-jsl-\"+jsl_version+\".jar\")\n",
    "      \n",
    "    return builder.getOrCreate()\n",
    "\n",
    "\n",
    "spark = start(secret) # if you want to start the session with custom params as in start function above\n",
    "# sparknlp_jsl.start(secret)"
   ]
  },
  {
   "cell_type": "code",
   "execution_count": 3,
   "metadata": {
    "colab": {},
    "colab_type": "code",
    "id": "1zgsiTxjaiMd"
   },
   "outputs": [],
   "source": [
    "data_chunk_merge = spark.createDataFrame([\n",
    "  (1,\"\"\"ANAMNESIS\n",
    "Mujer de 67 años con antecedentes personales de hipotiroidismo en tratamiento con levotiroxina y fumadora activa de 12.5 paquetes/año. Consulta en Urgencias por sensación progresiva de “acorchamiento y hormigueos” en ambos miembros superiores e inferiores, así como una dificultad progresiva para la deambulación de 4 meses de evolución, asociando asimismo alteración de la memoria reciente desde el último mes\n",
    "EXPLORACIÓN FÍSICA\n",
    "Presentaba una exploración cardiopulmonar y abdominal normal. En la exploración neurológica destaca balance motor por grupos musculares conservado; arreflexia rotuliana y aquilea e hiporreflexia bicipital; tetrahipoestesia asimétrica (táctil, algésica, vibratoria y posicional) en patrón de “guante y calcetín altos” de predominio izquierdo; Romberg positivo y marcha con leve aumento de base de sustentación que impresiona ataxia sensitiva.\n",
    "PRUEBAS COMPLEMENTARIAS\n",
    "En las exploraciones complementarias, hemograma, bioquímica y coagulación no presentaban alteraciones. El análisis de virus hepatitis B y C, VIH, las serologías de enfermedad de Lyme y Treponema pallidum fueron negativas. El estudio lipídico, de\n",
    "vitaminas, proteinograma y anticuerpos antinucleares fueron normales. Se objetivó positividad para los anticuerpos onconeuronales anfifisina, anti-Hu y anti-SOX-1.\n",
    "Se realizó una punción lumbar. El estudio bacteriológico, de micobacterias, de Herpes virus 1 y 2, Ebstein Barr, Citomegalovirus y Varicela-Zoster fue negativo.\n",
    "El estudio de electroneurografía-electromiografía (ENG-EMG) demostró ausencia de potenciales sensitivos en miembros inferiores y algunos nervios de miembros superiores; siendo las respuestas presentes de amplitud muy reducida, con marcado alargamiento de latencias y disminución severa de la velocidad de conducción. Estudio de conductividad motora y electromiográfico sin hallazgos patológicos, hallazgos compatibles con polineuropatía sensitiva severa de características mixtas.\n",
    "En la tomografía axial computerizada (TAC) cerebral no se apreciaron alteraciones significativas. En la TAC toraco-abdomino-pélvica se observaron una adenopatía parahiliar derecha de 2.5 cm y una adenopatía subcarinal de características patológicas.\n",
    "En el PET-TAC se observaron depósitos patológicos que coincidían con los hallazgos del TAC.\n",
    "Se realizó una ecobroncoscopia lineal con toma de biopsia de adenopatía subcarinal.\n",
    "La resonancia mágnetica (RM) cervico-dorso-lumbar mostró pequeñas hernias discales dorsales y lumbares sin afectación del canal medular ni de la cola de caballo.\n",
    "La RM cerebral mostró en T2 hiperintensidad en ambos lóbulos temporales alcanzando hipocampo y corteza siendo sugestivo de encefalitis límbica.\n",
    "ANATOMÍA PATOLÓGICA\n",
    "Carcinoma microcítico de pulmón. Inmunohistoquímica: positivo para TTF1, cromogranina y sinaptofisina, negativo para CK7, CK20 y p40.\n",
    "JUICIO DIAGNÓSTICO\n",
    "Encefalitis límbica y polineuropatía sensitiva paraneoplásicas secundarias a carcinoma microcítico de pulmón cTxN2 M0 (enfermedad limitada).\n",
    "TRATAMIENTO Y EVOLUCIÓN\n",
    "Ante el juicio diagnóstico, y con la colaboración del Servicio de Neurología, se inició tratamiento sintomático secuencial con gammaglobulina (0.4 mg/kg/día) y corticoides (metilprednisolona 1 g/día) intravenosos durante 5 días respectivamente, con escasa mejoría de la clínica. Debido a las molestias ocasionadas por las parestesias se inició tratamiento oral con pregabalina a dosis de 50-0-75 mg.\n",
    "Se decidió comenzar con tratamiento con cisplatino-etopósido más radioterapia concomitante (59.4 Gy en 30 sesiones) a partir del segundo ciclo. Se completó un total de cinco ciclos observándose una respuesta parcial radiológica por criterios RECIST (Response Evaluation Criteria In Solid Tumors).\n",
    "Tres meses después de la finalización del tratamiento con quimioterapia la paciente refiere empeoramiento progresivo de la clínica polineuropática, presentando también episodios súbitos de fuertes reacciones de miedo, llanto y ansiedad, congruentes con crisis epilépticas focales límbicas, por lo que se decide administrar nueva tanda de gammaglobulinas iv (0,4 mg/kg/día) e iniciar tratamiento antiepiléptico con levetirazetam 500 mg cada 12h y lacosamida 100 mg cada 12h, consiguiendo mejoría sintomática cognitiva y control de las crisis. Posteriormente ante mayor progresión de la clínica polineuropática se decide tratamiento de 2ª línea con rituximab iv (1000 mg separados entre sí 14 días), manteniéndose clínicamente estable.\n",
    "Después de nueve meses libre de progresión, se objetiva en el TAC de control un aumento de tejido de partes blandas perihiliar derecho y un nódulo de 7 mm en lóbulo inferior derecho no presente en el TAC previo, hipermetabólico en el PET-TC. Por lo tanto, ante una progresión de enfermedad se decide reiniciar quimioterapia con carboplatinoetopósido al ser una paciente platino sensible.\"\"\"),\n",
    "  (2,\"\"\"Describimos el caso de un varón de 37 años con vida previa activa que refiere dolores osteoarticulares de localización variable en el último mes y fiebre en la última semana con picos (matutino y vespertino) de 40 C las últimas 24-48 horas, por lo que acude al Servicio de Urgencias. Antes de comenzar el cuadro estuvo en Extremadura en una región endémica de brucella, ingiriendo leche de cabra sin pasteurizar y queso de dicho ganado. Entre los comensales aparecieron varios casos de brucelosis. Durante el ingreso para estudio del síndrome febril con antecedentes epidemiológicos de posible exposición a Brucella presenta un cuadro de orquiepididimitis derecha.\n",
    "La exploración física revela: Tª 40,2 C; T.A: 109/68 mmHg; Fc: 105 lpm. Se encuentra consciente, orientado, sudoroso, eupneico, con buen estado de nutrición e hidratación. En cabeza y cuello no se palpan adenopatías, ni bocio ni ingurgitación de vena yugular, con pulsos carotídeos simétricos. Auscultación cardíaca rítmica, sin soplos, roces ni extratonos. Auscultación pulmonar con conservación del murmullo vesicular. Abdomen blando, depresible, sin masas ni megalias. En la exploración neurológica no se detectan signos meníngeos ni datos de focalidad. Extremidades sin varices ni edemas. Pulsos periféricos presentes y simétricos. En la exploración urológica se aprecia el teste derecho aumentado de tamaño, no adherido a piel, con zonas de fluctuación e intensamente doloroso a la palpación, con pérdida del límite epidídimo-testicular y transiluminación positiva.\n",
    "Los datos analíticos muestran los siguentes resultados: Hemograma: Hb 13,7 g/dl; leucocitos 14.610/mm3 (neutrófilos 77%); plaquetas 206.000/ mm3. VSG: 40 mm 1ª hora. Coagulación: TQ 87%; TTPA 25,8 seg. Bioquímica: Glucosa 117 mg/dl; urea 29 mg/dl; creatinina 0,9 mg/dl; sodio 136 mEq/l; potasio 3,6 mEq/l; GOT 11 U/l; GPT 24 U/l; GGT 34 U/l; fosfatasa alcalina 136 U/l; calcio 8,3 mg/dl. Orina: sedimento normal.\n",
    "Durante el ingreso se solicitan Hemocultivos: positivo para Brucella y Serologías específicas para Brucella: Rosa de Bengala +++; Test de Coombs > 1/1280; Brucellacapt > 1/5120. Las pruebas de imagen solicitadas ( Rx tórax, Ecografía abdominal, TAC craneal, Ecocardiograma transtorácico) no evidencian patología significativa, excepto la Ecografía testicular, que muestra engrosamiento de la bolsa escrotal con pequeña cantidad de líquido con septos y testículo aumentado de tamaño con pequeñas zonas hipoecoicas en su interior que pueden representar microabscesos.\n",
    "Con el diagnóstico de orquiepididimitis secundaria a Brucella se instaura tratamiento sintomático (antitérmicos, antiinflamatorios, reposo y elevación testicular) así como tratamiento antibiótico específico: Doxiciclina 100 mg vía oral cada 12 horas (durante 6 semanas) y Estreptomicina 1 gramo intramuscular cada 24 horas (durante 3 semanas). El paciente mejora significativamente de su cuadro tras una semana de ingreso, decidiéndose el alta a su domicilio donde completó la pauta de tratamiento antibiótico. En revisiones sucesivas en consultas se constató la completa remisión del cuadro.\"\"\")\n",
    "]).toDF(\"id\",\"text\")"
   ]
  },
  {
   "cell_type": "code",
   "execution_count": 4,
   "metadata": {
    "colab": {
     "base_uri": "https://localhost:8080/",
     "height": 170
    },
    "colab_type": "code",
    "id": "weY5V9h7ZDf0",
    "outputId": "e9c2f9a0-258e-4c19-c34f-a670722fb6c6"
   },
   "outputs": [
    {
     "name": "stdout",
     "output_type": "stream",
     "text": [
      "embeddings_scielowiki_300d download started this may take some time.\n",
      "Approximate size to download 351.2 MB\n",
      "[OK!]\n",
      "ner_diag_proc download started this may take some time.\n",
      "Approximate size to download 14.2 MB\n",
      "[OK!]\n",
      "ner_neoplasms download started this may take some time.\n",
      "Approximate size to download 14.2 MB\n",
      "[OK!]\n"
     ]
    }
   ],
   "source": [
    "da = DocumentAssembler().setInputCol(\"text\").setOutputCol(\"document\")\n",
    "sd = SentenceDetector().setInputCols(\"document\").setOutputCol(\"sentence\")\n",
    "tk = Tokenizer().setInputCols(\"sentence\").setOutputCol(\"token\")\n",
    "emb = WordEmbeddingsModel.pretrained(\"embeddings_scielowiki_300d\",\"es\",\"clinical/models\").setOutputCol(\"embs\")\n",
    "ner = NerDLModel.pretrained(\"ner_diag_proc\",\"es\",\"clinical/models\").setInputCols(\"sentence\",\"token\",\"embs\").setOutputCol(\"ner\")\n",
    "canner = NerDLModel.pretrained(\"ner_neoplasms\",\"es\",\"clinical/models\").setInputCols(\"sentence\",\"token\",\"embs\").setOutputCol(\"canner\")\n",
    "nc = NerConverter().setInputCols(\"sentence\",\"token\",\"ner\").setOutputCol(\"ner_chunk\")\n",
    "cannc = NerConverter().setInputCols(\"sentence\",\"token\",\"canner\").setOutputCol(\"canner_chunk\")"
   ]
  },
  {
   "cell_type": "code",
   "execution_count": 7,
   "metadata": {
    "colab": {},
    "colab_type": "code",
    "id": "45Cr6STSKvZD"
   },
   "outputs": [],
   "source": [
    "#######################################################################################\n",
    "\n",
    "merger_can = ChunkMergeApproach().setInputCols(\"ner_chunk\",\"canner_chunk\").setOutputCol(\"combined\")\n",
    "\n",
    "#######################################################################################\n",
    "\n",
    "pl = Pipeline().setStages([da,sd,tk,emb,ner,canner,nc,cannc,merger_can])"
   ]
  },
  {
   "cell_type": "code",
   "execution_count": 8,
   "metadata": {
    "colab": {},
    "colab_type": "code",
    "id": "8jVGpbBxWEz1"
   },
   "outputs": [],
   "source": [
    "merged_data = pl.fit(data_chunk_merge).transform(data_chunk_merge).cache()"
   ]
  },
  {
   "cell_type": "code",
   "execution_count": 9,
   "metadata": {
    "colab": {
     "base_uri": "https://localhost:8080/",
     "height": 170
    },
    "colab_type": "code",
    "id": "ogbBOST6aZTt",
    "outputId": "34f9d71a-c029-4803-de40-391ac5720066"
   },
   "outputs": [
    {
     "name": "stdout",
     "output_type": "stream",
     "text": [
      "+---+-----+----+----------------------------------------+-------------+\n",
      "|id |begin|end |ner_chunk                               |entity       |\n",
      "+---+-----+----+----------------------------------------+-------------+\n",
      "|1  |58   |71  |hipotiroidismo                          |DIAGNOSTICO  |\n",
      "|1  |107  |114 |fumadora                                |DIAGNOSTICO  |\n",
      "|1  |367  |390 |alteración de la memoria                |DIAGNOSTICO  |\n",
      "|1  |588  |597 |arreflexia                              |DIAGNOSTICO  |\n",
      "|1  |621  |633 |hiporreflexia                           |DIAGNOSTICO  |\n",
      "|1  |864  |879 |ataxia sensitiva                        |DIAGNOSTICO  |\n",
      "|1  |1030 |1040|hepatitis B                             |DIAGNOSTICO  |\n",
      "|1  |1047 |1049|VIH                                     |DIAGNOSTICO  |\n",
      "|1  |1070 |1079|enfermedad                              |DIAGNOSTICO  |\n",
      "|1  |1084 |1087|Lyme                                    |DIAGNOSTICO  |\n",
      "|1  |1091 |1099|Treponema                               |DIAGNOSTICO  |\n",
      "|1  |1395 |1400|Herpes                                  |DIAGNOSTICO  |\n",
      "|1  |1429 |1443|Citomegalovirus                         |DIAGNOSTICO  |\n",
      "|1  |1491 |1525|electroneurografía-electromiografía     |PROCEDIMIENTO|\n",
      "|1  |1828 |1844|electromiográfico                       |PROCEDIMIENTO|\n",
      "|1  |1899 |1922|polineuropatía sensitiva                |DIAGNOSTICO  |\n",
      "|1  |1964 |1993|tomografía axial computerizada          |PROCEDIMIENTO|\n",
      "|1  |2001 |2008|cerebral                                |PROCEDIMIENTO|\n",
      "|1  |2062 |2088|TAC toraco-abdomino-pélvica             |PROCEDIMIENTO|\n",
      "|1  |2108 |2117|adenopatía                              |DIAGNOSTICO  |\n",
      "|1  |2154 |2163|adenopatía                              |DIAGNOSTICO  |\n",
      "|1  |2295 |2297|TAC                                     |PROCEDIMIENTO|\n",
      "|1  |2361 |2370|adenopatía                              |DIAGNOSTICO  |\n",
      "|1  |2387 |2406|resonancia mágnetica                    |PROCEDIMIENTO|\n",
      "|1  |2413 |2432|cervico-dorso-lumbar                    |PROCEDIMIENTO|\n",
      "|1  |2549 |2559|RM cerebral                             |PROCEDIMIENTO|\n",
      "|1  |2669 |2679|encefalitis                             |DIAGNOSTICO  |\n",
      "|1  |2710 |2740|Carcinoma microcítico de pulmón         |DIAGNOSTICO  |\n",
      "|1  |2863 |2881|Encefalitis límbica                     |DIAGNOSTICO  |\n",
      "|1  |2885 |2924|polineuropatía sensitiva paraneoplásicas|DIAGNOSTICO  |\n",
      "|1  |2940 |2970|carcinoma microcítico de pulmón         |DIAGNOSTICO  |\n",
      "|1  |2982 |2991|enfermedad                              |DIAGNOSTICO  |\n",
      "|1  |3350 |3360|parestesias                             |DIAGNOSTICO  |\n",
      "|1  |3936 |3940|miedo                                   |DIAGNOSTICO  |\n",
      "|1  |3952 |3959|ansiedad                                |DIAGNOSTICO  |\n",
      "|1  |3978 |3995|crisis epilépticas                      |DIAGNOSTICO  |\n",
      "|1  |4521 |4523|TAC                                     |PROCEDIMIENTO|\n",
      "|1  |4659 |4661|TAC                                     |PROCEDIMIENTO|\n",
      "|1  |4738 |4747|enfermedad                              |DIAGNOSTICO  |\n",
      "|2  |78   |101 |dolores osteoarticulares                |DIAGNOSTICO  |\n",
      "|2  |147  |152 |fiebre                                  |DIAGNOSTICO  |\n",
      "|2  |360  |367 |brucella                                |DIAGNOSTICO  |\n",
      "|2  |486  |495 |brucelosis                              |DIAGNOSTICO  |\n",
      "|2  |534  |548 |síndrome febril                         |DIAGNOSTICO  |\n",
      "|2  |594  |614 |exposición a Brucella                   |DIAGNOSTICO  |\n",
      "|2  |638  |662 |orquiepididimitis derecha               |DIAGNOSTICO  |\n",
      "|2  |869  |879 |adenopatías                             |DIAGNOSTICO  |\n",
      "|2  |885  |889 |bocio                                   |DIAGNOSTICO  |\n",
      "|2  |994  |999 |soplos                                  |DIAGNOSTICO  |\n",
      "|2  |1118 |1122|masas                                   |DIAGNOSTICO  |\n",
      "|2  |1239 |1245|varices                                 |DIAGNOSTICO  |\n",
      "|2  |1250 |1255|edemas                                  |DIAGNOSTICO  |\n",
      "|2  |1343 |1355|teste derecho                           |DIAGNOSTICO  |\n",
      "|2  |1438 |1445|doloroso                                |DIAGNOSTICO  |\n",
      "|2  |2009 |2016|Brucella                                |DIAGNOSTICO  |\n",
      "|2  |2048 |2055|Brucella                                |DIAGNOSTICO  |\n",
      "|2  |2163 |2170|Rx tórax                                |PROCEDIMIENTO|\n",
      "|2  |2173 |2191|Ecografía abdominal                     |PROCEDIMIENTO|\n",
      "|2  |2194 |2204|TAC craneal                             |PROCEDIMIENTO|\n",
      "|2  |2287 |2306|Ecografía testicular                    |PROCEDIMIENTO|\n",
      "|2  |2537 |2553|orquiepididimitis                       |DIAGNOSTICO  |\n",
      "|2  |2568 |2575|Brucella                                |DIAGNOSTICO  |\n",
      "+---+-----+----+----------------------------------------+-------------+\n",
      "\n"
     ]
    }
   ],
   "source": [
    "merged_data.selectExpr(\"id\",\"explode(arrays_zip(ner_chunk.begin,ner_chunk.end,ner_chunk.result, ner_chunk.metadata)) as a\")\\\n",
    ".selectExpr(\"id\",\"a['0'] as begin\",\"a['1'] as end\",\"a['2'] as ner_chunk\",\"a['3'].entity as entity\")\\\n",
    ".orderBy(\"id\",\"begin\").show(100, False)"
   ]
  },
  {
   "cell_type": "code",
   "execution_count": 10,
   "metadata": {
    "colab": {
     "base_uri": "https://localhost:8080/",
     "height": 170
    },
    "colab_type": "code",
    "id": "bYlwmyDhfwNa",
    "outputId": "2dba5268-483f-4a1f-ad09-21c982c5c536"
   },
   "outputs": [
    {
     "name": "stdout",
     "output_type": "stream",
     "text": [
      "+---+-----+----+---------------------+--------------------+\n",
      "|id |begin|end |ner_chunk            |entity              |\n",
      "+---+-----+----+---------------------+--------------------+\n",
      "|1  |2710 |2730|Carcinoma microcítico|MORFOLOGIA_NEOPLASIA|\n",
      "|1  |2940 |2960|carcinoma microcítico|MORFOLOGIA_NEOPLASIA|\n",
      "|1  |2978 |2979|M0                   |MORFOLOGIA_NEOPLASIA|\n",
      "+---+-----+----+---------------------+--------------------+\n",
      "\n"
     ]
    }
   ],
   "source": [
    "merged_data.selectExpr(\"id\",\"explode(arrays_zip(canner_chunk.begin,canner_chunk.end,canner_chunk.result, canner_chunk.metadata)) as a\")\\\n",
    ".selectExpr(\"id\",\"a['0'] as begin\",\"a['1'] as end\",\"a['2'] as ner_chunk\",\"a['3'].entity as entity\")\\\n",
    ".orderBy(\"id\",\"begin\").show(100, False)"
   ]
  },
  {
   "cell_type": "code",
   "execution_count": 11,
   "metadata": {
    "colab": {
     "base_uri": "https://localhost:8080/",
     "height": 255
    },
    "colab_type": "code",
    "id": "dpLba4tAbPiW",
    "outputId": "11291ecd-8002-4a9d-954d-19445251a160"
   },
   "outputs": [
    {
     "name": "stdout",
     "output_type": "stream",
     "text": [
      "+---+----------------------------------------+--------------------+\n",
      "|id |chunk                                   |entity              |\n",
      "+---+----------------------------------------+--------------------+\n",
      "|1  |hipotiroidismo                          |DIAGNOSTICO         |\n",
      "|1  |fumadora                                |DIAGNOSTICO         |\n",
      "|1  |alteración de la memoria                |DIAGNOSTICO         |\n",
      "|1  |arreflexia                              |DIAGNOSTICO         |\n",
      "|1  |hiporreflexia                           |DIAGNOSTICO         |\n",
      "|1  |ataxia sensitiva                        |DIAGNOSTICO         |\n",
      "|1  |hepatitis B                             |DIAGNOSTICO         |\n",
      "|1  |VIH                                     |DIAGNOSTICO         |\n",
      "|1  |enfermedad                              |DIAGNOSTICO         |\n",
      "|1  |Lyme                                    |DIAGNOSTICO         |\n",
      "|1  |Treponema                               |DIAGNOSTICO         |\n",
      "|1  |Herpes                                  |DIAGNOSTICO         |\n",
      "|1  |Citomegalovirus                         |DIAGNOSTICO         |\n",
      "|1  |electroneurografía-electromiografía     |PROCEDIMIENTO       |\n",
      "|1  |electromiográfico                       |PROCEDIMIENTO       |\n",
      "|1  |polineuropatía sensitiva                |DIAGNOSTICO         |\n",
      "|1  |tomografía axial computerizada          |PROCEDIMIENTO       |\n",
      "|1  |cerebral                                |PROCEDIMIENTO       |\n",
      "|1  |TAC toraco-abdomino-pélvica             |PROCEDIMIENTO       |\n",
      "|1  |adenopatía                              |DIAGNOSTICO         |\n",
      "|1  |adenopatía                              |DIAGNOSTICO         |\n",
      "|1  |TAC                                     |PROCEDIMIENTO       |\n",
      "|1  |adenopatía                              |DIAGNOSTICO         |\n",
      "|1  |resonancia mágnetica                    |PROCEDIMIENTO       |\n",
      "|1  |cervico-dorso-lumbar                    |PROCEDIMIENTO       |\n",
      "|1  |RM cerebral                             |PROCEDIMIENTO       |\n",
      "|1  |encefalitis                             |DIAGNOSTICO         |\n",
      "|1  |Carcinoma microcítico de pulmón         |DIAGNOSTICO         |\n",
      "|1  |Encefalitis límbica                     |DIAGNOSTICO         |\n",
      "|1  |polineuropatía sensitiva paraneoplásicas|DIAGNOSTICO         |\n",
      "|1  |carcinoma microcítico de pulmón         |DIAGNOSTICO         |\n",
      "|1  |M0                                      |MORFOLOGIA_NEOPLASIA|\n",
      "|1  |enfermedad                              |DIAGNOSTICO         |\n",
      "|1  |parestesias                             |DIAGNOSTICO         |\n",
      "|1  |miedo                                   |DIAGNOSTICO         |\n",
      "|1  |ansiedad                                |DIAGNOSTICO         |\n",
      "|1  |crisis epilépticas                      |DIAGNOSTICO         |\n",
      "|1  |TAC                                     |PROCEDIMIENTO       |\n",
      "|1  |TAC                                     |PROCEDIMIENTO       |\n",
      "|1  |enfermedad                              |DIAGNOSTICO         |\n",
      "|2  |dolores osteoarticulares                |DIAGNOSTICO         |\n",
      "|2  |fiebre                                  |DIAGNOSTICO         |\n",
      "|2  |brucella                                |DIAGNOSTICO         |\n",
      "|2  |brucelosis                              |DIAGNOSTICO         |\n",
      "|2  |síndrome febril                         |DIAGNOSTICO         |\n",
      "|2  |exposición a Brucella                   |DIAGNOSTICO         |\n",
      "|2  |orquiepididimitis derecha               |DIAGNOSTICO         |\n",
      "|2  |adenopatías                             |DIAGNOSTICO         |\n",
      "|2  |bocio                                   |DIAGNOSTICO         |\n",
      "|2  |soplos                                  |DIAGNOSTICO         |\n",
      "|2  |masas                                   |DIAGNOSTICO         |\n",
      "|2  |varices                                 |DIAGNOSTICO         |\n",
      "|2  |edemas                                  |DIAGNOSTICO         |\n",
      "|2  |teste derecho                           |DIAGNOSTICO         |\n",
      "|2  |doloroso                                |DIAGNOSTICO         |\n",
      "|2  |Brucella                                |DIAGNOSTICO         |\n",
      "|2  |Brucella                                |DIAGNOSTICO         |\n",
      "|2  |Rx tórax                                |PROCEDIMIENTO       |\n",
      "|2  |Ecografía abdominal                     |PROCEDIMIENTO       |\n",
      "|2  |TAC craneal                             |PROCEDIMIENTO       |\n",
      "|2  |Ecografía testicular                    |PROCEDIMIENTO       |\n",
      "|2  |orquiepididimitis                       |DIAGNOSTICO         |\n",
      "|2  |Brucella                                |DIAGNOSTICO         |\n",
      "+---+----------------------------------------+--------------------+\n",
      "\n"
     ]
    }
   ],
   "source": [
    "merged_data.selectExpr(\"id\",\"explode(arrays_zip(combined.result, combined.metadata)) as a\")\\\n",
    ".selectExpr(\"id\",\"a['0'] as chunk\",\"a['1'].entity as entity\").show(100, False)"
   ]
  },
  {
   "cell_type": "code",
   "execution_count": 0,
   "metadata": {
    "colab": {},
    "colab_type": "code",
    "id": "KtaZ8EBBWE0B"
   },
   "outputs": [],
   "source": []
  }
 ],
 "metadata": {
  "colab": {
   "collapsed_sections": [],
   "name": "ChunkMergeSample.ipynb",
   "provenance": []
  },
  "kernelspec": {
   "display_name": "jsl250",
   "language": "python",
   "name": "jsl250"
  },
  "language_info": {
   "codemirror_mode": {
    "name": "ipython",
    "version": 3
   },
   "file_extension": ".py",
   "mimetype": "text/x-python",
   "name": "python",
   "nbconvert_exporter": "python",
   "pygments_lexer": "ipython3",
   "version": "3.6.9"
  }
 },
 "nbformat": 4,
 "nbformat_minor": 1
}
