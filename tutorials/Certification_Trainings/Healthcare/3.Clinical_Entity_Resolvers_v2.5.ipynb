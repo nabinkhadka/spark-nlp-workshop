{
 "cells": [
  {
   "cell_type": "markdown",
   "metadata": {
    "colab_type": "text",
    "id": "I08sFJYCxR0Z"
   },
   "source": [
    "![JohnSnowLabs](https://nlp.johnsnowlabs.com/assets/images/logo.png)"
   ]
  },
  {
   "cell_type": "markdown",
   "metadata": {
    "colab_type": "text",
    "id": "TFt3I9CgrOq5"
   },
   "source": [
    "[![Open In Colab](https://colab.research.google.com/assets/colab-badge.svg)](https://colab.research.google.com/github/JohnSnowLabs/spark-nlp-workshop/blob/master/tutorials/Certification_Trainings/Healthcare/3.Clinical_Entity_Resolvers_v2.5.ipynb)"
   ]
  },
  {
   "cell_type": "markdown",
   "metadata": {
    "colab_type": "text",
    "id": "Niy3mZAjoayg"
   },
   "source": [
    "# Clinical Entity Resolvers (v 2.5)"
   ]
  },
  {
   "cell_type": "markdown",
   "metadata": {
    "colab_type": "text",
    "id": "okhT7AcXxben"
   },
   "source": [
    "## Colab Setup"
   ]
  },
  {
   "cell_type": "code",
   "execution_count": null,
   "metadata": {
    "colab": {
     "base_uri": "https://localhost:8080/",
     "height": 34
    },
    "colab_type": "code",
    "id": "9xoslgNepLhZ",
    "outputId": "b9297176-c227-460e-b225-11fecef4bad5"
   },
   "outputs": [],
   "source": [
    "import json\n",
    "\n",
    "with open('workshop_license_keys.json') as f_in:\n",
    "    license_keys = json.load(f_in)\n",
    "\n",
    "license_keys.keys()"
   ]
  },
  {
   "cell_type": "code",
   "execution_count": 7,
   "metadata": {
    "colab": {},
    "colab_type": "code",
    "id": "45PVdk7uLitQ"
   },
   "outputs": [
    {
     "data": {
      "text/plain": [
       "{'secret': 'xxx',\n",
       " 'SPARK_NLP_LICENSE': 'aaa',\n",
       " 'JSL_OCR_LICENSE': 'bbb',\n",
       " 'AWS_ACCESS_KEY_ID': 'ccc',\n",
       " 'AWS_SECRET_ACCESS_KEY': 'ddd',\n",
       " 'JSL_OCR_SECRET': 'eee'}"
      ]
     },
     "execution_count": 7,
     "metadata": {},
     "output_type": "execute_result"
    }
   ],
   "source": [
    "# template for license_key.json\n",
    "\n",
    "{'secret':\"xxx\",\n",
    "'SPARK_NLP_LICENSE': 'aaa',\n",
    "'JSL_OCR_LICENSE': 'bbb',\n",
    "'AWS_ACCESS_KEY_ID':\"ccc\",\n",
    "'AWS_SECRET_ACCESS_KEY':\"ddd\",\n",
    "'JSL_OCR_SECRET':\"eee\"}"
   ]
  },
  {
   "cell_type": "code",
   "execution_count": null,
   "metadata": {
    "colab": {},
    "colab_type": "code",
    "id": "uS5LtVO6pWo6"
   },
   "outputs": [],
   "source": [
    "import os\n",
    "\n",
    "# Install java\n",
    "! apt-get install -y openjdk-8-jdk-headless -qq > /dev/null\n",
    "os.environ[\"JAVA_HOME\"] = \"/usr/lib/jvm/java-8-openjdk-amd64\"\n",
    "os.environ[\"PATH\"] = os.environ[\"JAVA_HOME\"] + \"/bin:\" + os.environ[\"PATH\"]\n",
    "! java -version\n",
    "\n",
    "# Install pyspark\n",
    "! pip install --ignore-installed -q pyspark==2.4.4\n",
    "\n",
    "secret = license_keys['secret']\n",
    "os.environ['SPARK_NLP_LICENSE'] = license_keys['SPARK_NLP_LICENSE']\n",
    "os.environ['JSL_OCR_LICENSE'] = license_keys['JSL_OCR_LICENSE']\n",
    "os.environ['AWS_ACCESS_KEY_ID']= license_keys['AWS_ACCESS_KEY_ID']\n",
    "os.environ['AWS_SECRET_ACCESS_KEY'] = license_keys['AWS_SECRET_ACCESS_KEY']\n",
    "\n",
    "! python -m pip install --upgrade spark-nlp-jsl==2.5.2  --extra-index-url https://pypi.johnsnowlabs.com/$secret\n",
    "\n",
    "# Install Spark NLP\n",
    "! pip install --ignore-installed -q spark-nlp==2.5.2\n",
    "\n",
    "import sparknlp\n",
    "\n",
    "print (sparknlp.version())\n",
    "\n",
    "import json\n",
    "import os\n",
    "from pyspark.ml import Pipeline\n",
    "from pyspark.sql import SparkSession\n",
    "\n",
    "\n",
    "from sparknlp.annotator import *\n",
    "from sparknlp_jsl.annotator import *\n",
    "from sparknlp.base import *\n",
    "import sparknlp_jsl\n",
    "\n",
    "\n",
    "\n",
    "def start(secret):\n",
    "    builder = SparkSession.builder \\\n",
    "        .appName(\"Spark NLP Licensed\") \\\n",
    "        .master(\"local[*]\") \\\n",
    "        .config(\"spark.driver.memory\", \"16G\") \\\n",
    "        .config(\"spark.serializer\", \"org.apache.spark.serializer.KryoSerializer\") \\\n",
    "        .config(\"spark.kryoserializer.buffer.max\", \"2000M\") \\\n",
    "        .config(\"spark.jars.packages\", \"com.johnsnowlabs.nlp:spark-nlp_2.11:2.5.2\") \\\n",
    "        .config(\"spark.jars\", \"https://pypi.johnsnowlabs.com/\"+secret+\"/spark-nlp-jsl-2.5.2.jar\")\n",
    "      \n",
    "    return builder.getOrCreate()\n",
    "\n",
    "\n",
    "spark = start(secret) # if you want to start the session with custom params as in start function above\n",
    "# sparknlp_jsl.start(secret)"
   ]
  },
  {
   "cell_type": "code",
   "execution_count": 9,
   "metadata": {
    "colab": {
     "base_uri": "https://localhost:8080/",
     "height": 34
    },
    "colab_type": "code",
    "id": "fjfp_4KJMQlO",
    "outputId": "d8616067-6b04-4967-d746-0742d3d8bbe7"
   },
   "outputs": [
    {
     "data": {
      "text/plain": [
       "'2.5.2'"
      ]
     },
     "execution_count": 9,
     "metadata": {},
     "output_type": "execute_result"
    }
   ],
   "source": [
    "sparknlp_jsl.version()"
   ]
  },
  {
   "cell_type": "code",
   "execution_count": 10,
   "metadata": {
    "colab": {
     "base_uri": "https://localhost:8080/",
     "height": 216
    },
    "colab_type": "code",
    "id": "V1wrGrq0GClP",
    "outputId": "41d6223e-dcb4-4a96-ff85-0b35fcd7f736"
   },
   "outputs": [
    {
     "data": {
      "text/html": [
       "\n",
       "            <div>\n",
       "                <p><b>SparkSession - in-memory</b></p>\n",
       "                \n",
       "        <div>\n",
       "            <p><b>SparkContext</b></p>\n",
       "\n",
       "            <p><a href=\"http://system76-pc.home:4040\">Spark UI</a></p>\n",
       "\n",
       "            <dl>\n",
       "              <dt>Version</dt>\n",
       "                <dd><code>v2.4.4</code></dd>\n",
       "              <dt>Master</dt>\n",
       "                <dd><code>local[*]</code></dd>\n",
       "              <dt>AppName</dt>\n",
       "                <dd><code>Spark NLP Licensed</code></dd>\n",
       "            </dl>\n",
       "        </div>\n",
       "        \n",
       "            </div>\n",
       "        "
      ],
      "text/plain": [
       "<pyspark.sql.session.SparkSession at 0x7fdd1220be50>"
      ]
     },
     "execution_count": 10,
     "metadata": {},
     "output_type": "execute_result"
    }
   ],
   "source": [
    "spark"
   ]
  },
  {
   "cell_type": "markdown",
   "metadata": {
    "colab_type": "text",
    "id": "AMU4sAJQ0Rhs"
   },
   "source": [
    "# Clinical Resolvers"
   ]
  },
  {
   "cell_type": "markdown",
   "metadata": {
    "colab_type": "text",
    "id": "hPihlu0DUdVS"
   },
   "source": [
    "![image.png](data:image/png;base64,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)"
   ]
  },
  {
   "cell_type": "markdown",
   "metadata": {
    "colab_type": "text",
    "id": "ne8BHjBjU6nN"
   },
   "source": [
    "## Entity Resolvers for ICD-10"
   ]
  },
  {
   "cell_type": "markdown",
   "metadata": {
    "colab_type": "text",
    "id": "RYB-ZiRUgGYI"
   },
   "source": [
    "A common NLP problem in biomedical aplications is to identify the presence of clinical entities in a given text. This clinical entities could be diseases, symptoms, drugs, results of clinical investigations or others.\n",
    "\n",
    "Other than providing the code in the \"result\" field it provides more metadata about the matching process:\n",
    "\n",
    "- target_text -> Text to resolve\n",
    "- resolved_text -> Best match text\n",
    "- confidence -> Relative confidence for the top match (distance to probability)\n",
    "- confidence_ratio -> Relative confidence for the top match. TopMatchConfidence / SecondMatchConfidence\n",
    "- alternative_codes -> List of other plausible codes (in the KNN neighborhood)\n",
    "- alternative_confidence_ratios -> Rest of confidence ratios\n",
    "- all_k_results -> All resolved codes for metrics calculation purposes\n",
    "- sentence -> SentenceId\n",
    "- chunk -> ChunkId"
   ]
  },
  {
   "cell_type": "code",
   "execution_count": 11,
   "metadata": {
    "colab": {},
    "colab_type": "code",
    "id": "ONMo7NWXU19B"
   },
   "outputs": [],
   "source": [
    "import sys, os, time\n",
    "from sparknlp.base import *\n",
    "from sparknlp.annotator import *\n",
    "from sparknlp.util import *\n",
    "from sparknlp_jsl.annotator import *\n",
    "\n",
    "from sparknlp.pretrained import ResourceDownloader\n",
    "\n",
    "from pyspark.sql import functions as F\n",
    "from pyspark.ml import Pipeline, PipelineModel"
   ]
  },
  {
   "cell_type": "markdown",
   "metadata": {
    "colab_type": "text",
    "id": "2boadIMbhoCd"
   },
   "source": [
    "### Clinical NER Pipeline creation"
   ]
  },
  {
   "cell_type": "code",
   "execution_count": 12,
   "metadata": {
    "colab": {},
    "colab_type": "code",
    "id": "XsXx7JxPVSWP"
   },
   "outputs": [],
   "source": [
    "# Annotator that transforms a text column from dataframe into an Annotation ready for NLP\n",
    "\n",
    "documentAssembler = DocumentAssembler()\\\n",
    "  .setInputCol(\"text\")\\\n",
    "  .setOutputCol(\"document\")\n",
    "\n",
    "# Sentence Detector annotator, processes various sentences per line\n",
    "\n",
    "sentenceDetector = SentenceDetector()\\\n",
    "  .setInputCols([\"document\"])\\\n",
    "  .setOutputCol(\"sentence\")\n",
    "\n",
    "# Tokenizer splits words in a relevant format for NLP\n",
    "\n",
    "tokenizer = Tokenizer()\\\n",
    "  .setInputCols([\"sentence\"])\\\n",
    "  .setOutputCol(\"token\")"
   ]
  },
  {
   "cell_type": "markdown",
   "metadata": {
    "colab_type": "text",
    "id": "F4qEq7cogdtR"
   },
   "source": [
    "The fourth annotator in the pipeline is \"WordEmbeddingsModel\". We will download a pretrained model available from \"clinical/models\" named \"embeddings_clinical\".\n",
    "\n",
    "When running this cell your are advised to be patient.\n",
    "\n",
    "First time you call this pretrained model it needs to be downloaded in your local.\n",
    "\n",
    "The model size is about will download the embeddings_clinical corpus it takes a while.\n",
    "\n",
    "The size is about 1.7Gb and will be saved typically in your home folder as\n",
    "\n",
    "~HOMEFOLDER/cached_models/embeddings_clinical_en_2.0.2_2.4_1558454742956.zip\n",
    "\n",
    "Next times you call it the model is loaded from your cached copy but even in that case it needs to be indexed each time so expect waiting up to 5 minutes (depending on your machine)"
   ]
  },
  {
   "cell_type": "code",
   "execution_count": 13,
   "metadata": {
    "colab": {
     "base_uri": "https://localhost:8080/",
     "height": 70
    },
    "colab_type": "code",
    "id": "H1vxrcMVgm55",
    "outputId": "f21b00b8-bf1f-49c0-d869-b2a0522ab2f5"
   },
   "outputs": [
    {
     "name": "stdout",
     "output_type": "stream",
     "text": [
      "embeddings_clinical download started this may take some time.\n",
      "Approximate size to download 1.6 GB\n",
      "[OK!]\n"
     ]
    }
   ],
   "source": [
    "# WordEmbeddingsModel pretrained \"embeddings_clinical\" includes a model of 1.7Gb that needs to be downloaded\n",
    "\n",
    "word_embeddings = WordEmbeddingsModel.pretrained(\"embeddings_clinical\", \"en\", \"clinical/models\")\\\n",
    "  .setInputCols([\"sentence\", \"token\"])\\\n",
    "  .setOutputCol(\"embeddings\")"
   ]
  },
  {
   "cell_type": "markdown",
   "metadata": {
    "colab_type": "text",
    "id": "i0by2rhcgp5L"
   },
   "source": [
    "The fifth and final annotator in our NER pipeline is the pretrained `ner_clinical` NerDLModel avaliable from \"clinical/models\". It requires as input the \"sentence\", \"token\" and \"embeddings\" (clinical embeddings pretrained model) and will classify each token in four categories:\n",
    "\n",
    "- PROBLEM: for patient problems\n",
    "\n",
    "- TEST: for tests, labs, etc.\n",
    "\n",
    "- TREATMENT: for treatments, medicines, etc.\n",
    "\n",
    "- OTHER: for the rest of tokens.\n",
    "\n",
    "In order to split those identified NER that are consecutive, the B prefix (as B-PROBLEM) will be used at the first token of each NER. The I prefix (as I-PROBLEM) will be used for the rest of tokens inside the NER."
   ]
  },
  {
   "cell_type": "code",
   "execution_count": 14,
   "metadata": {
    "colab": {
     "base_uri": "https://localhost:8080/",
     "height": 70
    },
    "colab_type": "code",
    "id": "uDjjiX6QaRwv",
    "outputId": "49ad4f00-5f32-4296-bdaa-9654fbf1a654"
   },
   "outputs": [
    {
     "name": "stdout",
     "output_type": "stream",
     "text": [
      "ner_clinical download started this may take some time.\n",
      "Approximate size to download 13.8 MB\n",
      "[OK!]\n"
     ]
    }
   ],
   "source": [
    "# Named Entity Recognition for clinical concepts.\n",
    "\n",
    "clinical_ner = NerDLModel.pretrained(\"ner_clinical\", \"en\", \"clinical/models\") \\\n",
    "  .setInputCols([\"sentence\", \"token\", \"embeddings\"]) \\\n",
    "  .setOutputCol(\"ner\")"
   ]
  },
  {
   "cell_type": "markdown",
   "metadata": {
    "colab_type": "text",
    "id": "Xs06Ht7ahW5c"
   },
   "source": [
    "### Define the NER pipeline\n",
    "\n",
    "Now we will define the actual pipeline that puts together the annotators we have created."
   ]
  },
  {
   "cell_type": "code",
   "execution_count": 15,
   "metadata": {
    "colab": {},
    "colab_type": "code",
    "id": "oBRouQyLVbDn"
   },
   "outputs": [],
   "source": [
    "# Build up the pipeline\n",
    "\n",
    "pipeline_ner = Pipeline(\n",
    "    stages = [\n",
    "    documentAssembler,\n",
    "    sentenceDetector,\n",
    "    tokenizer,\n",
    "    word_embeddings,\n",
    "    clinical_ner\n",
    "  ])"
   ]
  },
  {
   "cell_type": "markdown",
   "metadata": {
    "colab_type": "text",
    "id": "B7KVjaN5hwCZ"
   },
   "source": [
    "### Create a SparkDataFrame with the content\n",
    "\n",
    "Now we will create a sample Spark dataframe with our clinical note example.\n",
    "\n",
    "In this example we are working over a unique clinical note. In production environments a table with several of those clinical notes could be distributed in a cluster and be run in large scale systems."
   ]
  },
  {
   "cell_type": "code",
   "execution_count": 16,
   "metadata": {
    "colab": {},
    "colab_type": "code",
    "id": "OP0I7ELJ0his"
   },
   "outputs": [],
   "source": [
    "\n",
    "clinical_note = (\n",
    "    'A 28-year-old female with a history of gestational diabetes mellitus diagnosed eight years '\n",
    "    'prior to presentation and subsequent type two diabetes mellitus (T2DM), one prior '\n",
    "    'episode of HTG-induced pancreatitis three years prior to presentation, associated '\n",
    "    'with an acute hepatitis, and obesity with a body mass index (BMI) of 33.5 kg/m2, '\n",
    "    'presented with a one-week history of polyuria, polydipsia, poor appetite, and vomiting. '\n",
    "    'Two weeks prior to presentation, she was treated with a five-day course of amoxicillin '\n",
    "    'for a respiratory tract infection. She was on metformin, glipizide, and dapagliflozin '\n",
    "    'for T2DM and atorvastatin and gemfibrozil for HTG. She had been on dapagliflozin for six months '\n",
    "    'at the time of presentation. Physical examination on presentation was significant for dry oral mucosa; '\n",
    "    'significantly, her abdominal examination was benign with no tenderness, guarding, or rigidity. Pertinent '\n",
    "    'laboratory findings on admission were: serum glucose 111 mg/dl, bicarbonate 18 mmol/l, anion gap 20, '\n",
    "    'creatinine 0.4 mg/dL, triglycerides 508 mg/dL, total cholesterol 122 mg/dL, glycated hemoglobin (HbA1c) '\n",
    "    '10%, and venous pH 7.27. Serum lipase was normal at 43 U/L. Serum acetone levels could not be assessed '\n",
    "    'as blood samples kept hemolyzing due to significant lipemia. The patient was initially admitted for '\n",
    "    'starvation ketosis, as she reported poor oral intake for three days prior to admission. However, '\n",
    "    'serum chemistry obtained six hours after presentation revealed her glucose was 186 mg/dL, the anion gap '\n",
    "    'was still elevated at 21, serum bicarbonate was 16 mmol/L, triglyceride level peaked at 2050 mg/dL, and '\n",
    "    'lipase was 52 U/L. The β-hydroxybutyrate level was obtained and found to be elevated at 5.29 mmol/L - '\n",
    "    'the original sample was centrifuged and the chylomicron layer removed prior to analysis due to '\n",
    "    'interference from turbidity caused by lipemia again. The patient was treated with an insulin drip '\n",
    "    'for euDKA and HTG with a reduction in the anion gap to 13 and triglycerides to 1400 mg/dL, within '\n",
    "    '24 hours. Her euDKA was thought to be precipitated by her respiratory tract infection in the setting '\n",
    "    'of SGLT2 inhibitor use. The patient was seen by the endocrinology service and she was discharged on '\n",
    "    '40 units of insulin glargine at night, 12 units of insulin lispro with meals, and metformin 1000 mg '\n",
    "    'two times a day. It was determined that all SGLT2 inhibitors should be discontinued indefinitely. She '\n",
    "    'had close follow-up with endocrinology post discharge.'\n",
    ")\n",
    "\n",
    "data_ner = spark.createDataFrame([[clinical_note]]).toDF(\"text\")"
   ]
  },
  {
   "cell_type": "code",
   "execution_count": 17,
   "metadata": {
    "colab": {
     "base_uri": "https://localhost:8080/",
     "height": 123
    },
    "colab_type": "code",
    "id": "WUwTHgazh6q2",
    "outputId": "680c0f11-0754-474c-a3b3-6d5d1541cccb"
   },
   "outputs": [
    {
     "name": "stdout",
     "output_type": "stream",
     "text": [
      "+----------------------------------------------------------------------------------------------------+\n",
      "|                                                                                                text|\n",
      "+----------------------------------------------------------------------------------------------------+\n",
      "|A 28-year-old female with a history of gestational diabetes mellitus diagnosed eight years prior ...|\n",
      "+----------------------------------------------------------------------------------------------------+\n",
      "\n"
     ]
    }
   ],
   "source": [
    "data_ner.show(truncate = 100)\n"
   ]
  },
  {
   "cell_type": "code",
   "execution_count": 18,
   "metadata": {
    "colab": {},
    "colab_type": "code",
    "id": "wfAwJayxNcL9"
   },
   "outputs": [],
   "source": [
    "model = pipeline_ner.fit(data_ner)"
   ]
  },
  {
   "cell_type": "markdown",
   "metadata": {
    "colab_type": "text",
    "id": "7-W5pM5miMcx"
   },
   "source": [
    "### Transform / annotate the clinical note using the model.\n",
    "\n",
    "In order to process the data with the new created model we have two options.\n",
    "\n",
    "The first one would be to use the model to transform our clinical note by the command:\n",
    "\n",
    "`output = model_ner.transform(data_ner)`\n",
    "\n",
    "That would save in a Spakr DataFrame (output) the resuls of running the model over the clinical note.\n",
    "\n",
    "However for small tests like this or for real-time request a LightPipelines is a simpler way of managing the data. It will return a dictionary (instead of a Spark DataFrame) with the results of the transformation\n",
    "\n",
    "We will create a light_pipeline_ner using our model_ner and then will annotate the clinical_note using this light_pipeline."
   ]
  },
  {
   "cell_type": "code",
   "execution_count": 19,
   "metadata": {
    "colab": {},
    "colab_type": "code",
    "id": "ILwJzJmgiLkI"
   },
   "outputs": [],
   "source": [
    "light_pipeline = LightPipeline(model)\n",
    "light_data = light_pipeline.annotate(clinical_note)"
   ]
  },
  {
   "cell_type": "markdown",
   "metadata": {
    "colab_type": "text",
    "id": "4Iw3K9JQiWwQ"
   },
   "source": [
    "Now we have a dictionaty (light_data_ner) that contains the results of running the NER pipeline over our clinical note.\n",
    "\n",
    "It contains the original document:"
   ]
  },
  {
   "cell_type": "code",
   "execution_count": 20,
   "metadata": {
    "colab": {
     "base_uri": "https://localhost:8080/",
     "height": 34
    },
    "colab_type": "code",
    "id": "mtFmN3YtiV08",
    "outputId": "4718f6d5-7028-4013-bb41-11a94cc49d4f"
   },
   "outputs": [
    {
     "data": {
      "text/plain": [
       "'A 28-year-old female with a history of gestational diabetes mellitus diagnosed eight years prior to '"
      ]
     },
     "execution_count": 20,
     "metadata": {},
     "output_type": "execute_result"
    }
   ],
   "source": [
    "light_data['document'][0][0:100]\n"
   ]
  },
  {
   "cell_type": "code",
   "execution_count": 21,
   "metadata": {
    "colab": {
     "base_uri": "https://localhost:8080/",
     "height": 141
    },
    "colab_type": "code",
    "id": "uWVU0ZXJifuL",
    "outputId": "db16e9ab-4ae7-408b-819e-727b07eb162f"
   },
   "outputs": [
    {
     "name": "stdout",
     "output_type": "stream",
     "text": [
      "Number of sentences: 17\n",
      "\n",
      "Sentence 0: A 28-year-old female with a history of gestational diabetes mellitus diagnosed e\n",
      "Sentence 1: Two weeks prior to presentation, she was treated with a five-day course of amoxi\n",
      "Sentence 2: She was on metformin, glipizide, and dapagliflozin for T2DM and atorvastatin and\n",
      "Sentence 3: She had been on dapagliflozin for six months at the time of presentation.\n",
      "Sentence 4: Physical examination on presentation was significant for dry oral mucosa;\n"
     ]
    }
   ],
   "source": [
    "print(\"Number of sentences: {}\".format(len(light_data['sentence'])))\n",
    "print(\"\")\n",
    "for i in range(5):\n",
    "    print(\"Sentence {}: {}\".format(i, light_data['sentence'][i][0:80]))"
   ]
  },
  {
   "cell_type": "code",
   "execution_count": 22,
   "metadata": {
    "colab": {
     "base_uri": "https://localhost:8080/",
     "height": 514
    },
    "colab_type": "code",
    "id": "YlllypNuijnH",
    "outputId": "8d52005e-2364-4233-a84c-689ac3dfdf15"
   },
   "outputs": [
    {
     "name": "stdout",
     "output_type": "stream",
     "text": [
      "Number of tokens: 436\n",
      "\n",
      "Token 0: A (O)\n",
      "Token 1: 28-year-old (O)\n",
      "Token 2: female (O)\n",
      "Token 3: with (O)\n",
      "Token 4: a (O)\n",
      "Token 5: history (O)\n",
      "Token 6: of (O)\n",
      "Token 7: gestational (B-PROBLEM)\n",
      "Token 8: diabetes (I-PROBLEM)\n",
      "Token 9: mellitus (I-PROBLEM)\n",
      "Token 10: diagnosed (O)\n",
      "Token 11: eight (O)\n",
      "Token 12: years (O)\n",
      "Token 13: prior (O)\n",
      "Token 14: to (O)\n",
      "Token 15: presentation (O)\n",
      "Token 16: and (O)\n",
      "Token 17: subsequent (O)\n",
      "Token 18: type (B-PROBLEM)\n",
      "Token 19: two (I-PROBLEM)\n",
      "Token 20: diabetes (I-PROBLEM)\n",
      "Token 21: mellitus (I-PROBLEM)\n",
      "Token 22: ( (O)\n",
      "Token 23: T2DM (B-PROBLEM)\n",
      "Token 24: ), (I-PROBLEM)\n",
      "...\n"
     ]
    }
   ],
   "source": [
    "print(\"Number of tokens: {}\".format(len(light_data['token'])))\n",
    "print(\"\")\n",
    "for i in range(25):\n",
    "    print(\"Token {}: {} ({})\".format(i, light_data['token'][i][0:20], light_data['ner'][i]))\n",
    "print(\"...\")"
   ]
  },
  {
   "cell_type": "markdown",
   "metadata": {
    "colab_type": "text",
    "id": "yibMbKlbi8fx"
   },
   "source": [
    "Lets apply some HTML formating to see the results of the pipeline in a nicer layout:\n",
    "\n"
   ]
  },
  {
   "cell_type": "code",
   "execution_count": 23,
   "metadata": {
    "colab": {},
    "colab_type": "code",
    "id": "pLkSVsT9idXS"
   },
   "outputs": [],
   "source": [
    "import random\n",
    "from IPython.core.display import display, HTML\n",
    "\n",
    "\n",
    "def get_color():\n",
    "    r = lambda: random.randint(100,255)\n",
    "    return '#%02X%02X%02X' % (r(),r(),r())\n",
    "\n",
    "def get_NER_html (light_data):\n",
    "\n",
    "    html_output=''\n",
    "    \n",
    "    problem_flag = False\n",
    "    new_problem = []\n",
    "    problem_list = []\n",
    "    \n",
    "    label_list = list(set([i.split('-')[1] for i in light_data['ner'] if i!='O']))\n",
    "    \n",
    "        \n",
    "    label_color={}\n",
    "    \n",
    "    for l in label_list:\n",
    "        \n",
    "        label_color[l]=get_color()\n",
    "            \n",
    "    for index, this_token in enumerate(light_data['token']):\n",
    "\n",
    "        try:\n",
    "            ent = light_data['ner'][index].split('-')[1]\n",
    "        except:\n",
    "            ent = light_data['ner'][index]\n",
    "        \n",
    "       \n",
    "        if ent in label_list:\n",
    "            color = label_color[ent]\n",
    "            html_output+='<SPAN style=\"background-color: {}\">'.format(color) + this_token + \" </SPAN>\"\n",
    "        else:\n",
    "            html_output+=this_token + \" \"\n",
    "        \n",
    "\n",
    "    html_output += '</div>'\n",
    "    html_output += '<div>Color codes:'\n",
    "    \n",
    "\n",
    "    for l in label_list:\n",
    "        \n",
    "        html_output += '<SPAN style=\"background-color: {}\">{}</SPAN>, '.format(label_color[l],l)\n",
    "   \n",
    "    \n",
    "    return display(HTML(html_output))\n"
   ]
  },
  {
   "cell_type": "code",
   "execution_count": 24,
   "metadata": {
    "colab": {
     "base_uri": "https://localhost:8080/",
     "height": 216
    },
    "colab_type": "code",
    "id": "f05foFiYjkEa",
    "outputId": "070b0ff3-faa1-404c-c447-db6736eb77d9"
   },
   "outputs": [
    {
     "data": {
      "text/html": [
       "A 28-year-old female with a history of <SPAN style=\"background-color: #87A47A\">gestational </SPAN><SPAN style=\"background-color: #87A47A\">diabetes </SPAN><SPAN style=\"background-color: #87A47A\">mellitus </SPAN>diagnosed eight years prior to presentation and subsequent <SPAN style=\"background-color: #87A47A\">type </SPAN><SPAN style=\"background-color: #87A47A\">two </SPAN><SPAN style=\"background-color: #87A47A\">diabetes </SPAN><SPAN style=\"background-color: #87A47A\">mellitus </SPAN>( <SPAN style=\"background-color: #87A47A\">T2DM </SPAN><SPAN style=\"background-color: #87A47A\">), </SPAN>one prior episode of <SPAN style=\"background-color: #87A47A\">HTG-induced </SPAN><SPAN style=\"background-color: #87A47A\">pancreatitis </SPAN>three years prior to presentation , associated with <SPAN style=\"background-color: #87A47A\">an </SPAN><SPAN style=\"background-color: #87A47A\">acute </SPAN><SPAN style=\"background-color: #87A47A\">hepatitis </SPAN>, and <SPAN style=\"background-color: #87A47A\">obesity </SPAN>with <SPAN style=\"background-color: #87A47A\">a </SPAN><SPAN style=\"background-color: #87A47A\">body </SPAN><SPAN style=\"background-color: #87A47A\">mass </SPAN><SPAN style=\"background-color: #87A47A\">index </SPAN>( <SPAN style=\"background-color: #87A47A\">BMI </SPAN><SPAN style=\"background-color: #87A47A\">) </SPAN><SPAN style=\"background-color: #87A47A\">of </SPAN><SPAN style=\"background-color: #87A47A\">33.5 </SPAN><SPAN style=\"background-color: #87A47A\">kg/m2 </SPAN>, presented with a one-week history of <SPAN style=\"background-color: #87A47A\">polyuria </SPAN>, <SPAN style=\"background-color: #87A47A\">polydipsia </SPAN>, <SPAN style=\"background-color: #87A47A\">poor </SPAN><SPAN style=\"background-color: #87A47A\">appetite </SPAN>, and <SPAN style=\"background-color: #87A47A\">vomiting </SPAN>. Two weeks prior to presentation , she was treated with a five-day course of <SPAN style=\"background-color: #A8D58B\">amoxicillin </SPAN>for <SPAN style=\"background-color: #87A47A\">a </SPAN><SPAN style=\"background-color: #87A47A\">respiratory </SPAN><SPAN style=\"background-color: #87A47A\">tract </SPAN><SPAN style=\"background-color: #87A47A\">infection </SPAN>. She was on <SPAN style=\"background-color: #A8D58B\">metformin </SPAN>, <SPAN style=\"background-color: #A8D58B\">glipizide </SPAN>, and <SPAN style=\"background-color: #A8D58B\">dapagliflozin </SPAN>for <SPAN style=\"background-color: #87A47A\">T2DM </SPAN>and <SPAN style=\"background-color: #A8D58B\">atorvastatin </SPAN>and <SPAN style=\"background-color: #A8D58B\">gemfibrozil </SPAN>for <SPAN style=\"background-color: #87A47A\">HTG </SPAN>. She had been on <SPAN style=\"background-color: #A8D58B\">dapagliflozin </SPAN>for six months at the time of presentation . <SPAN style=\"background-color: #936F99\">Physical </SPAN><SPAN style=\"background-color: #936F99\">examination </SPAN>on presentation was significant for dry oral mucosa ; significantly , <SPAN style=\"background-color: #936F99\">her </SPAN><SPAN style=\"background-color: #936F99\">abdominal </SPAN><SPAN style=\"background-color: #936F99\">examination </SPAN>was benign with no <SPAN style=\"background-color: #87A47A\">tenderness </SPAN>, <SPAN style=\"background-color: #87A47A\">guarding </SPAN>, or <SPAN style=\"background-color: #87A47A\">rigidity </SPAN>. Pertinent laboratory findings on admission were : <SPAN style=\"background-color: #936F99\">serum </SPAN><SPAN style=\"background-color: #936F99\">glucose </SPAN>111 <SPAN style=\"background-color: #936F99\">mg/dl </SPAN>, <SPAN style=\"background-color: #936F99\">bicarbonate </SPAN>18 <SPAN style=\"background-color: #936F99\">mmol/l </SPAN>, <SPAN style=\"background-color: #936F99\">anion </SPAN><SPAN style=\"background-color: #936F99\">gap </SPAN>20 , <SPAN style=\"background-color: #936F99\">creatinine </SPAN>0.4 mg/dL , <SPAN style=\"background-color: #936F99\">triglycerides </SPAN>508 mg/dL , <SPAN style=\"background-color: #936F99\">total </SPAN><SPAN style=\"background-color: #936F99\">cholesterol </SPAN>122 mg/dL , <SPAN style=\"background-color: #936F99\">glycated </SPAN><SPAN style=\"background-color: #936F99\">hemoglobin </SPAN>( <SPAN style=\"background-color: #936F99\">HbA1c </SPAN>) 10% , and <SPAN style=\"background-color: #936F99\">venous </SPAN><SPAN style=\"background-color: #936F99\">pH </SPAN>7.27 . <SPAN style=\"background-color: #936F99\">Serum </SPAN><SPAN style=\"background-color: #936F99\">lipase </SPAN>was normal at 43 <SPAN style=\"background-color: #936F99\">U/L </SPAN>. <SPAN style=\"background-color: #936F99\">Serum </SPAN><SPAN style=\"background-color: #936F99\">acetone </SPAN><SPAN style=\"background-color: #936F99\">levels </SPAN>could not be assessed as <SPAN style=\"background-color: #936F99\">blood </SPAN><SPAN style=\"background-color: #936F99\">samples </SPAN>kept <SPAN style=\"background-color: #936F99\">hemolyzing </SPAN>due to <SPAN style=\"background-color: #87A47A\">significant </SPAN><SPAN style=\"background-color: #87A47A\">lipemia </SPAN>. The patient was initially admitted for <SPAN style=\"background-color: #87A47A\">starvation </SPAN><SPAN style=\"background-color: #87A47A\">ketosis </SPAN>, as she reported <SPAN style=\"background-color: #87A47A\">poor </SPAN><SPAN style=\"background-color: #87A47A\">oral </SPAN><SPAN style=\"background-color: #87A47A\">intake </SPAN>for three days prior to admission . However , <SPAN style=\"background-color: #936F99\">serum </SPAN><SPAN style=\"background-color: #936F99\">chemistry </SPAN>obtained six hours after presentation revealed <SPAN style=\"background-color: #936F99\">her </SPAN><SPAN style=\"background-color: #936F99\">glucose </SPAN>was 186 mg/dL , <SPAN style=\"background-color: #936F99\">the </SPAN><SPAN style=\"background-color: #936F99\">anion </SPAN><SPAN style=\"background-color: #936F99\">gap </SPAN>was <SPAN style=\"background-color: #87A47A\">still </SPAN><SPAN style=\"background-color: #87A47A\">elevated </SPAN>at 21 , <SPAN style=\"background-color: #936F99\">serum </SPAN><SPAN style=\"background-color: #936F99\">bicarbonate </SPAN>was 16 mmol/L , <SPAN style=\"background-color: #936F99\">triglyceride </SPAN><SPAN style=\"background-color: #936F99\">level </SPAN>peaked at 2050 <SPAN style=\"background-color: #936F99\">mg/dL </SPAN>, and <SPAN style=\"background-color: #936F99\">lipase </SPAN>was 52 <SPAN style=\"background-color: #936F99\">U/L </SPAN>. <SPAN style=\"background-color: #936F99\">The </SPAN><SPAN style=\"background-color: #936F99\">β-hydroxybutyrate </SPAN><SPAN style=\"background-color: #936F99\">level </SPAN>was obtained and found to be elevated at 5.29 mmol/L - the original sample was centrifuged and the chylomicron layer removed prior to <SPAN style=\"background-color: #936F99\">analysis </SPAN>due to <SPAN style=\"background-color: #87A47A\">interference </SPAN><SPAN style=\"background-color: #87A47A\">from </SPAN><SPAN style=\"background-color: #87A47A\">turbidity </SPAN>caused by <SPAN style=\"background-color: #87A47A\">lipemia </SPAN>again . The patient was treated with <SPAN style=\"background-color: #A8D58B\">an </SPAN><SPAN style=\"background-color: #A8D58B\">insulin </SPAN><SPAN style=\"background-color: #A8D58B\">drip </SPAN>for <SPAN style=\"background-color: #87A47A\">euDKA </SPAN>and <SPAN style=\"background-color: #87A47A\">HTG </SPAN>with <SPAN style=\"background-color: #87A47A\">a </SPAN><SPAN style=\"background-color: #87A47A\">reduction </SPAN><SPAN style=\"background-color: #87A47A\">in </SPAN><SPAN style=\"background-color: #87A47A\">the </SPAN><SPAN style=\"background-color: #87A47A\">anion </SPAN><SPAN style=\"background-color: #87A47A\">gap </SPAN>to 13 and <SPAN style=\"background-color: #936F99\">triglycerides </SPAN>to 1400 mg/dL , within 24 hours . <SPAN style=\"background-color: #87A47A\">Her </SPAN><SPAN style=\"background-color: #87A47A\">euDKA </SPAN>was thought to be precipitated by <SPAN style=\"background-color: #87A47A\">her </SPAN><SPAN style=\"background-color: #87A47A\">respiratory </SPAN><SPAN style=\"background-color: #87A47A\">tract </SPAN><SPAN style=\"background-color: #87A47A\">infection </SPAN>in the setting of <SPAN style=\"background-color: #A8D58B\">SGLT2 </SPAN><SPAN style=\"background-color: #A8D58B\">inhibitor </SPAN>use . The patient was seen by the endocrinology service and she was discharged on 40 units of <SPAN style=\"background-color: #A8D58B\">insulin </SPAN><SPAN style=\"background-color: #A8D58B\">glargine </SPAN>at night , 12 units of <SPAN style=\"background-color: #A8D58B\">insulin </SPAN><SPAN style=\"background-color: #A8D58B\">lispro </SPAN>with meals , and <SPAN style=\"background-color: #A8D58B\">metformin </SPAN>1000 mg two times a day . It was determined that <SPAN style=\"background-color: #A8D58B\">all </SPAN><SPAN style=\"background-color: #A8D58B\">SGLT2 </SPAN><SPAN style=\"background-color: #A8D58B\">inhibitors </SPAN>should be discontinued indefinitely . She had close follow-up with endocrinology post discharge . </div><div>Color codes:<SPAN style=\"background-color: #87A47A\">PROBLEM</SPAN>, <SPAN style=\"background-color: #936F99\">TEST</SPAN>, <SPAN style=\"background-color: #A8D58B\">TREATMENT</SPAN>, "
      ],
      "text/plain": [
       "<IPython.core.display.HTML object>"
      ]
     },
     "metadata": {},
     "output_type": "display_data"
    }
   ],
   "source": [
    "get_NER_html (light_data)"
   ]
  },
  {
   "cell_type": "markdown",
   "metadata": {
    "colab_type": "text",
    "id": "z4nyb0HNjo74"
   },
   "source": [
    "##  ICD10 coding Pipeline creation.\n",
    "\n",
    "We will now create a new pipeline that from each of these problems will try to assign an ICD10 base on the content, the wordembeddings and some pretrained models for ICD10 annotation.\n",
    "\n",
    "The architecture of this new pipeline will be as follows:\n",
    "\n",
    "- DocumentAssembler (text -> document)\n",
    "\n",
    "- SentenceDetector (document -> sentence)\n",
    "\n",
    "- Tokenizer (sentence -> token)\n",
    "\n",
    "- WordEmbeddingsModel ([sentence, token] -> embeddings)\n",
    "\n",
    "- NerDLModel ([sentence, token, embeddings] -> ner)\n",
    "\n",
    "- NerConverter ([\"sentence, token, ner] -> ner_chunk\n",
    "\n",
    "- ChunkTokenizer (ner_chunk -> ner_chunk_tokenized)\n",
    "\n",
    "- ICD10CMEntityResolverModel ([ner_chunk_tokenized, embeddings] -> resolution)\n",
    "\n",
    "- ICD10PCSEntityResolverModel ([ner_chunk_tokenized, embeddings] -> resolution)\n",
    "\n",
    "So from a text we end having a list of Named Entities (ner_chunk) and their ICD10 codes (resolution)\n",
    "\n",
    "Most of the annotators in this pipeline have been already created for the previous pipeline, but we need to create four additional annotators: NerConverter, ChunkEmbeddigns, EntityResolverModel for ICD10CM and EntityResolverModel for ICD10PCS.\n",
    "\n",
    "Now we define the new pipeline\n",
    "\n",
    "\n"
   ]
  },
  {
   "cell_type": "code",
   "execution_count": 25,
   "metadata": {
    "colab": {
     "base_uri": "https://localhost:8080/",
     "height": 70
    },
    "colab_type": "code",
    "id": "Z9UyX1Tx-vA0",
    "outputId": "eb633476-7d07-4150-fcfb-ff4aa4080107"
   },
   "outputs": [
    {
     "name": "stdout",
     "output_type": "stream",
     "text": [
      "chunkresolve_icd10cm_clinical download started this may take some time.\n",
      "Approximate size to download 166.3 MB\n",
      "[OK!]\n"
     ]
    }
   ],
   "source": [
    "# Named Entity Recognition concepts parser, transforms entities into CHUNKS (required for next step: assertion status)\n",
    "\n",
    "ner_converter = NerConverter() \\\n",
    "  .setInputCols([\"sentence\", \"token\", \"ner\"]) \\\n",
    "  .setOutputCol(\"ner_chunk\")\\\n",
    "  .setWhiteList(['PROBLEM'])\n",
    "\n",
    "chunk_embeddings = ChunkEmbeddings()\\\n",
    "    .setInputCols(\"ner_chunk\", \"embeddings\")\\\n",
    "    .setOutputCol(\"chunk_embeddings\")\n",
    "\n",
    "chunk_tokenizer = ChunkTokenizer()\\\n",
    "    .setInputCols(\"ner_chunk\")\\\n",
    "    .setOutputCol(\"ner_token\")\n",
    "\n",
    "# ICD resolution model\n",
    "\n",
    "icd10cm_resolution = ChunkEntityResolverModel.pretrained(\"chunkresolve_icd10cm_clinical\", \"en\", \"clinical/models\") \\\n",
    "  .setInputCols([\"ner_token\", \"chunk_embeddings\"]) \\\n",
    "  .setOutputCol(\"icd10cm_code\") \\\n",
    "  .setDistanceFunction(\"COSINE\")  \\\n",
    "  .setNeighbours(5)"
   ]
  },
  {
   "cell_type": "code",
   "execution_count": 26,
   "metadata": {
    "colab": {},
    "colab_type": "code",
    "id": "mj7oL8Q1kdRK"
   },
   "outputs": [],
   "source": [
    "\n",
    "pipeline_icd10 = Pipeline(\n",
    "    stages = [\n",
    "    documentAssembler,\n",
    "    sentenceDetector,\n",
    "    tokenizer,\n",
    "    word_embeddings,\n",
    "    clinical_ner,\n",
    "    ner_converter,\n",
    "    chunk_embeddings,\n",
    "    chunk_tokenizer,\n",
    "    icd10cm_resolution\n",
    "  ])\n",
    "\n",
    "model_icd10 = pipeline_icd10.fit(data_ner)\n"
   ]
  },
  {
   "cell_type": "code",
   "execution_count": 27,
   "metadata": {
    "colab": {},
    "colab_type": "code",
    "id": "M-xhO4-Mkw4T"
   },
   "outputs": [],
   "source": [
    "light_pipeline_icd10 = LightPipeline(model_icd10)\n"
   ]
  },
  {
   "cell_type": "code",
   "execution_count": 28,
   "metadata": {
    "colab": {
     "base_uri": "https://localhost:8080/",
     "height": 54
    },
    "colab_type": "code",
    "id": "QboxyjzjlAth",
    "outputId": "d8c84e45-8260-4e57-f7aa-e44850daac35"
   },
   "outputs": [
    {
     "data": {
      "text/plain": [
       "'A 28-year-old female with a history of gestational diabetes mellitus diagnosed eight years prior to presentation and subsequent type two diabetes mellitus (T2DM), one prior episode of HTG-induced pancreatitis three years prior to presentation, associated with an acute hepatitis, and obesity with a body mass index (BMI) of 33.5 kg/m2, presented with a one-week history of polyuria, polydipsia, poor appetite, and vomiting. Two weeks prior to presentation, she was treated with a five-day course of amoxicillin for a respiratory tract infection. She was on metformin, glipizide, and dapagliflozin for T2DM and atorvastatin and gemfibrozil for HTG. She had been on dapagliflozin for six months at the time of presentation. Physical examination on presentation was significant for dry oral mucosa; significantly, her abdominal examination was benign with no tenderness, guarding, or rigidity. Pertinent laboratory findings on admission were: serum glucose 111 mg/dl, bicarbonate 18 mmol/l, anion gap 20, creatinine 0.4 mg/dL, triglycerides 508 mg/dL, total cholesterol 122 mg/dL, glycated hemoglobin (HbA1c) 10%, and venous pH 7.27. Serum lipase was normal at 43 U/L. Serum acetone levels could not be assessed as blood samples kept hemolyzing due to significant lipemia. The patient was initially admitted for starvation ketosis, as she reported poor oral intake for three days prior to admission. However, serum chemistry obtained six hours after presentation revealed her glucose was 186 mg/dL, the anion gap was still elevated at 21, serum bicarbonate was 16 mmol/L, triglyceride level peaked at 2050 mg/dL, and lipase was 52 U/L. The β-hydroxybutyrate level was obtained and found to be elevated at 5.29 mmol/L - the original sample was centrifuged and the chylomicron layer removed prior to analysis due to interference from turbidity caused by lipemia again. The patient was treated with an insulin drip for euDKA and HTG with a reduction in the anion gap to 13 and triglycerides to 1400 mg/dL, within 24 hours. Her euDKA was thought to be precipitated by her respiratory tract infection in the setting of SGLT2 inhibitor use. The patient was seen by the endocrinology service and she was discharged on 40 units of insulin glargine at night, 12 units of insulin lispro with meals, and metformin 1000 mg two times a day. It was determined that all SGLT2 inhibitors should be discontinued indefinitely. She had close follow-up with endocrinology post discharge.'"
      ]
     },
     "execution_count": 28,
     "metadata": {},
     "output_type": "execute_result"
    }
   ],
   "source": [
    "text = light_data['document'][0]\n",
    "\n",
    "text"
   ]
  },
  {
   "cell_type": "code",
   "execution_count": 29,
   "metadata": {
    "colab": {
     "base_uri": "https://localhost:8080/",
     "height": 917
    },
    "colab_type": "code",
    "id": "WXtMY_RQmd19",
    "outputId": "837ce2ef-43cd-4dba-a783-071846ac2821"
   },
   "outputs": [
    {
     "data": {
      "text/html": [
       "<div>\n",
       "<style scoped>\n",
       "    .dataframe tbody tr th:only-of-type {\n",
       "        vertical-align: middle;\n",
       "    }\n",
       "\n",
       "    .dataframe tbody tr th {\n",
       "        vertical-align: top;\n",
       "    }\n",
       "\n",
       "    .dataframe thead th {\n",
       "        text-align: right;\n",
       "    }\n",
       "</style>\n",
       "<table border=\"1\" class=\"dataframe\">\n",
       "  <thead>\n",
       "    <tr style=\"text-align: right;\">\n",
       "      <th></th>\n",
       "      <th>Problem</th>\n",
       "      <th>ICD10-CM-Code</th>\n",
       "    </tr>\n",
       "  </thead>\n",
       "  <tbody>\n",
       "    <tr>\n",
       "      <th>0</th>\n",
       "      <td>gestational diabetes mellitus</td>\n",
       "      <td>P702</td>\n",
       "    </tr>\n",
       "    <tr>\n",
       "      <th>1</th>\n",
       "      <td>type two diabetes mellitus</td>\n",
       "      <td>E1142</td>\n",
       "    </tr>\n",
       "    <tr>\n",
       "      <th>2</th>\n",
       "      <td>T2DM),</td>\n",
       "      <td>E1121</td>\n",
       "    </tr>\n",
       "    <tr>\n",
       "      <th>3</th>\n",
       "      <td>HTG-induced pancreatitis</td>\n",
       "      <td>B252</td>\n",
       "    </tr>\n",
       "    <tr>\n",
       "      <th>4</th>\n",
       "      <td>an acute hepatitis</td>\n",
       "      <td>B172</td>\n",
       "    </tr>\n",
       "    <tr>\n",
       "      <th>5</th>\n",
       "      <td>obesity</td>\n",
       "      <td>E661</td>\n",
       "    </tr>\n",
       "    <tr>\n",
       "      <th>6</th>\n",
       "      <td>a body mass index</td>\n",
       "      <td>Z681</td>\n",
       "    </tr>\n",
       "    <tr>\n",
       "      <th>7</th>\n",
       "      <td>BMI) of 33.5 kg/m2</td>\n",
       "      <td>Z6831</td>\n",
       "    </tr>\n",
       "    <tr>\n",
       "      <th>8</th>\n",
       "      <td>polyuria</td>\n",
       "      <td>R358</td>\n",
       "    </tr>\n",
       "    <tr>\n",
       "      <th>9</th>\n",
       "      <td>polydipsia</td>\n",
       "      <td>R631</td>\n",
       "    </tr>\n",
       "    <tr>\n",
       "      <th>10</th>\n",
       "      <td>poor appetite</td>\n",
       "      <td>R630</td>\n",
       "    </tr>\n",
       "    <tr>\n",
       "      <th>11</th>\n",
       "      <td>vomiting</td>\n",
       "      <td>R1114</td>\n",
       "    </tr>\n",
       "    <tr>\n",
       "      <th>12</th>\n",
       "      <td>a respiratory tract infection</td>\n",
       "      <td>J989</td>\n",
       "    </tr>\n",
       "    <tr>\n",
       "      <th>13</th>\n",
       "      <td>T2DM</td>\n",
       "      <td>E1121</td>\n",
       "    </tr>\n",
       "    <tr>\n",
       "      <th>14</th>\n",
       "      <td>HTG</td>\n",
       "      <td>E781</td>\n",
       "    </tr>\n",
       "    <tr>\n",
       "      <th>15</th>\n",
       "      <td>tenderness</td>\n",
       "      <td>R10815</td>\n",
       "    </tr>\n",
       "    <tr>\n",
       "      <th>16</th>\n",
       "      <td>guarding</td>\n",
       "      <td>R1083</td>\n",
       "    </tr>\n",
       "    <tr>\n",
       "      <th>17</th>\n",
       "      <td>rigidity</td>\n",
       "      <td>R1935</td>\n",
       "    </tr>\n",
       "    <tr>\n",
       "      <th>18</th>\n",
       "      <td>significant lipemia</td>\n",
       "      <td>E891</td>\n",
       "    </tr>\n",
       "    <tr>\n",
       "      <th>19</th>\n",
       "      <td>starvation ketosis</td>\n",
       "      <td>E71121</td>\n",
       "    </tr>\n",
       "    <tr>\n",
       "      <th>20</th>\n",
       "      <td>poor oral intake</td>\n",
       "      <td>F5082</td>\n",
       "    </tr>\n",
       "    <tr>\n",
       "      <th>21</th>\n",
       "      <td>still elevated</td>\n",
       "      <td>E7841</td>\n",
       "    </tr>\n",
       "    <tr>\n",
       "      <th>22</th>\n",
       "      <td>interference from turbidity</td>\n",
       "      <td>M2656</td>\n",
       "    </tr>\n",
       "    <tr>\n",
       "      <th>23</th>\n",
       "      <td>lipemia</td>\n",
       "      <td>R81</td>\n",
       "    </tr>\n",
       "    <tr>\n",
       "      <th>24</th>\n",
       "      <td>euDKA</td>\n",
       "      <td>R0602</td>\n",
       "    </tr>\n",
       "    <tr>\n",
       "      <th>25</th>\n",
       "      <td>HTG</td>\n",
       "      <td>E781</td>\n",
       "    </tr>\n",
       "    <tr>\n",
       "      <th>26</th>\n",
       "      <td>a reduction in the anion gap</td>\n",
       "      <td>M2653</td>\n",
       "    </tr>\n",
       "    <tr>\n",
       "      <th>27</th>\n",
       "      <td>Her euDKA</td>\n",
       "      <td>R94110</td>\n",
       "    </tr>\n",
       "    <tr>\n",
       "      <th>28</th>\n",
       "      <td>her respiratory tract infection</td>\n",
       "      <td>J989</td>\n",
       "    </tr>\n",
       "  </tbody>\n",
       "</table>\n",
       "</div>"
      ],
      "text/plain": [
       "                            Problem ICD10-CM-Code\n",
       "0     gestational diabetes mellitus          P702\n",
       "1        type two diabetes mellitus         E1142\n",
       "2                            T2DM),         E1121\n",
       "3          HTG-induced pancreatitis          B252\n",
       "4                an acute hepatitis          B172\n",
       "5                           obesity          E661\n",
       "6                 a body mass index          Z681\n",
       "7                BMI) of 33.5 kg/m2         Z6831\n",
       "8                          polyuria          R358\n",
       "9                        polydipsia          R631\n",
       "10                    poor appetite          R630\n",
       "11                         vomiting         R1114\n",
       "12    a respiratory tract infection          J989\n",
       "13                             T2DM         E1121\n",
       "14                              HTG          E781\n",
       "15                       tenderness        R10815\n",
       "16                         guarding         R1083\n",
       "17                         rigidity         R1935\n",
       "18              significant lipemia          E891\n",
       "19               starvation ketosis        E71121\n",
       "20                 poor oral intake         F5082\n",
       "21                   still elevated         E7841\n",
       "22      interference from turbidity         M2656\n",
       "23                          lipemia           R81\n",
       "24                            euDKA         R0602\n",
       "25                              HTG          E781\n",
       "26     a reduction in the anion gap         M2653\n",
       "27                        Her euDKA        R94110\n",
       "28  her respiratory tract infection          J989"
      ]
     },
     "execution_count": 29,
     "metadata": {},
     "output_type": "execute_result"
    }
   ],
   "source": [
    "import pandas as pd\n",
    "\n",
    "\n",
    "light_result = light_pipeline_icd10.annotate(text)\n",
    "\n",
    "df = pd.DataFrame(list(zip(light_result['ner_chunk'], light_result['icd10cm_code'])),\n",
    "                  columns = ['Problem','ICD10-CM-Code'])\n",
    "\n",
    "df"
   ]
  },
  {
   "cell_type": "code",
   "execution_count": 30,
   "metadata": {
    "colab": {},
    "colab_type": "code",
    "id": "ycCgwwain7qz"
   },
   "outputs": [],
   "source": [
    "def get_icd10_codes (light_model, text):\n",
    "\n",
    "  full_light_result = light_model.fullAnnotate(text)\n",
    "\n",
    "  chunks = []\n",
    "  codes = []\n",
    "  resolved= []\n",
    "  begin = []\n",
    "  end = []\n",
    "  resolutions=[]\n",
    "\n",
    "  for chunk, code in zip(full_light_result[0]['ner_chunk'], full_light_result[0]['icd10cm_code']):\n",
    "          \n",
    "      begin.append(chunk.begin)\n",
    "      end.append(chunk.end)\n",
    "      chunks.append(chunk.result)\n",
    "      codes.append(code.result) \n",
    "      resolved.append(code.metadata['resolved_text'])\n",
    "      resolutions.append(code.metadata['all_k_resolutions'])\n",
    "      \n",
    "  import pandas as pd\n",
    "\n",
    "  df = pd.DataFrame({'chunks':chunks, 'begin': begin, 'end':end, \n",
    "                    'icd10_cm_code':codes, 'resolved_text':resolved,\n",
    "                    'target_text':resolutions})\n",
    "\n",
    "  return df\n",
    "\n",
    "\n"
   ]
  },
  {
   "cell_type": "code",
   "execution_count": 31,
   "metadata": {
    "colab": {
     "base_uri": "https://localhost:8080/",
     "height": 917
    },
    "colab_type": "code",
    "id": "LNqsPX8rqL3r",
    "outputId": "252f9a64-0ae2-4daa-a451-94672048fe28"
   },
   "outputs": [
    {
     "data": {
      "text/html": [
       "<div>\n",
       "<style scoped>\n",
       "    .dataframe tbody tr th:only-of-type {\n",
       "        vertical-align: middle;\n",
       "    }\n",
       "\n",
       "    .dataframe tbody tr th {\n",
       "        vertical-align: top;\n",
       "    }\n",
       "\n",
       "    .dataframe thead th {\n",
       "        text-align: right;\n",
       "    }\n",
       "</style>\n",
       "<table border=\"1\" class=\"dataframe\">\n",
       "  <thead>\n",
       "    <tr style=\"text-align: right;\">\n",
       "      <th></th>\n",
       "      <th>chunks</th>\n",
       "      <th>begin</th>\n",
       "      <th>end</th>\n",
       "      <th>icd10_cm_code</th>\n",
       "      <th>resolved_text</th>\n",
       "      <th>target_text</th>\n",
       "    </tr>\n",
       "  </thead>\n",
       "  <tbody>\n",
       "    <tr>\n",
       "      <th>0</th>\n",
       "      <td>gestational diabetes mellitus</td>\n",
       "      <td>39</td>\n",
       "      <td>67</td>\n",
       "      <td>P702</td>\n",
       "      <td>Neonatal diabetes mellitus</td>\n",
       "      <td>Neonatal diabetes mellitus:::Type 2 diabetes m...</td>\n",
       "    </tr>\n",
       "    <tr>\n",
       "      <th>1</th>\n",
       "      <td>type two diabetes mellitus</td>\n",
       "      <td>128</td>\n",
       "      <td>153</td>\n",
       "      <td>E1142</td>\n",
       "      <td>Type 2 diabetes mellitus with diabetic polyneu...</td>\n",
       "      <td>Type 2 diabetes mellitus with diabetic polyneu...</td>\n",
       "    </tr>\n",
       "    <tr>\n",
       "      <th>2</th>\n",
       "      <td>T2DM),</td>\n",
       "      <td>156</td>\n",
       "      <td>161</td>\n",
       "      <td>E1121</td>\n",
       "      <td>Type 2 diabetes mellitus with diabetic nephrop...</td>\n",
       "      <td>Type 2 diabetes mellitus with diabetic nephrop...</td>\n",
       "    </tr>\n",
       "    <tr>\n",
       "      <th>3</th>\n",
       "      <td>HTG-induced pancreatitis</td>\n",
       "      <td>184</td>\n",
       "      <td>207</td>\n",
       "      <td>B252</td>\n",
       "      <td>Cytomegaloviral pancreatitis</td>\n",
       "      <td>Cytomegaloviral pancreatitis:::Alcohol-induced...</td>\n",
       "    </tr>\n",
       "    <tr>\n",
       "      <th>4</th>\n",
       "      <td>an acute hepatitis</td>\n",
       "      <td>260</td>\n",
       "      <td>277</td>\n",
       "      <td>B172</td>\n",
       "      <td>Acute hepatitis E</td>\n",
       "      <td>Acute hepatitis E:::Autoimmune hepatitis:::Mum...</td>\n",
       "    </tr>\n",
       "    <tr>\n",
       "      <th>5</th>\n",
       "      <td>obesity</td>\n",
       "      <td>284</td>\n",
       "      <td>290</td>\n",
       "      <td>E661</td>\n",
       "      <td>Drug-induced obesity</td>\n",
       "      <td>Drug-induced obesity:::Other obesity:::Bariatr...</td>\n",
       "    </tr>\n",
       "    <tr>\n",
       "      <th>6</th>\n",
       "      <td>a body mass index</td>\n",
       "      <td>297</td>\n",
       "      <td>313</td>\n",
       "      <td>Z681</td>\n",
       "      <td>Body mass index (BMI) 19.9 or less, adult</td>\n",
       "      <td>Body mass index (BMI) 19.9 or less, adult:::Bo...</td>\n",
       "    </tr>\n",
       "    <tr>\n",
       "      <th>7</th>\n",
       "      <td>BMI) of 33.5 kg/m2</td>\n",
       "      <td>316</td>\n",
       "      <td>333</td>\n",
       "      <td>Z6831</td>\n",
       "      <td>Body mass index (BMI) 31.0-31.9, adult</td>\n",
       "      <td>Body mass index (BMI) 31.0-31.9, adult:::Body ...</td>\n",
       "    </tr>\n",
       "    <tr>\n",
       "      <th>8</th>\n",
       "      <td>polyuria</td>\n",
       "      <td>373</td>\n",
       "      <td>380</td>\n",
       "      <td>R358</td>\n",
       "      <td>Other polyuria</td>\n",
       "      <td>Other polyuria:::Polydipsia:::Generalized edem...</td>\n",
       "    </tr>\n",
       "    <tr>\n",
       "      <th>9</th>\n",
       "      <td>polydipsia</td>\n",
       "      <td>383</td>\n",
       "      <td>392</td>\n",
       "      <td>R631</td>\n",
       "      <td>Polydipsia</td>\n",
       "      <td>Polydipsia:::Anhedonia:::Galactorrhea</td>\n",
       "    </tr>\n",
       "    <tr>\n",
       "      <th>10</th>\n",
       "      <td>poor appetite</td>\n",
       "      <td>395</td>\n",
       "      <td>407</td>\n",
       "      <td>R630</td>\n",
       "      <td>Anorexia</td>\n",
       "      <td>Anorexia:::Nutritional deficiency, unspecified...</td>\n",
       "    </tr>\n",
       "    <tr>\n",
       "      <th>11</th>\n",
       "      <td>vomiting</td>\n",
       "      <td>414</td>\n",
       "      <td>421</td>\n",
       "      <td>R1114</td>\n",
       "      <td>Bilious vomiting</td>\n",
       "      <td>Bilious vomiting:::Vomiting without nausea:::N...</td>\n",
       "    </tr>\n",
       "    <tr>\n",
       "      <th>12</th>\n",
       "      <td>a respiratory tract infection</td>\n",
       "      <td>515</td>\n",
       "      <td>543</td>\n",
       "      <td>J989</td>\n",
       "      <td>Respiratory disorder, unspecified</td>\n",
       "      <td>Respiratory disorder, unspecified:::Acute naso...</td>\n",
       "    </tr>\n",
       "    <tr>\n",
       "      <th>13</th>\n",
       "      <td>T2DM</td>\n",
       "      <td>601</td>\n",
       "      <td>604</td>\n",
       "      <td>E1121</td>\n",
       "      <td>Type 2 diabetes mellitus with diabetic nephrop...</td>\n",
       "      <td>Type 2 diabetes mellitus with diabetic nephrop...</td>\n",
       "    </tr>\n",
       "    <tr>\n",
       "      <th>14</th>\n",
       "      <td>HTG</td>\n",
       "      <td>643</td>\n",
       "      <td>645</td>\n",
       "      <td>E781</td>\n",
       "      <td>Pure hyperglyceridemia</td>\n",
       "      <td>Pure hyperglyceridemia:::Familial hypercholest...</td>\n",
       "    </tr>\n",
       "    <tr>\n",
       "      <th>15</th>\n",
       "      <td>tenderness</td>\n",
       "      <td>856</td>\n",
       "      <td>865</td>\n",
       "      <td>R10815</td>\n",
       "      <td>Periumbilic abdominal tenderness</td>\n",
       "      <td>Periumbilic abdominal tenderness:::Epigastric ...</td>\n",
       "    </tr>\n",
       "    <tr>\n",
       "      <th>16</th>\n",
       "      <td>guarding</td>\n",
       "      <td>868</td>\n",
       "      <td>875</td>\n",
       "      <td>R1083</td>\n",
       "      <td>Colic</td>\n",
       "      <td>Colic:::Scrotal pain:::Dysuria:::Periumbilic a...</td>\n",
       "    </tr>\n",
       "    <tr>\n",
       "      <th>17</th>\n",
       "      <td>rigidity</td>\n",
       "      <td>881</td>\n",
       "      <td>888</td>\n",
       "      <td>R1935</td>\n",
       "      <td>Periumbilic abdominal rigidity</td>\n",
       "      <td>Periumbilic abdominal rigidity:::Generalized a...</td>\n",
       "    </tr>\n",
       "    <tr>\n",
       "      <th>18</th>\n",
       "      <td>significant lipemia</td>\n",
       "      <td>1249</td>\n",
       "      <td>1267</td>\n",
       "      <td>E891</td>\n",
       "      <td>Postprocedural hypoinsulinemia</td>\n",
       "      <td>Postprocedural hypoinsulinemia:::Pure hypergly...</td>\n",
       "    </tr>\n",
       "    <tr>\n",
       "      <th>19</th>\n",
       "      <td>starvation ketosis</td>\n",
       "      <td>1309</td>\n",
       "      <td>1326</td>\n",
       "      <td>E71121</td>\n",
       "      <td>Propionic acidemia</td>\n",
       "      <td>Propionic acidemia:::Bartter's syndrome:::Hypo...</td>\n",
       "    </tr>\n",
       "    <tr>\n",
       "      <th>20</th>\n",
       "      <td>poor oral intake</td>\n",
       "      <td>1345</td>\n",
       "      <td>1360</td>\n",
       "      <td>F5082</td>\n",
       "      <td>Avoidant/restrictive food intake disorder</td>\n",
       "      <td>Avoidant/restrictive food intake disorder:::Nu...</td>\n",
       "    </tr>\n",
       "    <tr>\n",
       "      <th>21</th>\n",
       "      <td>still elevated</td>\n",
       "      <td>1514</td>\n",
       "      <td>1527</td>\n",
       "      <td>E7841</td>\n",
       "      <td>Elevated Lipoprotein(a)</td>\n",
       "      <td>Elevated Lipoprotein(a):::Fever, unspecified::...</td>\n",
       "    </tr>\n",
       "    <tr>\n",
       "      <th>22</th>\n",
       "      <td>interference from turbidity</td>\n",
       "      <td>1811</td>\n",
       "      <td>1837</td>\n",
       "      <td>M2656</td>\n",
       "      <td>Non-working side interference</td>\n",
       "      <td>Non-working side interference:::Hemoglobinuria...</td>\n",
       "    </tr>\n",
       "    <tr>\n",
       "      <th>23</th>\n",
       "      <td>lipemia</td>\n",
       "      <td>1849</td>\n",
       "      <td>1855</td>\n",
       "      <td>R81</td>\n",
       "      <td>Glycosuria</td>\n",
       "      <td>Glycosuria:::Pure hyperglyceridemia:::Hyperchy...</td>\n",
       "    </tr>\n",
       "    <tr>\n",
       "      <th>24</th>\n",
       "      <td>euDKA</td>\n",
       "      <td>1913</td>\n",
       "      <td>1917</td>\n",
       "      <td>R0602</td>\n",
       "      <td>Shortness of breath</td>\n",
       "      <td>Shortness of breath:::Chancroid:::Phimosis:::R...</td>\n",
       "    </tr>\n",
       "    <tr>\n",
       "      <th>25</th>\n",
       "      <td>HTG</td>\n",
       "      <td>1923</td>\n",
       "      <td>1925</td>\n",
       "      <td>E781</td>\n",
       "      <td>Pure hyperglyceridemia</td>\n",
       "      <td>Pure hyperglyceridemia:::Familial hypercholest...</td>\n",
       "    </tr>\n",
       "    <tr>\n",
       "      <th>26</th>\n",
       "      <td>a reduction in the anion gap</td>\n",
       "      <td>1932</td>\n",
       "      <td>1959</td>\n",
       "      <td>M2653</td>\n",
       "      <td>Deviation in opening and closing of the mandible</td>\n",
       "      <td>Deviation in opening and closing of the mandib...</td>\n",
       "    </tr>\n",
       "    <tr>\n",
       "      <th>27</th>\n",
       "      <td>Her euDKA</td>\n",
       "      <td>2017</td>\n",
       "      <td>2025</td>\n",
       "      <td>R94110</td>\n",
       "      <td>Abnormal electro-oculogram [EOG]</td>\n",
       "      <td>Abnormal electro-oculogram [EOG]:::Abnormal el...</td>\n",
       "    </tr>\n",
       "    <tr>\n",
       "      <th>28</th>\n",
       "      <td>her respiratory tract infection</td>\n",
       "      <td>2061</td>\n",
       "      <td>2091</td>\n",
       "      <td>J989</td>\n",
       "      <td>Respiratory disorder, unspecified</td>\n",
       "      <td>Respiratory disorder, unspecified:::Acute naso...</td>\n",
       "    </tr>\n",
       "  </tbody>\n",
       "</table>\n",
       "</div>"
      ],
      "text/plain": [
       "                             chunks  begin   end icd10_cm_code  \\\n",
       "0     gestational diabetes mellitus     39    67          P702   \n",
       "1        type two diabetes mellitus    128   153         E1142   \n",
       "2                            T2DM),    156   161         E1121   \n",
       "3          HTG-induced pancreatitis    184   207          B252   \n",
       "4                an acute hepatitis    260   277          B172   \n",
       "5                           obesity    284   290          E661   \n",
       "6                 a body mass index    297   313          Z681   \n",
       "7                BMI) of 33.5 kg/m2    316   333         Z6831   \n",
       "8                          polyuria    373   380          R358   \n",
       "9                        polydipsia    383   392          R631   \n",
       "10                    poor appetite    395   407          R630   \n",
       "11                         vomiting    414   421         R1114   \n",
       "12    a respiratory tract infection    515   543          J989   \n",
       "13                             T2DM    601   604         E1121   \n",
       "14                              HTG    643   645          E781   \n",
       "15                       tenderness    856   865        R10815   \n",
       "16                         guarding    868   875         R1083   \n",
       "17                         rigidity    881   888         R1935   \n",
       "18              significant lipemia   1249  1267          E891   \n",
       "19               starvation ketosis   1309  1326        E71121   \n",
       "20                 poor oral intake   1345  1360         F5082   \n",
       "21                   still elevated   1514  1527         E7841   \n",
       "22      interference from turbidity   1811  1837         M2656   \n",
       "23                          lipemia   1849  1855           R81   \n",
       "24                            euDKA   1913  1917         R0602   \n",
       "25                              HTG   1923  1925          E781   \n",
       "26     a reduction in the anion gap   1932  1959         M2653   \n",
       "27                        Her euDKA   2017  2025        R94110   \n",
       "28  her respiratory tract infection   2061  2091          J989   \n",
       "\n",
       "                                        resolved_text  \\\n",
       "0                          Neonatal diabetes mellitus   \n",
       "1   Type 2 diabetes mellitus with diabetic polyneu...   \n",
       "2   Type 2 diabetes mellitus with diabetic nephrop...   \n",
       "3                        Cytomegaloviral pancreatitis   \n",
       "4                                   Acute hepatitis E   \n",
       "5                                Drug-induced obesity   \n",
       "6           Body mass index (BMI) 19.9 or less, adult   \n",
       "7              Body mass index (BMI) 31.0-31.9, adult   \n",
       "8                                      Other polyuria   \n",
       "9                                          Polydipsia   \n",
       "10                                           Anorexia   \n",
       "11                                   Bilious vomiting   \n",
       "12                  Respiratory disorder, unspecified   \n",
       "13  Type 2 diabetes mellitus with diabetic nephrop...   \n",
       "14                             Pure hyperglyceridemia   \n",
       "15                   Periumbilic abdominal tenderness   \n",
       "16                                              Colic   \n",
       "17                     Periumbilic abdominal rigidity   \n",
       "18                     Postprocedural hypoinsulinemia   \n",
       "19                                 Propionic acidemia   \n",
       "20          Avoidant/restrictive food intake disorder   \n",
       "21                            Elevated Lipoprotein(a)   \n",
       "22                      Non-working side interference   \n",
       "23                                         Glycosuria   \n",
       "24                                Shortness of breath   \n",
       "25                             Pure hyperglyceridemia   \n",
       "26   Deviation in opening and closing of the mandible   \n",
       "27                   Abnormal electro-oculogram [EOG]   \n",
       "28                  Respiratory disorder, unspecified   \n",
       "\n",
       "                                          target_text  \n",
       "0   Neonatal diabetes mellitus:::Type 2 diabetes m...  \n",
       "1   Type 2 diabetes mellitus with diabetic polyneu...  \n",
       "2   Type 2 diabetes mellitus with diabetic nephrop...  \n",
       "3   Cytomegaloviral pancreatitis:::Alcohol-induced...  \n",
       "4   Acute hepatitis E:::Autoimmune hepatitis:::Mum...  \n",
       "5   Drug-induced obesity:::Other obesity:::Bariatr...  \n",
       "6   Body mass index (BMI) 19.9 or less, adult:::Bo...  \n",
       "7   Body mass index (BMI) 31.0-31.9, adult:::Body ...  \n",
       "8   Other polyuria:::Polydipsia:::Generalized edem...  \n",
       "9               Polydipsia:::Anhedonia:::Galactorrhea  \n",
       "10  Anorexia:::Nutritional deficiency, unspecified...  \n",
       "11  Bilious vomiting:::Vomiting without nausea:::N...  \n",
       "12  Respiratory disorder, unspecified:::Acute naso...  \n",
       "13  Type 2 diabetes mellitus with diabetic nephrop...  \n",
       "14  Pure hyperglyceridemia:::Familial hypercholest...  \n",
       "15  Periumbilic abdominal tenderness:::Epigastric ...  \n",
       "16  Colic:::Scrotal pain:::Dysuria:::Periumbilic a...  \n",
       "17  Periumbilic abdominal rigidity:::Generalized a...  \n",
       "18  Postprocedural hypoinsulinemia:::Pure hypergly...  \n",
       "19  Propionic acidemia:::Bartter's syndrome:::Hypo...  \n",
       "20  Avoidant/restrictive food intake disorder:::Nu...  \n",
       "21  Elevated Lipoprotein(a):::Fever, unspecified::...  \n",
       "22  Non-working side interference:::Hemoglobinuria...  \n",
       "23  Glycosuria:::Pure hyperglyceridemia:::Hyperchy...  \n",
       "24  Shortness of breath:::Chancroid:::Phimosis:::R...  \n",
       "25  Pure hyperglyceridemia:::Familial hypercholest...  \n",
       "26  Deviation in opening and closing of the mandib...  \n",
       "27  Abnormal electro-oculogram [EOG]:::Abnormal el...  \n",
       "28  Respiratory disorder, unspecified:::Acute naso...  "
      ]
     },
     "execution_count": 31,
     "metadata": {},
     "output_type": "execute_result"
    }
   ],
   "source": [
    "df = get_icd10_codes (light_pipeline_icd10, text)\n",
    "\n",
    "df"
   ]
  },
  {
   "cell_type": "code",
   "execution_count": 32,
   "metadata": {
    "colab": {
     "base_uri": "https://localhost:8080/",
     "height": 1000
    },
    "colab_type": "code",
    "id": "aUFk762VkzfS",
    "outputId": "8b1e68eb-970f-4392-bb8e-7e07f04bd415"
   },
   "outputs": [
    {
     "data": {
      "text/html": [
       "<div>\n",
       "<style scoped>\n",
       "    .dataframe tbody tr th:only-of-type {\n",
       "        vertical-align: middle;\n",
       "    }\n",
       "\n",
       "    .dataframe tbody tr th {\n",
       "        vertical-align: top;\n",
       "    }\n",
       "\n",
       "    .dataframe thead th {\n",
       "        text-align: right;\n",
       "    }\n",
       "</style>\n",
       "<table border=\"1\" class=\"dataframe\">\n",
       "  <thead>\n",
       "    <tr style=\"text-align: right;\">\n",
       "      <th></th>\n",
       "      <th>chunk</th>\n",
       "      <th>entity</th>\n",
       "      <th>resolved_text</th>\n",
       "      <th>code</th>\n",
       "      <th>cms</th>\n",
       "    </tr>\n",
       "  </thead>\n",
       "  <tbody>\n",
       "    <tr>\n",
       "      <th>0</th>\n",
       "      <td>type two diabetes mellitus</td>\n",
       "      <td>PROBLEM</td>\n",
       "      <td>Type 2 diabetes mellitus with diabetic polyneu...</td>\n",
       "      <td>E1142</td>\n",
       "      <td>Type 2 diabetes mellitus with diabetic polyneu...</td>\n",
       "    </tr>\n",
       "    <tr>\n",
       "      <th>1</th>\n",
       "      <td>lipemia</td>\n",
       "      <td>PROBLEM</td>\n",
       "      <td>Glycosuria</td>\n",
       "      <td>R81</td>\n",
       "      <td>Glycosuria:::Pure hyperglyceridemia:::Hyperchy...</td>\n",
       "    </tr>\n",
       "    <tr>\n",
       "      <th>2</th>\n",
       "      <td>an acute hepatitis</td>\n",
       "      <td>PROBLEM</td>\n",
       "      <td>Acute hepatitis E</td>\n",
       "      <td>B172</td>\n",
       "      <td>Acute hepatitis E:::Autoimmune hepatitis:::Mum...</td>\n",
       "    </tr>\n",
       "    <tr>\n",
       "      <th>3</th>\n",
       "      <td>gestational diabetes mellitus</td>\n",
       "      <td>PROBLEM</td>\n",
       "      <td>Neonatal diabetes mellitus</td>\n",
       "      <td>P702</td>\n",
       "      <td>Neonatal diabetes mellitus:::Type 2 diabetes m...</td>\n",
       "    </tr>\n",
       "    <tr>\n",
       "      <th>4</th>\n",
       "      <td>her respiratory tract infection</td>\n",
       "      <td>PROBLEM</td>\n",
       "      <td>Respiratory disorder, unspecified</td>\n",
       "      <td>J989</td>\n",
       "      <td>Respiratory disorder, unspecified:::Acute naso...</td>\n",
       "    </tr>\n",
       "    <tr>\n",
       "      <th>5</th>\n",
       "      <td>vomiting</td>\n",
       "      <td>PROBLEM</td>\n",
       "      <td>Bilious vomiting</td>\n",
       "      <td>R1114</td>\n",
       "      <td>Bilious vomiting:::Vomiting without nausea:::N...</td>\n",
       "    </tr>\n",
       "    <tr>\n",
       "      <th>6</th>\n",
       "      <td>polydipsia</td>\n",
       "      <td>PROBLEM</td>\n",
       "      <td>Polydipsia</td>\n",
       "      <td>R631</td>\n",
       "      <td>Polydipsia:::Anhedonia:::Galactorrhea</td>\n",
       "    </tr>\n",
       "    <tr>\n",
       "      <th>7</th>\n",
       "      <td>interference from turbidity</td>\n",
       "      <td>PROBLEM</td>\n",
       "      <td>Non-working side interference</td>\n",
       "      <td>M2656</td>\n",
       "      <td>Non-working side interference:::Hemoglobinuria...</td>\n",
       "    </tr>\n",
       "    <tr>\n",
       "      <th>8</th>\n",
       "      <td>T2DM),</td>\n",
       "      <td>PROBLEM</td>\n",
       "      <td>Type 2 diabetes mellitus with diabetic nephrop...</td>\n",
       "      <td>E1121</td>\n",
       "      <td>Type 2 diabetes mellitus with diabetic nephrop...</td>\n",
       "    </tr>\n",
       "    <tr>\n",
       "      <th>9</th>\n",
       "      <td>poor appetite</td>\n",
       "      <td>PROBLEM</td>\n",
       "      <td>Anorexia</td>\n",
       "      <td>R630</td>\n",
       "      <td>Anorexia:::Nutritional deficiency, unspecified...</td>\n",
       "    </tr>\n",
       "    <tr>\n",
       "      <th>10</th>\n",
       "      <td>euDKA</td>\n",
       "      <td>PROBLEM</td>\n",
       "      <td>Shortness of breath</td>\n",
       "      <td>R0602</td>\n",
       "      <td>Shortness of breath:::Chancroid:::Phimosis:::R...</td>\n",
       "    </tr>\n",
       "    <tr>\n",
       "      <th>11</th>\n",
       "      <td>a body mass index</td>\n",
       "      <td>PROBLEM</td>\n",
       "      <td>Body mass index (BMI) 19.9 or less, adult</td>\n",
       "      <td>Z681</td>\n",
       "      <td>Body mass index (BMI) 19.9 or less, adult:::Bo...</td>\n",
       "    </tr>\n",
       "    <tr>\n",
       "      <th>12</th>\n",
       "      <td>Her euDKA</td>\n",
       "      <td>PROBLEM</td>\n",
       "      <td>Abnormal electro-oculogram [EOG]</td>\n",
       "      <td>R94110</td>\n",
       "      <td>Abnormal electro-oculogram [EOG]:::Abnormal el...</td>\n",
       "    </tr>\n",
       "    <tr>\n",
       "      <th>13</th>\n",
       "      <td>rigidity</td>\n",
       "      <td>PROBLEM</td>\n",
       "      <td>Periumbilic abdominal rigidity</td>\n",
       "      <td>R1935</td>\n",
       "      <td>Periumbilic abdominal rigidity:::Generalized a...</td>\n",
       "    </tr>\n",
       "    <tr>\n",
       "      <th>14</th>\n",
       "      <td>guarding</td>\n",
       "      <td>PROBLEM</td>\n",
       "      <td>Colic</td>\n",
       "      <td>R1083</td>\n",
       "      <td>Colic:::Scrotal pain:::Dysuria:::Periumbilic a...</td>\n",
       "    </tr>\n",
       "    <tr>\n",
       "      <th>15</th>\n",
       "      <td>poor oral intake</td>\n",
       "      <td>PROBLEM</td>\n",
       "      <td>Avoidant/restrictive food intake disorder</td>\n",
       "      <td>F5082</td>\n",
       "      <td>Avoidant/restrictive food intake disorder:::Nu...</td>\n",
       "    </tr>\n",
       "    <tr>\n",
       "      <th>16</th>\n",
       "      <td>tenderness</td>\n",
       "      <td>PROBLEM</td>\n",
       "      <td>Periumbilic abdominal tenderness</td>\n",
       "      <td>R10815</td>\n",
       "      <td>Periumbilic abdominal tenderness:::Epigastric ...</td>\n",
       "    </tr>\n",
       "    <tr>\n",
       "      <th>17</th>\n",
       "      <td>a reduction in the anion gap</td>\n",
       "      <td>PROBLEM</td>\n",
       "      <td>Deviation in opening and closing of the mandible</td>\n",
       "      <td>M2653</td>\n",
       "      <td>Deviation in opening and closing of the mandib...</td>\n",
       "    </tr>\n",
       "    <tr>\n",
       "      <th>18</th>\n",
       "      <td>HTG</td>\n",
       "      <td>PROBLEM</td>\n",
       "      <td>Pure hyperglyceridemia</td>\n",
       "      <td>E781</td>\n",
       "      <td>Pure hyperglyceridemia:::Familial hypercholest...</td>\n",
       "    </tr>\n",
       "    <tr>\n",
       "      <th>19</th>\n",
       "      <td>polyuria</td>\n",
       "      <td>PROBLEM</td>\n",
       "      <td>Other polyuria</td>\n",
       "      <td>R358</td>\n",
       "      <td>Other polyuria:::Polydipsia:::Generalized edem...</td>\n",
       "    </tr>\n",
       "    <tr>\n",
       "      <th>20</th>\n",
       "      <td>starvation ketosis</td>\n",
       "      <td>PROBLEM</td>\n",
       "      <td>Propionic acidemia</td>\n",
       "      <td>E71121</td>\n",
       "      <td>Propionic acidemia:::Bartter's syndrome:::Hypo...</td>\n",
       "    </tr>\n",
       "    <tr>\n",
       "      <th>21</th>\n",
       "      <td>significant lipemia</td>\n",
       "      <td>PROBLEM</td>\n",
       "      <td>Postprocedural hypoinsulinemia</td>\n",
       "      <td>E891</td>\n",
       "      <td>Postprocedural hypoinsulinemia:::Pure hypergly...</td>\n",
       "    </tr>\n",
       "    <tr>\n",
       "      <th>22</th>\n",
       "      <td>HTG-induced pancreatitis</td>\n",
       "      <td>PROBLEM</td>\n",
       "      <td>Cytomegaloviral pancreatitis</td>\n",
       "      <td>B252</td>\n",
       "      <td>Cytomegaloviral pancreatitis:::Alcohol-induced...</td>\n",
       "    </tr>\n",
       "    <tr>\n",
       "      <th>23</th>\n",
       "      <td>obesity</td>\n",
       "      <td>PROBLEM</td>\n",
       "      <td>Drug-induced obesity</td>\n",
       "      <td>E661</td>\n",
       "      <td>Drug-induced obesity:::Other obesity:::Bariatr...</td>\n",
       "    </tr>\n",
       "    <tr>\n",
       "      <th>24</th>\n",
       "      <td>BMI) of 33.5 kg/m2</td>\n",
       "      <td>PROBLEM</td>\n",
       "      <td>Body mass index (BMI) 31.0-31.9, adult</td>\n",
       "      <td>Z6831</td>\n",
       "      <td>Body mass index (BMI) 31.0-31.9, adult:::Body ...</td>\n",
       "    </tr>\n",
       "    <tr>\n",
       "      <th>25</th>\n",
       "      <td>T2DM</td>\n",
       "      <td>PROBLEM</td>\n",
       "      <td>Type 2 diabetes mellitus with diabetic nephrop...</td>\n",
       "      <td>E1121</td>\n",
       "      <td>Type 2 diabetes mellitus with diabetic nephrop...</td>\n",
       "    </tr>\n",
       "    <tr>\n",
       "      <th>26</th>\n",
       "      <td>still elevated</td>\n",
       "      <td>PROBLEM</td>\n",
       "      <td>Elevated Lipoprotein(a)</td>\n",
       "      <td>E7841</td>\n",
       "      <td>Elevated Lipoprotein(a):::Fever, unspecified::...</td>\n",
       "    </tr>\n",
       "    <tr>\n",
       "      <th>27</th>\n",
       "      <td>a respiratory tract infection</td>\n",
       "      <td>PROBLEM</td>\n",
       "      <td>Respiratory disorder, unspecified</td>\n",
       "      <td>J989</td>\n",
       "      <td>Respiratory disorder, unspecified:::Acute naso...</td>\n",
       "    </tr>\n",
       "  </tbody>\n",
       "</table>\n",
       "</div>"
      ],
      "text/plain": [
       "                              chunk   entity  \\\n",
       "0        type two diabetes mellitus  PROBLEM   \n",
       "1                           lipemia  PROBLEM   \n",
       "2                an acute hepatitis  PROBLEM   \n",
       "3     gestational diabetes mellitus  PROBLEM   \n",
       "4   her respiratory tract infection  PROBLEM   \n",
       "5                          vomiting  PROBLEM   \n",
       "6                        polydipsia  PROBLEM   \n",
       "7       interference from turbidity  PROBLEM   \n",
       "8                            T2DM),  PROBLEM   \n",
       "9                     poor appetite  PROBLEM   \n",
       "10                            euDKA  PROBLEM   \n",
       "11                a body mass index  PROBLEM   \n",
       "12                        Her euDKA  PROBLEM   \n",
       "13                         rigidity  PROBLEM   \n",
       "14                         guarding  PROBLEM   \n",
       "15                 poor oral intake  PROBLEM   \n",
       "16                       tenderness  PROBLEM   \n",
       "17     a reduction in the anion gap  PROBLEM   \n",
       "18                              HTG  PROBLEM   \n",
       "19                         polyuria  PROBLEM   \n",
       "20               starvation ketosis  PROBLEM   \n",
       "21              significant lipemia  PROBLEM   \n",
       "22         HTG-induced pancreatitis  PROBLEM   \n",
       "23                          obesity  PROBLEM   \n",
       "24               BMI) of 33.5 kg/m2  PROBLEM   \n",
       "25                             T2DM  PROBLEM   \n",
       "26                   still elevated  PROBLEM   \n",
       "27    a respiratory tract infection  PROBLEM   \n",
       "\n",
       "                                        resolved_text    code  \\\n",
       "0   Type 2 diabetes mellitus with diabetic polyneu...   E1142   \n",
       "1                                          Glycosuria     R81   \n",
       "2                                   Acute hepatitis E    B172   \n",
       "3                          Neonatal diabetes mellitus    P702   \n",
       "4                   Respiratory disorder, unspecified    J989   \n",
       "5                                    Bilious vomiting   R1114   \n",
       "6                                          Polydipsia    R631   \n",
       "7                       Non-working side interference   M2656   \n",
       "8   Type 2 diabetes mellitus with diabetic nephrop...   E1121   \n",
       "9                                            Anorexia    R630   \n",
       "10                                Shortness of breath   R0602   \n",
       "11          Body mass index (BMI) 19.9 or less, adult    Z681   \n",
       "12                   Abnormal electro-oculogram [EOG]  R94110   \n",
       "13                     Periumbilic abdominal rigidity   R1935   \n",
       "14                                              Colic   R1083   \n",
       "15          Avoidant/restrictive food intake disorder   F5082   \n",
       "16                   Periumbilic abdominal tenderness  R10815   \n",
       "17   Deviation in opening and closing of the mandible   M2653   \n",
       "18                             Pure hyperglyceridemia    E781   \n",
       "19                                     Other polyuria    R358   \n",
       "20                                 Propionic acidemia  E71121   \n",
       "21                     Postprocedural hypoinsulinemia    E891   \n",
       "22                       Cytomegaloviral pancreatitis    B252   \n",
       "23                               Drug-induced obesity    E661   \n",
       "24             Body mass index (BMI) 31.0-31.9, adult   Z6831   \n",
       "25  Type 2 diabetes mellitus with diabetic nephrop...   E1121   \n",
       "26                            Elevated Lipoprotein(a)   E7841   \n",
       "27                  Respiratory disorder, unspecified    J989   \n",
       "\n",
       "                                                  cms  \n",
       "0   Type 2 diabetes mellitus with diabetic polyneu...  \n",
       "1   Glycosuria:::Pure hyperglyceridemia:::Hyperchy...  \n",
       "2   Acute hepatitis E:::Autoimmune hepatitis:::Mum...  \n",
       "3   Neonatal diabetes mellitus:::Type 2 diabetes m...  \n",
       "4   Respiratory disorder, unspecified:::Acute naso...  \n",
       "5   Bilious vomiting:::Vomiting without nausea:::N...  \n",
       "6               Polydipsia:::Anhedonia:::Galactorrhea  \n",
       "7   Non-working side interference:::Hemoglobinuria...  \n",
       "8   Type 2 diabetes mellitus with diabetic nephrop...  \n",
       "9   Anorexia:::Nutritional deficiency, unspecified...  \n",
       "10  Shortness of breath:::Chancroid:::Phimosis:::R...  \n",
       "11  Body mass index (BMI) 19.9 or less, adult:::Bo...  \n",
       "12  Abnormal electro-oculogram [EOG]:::Abnormal el...  \n",
       "13  Periumbilic abdominal rigidity:::Generalized a...  \n",
       "14  Colic:::Scrotal pain:::Dysuria:::Periumbilic a...  \n",
       "15  Avoidant/restrictive food intake disorder:::Nu...  \n",
       "16  Periumbilic abdominal tenderness:::Epigastric ...  \n",
       "17  Deviation in opening and closing of the mandib...  \n",
       "18  Pure hyperglyceridemia:::Familial hypercholest...  \n",
       "19  Other polyuria:::Polydipsia:::Generalized edem...  \n",
       "20  Propionic acidemia:::Bartter's syndrome:::Hypo...  \n",
       "21  Postprocedural hypoinsulinemia:::Pure hypergly...  \n",
       "22  Cytomegaloviral pancreatitis:::Alcohol-induced...  \n",
       "23  Drug-induced obesity:::Other obesity:::Bariatr...  \n",
       "24  Body mass index (BMI) 31.0-31.9, adult:::Body ...  \n",
       "25  Type 2 diabetes mellitus with diabetic nephrop...  \n",
       "26  Elevated Lipoprotein(a):::Fever, unspecified::...  \n",
       "27  Respiratory disorder, unspecified:::Acute naso...  "
      ]
     },
     "execution_count": 32,
     "metadata": {},
     "output_type": "execute_result"
    }
   ],
   "source": [
    "output = model_icd10.transform(data_ner).cache()\n",
    "\n",
    "output.select(F.explode(F.arrays_zip(\"ner_chunk.result\",\"ner_chunk.metadata\",\n",
    "                                     \"icd10cm_code.result\",\"icd10cm_code.metadata\")).alias(\"icd10cm_result\")) \\\n",
    ".select(F.expr(\"icd10cm_result['0']\").alias(\"chunk\"),\n",
    "        F.expr(\"icd10cm_result['1'].entity\").alias(\"entity\"),\n",
    "        F.expr(\"icd10cm_result['3'].resolved_text\").alias(\"resolved_text\"),\n",
    "        F.expr(\"icd10cm_result['2']\").alias(\"code\"),\n",
    "        F.expr(\"icd10cm_result['3'].all_k_resolutions\").alias(\"cms\"))\\\n",
    ".distinct() \\\n",
    ".toPandas()\n"
   ]
  },
  {
   "cell_type": "code",
   "execution_count": 33,
   "metadata": {
    "colab": {
     "base_uri": "https://localhost:8080/",
     "height": 107
    },
    "colab_type": "code",
    "id": "ZCXjwUlLc3CF",
    "outputId": "83f24b1e-613f-480c-da4a-fb922fbea3c1"
   },
   "outputs": [
    {
     "data": {
      "text/html": [
       "<div>\n",
       "<style scoped>\n",
       "    .dataframe tbody tr th:only-of-type {\n",
       "        vertical-align: middle;\n",
       "    }\n",
       "\n",
       "    .dataframe tbody tr th {\n",
       "        vertical-align: top;\n",
       "    }\n",
       "\n",
       "    .dataframe thead th {\n",
       "        text-align: right;\n",
       "    }\n",
       "</style>\n",
       "<table border=\"1\" class=\"dataframe\">\n",
       "  <thead>\n",
       "    <tr style=\"text-align: right;\">\n",
       "      <th></th>\n",
       "      <th>chunks</th>\n",
       "      <th>begin</th>\n",
       "      <th>end</th>\n",
       "      <th>icd10_cm_code</th>\n",
       "      <th>resolved_text</th>\n",
       "      <th>target_text</th>\n",
       "    </tr>\n",
       "  </thead>\n",
       "  <tbody>\n",
       "    <tr>\n",
       "      <th>0</th>\n",
       "      <td>a brain damage</td>\n",
       "      <td>7</td>\n",
       "      <td>20</td>\n",
       "      <td>G9382</td>\n",
       "      <td>Brain death</td>\n",
       "      <td>Brain death:::Cerebral ischemia:::Cerebral edema</td>\n",
       "    </tr>\n",
       "    <tr>\n",
       "      <th>1</th>\n",
       "      <td>lung cancer</td>\n",
       "      <td>26</td>\n",
       "      <td>36</td>\n",
       "      <td>J676</td>\n",
       "      <td>Maple-bark-stripper's lung</td>\n",
       "      <td>Maple-bark-stripper's lung:::Mushroom-worker's...</td>\n",
       "    </tr>\n",
       "  </tbody>\n",
       "</table>\n",
       "</div>"
      ],
      "text/plain": [
       "           chunks  begin  end icd10_cm_code               resolved_text  \\\n",
       "0  a brain damage      7   20         G9382                 Brain death   \n",
       "1     lung cancer     26   36          J676  Maple-bark-stripper's lung   \n",
       "\n",
       "                                         target_text  \n",
       "0   Brain death:::Cerebral ischemia:::Cerebral edema  \n",
       "1  Maple-bark-stripper's lung:::Mushroom-worker's...  "
      ]
     },
     "execution_count": 33,
     "metadata": {},
     "output_type": "execute_result"
    }
   ],
   "source": [
    "text = 'He has a brain damage and lung cancer'\n",
    "\n",
    "df = get_icd10_codes(light_pipeline_icd10, text)\n",
    "\n",
    "df"
   ]
  },
  {
   "cell_type": "markdown",
   "metadata": {
    "colab_type": "text",
    "id": "aR87HGvadf4F"
   },
   "source": [
    "# RxNorm Resolver"
   ]
  },
  {
   "cell_type": "code",
   "execution_count": 34,
   "metadata": {
    "colab": {
     "base_uri": "https://localhost:8080/",
     "height": 123
    },
    "colab_type": "code",
    "id": "hv409XB0fX2E",
    "outputId": "19ca1926-d0b7-4ed1-8369-6416b4473ebc"
   },
   "outputs": [
    {
     "name": "stdout",
     "output_type": "stream",
     "text": [
      "+----------------------------------------------------------------------------------------------------+\n",
      "|                                                                                                text|\n",
      "+----------------------------------------------------------------------------------------------------+\n",
      "|A 28-year-old female with a history of gestational diabetes mellitus diagnosed eight years prior ...|\n",
      "+----------------------------------------------------------------------------------------------------+\n",
      "\n"
     ]
    }
   ],
   "source": [
    "data_ner.show(truncate=100)"
   ]
  },
  {
   "cell_type": "code",
   "execution_count": 35,
   "metadata": {
    "colab": {
     "base_uri": "https://localhost:8080/",
     "height": 70
    },
    "colab_type": "code",
    "id": "Q1LuiKu2fGol",
    "outputId": "12b8721d-3b5d-4e3f-ebe5-5b95ded24440"
   },
   "outputs": [
    {
     "name": "stdout",
     "output_type": "stream",
     "text": [
      "ensembleresolve_rxnorm_small_clinical download started this may take some time.\n",
      "Approximate size to download 159.7 MB\n",
      "[OK!]\n"
     ]
    }
   ],
   "source": [
    "ner_converter = NerConverter() \\\n",
    "  .setInputCols([\"sentence\", \"token\", \"ner\"]) \\\n",
    "  .setOutputCol(\"ner_chunk\")\\\n",
    "  .setWhiteList(['TREATMENT'])\n",
    "\n",
    "chunk_embeddings = ChunkEmbeddings()\\\n",
    "    .setInputCols(\"ner_chunk\", \"embeddings\")\\\n",
    "    .setOutputCol(\"chunk_embeddings\")\n",
    "\n",
    "chunk_tokenizer = ChunkTokenizer()\\\n",
    "    .setInputCols(\"ner_chunk\")\\\n",
    "    .setOutputCol(\"ner_token\")\n",
    "\n",
    "rxnormResolver = EnsembleEntityResolverModel()\\\n",
    "    .pretrained('ensembleresolve_rxnorm_small_clinical', 'en', \"clinical/models\")\\\n",
    "    .setEnableLevenshtein(True)\\\n",
    "    .setNeighbours(200).setAlternatives(5).setDistanceWeights([1,3,2,0,0,1])\\\n",
    "    .setInputCols('ner_token', 'chunk_embeddings')\\\n",
    "    .setOutputCol('rxnorm_resolution')\\\n",
    "\n",
    "\n",
    "pipeline_rx = Pipeline(\n",
    "    stages = [\n",
    "    documentAssembler,\n",
    "    sentenceDetector,\n",
    "    tokenizer,\n",
    "    word_embeddings,\n",
    "    clinical_ner,\n",
    "    ner_converter,\n",
    "    chunk_embeddings,\n",
    "    chunk_tokenizer,\n",
    "    rxnormResolver\n",
    "  ])\n",
    "\n",
    "model_rxnorm = pipeline_rx.fit(data_ner)\n"
   ]
  },
  {
   "cell_type": "code",
   "execution_count": 36,
   "metadata": {
    "colab": {
     "base_uri": "https://localhost:8080/",
     "height": 143
    },
    "colab_type": "code",
    "id": "qoSJxz5phKt8",
    "outputId": "93d151bb-a6ee-4c2f-f241-bf257618866c"
   },
   "outputs": [
    {
     "name": "stdout",
     "output_type": "stream",
     "text": [
      "+--------------------+--------------------+--------------------+--------------------+--------------------+--------------------+--------------------+--------------------+--------------------+--------------------+\n",
      "|                text|            document|            sentence|               token|          embeddings|                 ner|           ner_chunk|    chunk_embeddings|           ner_token|   rxnorm_resolution|\n",
      "+--------------------+--------------------+--------------------+--------------------+--------------------+--------------------+--------------------+--------------------+--------------------+--------------------+\n",
      "|A 28-year-old fem...|[[document, 0, 24...|[[document, 0, 42...|[[token, 0, 0, A,...|[[word_embeddings...|[[named_entity, 0...|[[chunk, 499, 509...|[[word_embeddings...|[[token, 499, 509...|[[entity, 499, 50...|\n",
      "+--------------------+--------------------+--------------------+--------------------+--------------------+--------------------+--------------------+--------------------+--------------------+--------------------+\n",
      "\n"
     ]
    }
   ],
   "source": [
    "output = model_rxnorm.transform(data_ner)\n",
    "\n",
    "output.show()"
   ]
  },
  {
   "cell_type": "code",
   "execution_count": 37,
   "metadata": {
    "colab": {
     "base_uri": "https://localhost:8080/",
     "height": 336
    },
    "colab_type": "code",
    "id": "ieHsK_QOhaiD",
    "outputId": "23699345-988b-436b-e48b-0d784dfbae7c"
   },
   "outputs": [
    {
     "name": "stdout",
     "output_type": "stream",
     "text": [
      "+--------------------+---------+----------------------------------------------------------------------------------------------------+-------+----------+\n",
      "|               chunk|   entity|                                                                                         target_text|   code|confidence|\n",
      "+--------------------+---------+----------------------------------------------------------------------------------------------------+-------+----------+\n",
      "|         amoxicillin|TREATMENT|ciprofloxacin kit:::ciprofloxacin kit:::amoxicillin 5 0 0 mg oral tablet:::amoxicillin 2 5 0 mg o...| 309310|    0.5000|\n",
      "|           metformin|TREATMENT|metformin hydrochloride tablets:::metformin hydrochloride oral solution:::pioglitazone tablets:::...|2054650|    0.9931|\n",
      "|           glipizide|TREATMENT|glipizide 5 mg oral tablet [ glucotrol ] :::glimepiride 3 mg oral tablet:::glimepiride 8 mg oral ...| 205828|    0.9093|\n",
      "|       dapagliflozin|TREATMENT|dapagliflozin tablets:::linagliptin tablets:::canagliflozin tablets:::empagliflozin tablets:::sax...|1488568|    0.9999|\n",
      "|        atorvastatin|TREATMENT|candesartan cilexetil 8 mg oral tablet:::candesartan cilexetil 4 mg oral tablet:::simvastatin 5 m...| 153823|    0.4998|\n",
      "|         gemfibrozil|TREATMENT|gemfibrozil 6 0 0 mg oral tablet [ gemfibrozil ] :::fenofibrate 4 8 mg oral tablet [ tricor ] :::...| 310459|    1.0000|\n",
      "|       dapagliflozin|TREATMENT|dapagliflozin tablets:::linagliptin tablets:::canagliflozin tablets:::empagliflozin tablets:::sax...|1488568|    0.9999|\n",
      "|     an insulin drip|TREATMENT|glucagon 3 mg nasal powder [ baqsimi ] :::insulin , regular , human 8 unt inhalation powder [ afr...|2180671|    0.5282|\n",
      "|     SGLT2 inhibitor|TREATMENT|anti - inhibitor coagulant complex 1 unt injection:::bumetanide 2 mg oral tablet:::bumetanide 1 m...|1659998|    1.0000|\n",
      "|    insulin glargine|TREATMENT|insulin glargine 1 0 0 units / ml subcutaneous solution:::insulin glargine 3 0 0 units / ml subcu...| 311041|    0.4944|\n",
      "|      insulin lispro|TREATMENT|insulin lispro 1 0 0 units / ml subcutaneous solution:::insulin lispro 2 0 0 units / ml subcutane...| 242120|    0.4790|\n",
      "|           metformin|TREATMENT|metformin hydrochloride tablets:::metformin hydrochloride oral solution:::pioglitazone tablets:::...|2054650|    0.9931|\n",
      "|all SGLT2 inhibitors|TREATMENT|haegarda c 1 esterase inhibitor subcutaneous ( human ) kit:::haegarda c 1 esterase inhibitor subc...|1926827|    0.5000|\n",
      "+--------------------+---------+----------------------------------------------------------------------------------------------------+-------+----------+\n",
      "\n"
     ]
    }
   ],
   "source": [
    "output.select(F.explode(F.arrays_zip(\"ner_chunk.result\",\"ner_chunk.metadata\",\"rxnorm_resolution.result\",\"rxnorm_resolution.metadata\")).alias(\"rxnorm_result\")) \\\n",
    "    .select(F.expr(\"rxnorm_result['0']\").alias(\"chunk\"),\n",
    "            F.expr(\"rxnorm_result['1'].entity\").alias(\"entity\"),\n",
    "            F.expr(\"rxnorm_result['3'].all_k_resolutions\").alias(\"target_text\"),\n",
    "            F.expr(\"rxnorm_result['2']\").alias(\"code\"),\n",
    "            F.expr(\"rxnorm_result['3'].confidence\").alias('confidence')).show(truncate = 100)"
   ]
  },
  {
   "cell_type": "code",
   "execution_count": 38,
   "metadata": {
    "colab": {
     "base_uri": "https://localhost:8080/",
     "height": 54
    },
    "colab_type": "code",
    "id": "ciXz7qRSj27-",
    "outputId": "41dccd05-9898-4569-c08b-de8a2b75615b"
   },
   "outputs": [
    {
     "data": {
      "text/plain": [
       "'The patient was prescribed 1 capsule of Advil for 5 days after meals. He was seen by the endocrinology service and she was discharged on 40 units of insulin glargine at night , 12 units of insulin lispro with meals , and metformin 1000 mg two times a day.'"
      ]
     },
     "execution_count": 38,
     "metadata": {},
     "output_type": "execute_result"
    }
   ],
   "source": [
    "text = 'The patient was prescribed 1 capsule of Advil for 5 days after meals. He was seen by the endocrinology service and she was discharged on 40 units of insulin glargine at night , 12 units of insulin lispro with meals , and metformin 1000 mg two times a day.'\n",
    "text"
   ]
  },
  {
   "cell_type": "markdown",
   "metadata": {
    "colab_type": "text",
    "id": "ADj8U6C-kCCe"
   },
   "source": [
    "![image.png](data:image/png;base64,iVBORw0KGgoAAAANSUhEUgAACYgAAAFsCAYAAABsVc/3AAAgAElEQVR4AeyddxRcVbm37z/fd9d3r96r14uKVBHpRXroNUCogRAIEAgQUgkkJCEhCYGEXgyIIAJSpEiRXgSRrnBFEBUpoqiIIAqCSlVRc771G+975p09+8yZcmYy5dlrzdpnztn12e8pc/Zv3v0vCQECEIAABCAAAQhAAAIQgAAEIAABCEAAAhCAAAQgAAEIQAACEIAABCAAAQhAAAIQgAAE+pLAv/Rlr+gUBCAAAQhAAAIQgAAEIAABCEAAAhCAAAQgAAEIQAACEIAABCAAAQhAAAIQgAAEIAABCCQIxDACCEAAAhCAAAQgAAEIQAACEIAABCAAAQhAAAIQgAAEIAABCEAAAhCAAAQgAAEIQAACfUoAgVifDizdggAEIAABCEAAAhCAAAQgAAEIQAACEIAABCAAAQhAAAIQgAAEIAABCEAAAhCAAAQggEAMG4AABCAAAQhAAAIQgAAEIAABCEAAAhCAAAQgAAEIQAACEIAABCAAAQhAAAIQgAAEINCnBBCI9enA0i0IQAACEIAABCAAAQhAAAIQgAAEIAABCEAAAhCAAAQgAAEIQAACEIAABCAAAQhAAAIIxLABCEAAAhCAAAQgAAEIQAACEIAABCAAAQhAAAIQgAAEIAABCEAAAhCAAAQgAAEIQAACfUoAgVifDizdggAEIAABCEAAAhCAAAQgAAEIQAACEIAABCAAAQhAAAIQgAAEIAABCEAAAhCAAAQggEAMG4AABCAAAQhAAAIQgAAEIAABCEAAAhCAAAQgAAEIQAACEIAABCAAAQhAAAIQgAAEINCnBBCI9enA0i0IQAACEIAABCAAAQhAAAIQgAAEIAABCEAAAhCAAAQgAAEIQAACEIAABCAAAQhAAAIIxLABCEAAAhCAAAQgAAEIQAACEIAABCAAAQhAAAIQgAAEIAABCEAAAhCAAAQgAAEIQAACfUoAgVifDizdggAEIAABCEAAAhCAAAQgAAEIQAACEIAABCAAAQhAAAIQgAAEIAABCEAAAhCAAAQggEAMG4AABCAAAQhAAAIQgAAEIAABCEAAAhCAAAQgAAEIQAACEIAABCAAAQhAAAIQgAAEINCnBBCI9enA0i0IQAACEIAABCAAAQhAAAIQgAAEIAABCEAAAhCAAAQgAAEIQAACEIAABCAAAQhAAAIIxLABCEAAAhCAAAQgAAEIQAACEIAABCAAAQhAAAIQgAAEIAABCEAAAhCAAAQgAAEIQAACfUoAgVifDizdggAEIAABCEAAAhCAAAQgAAEIQAACEIAABCAAAQhAAAIQgAAEIAABCEAAAhCAAAQggEAMG4AABCAAAQhAAAIQgAAEIAABCEAAAhCAAAQgAAEIQAACEIAABCAAAQhAAAIQgAAEINCnBBCI9enA0i0IQAACEIAABCAAAQhAAAIQgAAEIAABCEAAAhCAAAQgAAEIQAACEIAABCAAAQhAAAIIxLABCEAAAhCAAAQgAAEIQAACEIAABCAAAQhAAAIQgAAEIAABCEAAAhCAAAQgAAEIQAACfUoAgVifDizdggAEIAABCEAAAhCAAAQgAAEIQAACEIAABCAAAQhAAAIQgAAEIAABCEAAAhCAAAQggEAMG4AABCAAAQhAAAIQgAAEIAABCEAAAhCAAAQgAAEIQAACEIAABCAAAQhAAAIQgAAEINCnBBCI9enA0i0IQAACEIAABCAAAQhAAAIQgAAEIAABCEAAAhCAAAQgAAEIQAACEIAABCAAAQhAAAIIxLABCEAAAhCAAAQgAAEIQAACEIAABCAAAQhAAAIQgAAEIAABCEAAAhCAAAQgAAEIQAACfUoAgVifDizdggAEIAABCEAAAhCAAAQgAAEIQAACEIAABCAAAQhAAAIQgAAEIAABCEAAAhCAAAQggEAMG4AABCAAAQhAAAIQgAAEIAABCEAAAhCAAAQgAAEIQAACEIAABCAAAQhAAAIQgAAEINCnBBCI9enA0i0IQAACEIAABCAAAQhAAAIQgAAEIAABCEAAAhCAAAQgAAEIQAACEIAABCAAAQhAAAI9LxD74IO/J396+73k92+8nfz2tT/ygQE2gA1gA9gANoANYAPYADaADWAD2AA2gA1gA9gANoANYAPYADaADWAD2AA2gA1gA9gANoANYAPYADYw4Dbw+htvJW+9/X7y1w/+NvAKsZ4WiL319nuczAN+MiMKRBSJDWAD2AA2gA1gA9gANoANYAPYADaADWAD2AA2gA1gA9gANoANYAPYADaADWAD2AA2gA1gA9gANlDLBiQUG+TQswKxN//4TioOe/ud95MP/vb3ZPHixYM8lvQdAhCAAAQgAAEIQAACEIAABCAAAQhAAAIQgAAEIAABCEAAAhCAAAQgAAEIQAACA09AGqK//e3vydvv/DnVF0lrNKihJwViWlJSqj+5gtMSkwQIQAACEIAABCAAAQhAAAIQgAAEIAABCEAAAhCAAAQgAAEIQAACEIAABCAAAQhAAAIhgQ8++FtJYySt0aB6Eus5gZgEYeYSTl7DCBCAAAQgAAEIQAACEIAABCAAAQhAAAIQgAAEIAABCEAAAhCAAAQgAAEIQAACEIAABLIISCSW6o0++FtWsr7d33MCsT+99U/vYVpWkgABCEAAAhCAAAQgAAEIQAACEIAABCAAAQhAAAIQgAAEIAABCEAAAhCAAAQgAAEIQCCPgC03OYhexHpOIPb7N94qKfrwHpZn1hyHAAQgAAEIQAACEIAABCAAAQhAAAIQgAAEIAABCEAAAhCAAAQgAAEIQAACEIAABETAvIi9/sZbAwek5wRi5u5t8eLFAzdYdBgCEIAABCAAAQhAAAIQgAAEIAABCEAAAhCAAAQgAAEIQAACEIAABCAAAQhAAAIQaI6A6Y6ay927uXpWINa7yGk5BCAAAQhAAAIQgAAEIAABCEAAAhCAAAQgAAEIQAACEIAABCAAAQhAAAIQgAAEINBpAgjEOk28yfoGdaCaxEU2CEAAAhCAAAQgAAEIQAACEIAABCAAAQhAAAIQgAAEIAABCEAAAhCAAAQgAAEIQCBJkkHVHeFBDPOHAAQgAAEIQAACEIAABCAAAQhAAAIQgAAEIAABCEAAAhCAAAQgAAEIQAACEIAABPqeAAKxHhniQR2oHhkemgkBCEAAAhCAAAQgAAEIQAACEIAABCAAAQhAAAIQgAAEIAABCEAAAhCAAAQgAIGuJDCouiM8iHWlOdIoCEAAAhCAAAQgAAEIQAACEIAABCAAAQhAAAIQgAAEIAABCEAAAhCAAAQgAAEIQKBIAgjEiqTZxrIGdaDaiJSiIQABCEAAAhCAAAQgAAEIQAACEIAABCAAAQhAAAIQgAAEIAABCEAAAhCAAAQg0PcEBlV3hAexvjdtOggBCEAAAhCAAAQgAAEIQAACEIAABCAAAQhAAAIQgAAEIAABCEAAAhCAAAQgAAEIIBDrERsY1IHqkeGhmRCAAAQgAAEIQAACEIAABCAAAQhAAAIQgAAEIAABCEAAAhCAAAQgAAEIQAACEOhKAoOqO8KDWFeaI42CAAQgAAEIQAACEIAABCAAAQhAAAIQgAAEIAABCEAAAhCAAAQgAAEIQAACEIAABIokgECsSJptLGtQB6qNSCkaAhCAAAQgAAEIQAACEIAABCAAAQhAAAIQgAAEIAABCEAAAhCAAAQgAAEIQAACfU9gUHVHeBDre9OmgxCAAAQgAAEIQAACEIAABCAAAQhAAAIQgAAEIAABCEAAAhCAAAQgAAEIQAACEIAAArEesYFBHageGR6aCQEIQAACEIAABCAAAQhAAAIQgAAEIAABCEAAAhCAAAQgAAEIQAACEIAABCAAga4kMKi6IzyIdaU50igIQAACEIAABCAAAQhAAAIQgAAEIAABCEAAAhCAAAQgAAEIQAACEIAABCAAAQhAoEgCCMSKpNnGsgZ1oNqIlKIhAAEIQAACEIAABCAAAQhAAAIQgAAEIAABCEAAAhCAAAQgAAEIQAACEIAABCDQ9wQGVXeEB7G+N206CAEIQAACEIAABCAAAQhAAAIQgAAEIAABCEAAAhCAAAQgAAEIQAACEIAABCAAAQggEOsRGxjUgeqR4aGZEIAABCAAAQhAAAIQgAAEIAABCEAAAhCAAAQgAAEIQAACEIAABCAAAQhAAAIQ6EoCg6o7woNYV5ojjYIABCAAAQhAAAIQgAAEIAABCEAAAhCAAAQgAAEIQAACEIAABCAAAQhAAAIQgAAEiiSAQKxImm0sa1AHqo1IKRoCEIAABCAAAQhAAAIQgAAEIAABCEAAAhCAAAQgAAEIQAACEIAABCAAAQhAAAJ9T2BQdUd4EOt706aDEIAABCAAAQhAAAIQgAAEIAABCEAAAhCAAAQgAAEIQAACEIAABCAAAQhAAAIQgAACsR6xgUEdqB4ZHpoJAQhAAAIQgAAEIAABCEAAAhCAAAQgAAEIQAACEIAABCAAAQhAAAIQgAAEIACBriQwqLojPIh1pTnSKAhAAAIQgAAEIAABCEAAAhCAAAQgAAEIQAACEIAABCAAAQhAAAIQgAAEIAABCECgSAIIxIqk2cayBnWg2oiUoiEAAQhAAAIQgAAEIAABCEAAAhCAAAQgAAEIQAACEIAABCAAAQhAAAIQgAAEIND3BAZVd4QHsb43bToIAQhAAAIQgAAEIAABCEAAAhCAAAQgAAEIQAACEIAABCAAAQhAAAIQgAAEIAABCCAQ6xEbGNSB6pHhoZkQgAAEIAABCEAAAhCAAAQgAAEIQAACEIAABCAAAQhAAAIQgAAEIAABCEAAAhDoSgKDqjvCg1hXmiONggAEIAABCEAAAhCAAAQgAAEIQAACEIAABCAAAQhAAAIQgAAEIAABCEAAAhCAAASKJIBArEiabSxrUAeqjUgpGgIQgAAEIAABCEAAAhCAAAQgAAEIQAACEIAABCAAAQhAAAIQgAAEIAABCEAAAn1PYFB1R3gQ63vTpoMQgAAEIAABCEAAAhCAAAQgAAEIQAACEIAABCAAAQhAAAIQgAAEIAABCEAAAhCAAAKxHrGBQR2oHhkemgkBCEAAAhCAAAQgAAEIQAACEIAABCAAAQhAAAIQgAAEIAABCEAAAhCAAAQgAIGuJDCouiM8iHWlOdIoCEAAAhCAAAQgAAEIQAACEIAABCAAAQhAAAIQgAAEIAABCEAAAhCAAAQgAAEIQKBIAgjEiqTZxrIGdaDaiJSiIQABCEAAAhCAAAQgAAEIQAACEIAABCAAAQhAAAIQgAAEIAABCEAAAhCAAAQg0PcEBlV3hAexvjdtOggBCEAAAhCAAAQgAAEIQAACEIAABCAAAQhAAAIQgAAEIAABCEAAAhCAAAQgAAEIIBDrERsY1IHqkeGhmRCAAAQgAAEIQAACEIAABCAAAQhAAAIQgAAEIAABCEAAAhCAAAQgAAEIQAACEOhKAoOqO8KDWFeaI42CAAQgAIGBJ7A4Sd57+q3kD7e/mvz2ol8kv1n00+SVM5/nA4OutwHZqmz2zdt/U7LhZPGSOJsXJx/87onkvZ9clbz9+KnJnx6Znfzp2zP5wAAb6DYbeGR26RzVuapzNln8jyVxweiuOv+xOHn1u88lT19yV/Lo8ZcnDxx1XnLf5C/wgcHA2YBsX+eAzoVXv/tssvgfS+SBoruuDw22ZvHixclTP3glufn6HyVfOvuh5PQF9ySnzL+bDwywAWwAG8AGsIE6bUD3Tt1DdS/VPVX3VgIEIAABCEAAAhCAQH8QQCDWI+M4qAPVI8NDMyEAAQhAoAACbz/+ZvLqeS90vRAIwRqCvXpsQLb8zhN/KODMqK+Iv7z8UPLWd09ACNRtQiDag03WYQM6d//6ysP1nex9mOpX9z2ZPDzrooETAiGAQwBYjw08POvC5KX7f9CHZ357uvTYI79MzjntfgQAdQoAEM4hHMQGsAFsABuoxwbOPu2+5HuPvtiemzelQgACEIAABCAAAQh0lMCg6o7wINZRM6MyCEAAAhCAQDaBf7z39+SNG15GGIaXsL60Adm2bLxdYfEH7ybvPf0VRDh1iHDwpoY3uW63gXef/kqy+IN32nW56Lpy//rO+8kPz78VYRhewrCBOmzgh+ffkuicIcQJvPfuX5Prrvw+wjCEYdgANoANYAPYQBtt4Lorn0h0zyVAAAIQgAAEIAABCPQuAQRiPTJ2gzpQPTI8NBMCEIAABJokIOHMa199sS+FQfV4mSLNYHgje/2KX7VFJCZx2DtPno04DHEYNtBHNvDOD84ZCJGYhC6Pnfo1hEF1CIPq8TJFmsHwRva9065BJBb5zaGJ6ku+9AiCgDYKAurxLkMavBBhA9gANjAYNnDpBY8iEos8j7ALAhCAAAQgAAEI9AqBQdUd4UGsVyyUdkIAAhCAQF8TwHPYYAikEMI9X/KSV/TJjOcwPGJ1u0cs2tecjcqTWL8HPIcNhqAJ4Vrx4yxPYoRKAngOGwxBAsITxhkbwAawge6xAXkSI0AAAhCAAAQgAAEI9CYBBGI9Mm6DOlA9Mjw0EwIQgAAEmiDw9uNv4jmMZSUHygbeeeIPTZwp8Sx/efkhvEb1kdcohFTNCan6mdtfX3k4fvL3wd5f3fcknsPwHIYNtGADL93/gz64EhTThcce+SWew/Achg1gA9gANoANLAEb+N6jLxZzM6cUCEAAAhCAAAQgAIGOEhhU3REexDpqZlQGAQhAAAIQCAgsTpJXz3thoMRBeNHCW5psPlkcnAtNfV2cvPXdExCIIRDDBvrYBnSOF3TBaOoq07ZM/1icPDzrIsRBLYiD8MpVvFeuXmOqc2jxPwp5oGjbqd6JghcvXpycc9r9iAKWgCgALz7d48WHsWAssAFsYEnZwNmn3ZfoXkyAAAQgAAEIQAACEOgtAgjEemS8BnWgemR4aCYEIAABCDRI4L2n30IchvewgbQB2X6r4YPfPYEwqI+FQf3sFYu+NeYpTed6v4VXv/sc4jDEYdhAATbw6nef7bfLQ8P9eeoHryAOQxyGDWAD2AA2gA0sQRvQvZgAAQhAAAIQgAAEINBbBAZVd4QHsd6yU1oLAQhAAAJ9RuAPt786kOIgvIjhRezN23/T8tn83k+uQiCGQAwbGAAb0Lneb+HpS+5CHFSAOKjXPF7R3uK9nulcGvRw8/U/QhSwBEUBS8pjDfXiLQkbwAawge6xAd2LCRCAAAQgAAEIQAACvUUAgViPjNegDlSPDA/NhAAEIACBBgn89qJfIBDDg9hA2oBsv9Xw9uOnIg4aAHEQ3rYa87bVj7x0rvdbePT4yxGIIRDDBgqwAZ1Lgx6+dPZDCMQQiGED2AA2gA1gA0vQBnQvJkAAAhCAAAQgAAEI9BaBQdUd4UGst+yU1kIAAhCAQJ8R+M2inw6kOAgPYngQk+23Gv70yGwEYgjEsIFBsIFHZrd6uei6/A8cdR7ioALEQXjkKt4jV68x1bk06OH0BfcgCliCogA8+HSPBx/GgrHABrCBJWUDuhcTIAABCEAAAhCAAAR6iwACsR4Zr0EdqB4ZHpoJAQhAAAINEkAohVBqkG2gwdOlKnk/ekqiT3jLwgbiNlB1AejxHb0mwqG9CLG62QZ6/HLQcvOX1GQ49SLEwAawAWwAG8AGyjbQ8g2dAiAAAQhAAAIQgAAEOkpgUHVHeBDrqJlRGQQgAAEIQKCSwCCLg+g74rjKs6Hxbwhp4kIauMClH22g8StEd+foZrENbUMM1ms20N1ne/tbx+R8eXIeFrDABrABbAAbWFI20P47PjVAAAIQgAAEIAABCBRJAIFYkTTbWNagDlQbkVI0BCAAAQgsQQKIpBBJDbINtHrq9aMIhj4h7sIG4jbQ6vWi2/L3mgCH9iIa62Yb6Lbzu9PtWVIT4dSLCAMbwAawAWwAGyjbQKfv/9QHAQhAAAIQgAAEINAagUHVHeFBrDW7ITcEIAABCECgJQKDLA6i74jjWjp5kiRBSBMX0sAFLv1oA61eL7otfzeLbWgbYrBes4FuO7873R4m58uT87CABTaADWAD2MCSsoFO3/+pDwIQgAAEIAABCECgNQIIxFrj17HcgzpQHQNMRRCAAAQg0FECiKQQSQ2yDbR6svWjCIY+Ie7CBuI20Or1otvy95oAh/YiGutmG+i287vT7VlSE+HUiwgDG8AGsAFsABso20Cn7//UBwEIQAACEIAABCDQGoFB1R3hQaw1uyE3BCAAAQhAoCUCgywOou+I41o6efAghge1b8eFRAis+pNLq9eLbsvfzWIb2oYYrNdsoNvO7063h8n58uQ8LGCBDWAD2AA2sKRsoNP3f+qDAAQgAAEIQAACEGiNAAKx1vh1LPegDlTHAFMRBCAAAQh0lAAiKURSg2wDrZ5sCIH6UwjEuDKuMRto9XrRbfl7TYBDexGNdbMNdNv53en2LKmJcOpFhIENYAPYADaADZRtoNP3f+qDAAQgAAEIQAACEGiNwKDqjvAg1prdkBsCEIAABCDQEoFBFgfRd8RxLZ08eBDDgxgexAbKBlq9XnRb/m4W29A2xGC9ZgPddn53uj1Mzpcn52EBC2wAG8AGsIElZQOdvv9THwQgAAEIQAACEIBAawQQiLXGr2O5B3WgOgaYiiAAAQhAoKMEEEkhkhpkG2j1ZIt5GWIf3qewgf60gVavF92Wv9cEOLQX0Vg320C3nd+dbs+SmginXkQY2AA2gA1gA9hA2QY6ff+nPghAAAIQgAAEIACB1ggMqu4ID2Kt2Q25IQABCEAAAi0RGGRxEH1HHNfSyYMHsYHyHoXoqz9FX42Ma6vXi27L381iG9qGGKzXbKDbzu9Ot4fJ+fLkPCxggQ1gA9gANrCkbKDT93/qgwAEIAABCEAAAhBojQACsdb4dSx3vw7UP/7xj+Tdd98tff785z93jOegVgTjQR15+t1JAh988EGia1ss6By0a15Wmli+Jb3PX6vff//9QpqDSAqR1CDbQKsnUSPiEtIuWYHR7x+Ynrz6ramlj7YZjyU7Hr3Iv9XrRav5Fy9enD67/PWvf221uKTXBDh57b130jnJnePOLH2+Mf6stvTvW5POTu6ZeHa07G9OXJTWr+289nK8v0RwzZ6QRZ/Xzbaj1XxLaiK80/WeNO/O5IRjbyl9Tpx3R9Lp+vuxvpPn31VmOhem/TDGC+fclo7pycfdxXkyH7FUP9h1r/Sh1fs5+SEAgWoC/l18P83pvffee6X3C4oJ7SHwt7/9LX2Ho3mqfgp///vfE/WvF4LY2zxgv41DL/CnjfkE+lV3lNdzPIjlEerQ8R/84AfJv/zLv5Q+e+65Z4dqHbxqdNPcbrvtSpw333zznrmJDt5I0eNeJzB37tzSebbssssmP/vZz6q6o+ucXfN0/euV8POf/zxt9zbbbFNIswdZHETfEce1ehL1oshlUNt8xtR/Pn/p2q/tQeVAv5sXxrV6vWg2/wsvvJAMGzYsvf/LhldZZZVmi0vz9ZtA6coDj0sZrbvMyoULtBbsfFjyb//nX0t1nLDToVXlT9ly77R+bfcbX/pTW9CWnlh1brTrvK6z+sKT9crEeavt3GfPmel5vsM2ByF8aUH4Mv2IS5NVVt4w5al7239/bBmYtsC0VfsuKv/qq26ajusR485nTPtgTIuyDcppv1iw8Bs8BUIAAkm/zpvavIhiQnsIXHHFFekz0YknntieSpZAqTfffHPy4Q9/uNS3G2+8cQm0oLEqv/jFL6bjoG0CBLqNAAKxbhuRjPZ0y0DdeuutyV577dXSRwIKC/36oGP965b4iSeeSG9GevjSdwIEIFA8Af8j5+yzz66qAIFYGUmnRFLPLXw82X/jfZKd1xqafvbdcK+kU/VTD2KwmA2Uz4TmthDbNC+26TQ7BGK9M1adto1662vuKtFaLv2b9+Mf/3jF7wc942hfq6GTgp/5Ox2SbLHSOunnuB3HFC6gardAbNMV10rHQdshPwRitQVUIa9++97I+djO87qRdhSZtl2T/geOnJ+ssdpmdX+2GDKirWIUBGLFiBsWHHtr8u///pH0mmq/3bWvXbZEucWMXT0cEYh1jnU940GawRqPIu/ttcq688470zmpSy65pFbSimO33XZbmu/yyy+vOMYXCHQrgX6dN7XnL8WE9hDoV4HY7rvvnj7Ha7vbAwKxbh8h2tctuqNOj0TP3X26ZaAWLVqUXoT9zbyRbXmwstCvDzrWv07EV155ZXL++ecn9957b2Z1L730UsW46XsvhHr61gv9oI2DQ2CllVZKz7VrrrmmquMIxMpIYqKZovf96PhHk7WXWSMdE7tXfehf/x2B2JkIt4q2t0bKK58JzW3VKywh3ZIXJyEQW/Jj0OvnQXNXidZyXXfddem9U7/d5syZU/qccsoprRWcJFUCp3YKdlb9+PJpP/QM8Nmlli28/nYLxHZdY7O0D9oOeSEQQyBW70nZzvO63jYUna5dAoRttzwgPe/s90Ot+L8++sm2CowQiBUjtBi195x0XFdYbo1k6833K32GbjumavxG7jkz2X3Y5OSw0adWHWuX3VFua+OMQKw1ftgf/FqxgaLv71nlaf7D7sfTpk3LSla1/5xzzknzzZgxo+o4OyDQjQR6bd603nk8O4cVE9pDoF8FYuPHj0+v5dru9oBArNtHiPZ1i+6o0yPRc3efbhmoIgRiQ4cOTce71x500oZ3ycZf/vKX9KY4duzYmq2S201N7txxxx0103XLwUb61i1tph0QkHe+4447LvnKV76SvP/++1VAEIiVkTQipmkm7eNzH0xWWmrF9Brpf4AiEEMc1oxNFZmnfCY0t9XrgpdBaj8CMQRirdp7c1eJ1nJpGQK7b95www2tFRbkDgVO7fp+xYHz0j5YXxRfvv+cKpFVK21ot0DsujELk0M33iUZv9meyfVjFla1HYEYArHgFMv82s7zOrPSNh9oZTK7VmUF4BgAACAASURBVN4hG+0RvX74a4nf/vhSy7dVRIRArBjhhpbntHHbf595mWO2cO7taboN19spM10tG+JYMWPWCEcEYp1n3sj4kLa/x6fNt/u0eARiKQo2BoBAL82bNjKPZ89iigntIdCvArFXXnklOemkk5Kzzjor+c1vftMeeAWWikCsQJgU1RYC3aI7akvnahTac3efbhmov//974lu+LHPVVddlb5EGTlyZDSN8v3tb39Lh6aXHnTSRnfRRiMPX13U7Lqa0s99qwsAifqSAAKx8rAWKbYJy/rOrHuSpf/zk+k96b8/9LHkqrEXp98RiCEQC22m09/LZ0JzW60KTsjfOdESArHOse5Xu27uKtFartmzZ6f3zF4ViB22ya5pH/7t//xrun3IxsOqRFbdLBDLaxsCMQRi9Z7t7Tyv621D0enaJThYd61t02vG/GNuSCQYqvU5ad6dbRURIRArRlix1WYj03FFIFYM03adg82Ui0Cs/8a0GTsgz5Kxg6Lv71nlIRDLIsP+fiTQS/OmjczjIRBrv7X2q0Cs/eSKraEbBWJ//vOfEwnt9Hn33XeL7TCl9RyBbtEddRocArE2EL/22mvTly0HHHBAXTX00oNOXR3qcCJdxO2hKs+DWIeb1nJ1/dy3luFQQM8SQCBWHrp2CXK+dfStiQRgdm1c4b+WS/7n2HsTeRSzfd0gEHvxtKcTCdmyPj89+QdNL4P5kxO/n9w+5frkrH1OTs7b/6zk3qNvS35x6lMNlffD4x9Nbj3i2uSLo85MzhhxYnLTpKuTpxc8VncZL5/xk2jffnX6s3WXIRsRJ7X//AMWJaftvSD56qEXJg/O/EbNMvLYxpj/+oznapZZtL2Wz4TmtvpVCNOP/eoHgdjr9x+dPHnN2Lo/P7j28CRrLF+7/+jk0cvHJJccv1vyxVk7JfdccEDy0l1HZqa3cn547eE161edr35ras1ynr9lUkUZz944oWZ61f3018dX5PnprZNy81ibi4qbu0q0lqudQpI8wVNRx5f9yMfT+/5Ze0xOt5f+j48hEJtcnKhKHtTkrS32uenQk+ti/c0Ji6L5fZlXjZ6f3DPx7MzyvjH+zIoyYt7WZFv3Tj6nIt3XDjo+s0yzRbXv4v1mJXOHHpxM3XpkcvIu45LLCvZEZ3U1GjdyprfzvG6kHUWmbZcQYJWVN0yvGe2qo5FyEYgVI3ioVyB2wrG3pOOPB7Fi2Ddi782m7WWBmISo04+4pO7P7GlXp6LUevLOmnpVcvL8u9I8IeMT595Rd93WzpOPyy5P5R979NeSw0afluyxy5Rk9L7HJ9OPuDQ56bhvZLZBecK+HHfMDdH0C469taK9c2dcV5FOdVs764l9/hiL+bNurCjf+C2Yc1tFPcfN/Ho0naVXPG/G9cnhB5+R7LnLlERL2Y496PQklm/GlMsqytYY+nL8tsY27KeuYz5Nu7eLvLfXKguBWC06HOs3Ar00b9rIPJ69m1dMaA8BBGLt4dpoqd0mENOKRx/+8IfT3zn1ajga7Tfpe4cAArEeGateGKgiBWJ6qHj22WeT7373u8nvf//7pkdJriZVxhtvvNF0GfVklEpeS8u9+OKL9SSvSvP6668nP/rRj5LHHnssefXVV5PFixdXpYntuO2229ILejsEYkXxE3891D755JN1K5Pb3bcYzyL2NTuWvu4//elPyY9//OOSTb333nv+UKHbrdptM4354x//WLLzX/3qVw1n13nx2muvlbg8/fTTFd4IGylM9qjrwnPPPZe8/fbbjWRtOW2WQOwf//hH6ZrXSr/k4fH5559Pvv/97yfN2o3KEBfZn7Yt/PznP0+vNdtss43tbikuWnCj8u6Ycn2FOGyVT6ycPHnct0vCn24TiD00866Uqf9x7Lclbttl7R1L3s/q4XX/9DuSdZdbO7Pc3dbZOXnqhP+pKYSSeGr4ertlliFvbBKe5bXn7qk3R8u44tCLcvOq7B/OfyTZea2h0TLESP2UWCzWjnrYes7avmni1dGyYuUXsa+lkydJOipQeeaG8SURjwQ6v7tvWt11K+2PrhtXyvu9qw5Nfpsj3skT0/zhoRnJY1cemnz3ikOSNx6cXnc7VO4fH56ZvHDb5OTBi0c3lT+vbbWONysQk2jqvgsPLAmUapXfiWOPX31Y5rkYnkv2PWzXi3dOSUbusHpmOeuu8omScCzMZ98/9G//NzOv1al45eU+mpw5bftE9mJ5LY7V//zNE6vSWXqJznzZ2j5o17Uz01u+ouNWrhd6vnjhhRdKz076fVVvaKeQpFEBTDPpL9x3Zjp2m6ywRkkAtMJHy55FLxg5I1cUFNb7rUlnl0RBX9lvdqJtO97uJSatnqx4SXsQ897ZwvNF3z/y/z6UbLj8asmRW+2TKfDSsp+xvLF9q358+USCv5DHoj2nVJSx+idWrEqjPN8Yf1ZFOtWhfWF5+v71Q05Mtlhpnar01i61RWKxWN5O7av3nFa6Zs/rZq8jjbSt2bTtmvBe9lOrlMb9P//jvzs6wb5wzm3J5MO/mMw88qsV9TYiEJM3M4lHJo39QnLEuPOTLIFFu9ipXBNNTDzsnJIYosi6xGjGlMuTCYcuSqZNujiRUKTe8usViI3e74T0vG9GICb+pb7PvL7uttXbh2bTHT/75uTI8ReUPrVEOkp31IQvl+xHYp1m6lP5R0/+SsmWGxkfq6vZMW5UICbRj/qqc66Zdlp7i4j32m1qanN2j6kVq69Wb715//X//r9ktVU2SSQ8srwW61yqVV/s2LgxZ1WVo/IO3Pf45N///SOZ5W231YHJifPuiOb1y8Cqzm233D+aTsIz36YVllujIp33AunTZW1/eoV10vwxFp/9zAbpcWOmWOe5L3OtNbaMplPaQw48JdE9xaf327rWSDxm5a+5+hZVab0w0NIpPmi/BVVpxxxwUlqWT9uu7Wbv443m66RArIh3rI32r8j08hLzi1/8Inn00UdL73mbeU/8/vvvJz/72c9anp+L9UsrDL300kulspudT1O5RcxdiZXmrTQX6Vc+irW71j7NW8grj+b39G69lbJUTy2BmOZXOjHnWau//lgj83j+2mdlfPDBB4nmHmSvsot650Ytv8WtzDtZGXlxUXUU0WfZruaBwnOoGYGY5gk1P93K3JTY6VqjOWDZr+b1mx3LvHFo5Hgzc9Nh+c3waVYg9tZbb5WuI7/85S+b5vfOO++UxkBzfLoWaRw+/vHynyh1Ho4aNSrsJt8HjEAv6I7aMSQ9J0/uhYEqQiCmh2//4tIeGHTx+vrXv16XLegBbK+99qq64K200krJxIkTkzfffLOucmKJ1l9//WTZZZdNVlllldJh9XnYsGEVP8TUVqlvJfSqFXRR1rKc66wTf+kswZceKsOgfGpHeEEXK7XNPhKs+RC23R/z263wu/zyy9P6tf273/2uNBY2jhZvtNFGpQcOX6+2m+1bWI6+a5w15uKx7777xpKU9v36179O23zQQQdlppMwydiGYrxmx9JXphv1NddcU7It42SxbOSoo45qWugYjn2zdhuOr9r/wAMPlOxdYyo+t956q+9WafsPf/hDMnny5NJ4WJ8US7EuwZQePGsFCeZOO+20CoW7lSOx0hlnnJH7o0s/GDW+aqPltVhl3HvvvdEmNNrnadOmpXbyzDPPVJUZCsQef/zxEj+v3le7hg4dWnoQrCogsuP2229P1Afrj8Wym1NPPTWXjYp86qmnStcy3w5ta7ngb3/726UfaVZuNwvEbpxYXup4/eXXTZ5Z8L1U9NOLAjFjrnj/jfdJfnLiE2l/QpHSycPnV9mAz2/bEnhdO+6yaDnfOPKGuspQWRJv/fiE70bLUdum7VD21mJ1K953w70y81ifJPzyXuB8/nB7xo5HVpXXjEDshglXVpVj7WlHHDmVG9pVtAAlLO/eLx+YDB3y6SQmytl/5zWTJ64+LFMk8+Ovj0sO23PdqC1JvHPZgt2i4h1rw6SRGySfWurDpc9jVxySPHDx6JKwKGzLthutUBJQWb5Y/Ou7j0xOmLBltB9brLdcsnDiVplisz22XiVtRy1x2wVzdk7Tfe2U4VVcGhGI/eobU5LD9/pcsuKnKidV1Pddtli5JG6L9bPd+1oViN157n7JUh/9t6hNhOf0KUdsUxL0hX0Kxz/MF36X/b4ZiMRiArHxe69XNWZWt2w9LLdXBGL33HNPst1221U9O62xxhrJcccdl+hFYhj08t+enX2/9Txgz8B63ms1dEI4M2r9HdKxm7PDQSUBz+FDyuLn/dbbvm5RjzxHbbz86okXQml76898Ljlnr6OSLIGY8i31oY+UPsNWH5Jb38JhY9P0EzbbM00/b+jB6f5jtjsg3W8cu10g5m1praU/XfLeZW23uBGBmJU3dshuFSxCgZjEW1a+j+MCsTOr0kr45cfc6o3FYwpettS3N28773xs5bxu5jpi7dHvILtu6B2MgtoyZcqUZMsttyxda+bMmWPJm47bNdH9X/8rKP3U0it3ZIJ9/xFzk+WWWS29bsnOJCTYaP1hyTFHXZHUIxCTt5ih246JCjMkDNlxu0OiIpj11tm+VJfqk6gnj+mQjfZI04cCkfGHLEokpAjPE/H83NrbJVPGfym3/Kz6JZrbeIPy0sG+jv/+2DLJqL3nJDGPRvKqo/pDYYaYaJ8+EgTKA4/GOyZssXSKJSaKtVGikjVW26wqv+pWu2MegqycEXtMT9uibe2XVyGJXNQ21SsPTJa+Vjx14oVpWar3hNk3J5tsWMlNfV97ja1K3p2sLAlPZAueq7bFNhxnyxPGEqlIaBOW8clPfLpkf3lLsTY7xtaOegRiasN+e80u9SvWzk033jOZtwSEffWKvKzNzQjELK9iCayMm+KYKMqnj23LC5YvQyI7XbNiacN9smt5FPP5tb391gdV5N9mi1FVaZSuaIHYisuvldaTxUL2HbY3FIjpGhCmkUcyL04NWfjvOt90zVcZunb5Y9rWOR2WL0Hmx5daviLtyiutX5UuzFf096Zv5A1m7IRArIh3rGG39G7Wnosk6skKmhOzdOG8js9zwgknpOn0PtcHCUX07BXaj75rPuu6665LJP6vFR555JFkp512qipDvxVHjx4dndOpVZ4/JtFarH36zbn77rsnN954o08e3W5l7soK1BzkmWeeWZpjC1npWfXmm2+2pNFYfbCx0nOv3u9r/iUsS3NScibQTAgFYhIUnXzyyYl+k/t6NC7HHnts8te//rWqGpsLUVv1p/K8oGd165fmA2qFZufxfNtVvuZHw3lO2cPxxx+fqM95odV5p7zydbzVOnTuiavNKbfaZ82TDxkypMIOVP748eNLArt6BWK6FkjEFNqUxmjzzTdPNC9WT9D7Jb1n0vsmP77aln3Kc1VMMNnob0bNaZp9xtoWzuM1Ojcd9rVVPo0IxOTEQvOKshHPUOeC9Ae17h3WbrVXYy/mvgxt2/VJ83qf//znSx/d7xTaeZ2wthF3J4Fe0B21gxwCsTZQLUIgtnDhwqqLl7+Y6UG5Vrjyyitr5ldZuolIyd9M8G35whe+ULMuPdhkPczrhqgLry8va1sP5T7o4Ssrrd8f5vPHfHl+u1V+/qa3aNGi0sSUrzfc1r8LfGi2b74M21ZZ/uEyNhGmtJdeemkFzyyPUvphYO0//fTTrZrSw02zY5kWkiTRH0dWn8W6ucdER76c2LblV9yK3frx1fZZZ1X/A18iNx/0A0nnnG9DbPuyyy7z2dJt/esgS0Tpy9GDkh7WY0GTG3qY8ulj23fffXdV9kb7HArAwgL9cV92rD3aF3vYtTL1w2/69Om5/dKDnwRyWeGGG/JFQf4lTDcLxCTkufigLyY7rbl9Ei7R2OsCMdnDRiuun2jpxlCwdNXYxv/x+/15D1eU89zCx5Ol/7PsXSXLJv3+S8acX1GGb5e8n/m0ti3hl5aA9Gn9tpaTtLT1xlpG05eBQGxmpuDFhC9ZsbwunXxEteA0HAuJdZ67qXp5vm9+af+oGCvML7FTzMOT2qVjlt6Lq2xfGEugFeuPRF1rfmaptKwwn32XkEjCrLAML9L6zT3ZSxcee+hmaR0XHbdLVTm+D9oO67HvEsJJGGftyoq/dGy8v1ZOO+JWBGI/uy0uFs3qn/Zfc2q10K5RgZjKOfeYHSt4xwRiSidPdyE3eauLtbHbBWJ6gSrRRaztfp9eDsmzmA/6t65PE9vWs3WrIU/w0urxeyedU/JaZe2//fDTS+KfKw48Lu2fvFp5L2BZdR6/U9wOrGzF8oxl39ddZuVUaKQlD22/4lvGnpoei9W36YprpenPGzEtTZsnAMs7HquryH31iqiMhdLfGCw92YxATOVdMmp2yqlIgZjEfdbeemMTIhbJtp6y8s7HZs7rVq4j1p5wQivWDk1gtBqKnuC28iSg0dhrqUnb145YE/tbb75vTXuTYMl71dF22BaJeyTCybNXCY28hxqV48uWOCMs238/ftZNaR1iJE9hdny/vY9Nj9VqxwH7zEvzWN68WMIzG5NaZUs0E4rE5GmsVh4dE2MJxPLS6bjaErZXy8Tl5RX7iYd9oSqvytpt50lpfm3vvEO1B1OJmsJ6Y9/lNc7aIm9RfrlU2+9jlSvRVChQ9Gm0PXL4MZn1SwCz+ZC903rDvPZd4rEsD0itjLFxqEcgliUytDYqlqhPQjsrtxNxpwViskfvNS1LFOW5hNuhQCzvWhbm1zUr9GbXzQIx2cXCubdX2EU9AjEJd8O+1/ousZotB7rFkBFVeTVW3iYlMA7Lk7dAn6YT263ez+vN799NaiK93nDOOWVvbzNmzIhmK+oda6zwSy4pC/5OOeWUWJKSaMvPY0gElhW8CENebSxoLqie9996N50lEvPze6Ft+e/1CLmsXRb/5Cc/qat9+j3rV7Ww/IpbnbtSGb/97W9Lf8z2/Ylt68/6nq9vh3+/f+edd1bMQYVlaVwljGs0hM/Tvs6wDn2XsE2CGB9OPPHE9BqheddaQV6LrFzZkTzI1QrNzuNZHYrvv//+tE6/37YlUooJi6xdrc47WTm14iLqsP602medFxID+vLCbdmbH3dtx4KEi7vuWvkngrAsfde8Z9Z8qcrVeyUTH8Xy2z4JyMIQ2njeb0Y/l6btMPjjzcxN+/KK4OPbE2uv1SfPbTFRl7GzWMKurGu3zhM5nLC0WXHsnPL2UvR1wvpI3J0EEIh157hUtaoXBso/QNa7fq2/CdhFSzexY445Jjn77LNLqtnwwVZuEWPB16+y9K/58847r/TPCN0QQvXtyy+/HCum5j5ro4/lrUwP97qQatsf03ZsectQCKcHOJUhhW94k5e4Rq5LLejhS/+o0CdUd9t+PTCG/fPtsrJ8XAQ/f9OzcdMDwoIFC0piokMOOaSCj/rmXRw32zffD7/t6wsFc5YuHLOYByyl1Q9PY/i9733PsietjKUVctNN5RetqkO2qxv+l7/85dJDmP+BqONZQigrL4yt3T5uxm79+MrWfHm27QVicoNq+xXrQUf/mpKtXXTRRVX/Ror9O0c/xnwZ+ufNxRdfXPqXT9gGnUdhkJtdn182p3/D6PqiB1yzU6XRttwZ+9Bon/2PNV3fwuCPW7t0Hs+fP7/UJ9msb5PSZHk3C/9xpbwS2l199dWJXiT4ciSyi/24lljW2mHxmDFjEokgVYaY2n6Lu10g5oVCfrsXBGLjtjwkGb/VoclhWxyUbL96XKRzwYFnV4ihfnX6s4mW0rTxsfjgTfdPztrnpOTzI09Jhq6xbdVxeSTzfC4/5MtVaUasv2dy9r6nJV8cdWZy+JZjEnkfs/K13+f32986+tY0naX38dcOvzQz7+YrV/4DSvnkdUz1Hb/b7GTb1baqKluiM+9dLSYQM7biG/toaU3fh3Zvh9eGRr+HYpaivp9+1HYVfNdf7ZPJtAM3LnnakpDKj6OO+SUnJQTyIh55jJKYRgIuLfknj10+v/bF2u0FYpZedc0as2ly4qStkwOGrVVRj9LcevbIqrIm7lP57829tl21JBhSGcM2/0xFWzZdZ9mq/J0UiD11/biK9qju48dvmVx6wm7JF2bumGy/8YoVx68+ec+q9sZYFrUvJhCbvO8GyRH7bRj9yGasbnnosnG0WLb0xVk7JefN3imZMKJynJRGnuZ+/0DlMqLetpRmzO7rlBiJkz4xu5DgztqhOEsgprw+nbZlL9ZeH3e7QOzoo4+uaLdeEOlZVX8Q0HODfzbQtv+NoT8h2G8JL+7Xtu3Xs1OroR7RSytpzt2rvEzT1iuvlwqIVKa8Stl4nj38yIpjYZ3njahkqXw7rrpxcvimuycHb7RzsvbS1f/K9AIxlbfTahun9cW8f1mdEkxZu+R17N7J56RtyxOA5R23OtoVhwIxMd9n3W2SEetuU/KyJjGe9c3i3dfaPO2f2hUTiB26ya6JvITpo20tFWr5LR7mPLMVKRBbb5nPVtWlsdQYTtx8eMmjnLXBYnG47X/FiO1iHSs373xs5rxu5Tpi7fHvefRbJ/w9K27dKhCTwMjGVR6VbGJdQgZNukvkI6GU7W8lDoVAEm1ssuFuybChh5c8zkiQYG2xOBSIqV0rrVjpuVVebHYfNjkZvtvUZP11KycKQg838hpmZas+EybE+rXv8LJ40nuykccbK0OxhB9aGk7esORxTF5x/HF5x4qVH9s3Z/o1FeIwibm0FJvK3n3nyVUeq7TPlyOhj4RS+oivtUPbtl/jrH7bd1ti1NLafgmQZk29qqL8UBinsVAb5NFsl6Hjqvoe5ldbvUBMdVm9Pm5GIGb51VeJd9SeUCAl4Z3GSGl9upjXMS0/6dnadlimbG7v3Y9OZC9aTtCL+2KioFbH2NqRJxA7YGRZKK7+aqx0ru25y5SS9zTZljFT3MnlWUOBmNoi0V3WZ6/dpqVjEebVOMpjoH00BvKO5/umbS/6iwnENt9kr8z61S55uDL24TVA5WvcJfiSB0SdE6GXq7ANKqtdAjEJILNYar+ul9aXGAtjp2u2pVOcJxCbO/3aKu4qa7utDkh07ZBnsdh1fv//FdLK86A/f5TXX8Ml7gyvr/Li5tvYqW27/7c7bqdArIh3rFn917tmsyP9PosF/+xUGus11oglKwmArCyJOyxIGOR/6+nZSyug6I/Hmh/Tu1zLp1j7wqCl/XwavUuWqENl6F16OLcmcU8jwedX+yZNmlSaC1MdEi34umMihSLmriSi8O1QnXJIIeGZvDqFdpAlRPTv9427fjNrBRR5+Qo9sNVa3SaLYWgTxmfcuHGleTbNIYbc5FXKB3kNs3yal9HcW1bQfIKlFYe80Ow8ntWh2NjJVjV/O3fu3CovVJofi4Ui5p1i5fp9RdVRVJ9DZw16V6NVezSPOGvWrKjIKCYQ0xxR6JBB73pUvuaEtKKMb7PsORbefffdqt95mp9SOZrTC0VP4dyft/F6fjP6eTpth8EfN9tqZG7ayiuKj29PrL2qT3P4nrXareutrtGamwvPce+4xNqr2M9RqwyNpzzNyTFEON8YivXaeZ3wbWS7+wj0gu6oHdTwINYGqv4hrVmBmC5WoTtUqfr9PyNiExPyDuUnMjQJEj7w6Iblb26qq9HgL9Z6kNXa5GGQu0ffFrlDDYNu3FbWQw89FB4uefuxm5jSedGNT+xV9uGyhz6dtq0+xWEoip+/6akeCXnCIK9qvi3y4BULjfQtll/7/IOthElhUL99W7SdxdF+PGhc/D8XihhL/+NDIsEwaIlFU4Drpt5o8H1sxW7D8ZWda5+WiJQQUmI/z0bXAatbLqh1Dvqgc1TLQ1oaPTSG/8zxD5L6p1EYdA6qHVn98j/I1B79G8YHPfD564Iejn1otM/+B6IecsPgj6vfEgeGQd6+JBI0LnoQDIP6bcdlkw8++GCYpLT+vNmt0sa8kfl/iuhHpH74hEEe2KwuxQjEni9ESBQTMf36jOcqyn7yuG+XvIZ5/vLy9fNTfpSmO3dU+RyydFqiMRQ4Hb3DERXjqLQPzLgzTRceX3e5tdNjVtYP5z+SSMAl0Znti8XTh06pqGv4euVlvVTvQUNGRfNfcehFFfmUNtaXW48ov2iVp7LQk1k9bGPt7uS+8Dxr9HsoZiniu5Zj9CIcLfUXevmSpy0vnDpq/41SYY1ERJZfAqxQ4KM2SuRldhqKd6wPoUDsqogY6vmbJyZbrV8WegxZe5m0HVaOb6faZvstlocotUFCNm3bfot9/nZ7EPPCpf12XCN59VuVHsv++PDMkkjP2Kltr91/dFWbre1FxzGBWGgbsTp/cG21BwyJx9Qfn/7mRWUPTNZHCch8GrMtOy5vdf64tr+6sFq8/tJdR6bpPGcrx2JvA9++9ODUTu24xd0sEPMvddTe0FOvrjPhM4ZeKseCXpJbn5t59oyVaftiIpci9w1fuyxu17KNvuwpW5Y9MYQiJZ9O216QtPonVkyuHj2/oiylOX33yuVbQoGYP77BcqtW5bc6p25VfgEr8ZntV5wnAMs77stqx3YoEJNAz9ejJR39mJhdee9fMYGYPMH5crQdlvPZpZZN0xQlEDtl1/Gp7Vtbtdxk2JZz9y4LEZf+j48loa2F6dv13c6reuJ6zuuiriP+Zb9xVP36B76uQ/rdGL73qacPYZp2THzPn3VjagMSSEj4oAn5cJJek/oSaYQeq+ptk5b+82VK9KR9Pr8m/yXyMIaKQ4GYvHiZ9zC1Keah6ZADT6kow5Yws7q8IGrS2LiXK6X13qjGH/L5tK1eJCVxkJVrsRiZd6EtN92nIWYSaxgniadOnHdHVfnbbll+7yBxjNUbxn6ZNxNghGn0XQI2Y65xiaXRvoVzbqsQne2604QqgZ2W/lxrjfJ9KcbHC8RUr/qgfUdN+HJpuUN5epItZLXD7/cexFSWxCJhXgkdrX8Wq10hW89e6fbYZUpVG6ZOLP9+qhwTRgAAIABJREFU0ziFXqXUNi0d6UUstoymtdvX08oY5wnEvJBNoiWr32Kd+1qaT32tZR+Wvsg4FHk1skRgPXklgPRjoD7qfLA+xERRjVzbNvjcjhU2JVvQuFv5imXHxtfsTrYuD3SWrl0CMV1HrY68OMbC2qv42KO/lpaVJxDTPcTnFZcZUy5L86stuo54kZjEtX5JWonrfBnaVr3K65cftjS+fXl9LfJ4eH9u1/d2CcSKesdaq99+rih89618EhbZOFqs5SLD4P9krvkvC947l4RKsaX59OdkK1vtCYOf24vNm8lzjTk2kHOHLE82Ybn6/utf/zqtW++qvcMAS29903tnzYX4UNTclZa6MwaaA4i9B9c7dkujWM/HYfDv9/VeXs+4Ybjggsr7baycMI//Hj5Pa27ozTff9ElK23rf79sb/tHcO5jwTg/CgrQ6i5Xzne98Jzxc83sj83hWh2KNQbgEp34jaP7X0mnOJxaKmHeKlev3FVWH9aWVPr/zzjupoE7laA5T+3zQvJzmQH19MYGYX4JS56Pm9sIgW/HXrbvuuitMUhKTWV0ay9BLvTL467bS+lVuQhvX8Vq/Gf08nbbD4I+rrGbnpovi49sTa6/ar2utMdR15fe//31FtzR/KvGqpVEsvYQPup7647E5STnd8WnCa3AnrhO+zWx3BwEEYt0xDrmt6IWB8g+RunnWE/xNQA9TsYdXlSNXrXYBCwUcOu6XzRs1alRm1brAqh4rS2uWNxIsn+IHHnggM+t9992X1qG0occnPUDLXa76lRXk4cjqy5q8afbhK6yzKH7+pqcfI1nBv5zWEnmx0EjfYvm175VXXkkZxv6howdmY2yx7CP0tKR/4djxESNGVFRXxFh6N6yhgMkq08Nxo/Zqea3tiluxWz++ekB89dVXrYqq2HvuUtrwocMy6CHHe6nSDzULOm+s7WKUFV577bVoWyS+tPxqQ5ZrZHnP0HHZ7JNPPllRTSN9Vkb/AzH2MOaPx/4NZZXrx5G/VoUCMF+OvLFlBX8e6QeVF/Cpr8ZHsX6sZwXvjh2BWOcEYhIsPXzM3RXjpLG6Y8r1qcBK3rX8OMpbWEzoJFGZ9wCmPKfvvTBNKw9bvhx5JYuVU8++lZaq9Hb02JwHKsqWxy95PgvLknDMt2G3dXauSmN5Fuw+Jzlu11nJL059qioNArFK8U0oosn6Pnds+R+b8p6Ule6hr/zzRc2kkRskEmr5dP/z1UNKnpx+d++0iv2WRqImL/R5+e6jqtJ5gdicwzavOm5l/fz2So9ld567X5pWQjazpXVX+US63/Ja/MJtk5Pnb5kUPd4pgZjxVHslWNPSmNY+H0tUJU9n1q9QQOXTFr3drEBM3uOsvYo19qH4zdo6PPDYFdqgtxuVFROI/fLOaiHsw5cclPKsJRDbY+tV0nShhznfh24WiOkZ1dqqf2xmBb2Qs3SKYxMP/lm9lwRi35y4KPGCJS3z6IU5141ZmPZd6b45YVHFcUv75ZGVy4Vde/CCaDqln7R5+T4cCsTC9lw/ZmG0HO/Z7JJRx1akyROA5R23PrUr9rxlT6FATPXePeHziURU3u7Gb7Zn2s96BWIn7VItOrV+FSUQ233N8r1Q7d36M59L22l1WayxVz/umnBWZhpL26446zyP7a/nvC7qOuLf84hjljfvWDsb2Vfk5LaVNWvqlamtSjQjAYO33XBby+ZJWGL5640lJrKySl6VagiAvFepUCCm+uTpSF6wZky5PLMdvowx+59UkU7CH2uLvOnE+iDRgaUREy8e8cKrsGxf1pTxX4qW7dPEtiWU0lj4JS19Oi37ZiIytTHLw5tvZy0BUL0CMT+G66y5dWbftKynb58EKL79XiAmtq0IPLxATHWGoi+rV0I9G0/FEqnYMR97wc6mG+1RlcaLsobvelTVcSvLM5V3rFC0VsQY+7aIg9VtsfeilWUjEiuF42P52xnXI/LKqr/evDq3/ZiLl5UZE0X5c9zSZcWh97Vddhyflu3zxMSJfjlPb29q6zZbjIqWc9joSiHNCsutUZFu3bUqPagXKRDzotE8gVh4/9A1w/OwbQkrtZzksUdfU3VcNukFZOKiZShDgar277jdoVX5rY52x43cu1tJ64UGemcqhwL1fLztx5aYLOIda16//B/MtYxaGEIvMWpzzHOSX2njqaeeqihGAgCJDbLef0uY5t81h3MQ8kBkrGJiEKtMy6E1Gvzcnp5Js4JEVBKDhaGIuavQ21HWKkWqW6vhGIvYPKe3Gb0zjwXNefg5n9gfuGL5bF/4PB2Ol6VTLE9D1t5whRUvVMuah9Mcj+XXHEkj4j/V7+cfspwvWHutHsWaP4oFPxendOEKTUXMO8Xq9fuKrKOIPvtzQPPjfo7Ht1vbmuOyOkOBmOboNEdkx+XsJCvoOmDpJCTzdWrezl9Pss4nnQf6jalr9S233FJhW6GN5/1m9PN02g6DP97s3HRRfNQ2355Ye3UtNb4aE+/hP+yb/y2v+4kPEqhaOTFHE5bWO6QIx70T1wlrB3H3EOgF3VE7aFW7UGpHLQWW2QsD1apALMtVpTDqwmwXOcW6sfhg3pV0LOtmZOn9A7nUt40E34YsMZuV5x/sY17CLF1W7EVm8nAUC80+fIVlFcXP3/Sy3F2qbt+3rJt1I30L++O/ew9K4T909FBsY6olPm07vEHaP1h0/MILL/TF17Xt+xsbS88/9iOxrkpqJLJ+KW7Fbv34hq5Iw+r9P5/0gFEryN2ptdH/iJAozvbrgTP891CtMnXMu1aV4LJWyPoHeyN9Vvn+B2KeQCzvodf/uPMP83oY91xCQWPYT++Fzf8zSq5qrZwsl9lWll46WFoEYp0ViEkQFQquzj9gUSqKWn/5yiVlTh4+Pz1mYiqLQ09ek7Yem6Y9Y8SJ6RjbWMuLmMqTx66nFzyWprXyYvF902+vKMdEXirLylV8w4Qrq8rb9DPlpbiUplZfYnXbvphA7PmTnkxeOOVH0c/LZ/ykqi1WVrtiO7eajU1UU2TsxUcPXjw6FcvE6ni9Be9V8vZltvDo5WOq6vECsZgIyLfn2EM3S8uSwM2OqX1Wh4RF8o5mx+qNOyUQO2FC2avEouk71Gyn95DVSaFSTCD2yjePKonZJGjzHy8O9B7jNB67bfXZzP6de0yl54E1P7NURdp6BGJebGfj/+Q1Y9NyagnElF52f++XD0xtx8rwcSe5m63Wc53Qs4BvZ9ZzjZWliRFLH/Mw6l8+9ZJA7LTdyoILLQkYE+VIxGV9l7eoWBrvaWzEultH01i+i/crT6SEAjGlUX6rT+VaPouvOHBeenylj32q6nieACzvuNXTrrgegZjqDr1/7brGZmlf6xWIeTGemGr5SutXUQIxbx+q48it9knrsLq6KbZzup4477wu8jriX/aHS93U09Z607RjwltCFTtnLZawROKKXXeckEgkE4ohtCxko22RVzIr/8CR82vm32NYWQAdE4jVU7eWmbP6VJ7P45dBi4l3lFZLsFn+7bceXZFfogQ7ttP2h1Uc8/W0c1sCEWuDRCixuooWiHlvSLKbWJ22TzZi7fNL++m4F4jJe5DlaSb2ArHPfmaDzLIk5LP2aPm9rLrGjTkrTScPcj6dRF5WhsRoWu7UHw+3vchl5pHZYsYwn33PG+M8gZgfrwmHLqrZVquzU3Eo8pLwVB63Yp9Q9BfmzfI+5kWiGje/hG5MIKYlRWP1a59filZe8swOLK4lBvViSaU/aNSCdCzaJRDTNSurL96DmcY7xsL6ZfHkw79YanMtgZgEXJbe4qxrU56djd6vLPywsrw9a5/EaOpjXlntOl7vfbvVdF4gZiwajUOBWFHvWPP65ucWwjkTOTSwfuj9r4ku5NEpDDbPoTSNinhUlp+vCgVm/l1+2MawHY1+13yH9VFzgOHcXl55fu6k2bk/34bY/Ixvg/9TlQRTYfDv/2vN5fh3+1lCsrBs++6fp9X/WkHiN+Or2L8P0B/r7Vj453Er059bEsc1GhqZx7O2KPaCo7BOb6uhkMzbarPzTmF94fci6yiiz3vtVf5jWrhUY9j2L33pS+mY+zklpXvsscfSY3l2pfQSo1n7vYcwOaGw/Vnzu9YujXPseuVtvJ7fjH6eTtth8MdrXcP8XG3Y9qL4qG2+PbH2+iVDZW+1grwHGm+dxz54D2Mx74+Wdvz4srf0yy67zHaX4k5cJyoq5EtXEOgF3VE7QCEQawPVVgVierCqFezhWBfCcKk6r3rOE8D4C7Nc6zYS7CKsOC8ceeSR6UU7tmxgXn6vUtcDQCw0+/AVllUUP882dtOzev3SFVk3/0b6ZuXGYj8BFgq/TDgj25MrVRvfcFlQ/++cRt0Bq015YymxldUtO5ew6Zlnnol1p6l9Vnardlvv+KqR3j1qnhCq1sOg7MParwdS/XuqlucyD0jLWlreu+++2x+qe7uRPqtQ/wNR/QpD3nGf/sYby8ub+Ie7n//852m/6nmQ93V6N9NHH10WUGQt9Wrt8XUiEOu8QGzb1bZKx1w2PWPHI1NBk7xxmZ0rvvyQL6fHQnHTkduVJ86Vdqc1t0/TxjyV+XK1La9iWj7yiXkPpfnCOmbueFRFe87e97RS2tk7l+1NZR22xUFVZYQezrTkpC//m9NuKYnVJFgLP9+f93CaNiYQC/viv//w+EfTvL6+dm7budVsbMKRImMvwJH4p8iyfVneO9Mjl9UWiGmpP5833L7ypD1Seztg2FoVaTdac+n0mMRGZ88YmuktLCxX3zslEFO7zR7zBHF+6UP1L9buduyLCcSszWHsl/uUFzB/fMqoDTPbHFtm0i9F6e1TZUos99xNE9LPXeeNSrbfuNJ7odJ5j2yhQGz2IeUlT5VW+bfdaIWKNk8Y8c+lhqwf3SoQkwDc2qh/ZuaFSy65JE0f81ScJyTJK7/W8XaKayQKMw5a3jFW14xty94qh666UTTNiHW3ScuZue3+0TRW9pUHlp/jYwIxvxShPIVZPosP2bi8lMfEzYdXHc8TgOUdt3raFdcrEJOnLRsbxWsvvVLa15hA7GsHHZ/Ic5s+1xx8QrJg58OSpT70kYoy1lvms2kZRQnEJDrz7QxFhBfuOzPRmMY+8lDXLs5Z5dY618Jjeed1kdcR//tOv0XaFdox0R1O+B+0X1m8YPXJY1joocaW/LI0efHHlyovlX305K/UnNT3y4g1KxCTuM1sW2KvsH1ePHLY6FOrjvtlKMP2hktYDtloj+Twg8+s8hIV1lnkd9/+LHFK0QIxLxQMRTth3ypFYAdU8PXHtB3mbeS7F4h5D1FhGWJk9rDSiutm1jn9iEvTdLIBX46WyrMyskRJPr0XcMVszKeNbeeNsS8/5kFM4jtrr0RKEiN571WxOju1LxR5WTtj8XZbVdpPmFfjNGvqVelHY7jnruX301bm0G3HpONZjyjK8imeM73s6UoM/TFt+yUSQ4b+WqK03ubbJRAL2+e/b7rxnikHtTVkIW9da66+RUUfJaqUSC68X0j4a/3VddLXo215e7TjjcYSDYbl+e9a6rfRMotM3677fFiuF7Go/xLu1PPxc0qhQMy/72zlHWvY1vC7F4GFThL8nJpWe9h3333T8X777bfTorSsmI273nk3EySGsDJCT2D33HNPekxppkyZksjpQS0RT71tUD+sXsVqh/6IFM7xZZVXxNyVXzZOy/DVChKw+faG7fTv2mPv/61s/7s778/2lsfiRp+nTTyodsuuffDj7ucGLI1fXq6Zua9G5vE8V6s/Fvt5HdmmD0XNO/kyw+0i6yiiz3rPY+XkjZG39VAg5sVEmhvKC34cvGdBb9taKauZ0KiN583T5R23Ntaamy6Kj+rKa48cZdiY3nrrrda8zNjfy7xHQe+hMby/+ML8dSA8p5TOH2/HdcK3he3uIIBArDvGIbcVvTBQ/mE25no11slGbgIm5tFF0z+UadsupIr1wFjr4y+kef8WCNvs6wmPhd8///nPp+3KWkrupZdeSqQU1gO3RGASw+iBTB//4NtOgViR/PJuesbIrzvfboGYd4V65plnWhOSn/3sZ+n4yCuYHvyNebiMqT1g63hWaGUsJXiyur2NaZ9+nM6dOzeptUZ8Vptsvy/T9mXFtey23vFV2V7YVc95aW3U+emD/zeCpVGs64HOC50/3iuWz+t/3IT/ivLpam030meVk/cDMe+4b4vG3Prs3UOHP9hlJ7U+VoZi/YPEQt5Dn6VT7F+YIBDrvEBsl7UrPeuMWH/PkqDp2YVlF8I2zteOuyxT7HTMTlNTm1J6eSbzIiiJv6ycWrFEaRcddG5FXisn9HZmwq27p95cUbbEYC+5ZSZ/cuL3K46r/rAvEqhltWv+brPT9iAQa3yJSQnCjK2EOK2IjN54cHpy7Wl7JdNHb5Lsv/OaJcHN+qt9MrGP1aO4VYHY/ReVvWHIA5pv9x3nll+q+jol/JInq5Mmb508df24ijw+f6cEYl7IpnYu9dF/q/mxvrQ6Tr6vedvNCsS0vKe1V7E8imXVJYGXT6vtn95aXv4zFIiFaWPfR++6dkV9oUBMNuI954VlSOx2w5nlZRt1vFsFYn7Z9KzfDf6+7tPHxBt5QhJfVqPbWUKXVvdrOUk/hifsdGhy8i7jqj4SfPl0d46rXIZS7dh0xbJw88w9JtcU/eQJxO6ddE6FsEkew6yv904+p2LpRQmh7JjFeQKwvONWTrviegVi8sTluXvvXzGBmE+btT17+9EpryIEYrcffnpFG1VvOP4rfPSTVWmsfRPcspnt4h2W28j5l3de++tCq9eRRt7zNNKHMG2Rk9u+LHnOkaeXWl6OTph9c4UnMQkbfBm1tiUsMLtRnOf1pV6B2KSx55ZELxutPyxZ9bMbJxJi2MfXFxOI7T9ibtomv4Sa+uGFDiov7Js8Sclbla/DtiWkkGBMXoLyRFRhuf676pAXna033y9Zf90dEgmSrG+KrT7FnRCIhV6TJBar9fFek9ZaY8sKhktCIDb9iLJQvJZAbPa0q1O24diHwsBa/fdiOo1R6MVOY93qGOcJxLR0Z9gOtUX7ZE9aznDS2C9UjI23wXZuhyIvb8/hdp5ALEyf9V0CP+tTKIrKymP7vUDs4FHl5bvteK1rWih08kuXdqtATB7DrG8WH7DPvJoCsTEHlL30WZ5aXGwssmIv/rTyLNa52ciSoFl1tLI/vD+367sXiOWthODbIM9NxisUiBX1jtXXl7Xtlxv0Hp4OOuigUvv0TlxeduTh2drrRQPeC1nMC7TqlZhLSxlKsDFmzJjSvILNNfn35Co/FIgpr8QFVreP9Z5f81d33HFH7uokWf0/6aTq80J1SPiitsqjjZatC0NRc1f+D/qqt9a7dB3z/Q/nFep9v+/nS9stENt1113TNms+xYes1VuUxotlZCPNhHYIxCZOnJj2JxSzFDXvVKuvRdbhbalWnVl9DgWLWm2rVqglEJPDFGuPVpfJC3KkYek1T2ZB1xjb7+eb7Hg9caO/GfPm6fKOW5tqzU0XxUd15bXH25hY5AXvVc+n/8UvfpGOhe4jEhOH4fXXX0+9U2rcYmnafZ0I28T3JU+gF3RH7aCU7/6pHbW2UGYvDJR/4OmkQMwLfeymVG9cS1EbGy5fbuy436cl7Sy9bu4+aKk8/28QS5cVZ72gLeLhq0h+eTc9Y1DrJmxpGumb5YnFUlMbVz0oW/DrKpt7VL/86CuvvFJKqjXOLb9f/tDKKWos5R7Z3+StTh9rnWi5OG40+DLy8tay23rHV3WEP6R8G/K2wzZqfXL9I6xWPnns8z+uwzbIQ1wzoZE+q/y8H4h5x30bn3jiibTPEsRZ0A/mWixqHfPudf2LCZ1vtQICsWJEYSaiUhwTMf36jOdSkZNPGwrE9t94n1K6n578gypbCEVVvpxQILb60qtW1KelFs/a5+Qk9EqWZVOPzv5WRf4HZpSXGVEeX776FnoIkxcwa99PTizbu9UX9gWBWPkszRLZNLtfy/AZ91aER1edvGfyqaU+nJZlZWbFrQrEtCSglS1BV9j/r50yPLc98hAVWzKzUwIxCcKsD43GYX/b9b1ZgZhEgb5PjQrEXrxzSjqmjQrExPXpr49P84tNKBC789z9km+eXykW8u3VsV4RiPlnA/3GyAsPP/xwOjbhHyOUN09Ikld+reOhwKWo7xKE+fGrd3v+ToekIiNry2eXKj93nrXnEVXHLZ3iPIGY0ozesDzRMnbIbml55+9TXu7ee9Ty5ecJwPKO+7Lasd2sQEzewKw9zQjE5D3smxMXpWUUIRC7bcAFYkVeRxp92V/rmlHrWCuT2UXklaDErjXyMFNvmfOPuSHNp/xaiqxW3jyBmJY3DEVS1q5YHBOISbjg03ohg7yW2bE9dpkSbas846y/7tA0naX3sZZAa9TTmrgcMPK40vJpvqxa250QiHmBVa22xI6FSz/2qkBs790rPUTH+pq1L1yKtIgxzhOIyZZ0rvilKmPtk2BOwrha52TRxzotEAtFZq0IxPxypcbTXz9CVqFAbLNNhqesu1Ugpj5oiVXrn+JPfuLTiZYq9fu8B7FGhXMhp9j3DT5X+cdBq7sblkytda8u8lg7BGL++ceY1hv7d6z19NMLlOyP4Fri25wZSCSl4Jc3nDRpUlr09Onl3w4vvvhiut82JCDLe3/u+xYKxFSOBFrec5JPb9uqI1ylxdpQK5b47eSTT644b6xMH2tMfChq7sqEeL6uerfDZSTrfb/v50vbLRDzfwRXvT5IUOT76gVG8jBlx/KWa/Rl+u1G5vGsLsW1QpZYSnmKnHfKakORdbTa5z/+8Y/pGKmsP//5z1nNLu2vJRDz54FW6skLXtipa5CFRsuxfD5u9Ddj3jxd3nGru9bcdKP9yuKjuvLa422snrlLOW0wW5IQ2AcvENU7vosuuiiRQ5OXX345ufjiixM/D5ilNWj3dcK3l+3uINALuqN2kKp992lHjS2W2QsD5R94OikQk0DHLox6oL7mmmvq/uSJIsJhs3oU54VFi8o/FMOlLP3FXGXpu/7BorWGJdDRxy//lnXRLuLhq0h+eTc9Y1brJmxpGumb5cmK5X3Jxs7cIttDsxfe6F8wls7+ieNddIYP16qvqLG0tms5xlNOOSXRTT32o04iMf1roJFgfVKcF2rZbb3jqzr8Q4fyNXJextqoB9/bb7+9NGGp8bQfz75veiDzwbdBArxmQiN9Vvl5PxDzjvs2Pv542TuU/lFgwXvFk/01wtY/bPoHR629XisgEFuyArGtPrt5em2Szc8ZNj0VVoWiq68cfF56zMRXFk/e5vCKcnZfd1g07a9Oeya5adLViQRlIzcYnqy//LoV+ey8G7flIRX5w2UklU6iLvtYPosnbT22In8oTLtkzPkVx1sRiA1fb7ck6yNxmjHqVFzrfKvnWNFCoF99o+w9rlmBWOixS+XI25KW8TvliG2SU6dsW/qsvNxHU3tqVSD2gBOIZS25+Lv7piXXnbZXMu3AjUveomJCo3mHb1EhJBLfTgnEvJetM6Zul1xy/G51f4q2g6zyYgIxia1in2MP3SxlOWqnsgt8nfcT91k/PRbWdf0Ze6d2obShHcbGza4lYax6X7rryKq6YgIxtcMve2plycucjvWKQMw/G4wYMSL3MuKfs/0fKCxjLwrEtlip9tI7NrZhvNmn105FRiZY2mSFsu2e1aIHMZX5lf1mp/a90sc+ldZ3wAZlMYWWvrT6fZwnAMs77stqx3a9ArHDh+yWMtAYbLDcqml/GxWIaSnOeyaeneZXv84eXr6PqfzYcp5K943xZ1W0Q2m1z9iE/Vk4bGx6TGn62YNYkdeRRl/227Wn0Tg2gd7JfV649d8fWyYVOeS1QZ5e/LVoQQsCMXnyCb0iyUPV1pvvm+y8w+HJLjuOL3388nwxgZjaLM9h1i4JdrRP3s7+y3nOmzv92pr9lLcxlb/OmlsnYmLlWSxPWvNmXF+zDM9v7EGVnv2UX+2UwGWXoePS/vm6OiEQ0zKjvk/77TU7qfejPvk+9qpAzAuDJPqpt/9KJ6GWMShqjOsRiFmd4w9ZlGiJRXnak3DRxtJiicRk+5a+3XEoEJOdaxnb2Efe/nx7wrzWh1iscjVuPr+2YwKxWN22T/ZvZcjbYliX9zBm6Sz+1NKVXsGHDT08LcuLUVWmPAZaPh8fNvq0ijol+vPH1U7fJi3pa20P4xF7TK/IG7LQEpMqe+rEiyrK/Gf7Kj1We4FYLP3cGddV1OXbXM+29+hn/Vt7ja1aKrOeeutJ0+j9u9n07RCI+eefVt6x1tMnv0qG3r8rfP/7ZW/6ft5BE/waZwkIbB7A3nP7uQyr15etfHpvrj+6y/uP6rL5JlslRWliAjErT16lxHvUqFGJz2O2p/K1bGYzQZ5stIybBEDWJyvXYv2hyUJRc1f+N66cBDTyPl1t9qHe9/t+vrTdAjH/nj+2PJxfzk5iQgXZluzJuL/22mu+m3Vv+/cLMQcLviCrS3GtUEsg5u2miHmnWDuKrKPVPktc6ct4//33Y01O99USiPnzQOd4XliwYEFat1YesjBr1qx0f7PCwkZ/M+bN0+Udt7bXmpsuio/qymuPt7HQS6G11cfeuYiJjO24xL3hPLW3GdvWPSW8nlkZitt5nfD1sN0dBHpBd9QOUrXvPu2oscUye2Gg/ANPJwViQuvFIiYAahF5NLtdSBXnBS/wuvTSS9Pk+seBLye8mFtC/wOhnQIx1VcUv7ybnvWt1k3Y0jTyYGl5smL/7xRxldjIxsC7ln777bfT/eZ9Qcs7WlotBelDkWPpy/Xb8mSmJUqtDYob/ZeOz+vLjm1n2a3S1ju+SuvXJw//ZROrt9F9+gHzzDPPJJoE9f3z57/30hf7YVRPnY30WeXl/UDMO+7bJDfi1jf9e8GCd/3cqBdEK0OxvK5Z+VdeeaX+szHJAAAgAElEQVQ/VLWNQGzJCsSW/s9KLzx+ecdNP7NxOo4az+PdUouh2Cn0RHbkdhPqFkY9t/DxZKMV16+oS8I1X0ctAZfZmo/VL3ktszI2+XTlv3JP2P3Y9JjS3Hv0bcl14y8vfXZeqzyprjLzlpjM8s5mdXc6rjrJGtwRimuK+O4FOL/91tQqcU1eHdtutEJqHxLo/P6B6dEyvBinVYHYNacOr6gzr406/seHZyaPXXFIssfWlcsRaWlMn98LxH555xEVx3w6CaLMri86bpeqdBJ92XFt+7za3m/HshDlngsOqDoepl8S32MCsT88NCO3rXPHVopbd9p0pcw8Zx29fcpJvOR9zPfV26eOj997vWTR9B2S48eX/wRgnC+aVz0OKitLICZ7sLwWP3H1YaX6e0Ug5v9VrZdMecEvW+KfhS2ffyl2ww032O5CYhPiFBnfMvbUijGcvs1+yTHbHZD5mbT5XhXpld+3Z/jaW6XH/TKGPo1t1+NBTGm9sOiq0fNL9S39Hx9L67n5sFMq2mDl5wnA8o5bOe2KQ0HVuXtNjfZj1zU2Tfuq82z42lum6WICMS1JOXWrkcmw1YdU5FPeKw48Ls1r/bpk1LEV6byHMkuj+Poxlb+rVJ4/Lk9udh1QPGnz4RXHL95vViLRoD6hKHFCjy8xWeR1pNGX/c1eXOqZtG5nGi8QC5ffy6vXC5pmTLm85gS/r0cCCl/2jtuVvSdKBJEl4Np1xwmpbWcJxLxQx4QOWnLPzgmJzHzd9WxLSDJy+DGJhClWzs47jK27HC39Z/nWW2f7zGUqvQCuEwIx9d33Scsj1sMjlqZXBWJ+6dHQK1qsn1n7ihrjRgRiYVskvAm9VzXj7S4st97vochLTJrNK8GbPP3pE3pLk9gzZquhKErnXL1LFh438+vpOWrnqpa7zWq/P2+UftTec9K0e+5afkelY1ouN1aOXxJX6UIPjqFAbMftDomWEys7ZGECMaXdfJPK50frr8V23VTa0Cuj0mipylidlj7rmN+vZXutPsXy5OePL6ntZu/jjeZrh0CsqHes9fRFog4bP/1xXUFeyGyfF1ydcMIJ6X69//YrpGipxzAMHVp+R6Z3yB988EGYpPTd/jCvOmsJxMLMEmlJ1OXnkM4888wwWVPftSLIgw8+WFpq0lgMGzasoixfr3/3X5Eo58sll5SXV27U+1tYdL3v9/18absFYlqq0/jJrsPg59psrlHzkpbHbDLMV893X3YnBGLtnndSn4uswxgrrhVqieK8UFNLCtYKtQRi3muiRF55wXsUlPMGCxdeeGFqO6FzFEuTFzf6mzFvni7vuLWn1tx0UXxUV157vLcyOSnJC97j2JtvvlmVXB7AvJ14u9P2uHHjkjwRqD+Xi75OVDWYHUucQC/ojtoBqfaVuB01tlhmLwyUf+DptEDMq2OfffbZmrQlLAmXoquZwR30F9W8MvyDuS6sFr7whfILtloPTH55ObsYWxkW+wt2rbKU3rfd8ltcFL+8m57VV+smbGka6ZvlyYolqLL+q43+XzWhcEiCG6XVDw/94DBlth6yw1DkWIZlh9/1w8j6ELpaDtOG3y2f4mbtVmXWO75K690Ty6VpXvjLX/6SlyR6XA8+/keiJjYs+DXD8/4RobF+9913LWsaN9JnZcr7geiPf/vb307riW3Io6CNnf6tYUGsbL/6rn+R1Ap6KRBL45cT1URwraB/MVidul4UETotyHl87oNpH+SpqtP1h/XVu8SklmE09hZ/c9otafsP3KTyX6vrLrd2hejK6n1mwfeqlo5ctO+paTmW7isHn5f88tQfV+3XcQm2rA2KJQizfA8fc3fFMZ+u1vZdR92YlqGlM31aCca8gMzqUizPZj4tArGZFWIaL6ypd1seuIxpTLjly/nNPVOTUFBleRX/+OvjMtvTiEDs7vNHZZaj9pwwoSwOmuM8V/m2Zm1LBOdFR1pm06f1yyM+evmYimM+3dEHbpJya0Yg5kVUX5i5Y2Y9Vudr9x+dm8bSFhU3KxCTNzRvF9p+4bbJ0fZvuk55ST+lk8jQt9+PlY5/80v7p8eHDvl0RT0S94X2qbKyBGI6Jm931laJz6zuXhGI6V5v7VespUpqBf8HCLmbD0OvCcRmb39g2n/vmcoLf8JtL9iaud3+FSIgiYKM56j1tq84FpYjwZClXXeZlTPTjtt09zSdRF1e0BTzYmb15AnA8o5bOe2K6xGI3Tr2tCRMp3Zbm2ICsXsnnVM6fse4M6ry7rz6JmleKyMUCWpMtGSkHbdYS4baeCmWHdgxxcMCQZoEY/dO/mdbfDpt77hqpUi/1wViRV5HGn3ZH16D6v3eronwE2bfXPKok1e+X2IyS8iQVYYXNMU8+vh8EnSZ3YYCMS+KkRDL5/Pb8iRmZWQJxCQc8d7Ijp91U7L5kLKHz/33mZdZvq8rti1RmNUvoVcsTWyf5VE888ivZubzPDslEPNL5clbUKz9tk/eqE6ce0c0Ta8KxBbOvT0dU4l+8gRFJ867I5qmqDH258IR486PsrbxyIr9MoKdFN4UKRDz4jKJ3DxfbY/cc2YVm1AUpXR54+kZhqKvLM9fXoRq7fKiqYP2K3sp0XGJoXw9tr391qMr+uWXqVSadgnEJIYL+2r9UOwFYmqHv57q+LZb7h/tz5gDTiqVq2uBzhPrZyxGIHZ+OvbTpk2r93EhOeec8rkQ/jmmqHes9TYmnHewVU80/+CD/1O65h+08oPZ2y233OKTlrbtmOLY8pOWoVmBmOWXKMzq8n9mtuOtxH7+RkIIH4qYu3rooYfStsszWl6oNVfh3+/ruTcr+PnSVgRiWlGmVtB8j42L4piHKc19eIGJRId+2dJW/hjWyDyeb2etPtUSS3Vi3qnIOorosz935fmwVvBiWvXDh+985zuprdQjCtxoo43S9M8991xalOZUrV9Zc9dp4v9dvtZ/13ajvxnz5unyjlv9teami+KjuvLao1WkjKHuU7XCO++8k6bVfGAYJPa01ag0Zlo+9LzzzivFmgvX0sX1hHZeJ+qpnzSdJdALuqN2EEEg1gaq/oGn0wIx72Ep7+FUrnXlOjXLc1ctNHbBVlzLK5L3/qW0XpnrH6TDHyW+bq/0zrrJFvXwVRS/vJue9a/WTdjSNNI3y5MV+5fdYjlnzpz0hhqu2e0foPyDzjHHHFNVfFFjKR7y5vTGG29U1WE7/NKPurk3EoqwW9VX7/gqrf75Y/XqfIv9MLE+3HPPPSWRl2w+DBJR6V9TejjJCt6Fsv9R5pcHlXpedpAV9KNDP5LCB+xG+qyy834g+uO1/q0kb3b+R1v4LwJ7gSDG3kNh2D/9QNSPSL2ACB8ExdbGSA+W/p9qYTl6qLS0CMSK8SZWj0DsjinXJyv813Ipe43B6kuvmrx0+rOpqOqqsRdXHFea0IvYL059Khmx/p5V6Z6Y91BajkRXk7cZV0ojkdn/HHtfxTEdDz2I7b3+HmmaubvMqChfS19us8oWVZ9wSUzvxezSMV+qKEN9mbfLzCT0/nX7lOur0iEQa10gpiUY7TyXWMYEMmH86remJloWUYIyCYd0/M2HKsf/xTunZOZf6qP/ltYTE6LtskV52ZEFE7bKLOeVbx6V+LK0RKFvq8Rl8u4VEwpZOnm0sj5/+9KDK/J7z16fP3qHimOWX/FW6y+fltGMQOzOc/dL80vY9Lt7p2XWdfOifUqitgvnDctM49tW1HazArGf3jop7Ztx3mvbVZPQQ13oPUxprz55z4o+1hKIaaytfItjXsRqCcSevbHsWeVnTsTWKwIx3bd1v7f+13o2kOt5L66P/bmm1wRiEoVZ32duWyn2CkU99t0vebjeMp+tEAmds9dRaXkSNt2U4d1LZU3demSatpZATF7DrI0SHY11Sy7O3+mQivqtjYrzBGB5x31Z7dgOhV+hB7HrxixM/JKdxuDagxekfa4lEFObD91k15Sd5Y95EbNjFmsJT9/nuyacVVra0o4r3nj51SvSnDisLGKxdBL3mWDNyjtvxLSqNvW6QKzI60ijL/vD3x71fo9Nnre6b+rEC0tLI2piv9YyacfPvrli8l8T+43UreXtzMYkNKq1nJ2WELO0oUDMC1okrshqw/rrlj2LZAnElHerzcrXtANHzk/7KFGEPOLEytcSmcpXS5Qjj0LWh3oFYicd9400j/JKnBGrX/u8EKNTAjHvcSqvT1oSU96b5JEt7EOvCsTUD3lXsnGtJaiSOE7LNsrTmLx1GYMixzhPIDZr6pXJphvtkcybmb3EqZYttf7svvPktJ3W3nbF7RKIqb3ibn1SHPMi1qpAzItlra5xY86q4Kdx/+QnKv/Uoe+eqcRilt9iiad8GpUTirS0nK5P0y6BmOoIvZxZOxWHArEhG+1R1Z9widljjrqi4vol75K1vNf1g0BMk9y13hHXegbw7+yLEoipviLesdZqtz/m3+/7P7DrT8I+6D24/WaTEwIvVgk9x+jPQd4Ww+O+XP+uOfQgpnHR70D/bt3n1fbjjz+e1pU3BxfmlcchLeuYFeTUwfqhdvpQxNyVfgdb+Ypjv4OtTs3VqA2auwvnjpTGv9+vxcvPl7YiEFN7a5033olBLY/i/nf+zTffnM49yNb0J/xmQyPzeH4MatVXSyBW1LxTrfqLrKOIPvsVkjQ3o/MlK/hVdUKBmLwB2rUl7zzwQlWdD97xhOa7fb9eeOGFrOYkdh5oiUo/x9fob8a8ebq849bAWnPTRfFRXXnt8WK0vPnTM844I+Udai/kGMKWq5Q4rJZtGINacbuuE7Xq5NiSIYBAbMlwb7jWXhgou9DrxhBepLI63MhNwK+HHXr6CS/c+sEQuxB60ZXaqQfDRoK/6UlwEhNUaCk279L1qKOOqqhCrjitHJURe/iSkMMUv0rbboFYUfzybnoGotZN2NI08mBpeWrFYiiWegCy8Ylx9a6lzXuY8oXCIdVVxFjqh5U9lMnGYw9TenDyk356QG0kmL0pbtZuVV+942tts39Fqd4xY8ZEPXT9+Mc/Ts8HpZNYzIImN63t+kdDeN4r3W9/+9uUn9L6NLoG+H85aPnMmEhMgjurR2Oh88FCo33O+4Hoj6tOjX8YJA7TP5msTbLX0AOY/1eV2qx/QYVB/ffrhg8ZMiRMknrIU11iHLsmPv300xWMEYi1TyCmJRslqtp85SFJKKQye7hhwpWpKMs8aoXLTCqtvG9N3X5SMmGrQ5OVlloxtScrZ9oOkyvKOWLbslcBS6N2TNluQnL4lmOqhGpKs3CPuWkZEq5ZPsVn73taeszaqXjB7mWBrtJJAGfH5S0sFKEpzdrLrFESr83aaVoSLi1pdeYJxIxtTLSmfd+ZdU/aDmtPO+Oqk7HBHUUJf3w5EsUYT8WXnrBbhUBHabWsoF+aUeIoK2PNzyyV5r9gzs7pfjuueOHE8gSn6sgTiCnNAxePripL4rAR25eX11htxY+V2mZ1nT/7n95AlV8eyyRqs2MWS7zkRUdhmnmHb5H2R0K052+eWFXGZQsqPWQ1IxBTe7bfuHyO7r/zmtH2/s9XK5dBlFjM+tLuuFmBmNrlOWo89JEQbvK+GySzD9k02WK9ShGsjg9Ze5nSUqC+X36slMZ7EFM65bHyrY5QHFhLIKYypo/epLRkpa+3lwRi3vuwng30PQx6xvAvC8ePHx8mKX33L4Ra+SdxrHAT2BQVh0sG1hJz+TqvOHBehc1IyOSPr7V0eRJz0xXXSsJlKJX2klGzK7xb1RKIKb0v8yP/70Np/XeOO7Oibt+OPAFY3nFfVju2Q4GYPHJtuPxqJSHWsh/5eNpHf36O2XhYRX/zBGIx72AxL2Jbf+ZzVfVJ/HfwRjsn8gTnvcZZe8TPc5G3MD9Olu6zSy1bKkNitXBpSUvTDwKxoq4jjbzniV0n6t3nBQFFbUs8YWOqJRtnHlm9/OP8Y25IvABBYoVjj76mQqCQ155wWTZ5xIkt/bbv8LKXQrUrFIhtMWRE2l6JwGL1Hn5w2duHyqglEJO4yvrvWWR5SJs747pEy2tanixvaF5MNWxopZgj1mbb5wUlI/aYHu3fTtsfltavdnRKIKblM71QRVxjQj+/RKjad9wxN1T0o5cFYt5DlVjI1mzsLBaTDdcrP5uHXqGKGuNaAjEJFG2sZNfTj7i0qp06/7yY6vCDz6hKY30qOm6nQOyw0WXP9Haehl7EYgIxeSKToC/rM/2IS1I+Em1Z2T6WuFXXrI032DXl74+HXg8lNvViT0srAaZEtZtuvGe0nFCc6q/PKkNjn9UP7ZeA08Y0ZOGXmFQa2YnuDdY2H4cCMd0X/HHbVjrV6b0Q2jHFsfPI2tfrAjFbsk2/VWJejPPu/+0SiBX1jjWv/Trun5H8vIP2h8EvP2bvtxXHwjrrrJPa2+WXXx5LkniBgWzNC8Ref/31infosXkQFeqFWhJ71BP0Ttu/nz7ppJOi83ZeMKc/g/tQ1NyVZyBBRczbmjxreZ4xYZd/vx8bO2u7ny+NlWPpYrG3FY2Xzp/YvIb3Lqd0N910U6y40j6NudLo4+das94LZBYUHGhkHs/qV1wr1BKIKV+r80616rZjRdVRRJ8l/PTlaLUZL7ayNl99deU9ORSIKZ33qqj5otCpgNL88pe/TOdQVW9M3HnsseWVRjRfpOtIGB577LGKdksUZcHbuM6pvJA3T5d33MrPm5suik897fGe4WTzMUGqFytqLKQ/8EFjZbah81rf81YV8PnD7XZdJ8J6+L7kCfSC7qgdlGrffdpRY4tl9sJA+QeeTgvEhNd7uNEFUTclCT/uuOOORA+e/qFbx+VJrNFgF1rF+jGjWP8k0BrseviWAMWn0fbLL79cUc2rr75akUbiDz1c33333Yk8Vslbksr2/+iQWEzry4fLIXpxjYQ/SqNPrG++XRUN+t8vRfCr56an6vJuwkrTSN9i/Qn3XXDBBRXcxUNrz8eCf0A2bvpxEIYixlJL9/mx1thrbW8tI6kHfD3EmQJcbdFxr9YP2xT7bn2w/IobtVuVW+/4Whv8soSqU1xPPfXU5NZbb030o94/AOm4/rHlH17CB1rl1zl24403ls5rbXsh5ciRI63qNPY/UFSHfkjrB6wmO7UEpWer42LuQ6N9zvuB6I+rPn10vZQt6hqqh3vfJx1Xf2PBT/AqnexGojr9A0hsdE2wOhSH1w+V6b3kKY1sUdcPPfTLBg87rPJlu9J0u0DsxolXJduutlXVJxRRxdKcvvfCjomEYh7E/HjFtoevt1u0fXcddVPFWMfy+n1aYvMnJz6RlvXswsejIjKfJ9yWsOv5k54slfHI7G9V1f/D+Y+k5XuhVWwpynuPvi1NG1tSM6w79j1PIBbL4/fFhHe+3UVvx87pRvZ5AUuR21qm0XMZvu2qydkzhpbEYlp271NL/fPZR2lC0dRR+5fdjuu4lgiUYEoesiQ2M09bKy/30bQOeZOS57LX3bKJ3oOYtUXCnvNm71QqR2307VCaK/8/e18efUVxrXv/ee+u9zLem9GbxBgTxzhEnEUUUEBEJhEEBAGReRJUZhlkVBQ1oBHHOAYcQFExRhxQCSpqNDgkxomoxCSaxKDGmEi99R3f7t/uOtV9uk/3OadP91drnVU91LDrq911avhq17xuPrLUFef4rc0IIQnhVi3uWSIn6TRQThvH36zxW78CQQnHQeIYyB9P7mS09TGR00UQ07KAxAQcF45t58sPR1hKGvAh76zhbczNC3sYWNfSx3LiPY5jhNU2W+Za3SchiOE4Um3pTZcz6Pq+y/qXla0SQcwmciFt24pYJYIYLJu9s95vwc1ON8y6Xq3wj9M26EUEYICJeIxR0KdCH8zuY6Av63LNRBAbd1TL8cS2NShN/HFdg/QjemgThc7v5ifNgtA18KBOZnqHUw2OpARBSeKKX4kgNuGoFss8EgfHFLpkk2eVCGDTjh3oyQFiU4992xgckSnxa+3bBDEpV5C/0xe/YmxCXCWCGMrQt9WxXjklbduK2JUnTykLI2FdPur0nuHl5LxLTpwQKx1JOw8EMbQHabQjcSf7Xe1QlGeyYJ6mrwkvUrc/2re9gYWaLp1GGFiEsQkMYZaTwmRr16a/T9dAtALZqV+v6aZb5zE+sorIYhPEBvb1H8kGsgOISrBSA4tiB/6oYykPWKWRNL77nb1L5Qg6stFFfrCtAUm5QHZCepI2fJAfunQcUZIBsuyxW4uVWrwfN/wyj4wh6QT5bQ5vaeMRF0QRkEpA3jn5xKkeRrp8IKXAopl9pKO2jhZ2XOb4ES3Ws5Eu6hw/TSIRebsfP9ZXdhA+YHkK9XJs21PLsHGl0cwEMeCgLdyhjkBUxDcBC3StD+1ZssiH5/I7bcBCX/2nVccgMUoekAl1dmrfuaW8oHP6uwVhSOQEgQrf1f/s1GLFGO9t/ZE6r4VfS4IY5NUkTmBkWxGzSVGCY5hvE+i0VcSwePIOZDwcU2rjaX9TEj7It0lZSM8miAXFleeaBGZjod+JrK6jMpGWS5aO7Yd4ein5hfkg00k+Lr+ZCWLPP/+8DwuMS+K6WhHEIEcac6xRyoN5b1lTEl3AXKy9MRhp6bU2CYu5bJfDyScSBj76c1ivArEA6cjGcz1XjDJj3Id1BmwYttfOsLEeRAkQt4C9PsEDeWDeP4rDBubRo/1jK5BSZD0MY1W7/7lixYqypNNYu4KhBr0Og3IAg5UrV5bwwty6fo+6wuZ02+n5/XoRxCArvhuM62+55RaDtS6sKeC5/FybzG3ZxXCCxIG/YcMGO1is+zjreDrfsEwqEcSSrjuF5S3v0sojrTLj+9dpYZ0LJ9RAHy699FLvO9dhXAQxHJ+q1z+h5yAwos3Az25PkI+rjQJpTbdn+HbwXUMeWEvUBDvIhHfaxR0zVlqnq/Re8q60Np0WPnptE+0r1u2XLl0qYpT8l156yVenaKNBZEW7jfVCIVZLnaK9sh3acHmvfdSN/iHtzp07myVLljiNROh0a9FO6PR5nQ0EmoF3VAukSBCrAaq609oIghg62NrUpm4M7WsslsQl2QAynY5NPNHv5No+Fk5gtzu0El77YFfbf8YgfdhOd+x1fNuCmn5np4H7NPBL609Y5ItaNgkf5uOMbI0Brrdu3eqMos9fRzgQl4JcGnWJ3SpBZbVlrqbDrtNIordR61djBYKm7ihqWfQ1Opqu3Qo2gUnH0dfogL7zzjs6a+8aRCcdNugadWm7uGWuNEDU72GBTg86XXKhE+/qgEPOv/71rwakOFc8+5lrYC1lRcfUDq/vUX+w7CbPsk4Qu3zAxZ6sInNUv+v+nT2iUtqEIDu9uASx2V2n+o6WtNP72bBrAq2O6fLDGhdIWnb8385/xnkMpY4r1yCY3TthtZfGzC5+ywY4otJOX9/bx2ae2XGcL/xVg5Yb5CH5ufxhbfzWlEgQS37EJMgtIMeMPKlVKPZSHw9fOdBH4oFVL026knDaB/nLdezgK2tHe2lpgtjKRT0rkotA2oJlM5ucc8fSaO0jyEv6SEGdzqJx7UKxQNzB3Vp26roIYlvXjStLAzjpfHAN4ppNgtLYyXWrPb/ptGZmp5fmfRKCGOR45menl44klTIE+Sg/CFku2W1sbAtif91wltFW7JAHiHbailglgpgr32YjiGFDgz2B5MIbE8vYKR/kmokgttc3WizwTTlmQCxiFAg9gs8eX9+5LC6IVvLe5YMctbjrSC9MJYLYLYPP9cJKeotOGFGWryZ1VSKI3TG03DLI1z7/5dA0dfpJr+MQxDrvdZi58/TFZbJFIYi5sHNZEYO1MMG2kh92tOfczkN91uFcafXav60vr7wQxNJoR+JO9ge1RZWeuxbP03gG4oNYG3LVvX4G0pHLalQUOXBkI8hnOj37GuQrTZiwCWLIxybo2Gl86YtfLR3PqAkwCHNKn1lOIgIsfOk0EH/+zHXOsMgf5QAxQscJuj6+4/DAdFyY4ShP5B+UHp7DcpTLUg+sm+k0oxLEEEcTznTedl3jiMSoxBhY0XKRjpqdIAaLevvs3Sa0jgTDHl3G++oEWKdVxyCeST7iA3PRARAig+pVwosfRIiUtNL2a00QG3Dy7DJstBUxmxQlOIT5NkEMmIBIGxZH3oFIGXRkLUhjILpK2DAfpD/IbtdHrQliyO+He7VYmxYZXQQxWByL2kZAblcbocvXzAQxbaULmGGuMa6rJUEsrTnWKGWyST1B1ptgjUf0S3yQtVwOlqLtzUASR3zMSYPsJPfii9UfkKfkBBZ5F+TbJAeXTPYzEFmC0tPPIae9roW00li7QjogZLjID1oGXENHg8bMen6/HgQx5Ic1AltGfY+1JZyMU8lh47yOB70JWnuolJZ+H7S2ZdelzlvHt68rEcQQPum6k52n6z6NPNIqM77RSvM9ICLp9UoXQQzlxClGtuEELadcYx3ItWYnWOEbqdT2IC2clmPrQtwxY6V1ukrvReZKBLG08MH/iuAoPrCyHdbdoqyf4qQyl4UxpKf/HyWvMB/5hbUXtWon7LLzvrEIkCDWWPwj594MFQWrQNLogIAVxWl2eSVSmWY1g8Ub5ECg0WZgRSb4+NMDka1ap9NCGkjLlRf+iEFICnL4MwST2vXnifTEZCcIL+gAyh+EiyD21FNPlSwHadlwbf/hShrww1wS/GAeWuQIMxWt/4SxgyXIRS1bUHz9HHhoMg4GAkHOJiWBeBjk0qpLMO4xIBT8bB/WtvC9VON0Wohfrd5GrV9bRhDx7F1GIhPqBDtfPvroIzuad4/dGkHxkQ6+C5x7HuZwTCKIfpKv9tG2gETmcnHLrAlbrjbAfo+OMDraWh5cQya0qZUc9A87RFxtCdJB+wGyaSUHnXcN5IAZOvpvvPGGJyN2GqThNGEozetmIYjhSEO73vX9Tl/6Zuk4xUkdxhqQyaJgtGXO46bfISc5iWI4ZhJErARQ4PgAACAASURBVNcXbQlNa3n/C53HPEI2kLYmHjvGZ30McuE4Sy379OPPDM1jdNthvvAgrdnl++XU9abTD48pI4pBhlknTDGweqbznNd9ppdGXPId0qEFMT/B7Mb53Y229KWxxpGA9y7v6yTx4BjG/p338dUN4oLcAytdIEuBhAPSjT5WMYgg9sjVpxr8XMcQgvwDC1suUo88g2Uul6UvKQ+OOfzdnS3kNImn/ZsW9HASt2ANbPONp/mOUHQRxJAWyquJby6CGMI9f+vwQHlBRoNVsXfu91u40rLW6jopQQxygag18/QjnXqFskFvwurCJoi5rIxdd263Mt3T1uWqIYjhKE/RF/hDe/woVOdqUQfV/OeiX6PHTlIGjAOwO9t1pLTOB7tHJU7QhhcdPs51UkKSjn/7kPmenJDXdQykDm9f3zjAvwMXJCQ7DCyJuY5K3HenXc2yXmeYmwbO8mSIYsEMYQRbkKt+PvLCsjy1DNrq2KS2JzvDLjxhhDnie/t66daTIKaPypRyiY/yHfidPUyfA9ob4KjLpa+jEMQQHtbRJG3xccSoTgvXy3pNNCD8SRjbxxGRqHs7nn2PMMDVJsHhfmTrHiV902nbVujs9GpxH+fbi/tdJ2lH9OasSvM8ccpgh9WL5mlfnz3+OnPEocEkURC3Rp/+4zJiQlw5QDgCIUtbNxK9AtkAJCd9zCQIGHYeIFoEERBAxJDj1yaMvNx31F8QQQxlFxngu6xe2TKAKNWx/WBnOZAGrJKJNSc7bqV7HF8Ha09aJlyDxAdiEghKSAPHW2piiU0Qa9emn5dGJVlQt648bYKYyA5CkT4qUcsKYh6snUlY2+9xQovVQlzb7+Pca6IPyCZBcXE8oMi45+6HBobTRwfCClVQesAFVu+CyHwg8Y087eLA+GnUMYg4IFNqa1maIAbZcbSrtjQmGIgPLGBBLqictXqeJkEM34AtJwietmVAkOUknNYbwaKS7yKIIT1Y1woivoLchG+hEgkK+gRLgUH6hG8fhE+QC6UM2q8HQezMsdd635Bg5SKIiVxoh3Fsp4t8jLpBecOIuJIOLJpJfvDtYzolXL19+//ZdY+j0PS8fBApyhVXnsGaipQfR5tFdXrhPMgCF9JKa461klyw8CzlgB82/wtLWzosCCJBDiQOWMDS4XGNMSDmo0FWgMPxkdqyjxDE8A4kLMzT67rS6WE9Jcn4EMcfutbSRE7UVdi6H2RMsnZVAsAYAxxhzUfWy3QZcY139qlAEhe+Jvm55v8lrDaoEfeISXvdFPo5bdo0Z91AHhzDGcVhnUaX13USUZR07DBR1/EEc/hhLgpBDPGTrjuFySDvkuaRZpmhByDvuL5REDzxPWvLVbAWFeRANsIpQyKf1gukj1O5XMdY2ulhfgnzTK508Ay672q74o4Z9QlRrrXnqOt4Udem08AH7S3W5wRbF0EMeKL91uEkPHys2a1Zs8aG3bvHuirIcYI/2mn755ofRFsMfXK5WrUTrrz4rHEINAPvqBbo0IJYLVDNWJr403niiSdKRCyY07XP5q1GXN0w6/ggcqEz/9hjj5kPPvhAvwq9xrnhL7/8cul4SVgT0h3y0Ih1eFkL/OogdsOySKsut2/fbjZv3mygDxhwPfnkk4n1Im29rRZkdChfeOGF0pGJYMbDvDhwi+rwnW3cuNFgMIndGxgoAa84DpYDQThDfJCisGsIg99GO7QbkAdHzVbbDrz77rsGFuJwfCZIXUEW1cLKCqKiyOE6VjUsbtx3NiGI97/xCE5pYAEC1d3jbilZ+vrdgmdjp/3r2ZsMjn68fdSNpTSQXhpyxU3j9+e9aHCE5arhPzUPnXWPeaWKssTNsx7h434vdvhakFBcacIqGIg4sOQFUhgITK5w9rNX7xpj1l9+ivnp3K4Glsa0FSc7rH2viVQgh8n7bb+YYGAV7LYlvYwmlMn7MB8WwlCOG+Z3L1nq+uVPBxscfRgWR7+D/CCDIX/8cK3fp32N/B6/fkjp6EwQlB6/brD584OTappn2mUISw9HOaJuoSOv3z02N+UKK3OSd/b3H+ceE3UYB2FSCjtE09gZHCd/V9hakGTqkSbIZyA5weLXWocVrHrIwDwurkjq0hjh+MjL+5xVqjeQ+W4dPM/cP/qiWGkgvftHXWRwnOWS7mPMNf2mmXuGL4mdhpYrzWvXN5b2syy2I1LGeiyAg3wFwgiODMSReSBZuY5FS0MWELMG9JllRgy50Jw74y4n8SEsn9lT15SOb0QaIGkEWegJS0PeaWKGy0KPhLN9kHRwnN/gUxYYWC0aPvgCM3nC9ZGID3Za9v2MM1eVSEY4ghMELuRlh2n0PTAfNfTi0jGhINCcOfaazMlYa4xmnLWqpH84xhNHtk6bdHNkDOpVx7OnrC7pEI5hBVlw1NBLSmTMWmNTpPTRVuq5SJDDqik/SH1oE2EhbuzwSz1CaDVpZSEOyG8gRKJ9QDuG7yOIeJoFeaPKIP/LlXysNWC+G0SSoEXpSmnU630ac6z1ktXO589//nNpszCMEwDrKAQPOw3Ewfw55u/vvPNO8+ijjxqQKtIaT2JsinEqZMQ8NO7jnvaT1toVNkVjnQDlxEZuWGPLuoPlH8z/o46qqV+90TyM4JZ1HLR8SdeddFpB1/XIIyhv13OQeLAmjfWyOGtsrrTwfeNbxG/btm2uIBWfoX3AGjzaDaxrPvvss05iWMWEMhggDXyiFAs6hvVK4Id2N8r63KBBg0p9LhDEoAtBDvWDdk73z3CyVZDLYzsRVNaiPidBrElqvqgVlbXq0Y1n1mSjPEQgCAHqbRAyfN5IBOpBwmEe6ZLOiGd6eCb99pKQTbIeN4gglnW5KZ/fCh3xSA+PpO1F1uKnSY5hWvEIU8Qrf3hl7fuutzxRF64Z7t5YxAyQmmQOAdaviF88/IgX8aIO3GtmTb7da0fQnsByFixo4RdmUY/YNef3U+//f+ZHBIhA9QiAwCP9PJy2REcEiEDzIgDjGfI9Dxs2LFJBcDqQxHnkkUeccdhOOGHJ3cOi8o5oQSx3qlyfAknDCZ+OCDQLAtTbZqmpYslJslF6ZCNi2XxYJv3a80y+IUEsPWJRnvWkSGVL2l5kLT5JSvkjKbFOG1enWfu+6y0PiQS1IRJ0bD/EWzTo2nk0CWLn1AZn6i9xzbsO/Pd/fdNrS/S85LFtB7JdyVm7Uu//f+ZHBIhA9QgsWrTIa5txpCcdESACzYsALDFKH2vo0KGRCjJgwAAvDqy8uRzbCRcq+XtGgliT1GlRKypr1SONLXw6ItAsCFBvm6WmiiUnSU3NR2pinaVXZ0m/9jyTY0gQI0Esz/pdTdmSthdZi08yUePIRMQ+f9hn7fuutzx5J1fUs3w48mzMsOWl31e/8i1v0SDO8YD1lJd5kVxFHci+DuD4Tj0fKdckiGW/7uJ+X/X+/2d+RIAIxEPg7bffLh2fiSM0d999d69tfuedd+IlxNBEgAhkCgF829K/gn/77bcHyofjcxcvXuyFx5GUH330kRee7YQHRWEuiso7ajp2T1ErKmtfom5ssyYb5SECQQhQb4OQ4fNGIkCyUXpkI2LZfFgm/faqIZk0SxwSxEgQaxZdrZecSduLrMUnSSl/JCXWaePqNGvfd73libuAzfDBpIS2R/b1Fgtk/qDV/h1o5SdnVn74DQR/A8SmNtiMH/ETc8zRA82+ex9l9t7ziNKv74nT2LbkrG2p9/8/8yMCRCAeAtOnTy/r5w0ePDheIgxNBIhAJhHo0KGD7/veddddTZcuXczAgQNLv549e5rWrVv7wmC89+CDD/rKw3bCB0chborKOyJBrBDqnX4hZaIMPh0RaBYEqLfNUlPFkpOkpuYjNbHO0quzpF97vYgpjciHBDESxBqhd1nOM2l7kbX4JBM1jkxE7POHfda+73rLQ0JHeoQOmyCGo+FgVYwYp4cxsSSW1AHqQF51oN7//8yPCBCBeAjYxA8QSGAtiI4IEIHmR2D79u2me/fuZQQwvSasr/H933bbbWUFZztRBknuH5Ag1iRVXNSKylr1rF692lx//fXm5ptvzppolIcIBCJAvQ2Ehi8aiADJRumRjYhl82GZ9NPLMpklqWz3XdbfrJhxfOn32t1jTNL0GJ+Es2bXgaTtRdbik6SUP5IS67RxdZq177ve8uR1ob0R5Tpz7DWmd/ezTL9e082wQUvM3Gl3khyWMws/jdAr5klCFHWgGDpQ7/9/5kcEiEA8BF555ZXSmuYtt9xiNmzYYP7xj3/ES4ChiQARyDwCb775plm+fLmZNGlSyXJYp06dTPv27U3//v3NGWecYRYuXGgef/xxs2PHDmdZ2E44Ycn1w6LyjprO/FNRKyrXXx8LRwSIABEoMAIkNTUfqYl1ll6dJf30m53wQvlJ2qIORNeBpO1F1uKTTNQ4MhGxzx/2Wfu+6y0PiQfFIB6wnlnP1AHqAHUg2zpQ7/9/5kcEiAARIAJEgAgQASKQDIGi8o5IEEumN4xNBIgAESACRCARAiQbpUc2IpbNh2Wij8cYWtV6JDq5hkQkYtXsOpC0vchafJKU8kdSYp02rk6z9n3XWx4SBrJNGGD9sH6oA9QB6kAxdKDe///MjwgQASJABIgAESACRCAZAiSIJcOvbrGLWlF1A5gZEQEiQASIQF0RIKmp+UhNrLP06izpx9bshBfKT9IWdSC6DiRtL7IWn2SixpGJiH3+sM/a911veUg8KAbxgPXMeqYOUAeoA9nWgXr//zM/IkAEiAARIAJEgAgQgWQIFJV3RAtiyfSGsYkAESACRIAIJEKAZKP0yEbEsvmwTPTx0IIYLajRglqhdCBpe5G1+CQp5Y+kxDptXJ1m7fuutzwkDGSbMMD6Yf1QB6gD1IFi6EC9//+ZHxEgAkSACBABIkAEiEAyBEgQS4Zf3WIXtaLqBjAzIgJEgAgQgboiQFJT85GaWGfp1VnSj43Wl6JbXyJWxKrZdSBpe5G1+CQTNY5MROzzh33Wvu96y0PiQTGIB6xn1jN1gDpAHci2DtT7/5/5EQEiQASIABEgAkSACCRDoKi8I1oQS6Y3jE0EiAARIAJEIBECJBulRzYils2HZaKPhxbECmU9qtnJTZQ/OUEvaXuRtfgkKeWPpMQ6bVydZu37rrc8JAxkmzDA+mH9UAeoA9SBYuhAvf//mR8RIAJEgAgQASJABIhAMgRIEEuGX91iF7Wi6gYwMyICRIAIEIG6IvD2hb81JDY1H7GJdZa8zqD7Sd3fHptCkhSPWaQOFEEHHp2StLnIXPwHxy8zJBQ1jlBE7POD/YPjlmXu+663QIvn3GdIPigG+YD1zHqmDlAHqAPZ1AH8F9MRASJABIgAESACRIAINBcCReUd0YJYc+kppSUCRIAIEIGcIfCHFa+SIHZ+crIRCVvNhyF0P6n7+5MLSQ4qAjmIZSy8nuNbz5vbOOtaEsRG54ekRMJZ4+oS31LR3aVLHyZB7JxsEgZI5GC9UAeoA9SBYugA/ovpiAARIAJEgAgQASJABJoLARLEmqS+ilpRTVI9FJMIEAEiQARiIvDe2rdJECNBrJA6AN1P6j586YbCE2d4dGHyowuJYfYxxLeeN7flqnUkiJEgRh1IQQfwLRXdrV71LAliJIhRB6gD1AHqAHWggTqwetWvit4dYfmJABEgAkSACBABItB0CBSVd0QLYk2nqhSYCBABIkAE8oTAh1veLyQ5iBa/ms/iV9p19uGWvyX+lD95ZzMJYrSuRR0ogA7gW8+b27bpBZKDUiAH0XJX4yx3ZQV7fEtFd8898xZJAQ0kBdA6UDGsA7GeWc/UAepAmA7gv5iOCBABIkAEiAARIAJEoLkQIEGsSeqrqBXVJNVDMYkAESACRCAuAjuM2bbsdySJ0YpYoXQAOm92xP1YHOF3fGre3zSbBKECEIRo5Sv7Vr5qVUfv/3K2MTs+dTQAzf1ox6c7zIbJl5MkRpIYdSCBDmw4+3KDb6nobseOHWbpovUkiZEkRh2gDlAHqAPUgQboAP6D8V9MRwSIABEgAkSACBABItBcCBSVd0QLYs2lp5SWCBABIkAEcojA9s1/KRQ5KG1LVEyv+ayRQefTcv98awMJYiSIUQdyrAMfv7UhreYic+lsfeAZkoMSkIOyYsGKcjTOitnW9U9n7rtulEBPbHydpIAGkALCrMnwHa0NUQeoA9SBYugA/oPpiAARIAJEgAgQASJABJoPARLEmqTOilpRTVI9FJMIEAEiQASqRODdW98kSYxWxAqhA9D1tN0HW64kQSjHBKFaWaZiutm3SoZvO+/uV8vXkCRGkhh1oAodwLdD50dg5fWbSRIjSYw6QB2gDlAHqAN11IGfXb/Z/2fMOyJABIgAESACRIAIEIGmQaCovCNaEGsaFaWgRIAIEAEikGcEPv3w3+ZP171RCIIQLX41n8WvtOrsj9e9Yf794b9S/5R3fLLdbH/mIpLESBKjDuRIB/BNf/rJ9tTbi6wl+M/tH5knFt1MglAVBCFa7mqc5a5GY//EopsMvh06PwIffvBPc/VlG0kMqCMxgNaBimEdiPXMeqYOUAdcOoD/XPz30hEBIkAEiAARIAJEgAg0JwIkiDVJvRW1opqkeigmESACRIAIJEAAJDFaEisueSotElZW04Fu14IcJp8cSGK0JJZ9i1C02sU6iqID+JaLQA6T9gtEF1oSKy7ZqdFkq2bLH98KyWHSepT7WKimJTESGVxEBj6jXlAHqAPUgfR0AJbDSA4r74fwCREgAkSACBABIkAEmgmBovKOaEGsmbSUshIBIkAEiEAhENi++S9m27Lf0ZoYj5zMhQ5Al6HT9XL/fGuDeX/TbFqSypElqSiEIobJB/Hs/V/ONh+/taFezUXm8tn6wDNmw+QVtCZGa2LUAYcObDj7crN1/dOZ+26zKtATG183SxetpzUxWhOjDlAHqAPUAepAijqA/1b8x9IRASJABIgAESACRIAIND8CJIg1SR0WtaKapHooJhEgAkSACKSFwA5jPtzyvnlv7dvmDyteNW9f+NtckIWyat2KcqVnuQ26Cp2F7n645W/G7Ejro4iTzg7zyTubzYcv3WD+/uRC87fHppAwRsIYdSCLOvDolNI3im8V36zZ8WmcDz2XYXd8usNs2/SC2XLVOrNx1rXmwfHLSBZykIWazeoV5Y1vIe7BcctK3wC+BXwT+Dbo4iGwY8cO89wzb5nVq541ly592Cyecx9JAimSBGiJJz1LPMSSWFIHqANZ1QH8d+I/dPWqX5X+U/HfSkcEiAARIAJEgAgQASKQDwSKyjuiBbF86C9LQQSIABEgAkSACBABIkAEiAARIAJEgAgQASJABIgAESACRIAIEAEiQASIABEgAkSACBABIkAEiEAIAiSIhYCTpVdFrags1QFlIQJEgAgQASJABIgAESACRIAIEAEiQASIABEgAkSACBABIkAEiAARIAJEgAgQASJABIgAESACzYZAUXlHtCDWbJpKeYkAESACRIAIEAEiQASIABEgAkSACBABIkAEiAARIAJEgAgQASJABIgAESACRIAIEAEiQASIABGIjQAJYrEha0yEolZUY9BmrkSACBABIkAEiAARIAJEgAgQASJABIgAESACRIAIEAEiQASIABEgAkSACBABIkAEiAARIAJEIB8IFJV3RAti+dBfloIIEAEiQASIABEgAkSACBABIkAEiAARIAJEgAgQASJABIgAESACRIAIEAEiQASIABEgAkSACBCBEARIEAsBJ0uvilpRWaoDykIEiAARIAJEgAgQASJABIgAESACRIAIEAEiQASIABEgAkSACBABIkAEiAARIAJEgAgQASJABJoNgaLyjmhBrNk0lfISASJABIgAESACRIAIEAEiQASIABEgAkSACBABIkAEiAARIAJEgAgQASJABIgAESACRIAIEAEiEBsBEsRiQ9aYCEWtqMagzVyJABEgAkSACBABIkAEiAARIAJEgAgQASJABIgAESACRIAIEAEiQASIABEgAkSACBABIkAEiEA+ECgq74gWxPKhvywFESACRIAIEAEiQASIABEgAkSACBABIkAEiAARIAJEgAgQASJABIgAESACRIAIEAEiQASIABEgAiEIkCAWAk6WXhW1orJUB5SFCBABIkAEiAARIAJEgAgQASJABIgAESACRIAIEAEiQASIABEgAkSACBABIkAEiAARIAJEgAg0GwJF5R3RglizaSrlJQJEgAgQASJABLKHwA5jPtzyvvnL2m3mDyteNW9f+Fvz1vm/4Y8YUAeoA6E6gLYCbcZ7a98utSFmR/aat7pL9OkOs23Ti2bLVevMxlnXmgfHLzPrR1/MHzGgDlAHqANV6ADaULSlaFO3bXrB7PiUfzR1/19jhn4EOG4K7RtyDMkxNHUgXAf846e/mUKPnzhuYt+wir4hx9acW8iaDmRhvLJjxw7z3DNvmdWrnjWXLn3YLJ5zn1lwzr38EYOm0QHoLHQXOgxdhk7TRUOABLFoODU8VFErquHAUwAiQASIABEgAkTAicDfn3zPbFv2O070kwhEHaAOJNYBtCXbN//F2dYU4eEb6582Gyav4EQ/J/qpA9QB6kCNdGDD5MvN1geeKcJfCsuYQQQ4bgonvpAYRHyoA/F1oKjjJ46bSPLJGsmH8lAn09KBeo9XHn/sNXPRogeahghE4hqJe1F0YOmi9eaJja9ncESYPZGKyjuiBbHs6SIlIgJEgAgQASJABJoAgU8//Ld599Y3ExNCOAkcfxKYmBGzvOsA2ha0MUVx/9z+kfnV8jtICKkRISStiVqmw0l/6kB+dOBXy9cYtL10RKAeCHDcxL573vvuLF/jdfzPGD99lP/xE8dN+emLsV/NuqQOhOtArccrH37wT7Py+qdIDKOVsFzrwMrrNxvoOl0wAiSIBWOTqTdFrahMVQKFIQJEgAgQASJQcASwyPHHn75OchgtRlEHqAM104E/XfdGIUhiWOR4fOFNJIeRHEYdoA5QB+qsA08supkksYKPaepRfI6bGk+cIXmJdVAUHfjjda/nmiTGcVM4mYRkG+JDHcifDtRqvALCzFWXPpZrYlAUK1MMUwxrZFdftpEksZCBb1F5R7QgFqIUfEUEiAARIAJEgAgQARcCtBzGSfaiTLKznI3VdbQ1eXe0HJa/SVxOzLNOqQPNowPYmU9HBGqJAMdNje1Lsi9P/IumA7AkllfHcVPz9K/YF2ZdUQfS04FajFdoOawYxCgS4FrqGZbE6NwIkCDmxiVzT4taUZmrCApEBIgAESACRKCgCPz9yfdqZjGoaJO3LC8XLKgDlXVg++a/5La1fWP907QYVGeLQZyoTm+imlgSy7zowNYHnsnt/wwL1lgEOG6q3M9jX5gYUQfS14Htm99rbONXg9w5bmK/My/9TpaDulyNDqQ5Xnn8sddoOYzHShZSB57Y+HoNeijNn2RReUe0INb8ussSEAEiQASIABEgAvVCYIcx25b9jgQxHitIHaAO1E0H0OaYHfVq5OqYz6c7zIbJK0gQI0GMOkAdoA40WAfQFu/4NI9/NHX8T2NW5Qhw3FS3viIJRukTjIhpc2O6bfnv8vW/xnET+4oN7itWQ+hhHBLB0tSBtMYrO3bsMBcteqCQ5CBa02qxplVULJYuWm/wDdD5ESBBzI9HZu+KWlGZrRAKRgSIABEgAkSgQAh8uOV9TvSTGEQdoA7UXQfQ9uTNbdv0Iif6OdFPHaAOUAcyogPbNr2Qt78ZlqfBCHDc1NwEGxKkWH/NrgMfbPlbg1vB9LLnuIlEmzSJNkyL+tSsOpDGeOW5Z94iOYzWwwqtA/gG6PwIFJV3RAtifj3gHREgAkSACBABIkAEAhH4y9ptdSeGNPvELOXn4gJ1ILkOvLf27cB2qVlfbLlqHYkhGSGGNOsEMeXm4gZ1ID0dQJtMRwTSRIDjpuT9P/ahiSF1oHodQBuUF8dxU3r9HfYdiSV1oHl1II3xyupVzxaaHFRUy1ksd4v1NHwDdH4ESBDz45HZu6JWVGYrhIIRASJABIgAESgQAn9Y8SoJYrQeRR2gDtRdB9D25M1tnHUtCWIkiFEHqAPUgYzoANpkOiKQJgIcN1VPbCEpiNhRB5LrwB+uyM/4ieOm5iW0kIzEuqMOpKcDaYxXLl36MAlitCBWaB3AN0DnR6CovCNaEPPrAe+IABEgAkSACBABIhCIwNsX/rbuxBBODiefHCaGxLDZdQBtT97cg+OXkRiSEWIIJ63Tm7QmlsSyWXUAbTIdEUgTAY6b2P9u9v435W9uHc7T+InjJvYvm7V/Sbmpu2nqQBrjlcVz7is0OYiWtFosaRUVC3wDdH4ESBDz45HZu6JWVGYrhIIRASJABIgAESgQApwkbu5JYtYf66+ZdSBvTW2aE4VMixPP1AHqAHUguQ7k7X+G5WksAs3c56LsHDNQB/KhA41tBdPLnX2c5H0cYkgMqQP50IGkLWtRSUEsN4lhWgeSfkd5i19U3hEtiOVNk1keIkAEiAARIAJEoGYIcKI4HxPFrEfWYzPqQM0atgYlzAnafEzQsh5Zj9SB/OhAg/4OmG1OEWjGvhZl5hiBOpAvHchL88q+Vn76WqxL1iV1IJkOJG3XNUmG1yRNFVUHkn5HeYtPgliT1GhRK6pJqodiEgEiQASIABHINQKcMM7XhDHrk/XZTDqQt8aVE6PJJkaJH/GjDlAH0taBvP3PsDyNRaCZ+liUlWMC6kA+daCxrWB6uaf9f8/02IekDlAHmlUHkrasRSUEsdwkw2kdSPod5S1+UXlHtCCWN01meYgAESACRIAIEIGaIcCJ43xOHLNeWa/NoAM1a9galHCzTkhSbk6mUweoA3nVgQb9HTDbnCLQDH0rysgxAHUg3zqQl+Y1r/0Olot9auoAdSCuDiRt1zVJhtckTRVVB5J+R3mLT4JYp7hs+gAAIABJREFUk9RoUSuqSaqHYhIBIkAEiAARyDUCnEDO9wQy65f1m2UdyFvjGncikOE5eUwdoA5QB2qrA3n7n2F5GotAlvtUlI19fupAMXSgsa1germz/1Pb/g/xJb7UgebRgaQta1EJQSw3yXBaB5J+R3mLX1TeES2I5U2TWR4iQASIABEgAkSgZghwIrkYE8msZ9ZzFnWgZg1bgxLmJGzzTMKyrlhX1IFi6ECD/g6YbU4RyGJfijKxj08dKJYO5KV5ZT+sGP0w1jPrmTpQWQeStuuaJMNrkqaKqgNJv6O8xSdBrElqtKgV1STVQzGJABEgAkSACOQaAU4oF2tCmfXN+s6SDuStceXkZ+XJT2JEjKgD1IF66kDe/mdYnsYikKU+FGVhn546UEwdaGwrmF7u9ewLMC/2PakD1IEs60DSlrWohCCWm2Q4rQNJv6O8xS8q74gWxPKmySwPESACRIAIEAEiUDMEOLFczIll1jvrPQs6ULOGrUEJZ3nSkbJxUpw6QB0oog406O+A2eYUgSz0nSgD+/DUgWLrQF6a1yL2SVhm9sWpA9QBlw4kbdc1SYbXJE0VVQeSfkd5i0+CWJPUaFErqkmqh2ISASJABIgAEcg1ApxgLvYEM+uf9d9IHchb4+qa7OMzTgJTB6gD1IHG6UDe/mdYnsYi0Mg+E/Nmn506QB2ADuTFsW/UuL4RsSf21IFs6UDSdr2ohCCWm2Q4rQNJv6O8xS8q74gWxPKmySwPESACRIAIEAEiUDMEONHMiWbqAHWgUTpQs4atQQlzojVbE62sD9YHdYA60KC/A2abUwQa1V9ivuyrUweoA6IDeWle2UdjH406QB2gDnymA0nbdU2S4TVJU0XVgaTfUd7ikyDWJDVa1IrKWvX8+9//Nv/617+yJlbu5fn444/NBx98UPqhDurpPvnkEy9vXNPlA4FPP/3Uq9ePPvoosFDQvSw66mX9agVtvrQ/RW4DZKKRfjYnnd9Y9Lz5/XkvGtZPNuuH9ZKsXurX4gfnpPuiwaGivanlBOe6EUtMLdPPUtr3DD/f3D3sfAM/TK57R1wQ+j4sblbeoV5RVvzuH3VR05dH41okndXl5nW2Fruitd75DvWPf/yjpgX88MMPS2Mq+Hl37Pcl6/fVA7/XFv6a46bzs19P9dCFvObRyHZWz6ElXUOpZX/p5yMvzF2/OgivqGOJRvfLMc6RMU+YLL8YtdTcN3JprsZEQXXH59kaMzSyPpK2681MCJo77U6ThvxIZ/bUNaXf/JnrUkkzDbnykgYwFXzTqrO0sUn6HeUtflF5R7QgljdNrkN5Vq9ebb7whS+Y//iP/zC33XZbHXJkFoLA4MGDS7gD+4cfflge18X/8Y9/7OWNa7p8IPDKK6949dq2bduyQr388stm9913L4WZMmVK2ftGP6Be1q8GrrvuOk9Xzj333PplnLGcmnXi9M3zXjIvnftUrhcAxrUfUdLRnb70TfPo5PtyXdZm1UPKnWwBqlHNIcjk+L/dddddvf8B9EVvvfXWRCLVYlIRE+QHfGu3kpz77PS9QkyYoy7k58L0ulNmmG9/+eulMH0POKapFxCO+N6+Xlkv73NWU5dF6qqIOitlp5+9hZ5EjXqTR8biffv27UttTOvWrWu2IVLaa/h5d83a79u6+AXz4twncz2WwFhp16/tUtL30W2H5bqszaqHlDvZuEnwa0Q7e//995tWrVp5fVa092PHjk0kSq36TP0P7FCS82uf/7LBmKFW+WQl3Upjiaz0yzHOkf4CZHbhN+e408z//V//WQo3u9MQZxhXPD7LXv+bdRKvThI1psY0JRlq3oy7za677F/63r/7nb0N7pMQhvba43CvjRkzbHmitJLIkde4wFTacGCdxXIm/Y7yFp8EsSap0aJWVJaqp2vXrl4Dh2u6+iFAglj9sC5KTpUIYkuXLvW+9yxOYpMgVj9NJUHsM6xlorFe/l1jV5nj9ung+204+95Ik/iY+J/WeZLpsHc78/n//FzpW/7uf3/H9D6wh1l84lzz2/nPREqnXmVNmo8MvuDP7jo1V2VLig3jp7PA0Ggc69fi+3O67LLLfH0B+dauvfZaf8CYd7WYCL3spDN9suK+FvlkKU2pD/guuUa17uHDxBWmWZ5VWtRplnJoOYuos7r8vI63IFJrvGI247kKvnnzZl9biftaON1m1yL9LKVZj37TA5PuMifsd5xvrDTrhCmxxwEYN/U/tI/Z91t7e3qA8dPh3z/ETDx2TO422mCspHWxHnXFPPIxHmm2eqx3m/jcc8/5vi35zgYNGpRIlFr9/4t88DFmqFU+WUm30lgiK/3yKASxw3fZx9M1XGcFY8qRrb59HusjUWPapASx0ae3GO5Ae437JKQjEsRqe7QmCWJJv9L6xy8q76jptqwVtaLq/0kE5zh8+HCvA4pruvohQIJY/bAuSk6VCGI333yz973DckjWHAli9asREsQ+w7qeE6JvLH7B7LXTHt43KJN3a8euqrjosW787R4pTOLZ/sG7tMrV7niQ36SMy/tf6MQI5Lr5Pc4p/fJuUa2eusq86rPgU78W35+Tthw2bdo0I78nn3zSHzDmXS0mK28+dbbXDqA9wH0t8slSmtLuwXfJNb3DqR4mO33xK84wrnhZfFZpUSeLMleSqYg6WwkTvm/cwlLMZjxx8PXr15vly5ebpITjxIIYY7Zu3eq1lWhPcV8Lp9vspOlnCT9XWWrdP7x73C3O8U6PA05wjgOC5JnUYayv7nUdyfVXP/8Vc9PpV8dKNyi/LDzHWEnKhjFUkEyX9D2vNG762bBrAsMExeXz+owPiHM4zq62qZbPRo0a5X1bQ4cO9cZNK1euTJRtrfpGGBtIW4AxQ63yyUq6lcYSWemXRyGIddn7CK/ucJ0VjClH4/rxRcE+UWPapASxs8e3nOqCNhv3LoLYaQMWma6dR5te3SY530scEsRIEEv6HeUtflF5RySI5U2T61Cet956y8ybN88sWbLEvP3223XIkVkIAiSICRL000KgEkHso48+Kh0rNXfuXPPMM8+klW1q6ZAglhqUFRMiQewziOo5Abug5yxvwkcm7eBXIojdMeZnZYslmPg/Zq+2Zc+xS37LnMdzMeG/bvxtZsIxo8ySk+aZVxY86yzTmR3HeZhumvaAM0w965h5hU/oEx8/PhUb6hoE+Pjjj71vBkdOp+lqNYGJIzb6tTrWzD9+WCEmyvX/gwvTe4YvMWPbnGgGHdLZNPuxjJUWdVzlb4ZnRdPZZqiTosqYZhsfJa02bdqU/mO+/e1vRwle8zC33XZbaTH/rrvuqlleus1OmknW8LPLU8t+3C0j/AtlGtc4BLEZXc72+jmSBjbotP7BYQakMHkm/i+n3p+L8QPGSvO6zzQYG/38jDXOMr228Nde+fsdcpIzTC3rmGn7xwHEozo87Hap1vdt27b1vptt27alll2t+iWwmHXKQR3NpLZ9DcYMtconK+lGGUtkoV8ehSC2ctBcM+SQ483wI7qbVYPm5r7usqJDlKPxBLikDauQpJrN73/SDHN065PNwL5zAslfu+z8mWXBL33xq4FhUG4SxEgQS/od5S0+CWJNUqNFragmqR6KWWMESBCrMcAFTL4SQSzrkBSBIPa3v/3NgJiL37/+9a+GVQkJYp9BX6+J2V/N2ugjc7XaeX9vojGMIPbmeS8ZbUlr16/tYn45db03of/781401w1Z4aWFxY4RRw3x3terfI3KhwSx6ibWG1VfzNdfX434A8B/kCyKNgtBrGiTtlI/8PNQ9vtHXWSw4IHfmqELfWWKsqiTVQzWjVjilevuYef7ypVVmSlX4xdA6l0H9f6fyTrBqVo8/vGPf3jjtw8++MCXjG6zfS+quMk6frXqx10z2H/09aHfO8jojTVRCWL3Tljt9XFQL4iHMZiWW1vaQpi2ux/pe6/D5u2aBDF/Pzxv9VuU8lTRtCaK0qpVK69daQaCWL37GY3Or1nGElEIYo3GkvkXb5yQlTpP1Eg3qQWxqGQ2EsRqS/yKWg88YjLpV1r/+EXlHdGCWP11jTkSgaoRIEGsaugYMQABEsQCgMnI45EjR3qTS5iQvuKKKxomGQlin0Ffr4nUvgf38up+1glTTPcfdfHuwwhiq0ff5IXb6UvfNE/PfMS5iHHD0Cu8cJ//z8+Z1xdtcYarV3nrlQ8sjMnCXLNaENs45Rfm0cn3OX/Pzf5l1fWIRaD7J95psBAGK2ywRPfi3CdjpYdjO2GF4IqBPy4t1EHPnpj+kAFxMWodw6KdXb5fnfNY5PjIB0RI4IQFRBwpumLgJQbHEOHY1jA5wrC1ZcL9y/N/FZpeWF7VvGvEHwAJYtmf+JU2DX5WJm2rleOSEyeYb3/56147/X//13/6ytQsizp2+WGVAWWRumq/24G+ctnhi3p/x9BF5rpTZjh/Nww4x/x85IWRcLtl8LnONHTat5+2IDQtO417R1zgDL/6tAW+vO4adp4znK5TpL2k22gz4ajeZtqxA83SHuNMlHg6jVpd1/t/5rDDDit9F1mxIJZG+a+88krzhS98wfve+/fv70tW2gH4SV3W8aumr1Mpzo/7nu9hCwxhIfl3C541l/Zf6j2PShBDOKkPpIP+oyv/hT39x1fH7R+70myGZ+jnCj7NakHsmZmPlo0rpE//5PSHAuu8Uv3osQb0A0dwBo27g9LC+Puhs+4pbd5CGhg/PXzWuorjFZ0edF/KI77eHKbDhl1jrLVy+LUGcizrt8TcPvJG89v5zzi/B0kH34HkGcXHmFDi1tNP2s7GjU+CWLbHTs0yliBBLNt6dP0pM339f98YY8j8imMB9ON/PuLCwDQkPYx/7hu5NDA9e+xkb66S8cI9w8/35XV7BBkh3xUnTzY4enbC0b1L1tmv6TctUBbJqx5+3HbZDh+V5NOM4b7zrT1LfTdaEGssUYwEMfury/49CWLZr6OShFmuKFh22bp1q9m0aZN5/fXXq0YUxzYijXfffbfqNLIW8cMPPzRPP/106Yi6P//5z2bHjh2xRPzrX/9qHn/8cfPGG2/EihclMOoNlnmeeOKJknx/+ctfokQLDIN6w1F8KK+9WzQwkvUCMkAH3nvvPd+btAhiwP+Pf/yj2bx5s9myZUskq0RBlprSKC922AKzF154IZIsPlAycPP++++bF1980WzcuNG89tprVZUBC7C//vWvS3WC7yVt9+9//7skI/LAtbg0CWLV6JXIof047UWt9PJPf/qTefbZZ0vtDnb9xW2zdHmiXiNPfPfQIeSn60YmZlesWBGaXBrfEtJ46qmnyv7HakEQw7eDtl3KHFq4kJeffPJJCS98g/gfrmV91WMyE8QcqXNYAMPkcVSCGCbvJe6M488KnYTVVsmuHnRpaNh6lFvnAULRUzM2mLvGripNnFci9ui4QdeYQD94l5YdvVEJYsgbE9og5kWNEyRDGs9B6JM6dvk4DgfWDUCMioLb83OeKFlMcKWFZziGFMSxMNlfmPtk6XjPoDQg87A2g0sLeGHp4F2nHx5TVj7IUCke3oPkNqbd8LL4IhdIk7O7TjVbA4hilbCVdMQ/u9OESHJFkT1KmJBmMNKratrcohDEQDzBRC8ISjefOtvcP/qiWJOfOJIFE7nLep1hKhFP0p40FX2En2basHJ1db+pNSsTJp2v7TfNXHrSJCMWtTrteYjv+01KEFt7+mKDiWzU640VJtjTwg5EHyzqXHnylNKEPnTpy//n875ytdutVeK6SqqzUl4sLCzrNdHcNHBWYpkkzWp9EOm0Pruud/3K/xjoybX9pwfKCwKeK679DPXSY9+jzFoHqWv/b/3Al8biriOd+Z168HG+cLgPKj/IYLYuaJl67ndUmdW8oLRq9TzSn4kVqNqxMOa9pPy1IIhhLgbzCxhfYQ6qFm779u2leQyMsTGvhDHI17/eQnJF+fr27evLWsoMX1w1Y5la4yeyJfGj9G3ihFl84lxPZ4AfCF6yyaUagtgJ+7V8vxvOvjewT6ctaSHfsM06ccqTZlhssMAmDVhFS2sDg7bUFocg9tK5m836SWvNuvG3Rer7p4mDnZYmAepvT19jfDi67TCD8Ywd377H2Ar9fx1fX2McdvmAi0PTQRoX9F7gPMJU0gJhcfOMh0PTgWxzu013ygJ9sGV33YMM5jpKVeQ47ciBgbhgQ5GEi+q/sej5SHK5ZK32WbVt2Mcff1yaE4w6Zy75FIEghr4tLP2i/4h+dhiBxdVfQXiMtzBuurHO/c9aEcTS6pcLXmkTxNLEHJsmcDRpPesOYzroG8Zzccfpgmmavt7442r/0N8/aOc9zbijTgr8PjAOdsV1Pdvj6zuXNpfYZRh8SGdfGjgu1g6De2xM0enus9P3nOEQFhtZjtx1P194HReyzD9+WGB8V/5pP5P2tlq/GYlfUWSecsaNXr1VQxCbf846gzRGnnaxOWPUFWbejLtDj6mMIpMrzNzpa83E0VeaUUMvNnOm3RmYB8JNGnO1GTHkwpJcrrSiPPusTBeZGWetCswrKB1ggPiQFaSvmWffGimNuAQx4DBpzFVm5GkXmRlnxpczSP6w59V+P3mNl2XeUS0xb5mRqGUuKaadxYp69dVXjW3lBX+c2DXYtWtXc9ttt1VEAOSSnj17lk0m7brrrqW0baKQTvD55583mFDDD3LAvfzyy2bs2LEGJueRxrRp08xzzz3nhRs6dKhOwnm9Zs0aL/wFF1zghfnZz37mPb/22mu95/YFSAYzZ840e++9t/fnJB0KyISdlWHHpYEkNXr06JL8Ek9w7d69e4nYZOcZ5x4ThvPnzy/DXPJYuHChCSPqoOyCO67feeedUh1qWXF98MEHlwaVlWQDFnPnzjU4vkengcHlrFmzzEcffWSSEsSwyLdo0SLfjlbJq23btua8884LrBObiJO0vCApnX/++UYPnkUW6O3q1asrQeZ8j28O9QIdA2ZBrnXr1qVwwBsD/yDXvn17L9ynn37qC/bYY4+ZLl1arPqI/PARD6TDMIc6v/nmm8vqHPH3228/M378+MREUXz3nTt39tU52qbevXubRx55xEdCgg7Y7ne/+10JS92+2GGS6JWkVW17kaZeYkL/hhtuKGGv61Ku0W6CTBrkorbFOj7aIbSTepc58sO9tAXIF20wfiBS2i6tb+mWW24xsgtdyox6Hz58eIl0lRZB7O9//7s544wzvPJJXigzdBWLOGEOuEAu+HCoM3shBmmh3cRiS9qu2onJqPEwYbzXTnt4/wPYjYy4UQhi9uLF49MeDJ2APa/XuV4+WCCJKiPCYccwyGsg3By3T4fQuAMP61sKh7CuiW79/sEz7zb3jLu1REoS3RC/6/6dTZiFrNPbDPLyQTpSHiwYIW9JR3xMhuM5fr1adffCS7xfTr3fQDYJLz5IRB32blfa5S1h6+nHITFhwQM7uoPku3XE9aGLAlJm+LBk57IEhsUUF746rlzv/o0fhJLNsKAkYW0f1r2CyoHn2IGvvx07vr5H/bl2xcfBFunhyNIwmdJ+V017Vm2bi3YabS1+Gjt5Bh//G0lc2hOFkt5uX/u2+drnv1yyRCXPtA8LVfr91GMHlJE2MOk78KBOFS0WXdJzQmnyV2OE652++BVz7O4HmRV9znZOnl7cc3xJBsgx/IjuzjCQGZP5IMQgXNBErs5bl1OurztlZkkepNH1h63L8rqq71RPFrz/xailpu8B5URNTHSf02lwWXzJJ6oPstZe39jFp1cow3f/67N2GnKOOKJ76YdJdZ1u1EUd1Muh3y0fgyKfA761m1l+0iRfujoPXNs6gt3YmIDHRD/e7bvTrr74OBZzyjGnlHDW9YFr6CN8EI6kXPOsSfV66izKh/J02+fIMnmh98D4qr5TfOWz8anVfRSCmMZ3VOueJX215YlKEJO0oHOrBs31lRl1LO/hRyWIod2w5QHeIAXq9IKu0XaAbGqnUa/7OG16tWNh+X+xMdD/L5deemlkUewxGMZGU6ZMKcMb44VK/1uYm4AcMs5wCYE5AYyLMN9gl0HmNjCulvHb2rVrfcnoOHgRdyyTNn4+4VK+SbsfNLXzJA/zQYf39xH+qyGIQT5YmKpE6EE4jHuk7mDFLG7Zjt+3ozfuwKaVoPhL+yzywl01aHlZOP0e1zgSE2MxkU38/b+zr/nFxDvK4ku+j035hfnuf3+nlBfGO/IcfX1szHCRhmTcBB/kL4kDH2NYWCHWOIks6J+DaBSVtKTTTXodhSAmcqLMN51+ta9cOn9sFNKbjSSey+9zUE/nWAP4uurLlQbGJbCCrGWwr/WGL53GxScvDo2H8ZueX9Bx7WvoiWs8WQ1BTAiddjlqeR+nWUP7jjlGzOPbOGAOOWgNRK+T6Hj6f23SpElxRCkLW6t+QK/9j/bGARgT2PlgbIB+En54j40d0rfVZT36BweYSlaJYA0J6el4uEb/8/Bd9jGzOw0pyx/yYDOD9M1BXLFl1Pda3p+dOqcsbJSxRL375Vp+uY5CEJvR4VSvbs5u37+srEirWswR18YB+R2y816++sP4EP1ukIpEdtuHbKJDIucF3ceU4oFshHfndh5aFh8bOKCfqHutM9AXyAGCoZ1Xve4hg5Yp7BpjeFffPg5BTNIfetgJvjIPsghi/Q/s4HsveEQliIH4FbVsyFvSr7df1kDGfBBGmon7buZZt5j//q9vGhCy9t37qEDy0OQJ15fCINwB+x0TGG76pJ954Q46oJMv3P/s9IPSu69+5Vu+50cc2qP0XPREfOQlv26dx/ji7LXH4Z4Og8w0auglBulLXPFRpulnrvTFjYMRZIUMInOXTiPMf/7v/+PL5we7tjI9uow3IKghbRDDjjl6oC8M5EG8bseP9cKFyQGC2957HmE+97kv+9JBXR1yYBeDeguLP3vqGtOh3aCy+CJHx/aDzZypdwSmEZUgNnzwhWa375dvboOcP9q3vRk7/NLAPMLkj/Iu5meT++BZ5B3VA3QSxBKi/NJLL5Ut7EsDqn0QtLTVHp3t9ddf72uodDy5xqACVlZcDoQBCQfiFCyoyL34WOAH2Unu4VeylAWijYTXC/Y2IcMlE0glMjkmabh8ECNc7sknnyxbkHLFv+aaa1zRKz7DbksQcFxp6mfAPWi3qcbhwgsvLBGCdFz7+s477wyUC3XRqVOnUHlAOBo4sOXP8eGHHw5Mz/UC9R+lzCBouHQjzfL+4Q9/MB06lE9i2ZiBIBVG3nKVc8CAAR6Ojz76qCuI+c1vfuOFQZ7r1693hgMJTmRC/Wi3fPly752EcfnQjSDnIpbaaWDiGZPe1bhbb721ooy6HC6CmN2+2HIk1Sukl6S9SEsvQdbT35ddD/oeiyEuZ2MV1BZL3N///vdlxCadj1zj/yPIpfEt4b9p6tSpobqCBZVzz20hE+G6GgerbK7FFCmr+FhQsQmZkp+Egf/AAw+Eyo1JvDAisqQZx6/l5CXSxrEOUkZN2tITuEG71jFpLXExwV1JVliFkvAg7lQKr9+D6CVxsQCh39nXeiLdZYFLW4y6bsgK54KE5IVygbhl54F7nQ520EuYaWoxSdKx/aN2a+2FRzwc7xGFLDS2/Qjf4pTkWUs/ily6fAj/7KyNvvJBPiwo6XBRrl2W5jTuUdKAJbEgfPTinp0WLH8FxcNCm2shy05D3/c/tE9ZenGxzTpBLEmbG6WfFrRIErVNrdVEoq5nVx76/ZLuY0K/A0zoBu2KxyS5Tivo2rXYoeMGTeRCdlgmk3QxeV6pPK73lRYY7Pf2RLPkLz7IY658ojyrlDbywKS0TdaRtKMs6oBUJrKG+SNb9wgsh44Hi3C21SddF9CPA7/TQuzWcfV1mC7pcFJW7ev3SXQWaWJhD/LrNF3XZ7XvF4iPli3N67gEMcjt2ikflyCGdBBHlyVNgtjR3/9RRbx1HWAhbN2IJT55tGy1vI7afusxpJbdvnaNhaP8v2CzXlRnj8Gw6c6WQ9+DPBbkdDhXGIwrosgfNgbReVQzlomSfxz8XOVM61lQvy3J81FHDzVnHDu6bNOC7kOCFJQkD1dc3c+UDTyucEHPQLKRundtUpB4kzqM9cK5iGjzus/03mPzRusffHZMq6Rt+7ACJmlrH2MlCYu+vLwDgUmeh/lrRt/sxUFc16YaOz4w0Jt4JM9a+nEIYiKviyQGXDDmlTBRfNeYR9dflDRA1gP5zoURjsgMSgObYVxx5Jm2nheUhn4O4t+rC5/zpZk3ghgs+gdtANZYYN4QG3C0w0ZsHcZ1PWjQIB0l9nWt/vsr9a31+wVdhpf1iXVZ0V8GIcklK8gwUYgn/VodW0b+B9FL8gGhyJW+PEN/W8K6LFzp8mAMJPG0L/Hh6+dyrd8n7ZdLmrZvj8/s97gf2+ZEr6y4tsMkwRxp6XKOPrKn716/wzXqHlbFbBlccmJzlB0fxxjquNhkhU0Tdjj7HptvsFFHx63HdRRd1rIi/G3WsY7VEMSQpt7IY4+tg+YVohDEcJykljnKNawj1wNvO4/YDagVIQp5JmoYkJo0CWlugEWsE7tO9OE7a8pqJ/HnlN7neOE6HXOaL4yuEy0fCFb6nesahCYdRxPETu0711cGOz7Kd+bYa33xdVph1zotlEff29cgbiGto47oHRrOJs7Z+ffuflZofOQL0hospdlxcQ+LYd/8Rst/iS2n3CONIGtfUQhiJ58YvhYn+fQ/aYZTTpfscZ5Zn0Xhb0kQaxIVyFpFiYUXfLBYQB81alRpNyGIT5gUkg8ZPiaqbIddJjoMSEDLli0zK1euNJhM0+kj3JtvvmknUbIoI2lgl4ttSQXvQBCD0xaowhZ1cPygpAmSlD6uSxMycG07WMSxZUC+S5YsKVlEsskBtqUoHDUmecNHeExwASscr2YTqez4tjz2PcgQwFnnAettmOS84oorfBghDN65nMZBrP/iKZ7vAAAgAElEQVSAFDdnzpxSWTXWSAc4BlkkAylLy4N6nDx5cmnXKUhEkr4OE5cgBrKVjt+nT59SeWHFS5MBEQYWvGyXVnkxqWrrNSZpQZTE7lmbNIUdsnGctnIUNDGKb0xjMXHiRGcW0C0JB8KKuAcffNB7jvewknf22WeX5F+8eHEZAQbH9dnu9ttv96UBnUQeP/nJT0pEJfsbcpH27DT1PQilIrv4mJCAfLNnzy7VsTwXvxqCWFK9StpepKWX9kICvoEFCxaU2nObPIVvGcfe2k4vTlRqi+12CGlCD9etW1f6Lu2Jqfvuu8/OrkR8SuNbQtssOgAfssB6I/QR7ZDdZiNMNQQx/H/pfNCuwdIlvkfopP2fCV11OTsN3MPKGv4zp0+fXma1Et9Umk4mVWvhg8SjCSraAlgUgtjd427xMK5E2oL82DEveCLfOGWqFUFMyo9JbRC7Jnc6o3RcosgJH5bEXLJqopImiMEqANLDT9JHOsBInmOBRaepd79jQejUw/sZ7MSecMyosp3j9SYJ6TIIHsOPGlI6whGT/XoBS3CD/Lp8uB5yRAuhWsK12/Mog8n+JSfNN6e1Ln8PXPTRIDieUuKKf+j3DjLzepxTsrA28dgxPqteOJ7m9+e9WCaLyBa2ox475CWc7U85zj/ZAlkgx6IT5xhYyut9YA9f3YusOM5VpxWELfB1/W4ceqUvvk6rFtdx2rKkbS7GMugf2v1uPJOf678pjoz2RF9a91K/8F1p6vcyudt5r8MMCEOYVBVLVhJuwtG9y9LBsSjyHj6sfIGogl3RPfZtU7bTGYsHWpasEsSkTJjk73NAezOqdY/Szm3BSd7j+ERdnijX2Cku8eFj5/cZR/cxi04YYXr/qJ2PtARyjouYV2lRx84DdYlywErc6Yd3LVtouKy3eyFDy+myRKYJYnpiHjh12OPgkqW1WZ2GlI5C1Ni5yEzATufnwlK/l/Ti6izSxbEsOi0svGAnOvRxYts+Zdbw5hx3Wux6dskf9ZlNEIMenrR/29Kv6z6tS5bbtPxyjXLpPGyCGAh8KKf8kKaLJKfTSYsgdlFP/xgcMiNvLI6hvQiS5XTLQoAuXy2vo7ThScfC8v9ij3fkvwV+nP8XPQYTncBYGuPzpUuXliwX2/MpOBLS5SQ+fJfTY0akCaIArJJhYxbmf3Q+QZshdR4SPs5YJm38XOVM61kt+kJBadaSIIZj73W9BW1WCZINz2tBEJN+K0hEIJbN7DLZwHKVlhXWvlwWy8IIYjI+sglR8hxjLm0V+spT/fNrIK2dc8KUUj8cVprtsUmUoxzDsIzzziaIYTwhfXpghU1SGi9c45lNyoIlLzscxkU44hFjRBw7KfWhw8FSm5bXtnYMvTir43hz1anLzIwuZxuMxSQ+6jUMq/k9/P/pEk98WPzWecv17aNajqCSsNAT6A+s0gEf3Ms78TE2lzTg2wQx1LNgG+TbuOr0anUdpT3D/Jy9oRrtO+bKMC+FExgEB/j2BmL8D8h/mLTrCIc5LnnuIkxHkU3C1Oq/v1LfWr+XPiisfaGfMuTQLmV9R1gSc8mqrUChf4d+Hazvom+sSV3ADX1rnUaWCWKCSTX9cl1G+zoNglgSzCGP1nm5hgW30w7tUrKs7DqGcPVpC3x1h3RAXpP40B251r4miOn6RhhgjPH12Da9DI5yt/UFYzwbv1rfS71LGaD36NP32r+twcYQ6Li8Ex86r+VyEcTwTcl4BdeucSh0TdLR41Dkk4QgBivbIqv4nfY8pDRewTyJbT0OYYDDnacv9uQRuWrtS7tYrR+HRBMlbKv9W4xgwCKUKw6sWQmu8Af0meUMB2tgEg7HGuq05Dl8/bxdm35mz90PNXvsdogXF2HwTH6DT1ngi6MJYmLRC2E7th9SspxlW7UKs46mZbGvtcxyfehBXczxHYaZNoefVEZMO7r1yV4ZSuE6Di8RxkDGkvjwg8hdNulq1132N12PG236njitlCcsmel0Jk+4wYfLvJn3GMTRYVB3XTuPNj1OmGB0XSMM3tllxn0lgtjZ46/z5QFCGuqxV7dJ5rCDu5UsrmkZhg5c7MzHlXfUZ9V+P3mNlzXeUb1wds961Cv3KvLJUkXB+ot8qFikd5F/hAQC4gWOYdMOR6phIV7SuPjii31ELIQFeUIPRDDpZDvXhBgIN7DCBUtZkOuf//xnKRom2iQ/7DwMcpdddpkXDgv32mlCBq5th8GT5IEBFqwD2c7ecQo5xfXv39+LD2tQwEA7kNVwFKLkAfJCHCtTOHZQBn6Iq/OWfDROyGfr1q3yyvM1DggDcpntNm/2H5V09dVX20FKxxBKWeADe03IQwToDohqOlxcgpgmecDyne1eeOGFkj5iMhXXtkurvDhaVMqBegAh0HYPPeTfCQeLX1HdG2+84aUfpOP2rlt8hy6nyU9PP/20F0QTO6GLtsO3rUmIQtDU4TQRDqQ226HORU5MOMd1esIdxwa6cLb1vBqCWFK9StpepKWXIESJXrq+LbQTeqIHR4PaLk5brBdWoH/vv/++nZy56qqrPJkwsWS7NL6l7du3+8qFxQk80w6kTpAtBR/41RDENGkW1i5t64xyxKfOBxbSbKffow3BTk/t8H+nrcGhTUvT1WriEumCPCPlA+FF5xWFIPbTIZd78fVOcJ2OvsYEreQHH0dU6vdh17UkiOGISTtvbVkNsm44+96yMEEEMZ1WJWtmCKt3Y2Pi37WoIgshh3//EINjEXUetb62Fx/sHfyvLHjWSf56YNJdnpxYrNB1j+vRbYeVWWPADno7HBYDpIywoGC/t4+PwVEiIJtBv7cG7IBHei+d+5QvLdSVvTiBupG8xddER5HFVRbIpReosAhi74SvhK3k2Sg/TluWVpuL/ojgivFOmq5WE4ciL3xXHvo9iF32cSg/H3FhieQj4TDBa6ejCV6YOLXfYydz31bHlrADQcne2azjB03kIs16WxBDmVEeYKDLhGNDNHEOJCj9Psq1JtyMt46ORPy7hp3nI3Bhp7Odrl6kcu3617gOcywWwCqTnvzusvcRZXkgT6l78UE4gjywRAA5US8Id8/w831hXTKBTCfpwEccu1z6vf3OlqdanUU6mjiFI1DvHuaX5f7RFxngJvKAQHbviAvK5HXJmMYzmyAGYpedLqwT2IsyOL5Rh9PlRFmw0KLf43rloHIrU7CMIeG0viKNao6YBJ72MUxI19YBtA96AQjHI906eJ4ni8hUDz9KG5/GWBj5YMwsuhY0Ho8ijz0Gw/+fzH9JfIwpsKlL8sNYweXkPXzbYV5Nv0e+tgPxTIdxzRHq90nGMmnhZ5chzft69pdqSRBDv1LqDYSesP5sUJlrQRCDTOf3Oresb4zjH0Ve+Bf0XlAWJoggpuVfNfynXjrox+t3+lpbD3MdbYixEqw1Q5ZKRybqdNO4tgliOKZUpwvLYJf0bZlfFtywwUTCYcys6w9hMAZ8ef6vvDAIi3GKHmsgnLZmh/CSvvg3DL3ClwbSAUkL4yBsxBEZXL4e1yI92yoYvgk7HsoL4pnkDx+bauzxLjb0HLNXWy8c6hjWp3V6NkHMtsitwzbyOkqbpjcaY7yzZcuWsmhPPPGEbw0HmztdTp+msm3bNleQqp7Vqg9QqW+t36P/BUu0tiwTjvIT6K7tP90XRhN+QFqy+0FID5sSoI84kt0mnOj4WbMglqRfbuOo75MSxDRm1WAOWXQ7gfHw1f3KjyDFMY9604XrqHVNEEOaCI9nsIQFQhn0QW8MwlhU8ob+wZqzxgb9a2z+kTDww4641HHTurbHIpf0nOCTEWNFkNq0jLjW1r9cBDF7zgDy2ulgbCHlSIsghjGQLSuOm5R8xL/kxAleOIwT5zqOBpWwtfSrakRVpKgEmqjh+vRosb5mW+pCGrAqZuMbZAVLCEwgbc2bcbePFKTTcMmm8wGhyhVGntkEMRwxKe/Ex3GOOs+Jo68sCyNhg3wdH0dY2kc7zjhrVdnRll//2s5llrnOOftW893vtPRf9tm7TZksKL8mkuE4Szm2UuTD0ZGIK3KB8CXv4M+ZdqdnPQzHPMKamH6Pa5DtJD58kL3sMJUIYprIZsuAtObPXGeObt2nlA+IdLi380h6rz4JXhpjssQ7qmeFlM961DP3KvLKUkXdfffdXmMQZqYe5BZM3tgOhDBpTPr27Wu/9u6xiK6JCS+++KL3Dhf2hFjQ8WcI+8knn/jScpGjEA7Wb0Q2+3g7TcjAtXawcqRlDdqZCSJAr169SpN0a9as8Y4Sg6UlyReThK4JNeSH+LDwI2FBlIjjICcmBV999dXAaNjlI+m7Bn4aB4QNctANSWfSpEllwUCUkPdh1rJAbNPYukgsZYn//wcor+SBwWqQg+W4oAFsGuW1rUUF6QfkgyU2kRmkwThOk5Zs8iCIOJKu9l0TAGKdCbhjR5l2mBifP3++fuS71uRAfE+205MGLnIQwmNi2/7e7XRc9yCz6bKBzBrkLrroIi9sXIJYUr1K2l6gTGnoJdLBcYY4yhHtepDDDnTBFVbFbBenLcbuQUnLJuFKuqh/CQMf7be4tL4l/T+EBYqw4xh1mxiXIIZjzqQsIGy5LLBJ2XSbCeKe7SQd+C7rfAivj4dFuHfffddOpur7Wk1u4thIKRsmoEHy0XlFIYjB6pOkcWKrbr74Oi19LeHhY3e8fhd2XSuC2Jyu05wy2JPZruNS0iKI4ZhLwQULQkE4gKRmE4yCwqb5PAqJCWQ/eyEDhCiRAwsPUkb4SNNe5JCw9mKDtuCGIyd1OrgGYUvixvFh6U2nhV30px3ZcrQ23mGnvJ2mXhBEGCzM2N+PxLlt5A1m0OH9za/OeawsHYSJgq2k1Qg/asOVZpubd4JYkAUpkDO0Ptq7oU8+4Bjv/cITRpRNnsqEKI7HkGvtayJTlghimOz++Ug/OUzk1hPHWAyR51F8TPprPF0LQ0gHO6UlnIvgpRepXGQspAFskU6QXCAYSR5Bi0zyHn7YrnQskklY7GYPylOT0rCQYoeTNODb73Cv31ers4gn6WBhJqgOsOiiyVEgbblkqsWzKAQx5AvLW1IW8X8xaqknZxSCGNKBHkt8+Dg+R8qlMcC7aghienFO8sHxLZKH9tHmwPpAUJuhw9byOur/TNKxMPJJi+Ckx2AYt+sxky6Pnr/DuMflpJ7g2w4bMOW9a/OOhNcbxTZt2iSPPV/SgJ9kLJMWfp5gNbioZ19J9wc1KSepDNpCM+rMRciKkoful6d1xCQsegXlrUltsOZkh0uTIKYJR9jwYeeFe2wYeeise5zvXOHTelaJICb52JbXYMlL3rk21oCEJ++1v6DnLK+dgL5gbCHvfz17k+8d3sNymLyP49tW7SCvbGBCuvgdv2/HsrT1GF7C3T/xzrJwkAWEMIz7fjHxDuf7vBDEsO6AOSrBw9VuS/OItQEJh/li1/yZnusNml+X9OL4tfrvr9S31u9HtW7pJ2l5bEL8vONP9/V19Bgi7Kh6EMtcR2zr/lRQ313k0dal6nHEZLX9cpE3yE9KEEuKOeQSXYcPK81BstrHF64ZutAXVhPEMAYJI3OhHyz5gpR2x9BFvrS0DNAlCdttnyMDw+k4aV1XIoghH2yysY/JhAVhkSEqQQzfk5RTfEkjLYIYNqdI2vBhBU3ysH20AyiH61u1w9bqPk7b6QqblFhjxweJSPDDcY/2+9MG+DfdI2yJADbzHl/YaZNu9tL54V5H+t4hTckDvp0H7qsliHXpOMKZHshVIHVJvgNOnu0M55JFnklc+KNP/7Ez/sC+LWvACBdkhQ1WtCQ9EOkkD/FBCJP3+/3w6LL3Eg7HQorVNIQ/Y9QVvrAzz77VHLDfMaHHasLamuQ1qN88X3zkU4kgpo/RdMUXWccOv7QsbXmX1Hd9G0V+liXeUT3roXzWo565V5FXlipq48aNXkMA88K21adKxRPrQGhMwogySEdbt8ExfNrpCTFYCqrkQEKSBgxHe9nu5Zdf9t67Js40IQPX2mmrOGGkKcTBQAqkDO0WLWpZsIQlrTAHE85SDli9SduBtCHpX3rppWXJaxyCjkJDpPXr13vpuDCRPOCDoBXmtDW5OAQxTTTBpCkW++K6NMqrvxmUJcyBvCjYxN1RrC1/IU/t7ryzhbWvCT84alM7TTDBcZxxnd5hDMxtp79/W0Y7bNx7fYRmGOkQ6T733HMeznEJYkn1Kml7AfnT0Muo+Opv2aW/cdpitFmi32HH/UL3JRzaZnFpfUvaMmGl43rRDooscQli+hhLtPNh7r333vPycVn/EhnguybkJG19ZGXQ4ouEjePHmbiNGha7kvXEOghKdtwoBDEc+yD4VEMQC5octmXBvZ5crnScpd7dvGnaA2Vl08Qu+8g/nTeOTpHyuYhkOh19xKROo5IsCAsZJJ+2ux9ZZlVLp9eI66gkJvsIyVMO7eNhf8axLVYTUVYc7RhUFiyECR7wcTSKhH3wzJbNEhIGVr9QVyuHX1vaSQ9yn4QP820iGvQRRzhKuvCxw91OA0e66DCuxRA7TtC9jS0spGFHveuX1SNS0J6l2ebmnSCmdyvbE5h6gcGe/MexKqJ3YQQiO025zypB7KCd9wycDAahSMoMH4tBUp5KPhZoJK7LIpvEx/EiEs5lpUwvUgURxCStIF+XA5P7rnAiA/y1w85zhkE8vXvdZUlO0oalMknzrPb9ytKTd/Aljvb1+zR0FpYedPr29TmdBnvy6mNM7HBp30cliK1yWP/Csa8iTxSCGBZt7MUdXTdpEMSW9hjn4Sh1KDJm1Y/TJw4LW2ksjLhpEZz0GMw+9kvLqGVCfbjm76Se4NsO83Dy3mXZX8LDeriEu+aaa+Sx58s7+EnGMmnh5wlWg4ug/lYtnteCIIZxi+4b4ujBajeH1IIgNv34M8v6xYIt+uGiay4iWZoEMbEOhvzCxnIiWz39qAQxe6MKxjMip8tisryzfZDgBHfx9TGRWp/wHvewznXt4J+ULGRHHV/Y1rVBTMORkpKn+DYZ8faRLYvYEsYuQ9R7myAGq2quMROeBW3eiZpXknCVmrbHH3/cww3ztJUc1kkEO9eJKXkmiMF6UFD/BUf/CS42kUxbHcJYI84YAvllmSBWbb88CEd5npQglhRzyCH1CT9oA5HIq8fNS3uM9emJJojhSFGJ4/JBPJJ8Kx23DiKahA0bX7rySfrMHkPYFsQkfdv6l7ZeHZUghu9JyglflzUtghgs9+k8xjmsfUuZsuBXaqcrvU9KrHHFF8tfwHHu9LU+Uk/rw1qOWe3QbpCH9cjTLvKF6997pveue5dxvnfIU9eRS4ZqCWIjhriPxUQe7Y86xcs3iEjmkkWeaZlti2gS5pzJfsu3c6beUVZ2hD13xl2eLEjXtqoFcp7kN37ET5xpSJ6HHtQyn9e7x9mhYSWO9jUu3TqPKYtfiSCGozxF1k7HnFYWX+dVq+tK30nR3meJd1RP7MtnPeqZexV5Zami/v73v3sfMj5okH9wFJx9JGJQMfUOlaBdjhJXkyDOOecceVzy9YQYrFFVcppY4LJshIV/aaBg5cZ2WhZca6ePRIM1nrhOH4cTZgkN6epyRyHGxZVFW1bCkZi2C8NBh4UFOcHTlhPW4eSdiwih08G1xicOQQxxkbfkhQHtT37yk0BrYXa+uE+jvNpsN46sC3OYsBV54Uf9rpDm2rVrvbj2EZBytCNIW7AuBh/p27uA5XhYvINeV+O0/Hb8mTNbOn2QYe7cuca21mfHiXo/ceJEr/yuY011Oq+88ooXNi5BDOkk0auk7QXyT0MvNR5h19rCIYhVttNtUqW2ePLkFvPDQQRTEGi1DumjH9P6lvRRK5WOctV5xiWIaULcHXfcYUNXdi/fJcpvW9jTmJRFVA9wRLGExXGqabkkk5NBcRed2LJbBkc5uMJFIYjpHcvVEMR+OfV+Z94ueWpFEAsidkEGbSFtwjGjymRNiyD2m3l+K4xYVMFxKEEWtlz41PKZvbBgHzEpecNimHwD8DW5CrvB9bsRDssCko7rmEkhfb2x6PkyS2U6XVzDohfIaq6jQyUPLF7oeIiDPLCgoJ/j2rZQ1qtVyyQi3o9ue7pPNzZO+UVpsQoLVvYPBDeRAb6NrZ23vscufR23HtdR27E029y8E8TCJjhxBJ/UuW09CPfyDj4mfzEZHrZIoPPKKkEMBCwtp32tJ8Pt4wntsPpeT+ADryCcRrXu4eHqWkBIgyAGuXTdaTnlutJ7Cad354eR6w7fZR8vT1uX0pQnTGf1cS1BixhSLr0otdc3dgnVCYmThh+VIIbjV3Qd4frC7i2LUTZB7KT925YWF7HAiB+sePXc76iyNC7qOd4raxoEsbPa9fPloY+EAV6wTIgFvKBfGpjGTSPq/0yUcLqOXOHTIjjFGYPpMYZrfiFMZm2BLIyIpq0uu8YgYXlonCqNZdLCT+eZ9nU9+kaSR9oEMZBtcNS81Bf6iI9Ovq/qvl8tCGLzus8MlAeWjkX2VjvvXxYuTYIYxmWSF3A6s+M4Y/expZ7q7UcliN2lrHlLWWCRGfIuPtF/JLHeLGOXxx7TIC09vrUtlUle2sc4DZbFZLxl54F7kLF0HFg5w/PWP2iZ98V7e7yC40Z1PGxS0+lvmfN42XhJj590WJsgptO1r/Et6bj1vK7UrmnyL+ZSKzndNrtOG8kzQSxsc8aZ7fp6umX34bHZQusE+sWzOg0pO+o8qM+SZYJYkMx4HtYvD4uHd7ovHjQ+08QrXOs0k2KOtHSd6bRd1z32belXTznmFJ8sYXLaaXXeq6UNOzfC8YV6bLr29MW+fO2007zX+QKnoLGVJrwhHMYXIoeLIHbTwFnemAWbX3D0qj7CE2nAMrWkkRZBDKQzXd8Y40oe8KGPQeOVlYPm+sLqeLW6rtROV3pfC8LNkYf18jC0iV84qhD44lhHEJcE6/ZH9fcRgw4/pGVu03Wco8SD7ypDtQQxkJlc6eFZzxNaDM20a9MvMFxQ/EoySzwdbp5lWU3CwP/c577s4TdrymqfPPodyGQ6nn19wnEtfdd2bfz1YId13YMsJzJ37Ty6LK9KBDH7mMrDDu5mTj/1/LJjRV15p/Ws0ndStPdZ4h3VE3sSxBKiPW+e//gRaRiw6D5o0CCDHYM4Rs12mIySsPBBDgr76Yks23JNnAkxyAHSQZBVGpBy9PF8W7dutUUPJWSAFCblclndKkvMeqDJJlFwkbyATzUOxwSAmINdnl26dCkdrQnSnD5iE3kkIYjheD+R0yaIacKJ/c5VniQEMW2tSeSBj/oG2QXWJl577TVXtqVnUYk4YeXVpCjkHabzeKflhKWrqE4ffdi5c2cvGvRb0hWrYBrTP/3pT15YbYXMtSsMAUFcAckJR4fimFgceyr6Y+uQl/D/v4CpcZFFlxPPsGtt+vTp5oknnrCjRbrXk9L3339/aJykBLEkepW0vUDB0tBLDRDaPHwLY8eOLX0X+C6lTnV9JSWIXX/99Z5+g5xoH2EKmTS2MF+vXRrfkk3CxK76MJeEIKbbdvxnVXLa+pcdXn8vYekIGRThXYszYXHD3qU9mfnsrI0+UopM7tr5RCGIXTHwx55ewRqTnYZ9//vzXvTCAyd7h7EdXt83giCmF35qSRBDOW2rVKJ3sBzQ+8Ae5sI+C43eDa6xqfW1TWIKIojhOEaRGz5IVyKbtliHd7AoJu9s37XTXB/R6NpVr/PV10FHdmLxQofDMZAihyb+IQwWI+QdfFiw03HtspzepmWHng6Ha5uQaWNrh9f39oKLlqlW12Ftk36XZptbZIKYPmrBJvWA4ARCkNYJuQahBoSx+ccPC9xt3awEMX1MRhyCGCaH9cSzjSfeg/Sjdy/P7jSkbLI5KkEMCwRYqAIxqN1urUqT8TiSRn5SV/BdE9eV3kucGwa0tLNYKHAdmXL7kPk+S1WuMJXyq/Re5AnTWeilTgf1EfaTsCiXpF9rPypBDHKIfOKDjCXy2QQxCRPmY/FFH1OZBkGsb6tjfXLaZDss+oTJJOWpp6//SypdJxkLI+20CE5x5sP0XFdcgtirr77q1Rfmn/7whz+UQYT5BD135wqj67wsAfWg0lgmLfxUlqlf1qo/5EpXjxOSHjGJPr62Oow6Q3/XlW/UZ/UmiD05/SFPX2tNEMPmDYwztG7jGs9gXWxc+xEGR3VGxSrNcFEJYrBcbMsPkh1kweYT/c6Fp8gMC2A6LK4xRpf3OLYx6ngDlqxfOnezF1fSAN46D+iWvJvbbbrvnf0tjGnXYuEQadhlATFNp21fSz7w80IQwyZ8KafrlBW7YZw1q8UqLuYjbVdUgpge29gEMfRjhhxyvIez4A3/u//1TdNxj0MMrLjaRxNK/6dZCWJh/XIpW5CflCCWFHPE1/UUJKc8H6Esf4G0JM/hxyGI6fFKGCFR0teWy6KEl3hJ/agEMVji0jhi7CV5uwhiOmzQ9ZRjBnhppEEQw7jZzuv8bqO9PCAvvlM7jNyj7qVM9fLtdjfufVoEG50OjgkUTI47dqhHGJo05irvOayC4dhGITJ98xvf88IhLbFChvc6bbmW9OHLM+3XgiB28olTPflrSRATTFC2MIKYkO0QThPEZk9d48mJd0gv7KePmNxn7zZOPEcNvcQcc/RAc3CrzmaP3Q4x3/6f3b0f8pBfNQQxWFPb7fsHemlIWvC/8609DQhjOHqzEtFN13/c67jfTd7DkyDWJDWctYoC2Wr+/PnOj1l/2LZpeX2Mow4X5drerRhnQkyqWQ+AtCUnEFJEBpBdXC6MkDFw4EAvPixUxXWagCFyRPXj5LVly5YyElhYPrUiiOldqLYFK1d5NJkprgUxpLdmzRofOdBV5nHjxhkcHWi7sHrXYcMIYlo/XHmHPYt7DKNeHBULfTjKVfKQY/30UaUrV670iiJmw13HW4JYA2KhpBXF9xJWF5BHExjXnYUAACAASURBVGFc6bRv397guM04Tk9IPPDAA6FRkxLEkHi1eqX1oZr2AnmnoZdIBwvgIA266sD1LClBDAsSevEAFsdggRLkRpAhcQyjbg/tNkhj55Iv7Jl8S3/961995cUiQ5hLQhDTZUH7W8nBmp2UAcfCaifP4Ye5SosqYXHD3ulJ0TSu+x3SMmEw8dgx3uSunXYUgtjq0Td5uGlrUXZacv/8nJb/fOApz6P4eSeIgTw3uVPLTimtd/oaRLEoeKUZxl5UiEoQ00elVCJVaXldBDHojg6DneXayoLGyL6+7JSlvrhIR+s3wv90yOVeGHvxAQtNOu9KZSkiQSzNNpcEsc8mflyEJixiaKtMtq7jHqSTZb3OKJs01Yso/Q/sUPZeJlfvGb7Ea9eRljzXvs5XP5frSgsMld5LOvCTEMT0wgEm1U87tItZ0edsc8fQRaXd0W2+v7+vrHc6doFXIojhyBp7olzj47rW5ZNrHU6eBfmHfndvT+5dv/I/ZmLbPgY7vrGYNantyQZWoyS9I3fdr6o6lPjwg+TA87CFKE3Q0+lFuQ7LM813SQhierGkGoKYvVOeBLHg3nBaY+G0CE5x5sOSEMSACDYVyjeD+YIVK1YYbDB68803zRVXXGH0ONw1XkQaEh9+mKs0lkkLvzAZkr7T/bVaX6dFEAP5BhaidD2tGv5TX9+zmrLkmSAGPNZPWltGqtMY4hrWrZ6e+UhiLOPgn4QgJta1QXDTZbFJVVoeF0EMx0fqMCDvtduzxdqOTtu+PvXwfr64SOe8Xi2nfiD8qKOHemEePmudT1a818c7kiBW3qrpubUo85LaUAA2C9tO/w9gY3BaLs3+lk6rUt+60ntJS49tXAQxbAQZcmjLf6it63Kvj/uWtEkQc1t4rkS8SoI5sJc6gS91EeRrK9AYj+hwleTUYfV45aq+U3zp6HByrTcXzTv+9IrhJV5Sv1qCmB7PV0MQg/UwfdynPe4NmldY0m20rz5BrBMMMObWdY1rEsTudRKGwgg4sybf7uEIMpGE7Xb8WO/5pDFXl57r4w2nnHFj6dmMs1Z54Q46oJMXX9KBr+tJP5frIhPENBFP4xTlGkQtwRA+rLyBDBYlLsJUQxBDPjPPvtW02r9DaD5f+uJXjW2RTsua5Dqt/kle0ska76heuIbPSNRLihj5ZLWisFMQZokxiaMHA7oh2bBhg1dSvdgCksDNN98c+WcTPuJMiIkAmiiDiS1xsFokMgcdqxdGyNDHpl122WWSbGRfY4d84uASNZN33nnHR7xAeWGVberUqSXLQUuXLjX4aStMNjkDeYXhoGUJI0xpQl49CGKQCxOJOIJxypQpJYtXmqQidY8Br+3SKC/ylDxGjx4dq361dS9bNte9JnDBUhycPjYUk7hw7777ricTCHhw2gIZvmnb6WNYUR5YdwKxDriJ/sCXssIPczhOdcGCBaUJZ23dT+KDJIaJ+KhOT1yvX78+NFoaBDFkUI1eJW0vkG8aeol0NCEJuOP+zDPPLBG1pE710Z2uCf+4bTHaYb2IL/Vt+yAFg4ysXRrfkn2E5UcffaSzKLtOQhDTbXsUa4CaOGlb0tP4lAmpHlRaVFFBY13qyd2k12vVURbYYR12hKEm0CCeK299lIjeSewKi2dxw+t08k4Qk7I+N/uX5sd9zzcDD+trbKtboosgUEn4evhRCWLTOk/y/Q9pYpV9LONpRw4MLMN1Q1b40kH+rnLiGJQHJt1lsHMdeCE/W1ZgBitsOr7rGEmQ2RAOP1cav569yUvDXvgZ1maw9w75JCGIYSEL6bt+OIpGl6Me11EbqzTbXD1msa1ZRpUnKJxMSqbty7cJ35V2pfcSJ4xsI2HgX9t/usHuYFiq+vaX/RZwkRcmkG8/bYFPFr2IEjSRi7TzRBCDdSZY9NL4B13ro/401pUWqQYf4j8+F/WBI09gtQALF/LT+er05brSewkHH0RBvTih4+prLHjAmpiOK9c6nDzTfqX3EjZMZzVRDQs10zucGvkn6dfaj0oQgwU/jQmuceyJyBeHIAZc8A1LXPHtOl10woiyMAh76sHH+WTBvaRhlwe77+Ud/Ga1IJbWWDgtglOcMVhSghjmCexxo62LuMcYL2j+QocP+n/E80pjmbTwC5Mh6bt69I0kjzQIYjiWXBO50AcN2ogh+Ub1dbphVpsndWhZSMQYxE4fx0qKDoUdMVlPC2JaRuA15biJJSu96M+LrOKjbx12dKJOK41re5wwtfOkMkyRDza7iIzig+yFd9gQJM/ghx2XCOtzOiyuMT5yleWpGRvM0j6LDMYuHfZu57TChvh63IN07GMkoacyboJv5x+28QbhtWxJLIhBDteYCc9ghU3nU8/rSu2Ynltzzf3b8efMmeNhfMEFF9ivfWtCJIhd7Ov3oO+DvvDUYweUNjXovqnW26U9xvnikSBWHUFM+pzVYI64uk4krSB/ZOseXvgBB3Xy1V8cgpjWCRwJH5SfPNcWxJafNKlieImX1I9KEDv9sBM8XIDngd/Zw5MxLkEMGGMMpGW3x779Wh3rey9hwwhiCGOXZ651vCctiEUjjO2y8z5efcNCFMg7e+5+aOkZLF8JmQeWoeT76tVtUun5qX1bDFHAapeE1b7Ega+fy3WRCWLnTL7NwxTWwU7uOSXyb+jAxR6e0ybd7Fl4E7xhYezo1n3Mcceebo7vOLz0k3pFmGoJYlJvOE4Uaez3w6M9K3KSN3yUZ8aZqzwZJV5Sv6wDU/AHWeUd1bpawlkLtc69ivSbpaJggemhhx4yOGpSPmh91B2Krok5//rXv6pA47MocSbEdCZaNpjLh9MTZiDOuFwYIePyyy/3ygsrZXHdgAEDvPhi5SZuGpXCwzKP1Akw+OMf/+iMoslErkFiGA46wTCCGI4cEFkwiVjJJbUg5kofxKPnn3/e9OrVclY2ZLJ1Mo3ygnQo5V28eLFLnNSePfLII15eqEs4EG2QvyZF4rmQUfBNgjSD4+hETlh10s62/IRdw0FO0oAfx7311ltlFso2bdoUOQmQ1SRvHGUY5tIiiNl5RNGrpO0F8kxDL9HWCF7wbUKSlE0fCZsGQQzpvvTSS768tRy4xnGXH3/8sYjg+Wl9S1jslzzlf8DLxLpIQhDTuzJhObGS08S59957zxdc5IUf5iotqoTFDXuX5mSmfQSELlvUa0wqi0wvnfuUV5+I/5t5T3vvJIz2rx50qRdek4d0mKBrTRDDLvugcHiuj2jZNO2BsrD6CMGfn7Gm7L2krRd+an3EpORp+68v2mJuHXF9aRJe6gg7wO1wtby3CVNBC1f9D/VbRRxyxABPzrM6jvfqHuWwj1rU8ttHVcJil34fdo2FFSx6CFbiy4IL4mo9lPeV/ItPXuzJcGbHlv88xMMCi5YJC2Qrh19b+tlh7XJHxVanX8/rsLZJv0uzzSVBLNiCmEy42j524WLhQ0+0Dj+8m2+yVhPEQJqy05D7PBHEpEw4RiboG4fVprDFgDCCGI681JjDkpfkafs6f/sd7iu9t+PcM/x8JzlQ0umy9+HmtgByWJT8JB34dt76PowgduzuB3nl0mQqHb/R1zahSi+iaNluGthyvJNgo4/utAliOA52wlG9Sz+tI4h73F6HOjE9+gcHeHghHAh1Wga57rbPkb5wIIvKuwu6j/G9Qzqw5iDv7xp2nsGCDX4LT/BbqEFYCVdPX/+XuK7THAunRXCKMx+m57viHjEpeHz44YelDWKoI9dv2LBhgXNMSEPHkTRdfqWxTFr4ufJO61k9+0h6nABCSty8ccSgPiYR1w+eeXfsdILy1QSxLXMeD0y32QlidvlBgrL730Gbney4adxHJYgt69disRXfqCaB3TbyBt93i/ewNu2Sz3VUZRgh0E7j8gH+PgjyAnlNwj07yz93pduToOs+B/X04t8y4rrQskBWGTfdMPSKsrAiB/xKVp512EZeV2rPcOKLYIdNrJWcnpfH5mvb6Y06JIiVE8TsPs3PR1xoLuw+1neE3SE77+XrA2mCGKz12mnoe00YunHgrLKwYWMJSUf0Ab48036l9xI2rF8uYYL8KBae4xCvdD5RMEf4qOVE2F5qE5A+9h3v4sjZYY+DvXxt6766DHKtLY4FHVEqYdP07fHEJT1bNqrofDAG1Dj22LeNp1MughjGERizdN7rMF88pHHdKTO9uJLHGUf75/y67H1EWRiEPaeTf04OlrslDfi25WRsqtLvMT6XMQssYusy8YjJFvJYh3aDPGxGn/5jowlbRx7WyyP44GhEwXDfvY8qPW97ZF/v2dSJN3lhNQlI4sDXz+Va5wfLU/Lc5e+1R4tujhm2PDBssxwxiTLqYyOFoOcqe9izju2HePXw9a/tbKZP+pkTmy4dW8buSQlitjwgu/XucbavPPrYUjt8tfd2/6Xo983CO0q7nsJXV9POLYX0mq2iQOqQxtsmAOmdhy+88EIoOiBbuI79Q6Q4E2I6k/POO8+TDSQLkIREVhx3FuTCCBn333+/l4aLQGGniR2Y2undqGHEG4njIk7IuyAfZZNywupbkNMWoGpFEEO9iizwsQgX5jSJq5ojJsPSxkSnJi3iGFTtwupdhwsjxEFmKW/fvn11NOd1NfUrCSGu5IU6xwSw3M+aNUuClXyQ1eTd008/bWbPnu3d2wRCvJewruMndcISDn41DqRSScM+pjYsPa272A0X5mDNSfJAm2S7atsXSSdMr5K2F8gjDb28+OKWge/QoUNF9DJ/8+bNHlau9i0uViB5yTeHbxt1jLrD8af47whrD9L6lrSlxHXr1pWVWT9AOyi6grY6joOFPIkrhM2g+Nu3b/fCAh/bSTrww1ylRZWwuGHv0pzcTIMgNrvrVG/CF7K13b1lodK161zL33X/ljZmQc9ZvnR0ONe1TUZzhZFn+gjAZieISZls62/yvB5+FBLTi3OfLLO8pa0MLO9/ofedyTeFBQeX/DiuVMLAh/UxOxxIc0FHxqwb37KTS9LRO+Fta2YSJszXJDDouQ4LfHT6WlYQKnXYvBLE0mxzSRCLTxCTyVSQwkTfMNktz+FrMog9QavDrVVHPugjKXQYyQO+fi7XlRYYKr2XdOAnOWISVtRk8hmT+dhRjUnt0Uf2NFgAwKQ3jojU+dnXYYs6P+l9lod3EFaSXiXMKr2XdOBjtzryQ5w9vr6zmXB0bzO2Ta+SD4LQqkFzQ8uENCrlV+m9yBO2EKV3mIeR5ySte0dcUFFuCZuWH5UgNuzwrj7MgI/WHZsgNvSwE7yy6O9ScHUtuPT+UTtfHq7jklBuvRCJ9GAVTPDAwqTkIT4WV+S99iGDhBFfv6/XdVgfGO/SHAunRXCKMwZLShDDRiKx+H3wwQcbHEe2bNmykv/ggw+at99+uxKEvnoOC1xpLJMWfmEyJH2n+2C1vk5CEMNmC92/BjkIGwzSlFmPh0AiCkpbHwHoGstl3YJYULn0kYqwyBUULu3nUQliegyNNhgbmESWJ6Y/5Ptu8f7GoVd67yUcfJsMB6Khfo/rx6b8wmB8ZD/H/dbFL5Tlhc00EvaC3i3zKvJfUcmHbr+28NelNDAWt8ODECbpax9y2mH1+7wQxB599FGvnJgfq+TQ9gsuL774YllwEsT+wwT1mcL6Mst6neHhinGCDqvHQ8D+/7H33mFzFFfW+P7z/fbzt16bXdvYZBBZVkBCEaGcs4RyzkISyuFVzhFJCIEAAwYLkUXOmAVjYyMbDAZswMYBY9YEG2cTnED1e87A7bldUx1mpnvimed5n+rpvnXr1qnb9XbdOX1LX7OP8Swu40OCWDhBLwxz4Co4ogSpzMZaf8dLHSK/a/AFPtl8CGJT1TakszsM9enR7eEYL1pImyBs2dfT/B6HIHbPtO2+l5dgK7AQu1wEMXmRBH2z23C91LK53wwPA+g/84snevqlHZR2xuNhzTv75GxCGtbsem2lddkve5EgliWIYStA8ckBfWYbZKaS71PHb/MRjbCtIa6B1AQy0wnHfZxkBqSkIMKP6ELpkql3gthJJ2TJiwtmXeXESHDbsvYhs2nV/TkymjgHkpbI2yUyicl4JE0Qk7ZACpM2WjTrHmiLyOdb5jzA1PmJauMdJTVc4b+uJtVKgnoqbaCQAQfbIAZ9NAHIJojpLfDwpn/YB4QWBLNcmW3yCYjpNpAtRiaZjh07mm3bsmmzb7vtNi3qOw4jZIBMIzpR/vznP/fV1V9uueXjFN5IySzZqpB1Teqjv2FbniHLE8gDyGqTz0eTblxv+4gu/VZQWgQxtIXtA6XP8ImgDzASMgnk8yWIIaMWiE+CtasdvTUh/Ep/wsZdy4URxPTWjehDGDESenDPYJs/BD8L+Uh/gBuyFgnOdna6F154wbuGDHNC3rQzjcEGTfp0XRc7dWYutGt/0D9k+grK1Af5iy7K/oCPwHPcj86ehr7/7ne/C6yKoLbgUghBrBi/Kna+QKeS8MudO7PkAvhb0Edn0CqWIIYfDwT3KBKfy56k7qUtW7Z4dmD88T8r6DNyZPbNpHwJYjroFjW3a/Ly2LFjc8wR3Fz3lRaO+lFFy+ZzrIOixR4jGIusTnH+9BvtfZr09OrcMuNrvoDuFeOy2y4hc5fO1KTt1RnAgGUQoUbXsY/1DylBP3S8ui1LQkU71UIQ23HeRgMSld1n+Y6tUcQXXYF/kUuj1LjDBjuDGN7UB/FJ7JMSYy72PL/2yZzrIAxiu0eRQWlnD4MubD2iZb42+YqMLth1cOZ1vmuQW9TDn0FF4/WLrdn/v2Jn+5PbZIiO+KFG/nQWOpEDCQ76QUyTc1IOaNbH2G/rP7/uUCYbgMigrFWCWJJzLgliboIYMnuNbtHdgFylA6b6+PLh2W1ebYIYtrQTX8SPIA+dv8upB1stilwQ6Umuo9Tty3EUASzquuhBWQxBTG8vefvkzU5bdVuu4zCCmP6RIyy7wPUWEcfVThSmUgdBfNkKBT9IBQXSRT6ojGov6rroDSOIITuD6ME4woelnl3uGDgr86PE8u7jAmXsOkl8jyKIAd+VPSZ4/ZD+IGuBbj+MIIYMf3F+cMGPUqIfJercapH9dg6a45OB3L5hizxb4B/wRa0H257eOH6tJwO7vz7rImNnLEMd3adSHUc9Eye1FkY7SRGc8omHFUMQQ6Zx+eEfBIGwdVMYjtofwuSi1jJJ4Sc24CWdQvskOuxSPy+mfVwoQczeSh3PnNgmMGl7z2uZJY2HvZijtw+sFoIYyHRTO4w3YZnR1g1Y7s2Fm4esTRzfoPGKIohh7aNJeXJ/XjPpMs9GrPs0wQ8yLhKhfoFI9GCre23bdxoe8TLV4WUxe7tNrO2lrpRPLHvY02ET2ZDJW9ZLupS6Ut40/dqMDmQ+Qx05jxJ9+e6Kx7w2YO+vtr9k9MtkIq/7UisEMax1dKw9LE6tdx9AvNr1Ir/8nwBmzCCWJSjhpZCgbKx4xsEznviZTRDDdf3sFpRtGOsp0YGy3glixWKusQzLPnzFiCU+3O2syfkQxPaqtW/UekW/MIJn/1I9K9v+CJzsDGJYM7Q9IburlGCJbHhiZxhBDDJTFFlO6tsvtdjYQ277gPO9NqAHLyvp+wcyM88Z7JPZ1DdLRJG2gK8Q1sRmvd4WORLEsgSxTavv9+6FxmecYzp3GOV9B3lLE3hAKhIMQR6T447th/vkdB2RQanPy3G9E8S6d87GCaIIVd06jTXY9nP2tL0+LE87JfuC9IRRG3zXBGeULZv39MasEILYhpX3mk7njDBh2dtmT7vEayOqP9q2uMf2uq3ev1ca76hU45HLWihVywW2UykDheAQMs3IxLx582ZnMAVvEYoMyCr6Yy9CQEJyBWQ0KQG67Kxb+QTEdPs4lq31oBeLG7HVlW5f6kYRMlasWOHpAeHgnXfekape+dRTT3kyaBM/ZMlHtgHE+UmTJmUyP8k1KX/0ox/56oMsFvcDAoj0EyQw10dn54FsmgSxxx57zLMHbd1///05JoHUNXv2bJ9cPgSxa6+91quLN6Jc44vtLvWi2JaJGncxOowgBhlN/sDC+bXXXpOqXvmXv/wlsw2kjNOaNWu8a/kcgFQlOsTX0UebJIf7TvxfL+bhy/YH292JTpSvvPKKLWL++c9/Gp2ZCXL68/3vf9/DGkFqF5ESNmryIMiT+Xykv2gbttjzBnS9+OKLnh2Qy5cgloRfFTtfJOGXIIqi//jDlovIemZ/QOiSt8UhVyxBDNkLpU1srWtnqrPbd31P4l6y/XnDhg059wfavvHGGz17YXe+BDHo0PcEfvBwET81SRjtgGhpfwQ3lGGfqB9VwuqGXdNB0VIeDz6rvzcGYdtyIMitCUQjzh6SeRNZ2/rcmu/4iDII/urrcY9B5JHxANEGZDBdFwFvkN9EBmWlE8QQNB/TZrhn87LeC3IC9+ij3p7DJhlpDNI41uMLTE/74imZHwawTSgC/BpvOcbb7LYt6JtclxLb32BLSJC69PjKdfxopn/IuG5KdmtxkWl6TOPMuC/sMce0PL55Thv6jXy7PshjWr/YjB8p7H7jh0C5jrakfSmhC/63su9iM6FdNl27XEdpj53dBvDUP7bYx1+1yHJiT1pl2NxkX0tqziVBLJcgdueULZlMUeJLyAYmQVNdTmqTzdJoB0711pHQM6VNvxwd98240NdOtRPEJMsW+osgeiEZqsIIYthWRMYEJUh4ejxwDCJO+xOb+ORsGXzXelzX5RyIPiKLHzHw/X9m78lpV+SDStGB0iUTdV3qhBHEIIOtFkUX3v7GtpxSV8qvjsr+iA9ZkMXkWtqlTRBD+7AZf8jUZf+4ges4Z28pE0YQQx/st+ihx/7BBT8+4rz+Q1tDmnYyyG6gt8ARGfygie1GNU4uEhnke5/RxiCz2agW3b0MdKJHSq2nVMf2/xL7u712KGQtLDqTIjjlEw8rhiD2y1/+0vMH6MH3Dz/8ULoTu5TxRRn2iVrLJIXfb37zGy8uiH65XkoNszPsWlrPQy69hRDEdB2MB17CsV+WcLVVyDn93I1nVFfmXf2iD+ypBoLYg/Nu957RsY5A1ikbH7ywpIlvyDxsy6T13SaIAXt5nseaRd+Pcow1kG3PnbP88RDIYt0wru1Is7TXfKPX6qIH5Q/Xf9fTBWzQvr4OzLBeh39gXaKvyTGyisEevNAl56R04Q1ZZFsWGZRYC0mfXCQ0yGAryhV9F5s5Xaaboz77JV990SU6UNoEMcgItq4Sa0Dpi9aT9nHYHCXXkOVe+tiuXTtnNkjM+Y0bZ30mKFmAjimTILY3QzDR2Ymw5nG9UKG35Qaxxn7uaX7MKd4Y4br9cg10Yvs+GUeU9UoQA6knCcw1lnjBAdmg7XHBizcn/Fd2vhjarFOOTD4EMejXazWsbeyxhox+8QV2wg7btjS/22sSYID1CjKpASuNnRwjNqBtiiKI2Wtb6LGziCGmgPWHtCEl1ilYr2A8bFshY7/khvvHzooMObwIhZfiQFazt5aUtuw4h+5jWscydxdaxiXQFCIHYhiwQWYwZAPDMc7ZuhbN+ao3bpI9DLKTxmzOkZW6gjlKOafLeieIYWtGvc0kiFvIFKYxwvHwwdnM88ByzbLbPRlsBSo4gwRm18X36ROziSYgmy9BbNWSW82xR5/mtRM05prw1rfndKctLvviniv0/qnVepXCOyo1vuERiVJbE6O9ShkoEErmzPH/GIVFBDJAPfzww5kf05EVTCYUlK4tE3X2HsiAoAFSC0hCIJ1pkgeu21vjAbJ8AmI2xFdc8XHWB20nSFlhnyhCBoKGmmgE4g1wQVYyZETSBDC0a2fN0lve4TqCVMhuds8992SIWvoHL1xH9rN8AnPAVvcX9oAABjIfiCJTp07NXAdRROQwDnPnzvWRmaJwEAyjCFOQs8d5xIgRGZuAGbIb6UCm2JQPQcwmd0DfokWLzB133JHxNRxr8gvatz9J9RfkGyFjSV+QQenWW281IM2AtKevw5dAXivkYxMJ0R7IOK6PDsCKXdgC0fVB5jCRga0LFy7MYPnEE0+Yyy+/3BsvPW7wH9xv+MDH7T6i39hiEIRBkG90UAEYuN5Mc9km5/T2jbAV7WH+QBAD7YifSz9Q5ksQS8Kvip0vkvBLBG00Dgj6yFwOHJF5D2Ogxwz3C8ZU+0g+czEC77pNOUY78of2YAu2Y73++utziFtJ3Utr12Z/3IQdeCMe265i/oE/a6Ki2FkIQewnP8lmXIIezLEguSGbJLbbxL0p+lEGZVbTMuLvrlLf0/mQiF269Lm0A5hB+nXQOYwghvobBq70YYm3hBHo3X7ehgz5yQ5MP7zgLi9gHNS+67z9xj3aQdsIFuONaPvtZIxduQliyCwlPoStDSV72/1zD2YwADlpUvuxngxkQXICwQpbiewbsyuzxaLoQHnhsE0F4efCNM45m8SkbXEd44eHn215PsdGZNiyfcFVX5+754JbfHpcb5ZredexzjaHHyK0DLIPBGGgMy+gTr+mvTxZ15aaWm/QcRRBLKienHcR74LsT+K8nouijpOac0kQyyWIIVhrB1ARMEXGIfy4Ma/T8Jw3hl1vuiPYKr6EEuSnxV1GGWz/BwKLHewNIohp4hV+GMGfJkdFZQiLuq4Du8VkEHO9RY2Atf6DfmA7pmUPXx/Ehv6N23uYIeMS+ortKeW6ztYE/LB9xvreU8yeIfPM/E7DvQxouh/QsaDTCE8HdOlxEd2uEtutaFk51n3CMX4oaHP8mZm3tW0yU5z2RC9Klx1yLoogZpOegANISnhrHH6rf5BBW9hepBDCm9iTb+kiiOm+u45xz9jtRBHEQPK0ddk/uECnK6uXXU9/B4a2LfiuiXlaPurYpSvtc1H/W3C92LWwtIEYDtY9ggPWVvibP39+aAZsqS9lPmswvT63X4iDPrEFpf3Belxfl2NZu0mJNQ6y1u/atcv5kpbUc7Whx6JJ4QAAIABJREFU24xayySFH+KU2qYZM2ZoM4o6TuLZx9aB7LbYrtD+0+sOPN/a1/Hdfo61M9TiZQtXPfscnh/tjEu2nfZ3vKCjccbzPIhFWEdg7eQiB5WbIPbY4uyLdHhpQtZNeJFE+ofner2eQL/wfI9tJJEtG33URCxcf237i1590ZNWaRPE9BgEHX994d1O+2zSVVB9Ob+q3xKfHqzF5VrcUq8z94zc7quPMQnCbddw//854K4zi4PAFdcGLafbcxHEtKzruJRjL7bGmcT+/ve/e3Fc2I35HC8qI0aNv2XLlvnwQswMiQNcHx3LJUHs48xgg5r4/Q3b4IEsg0xHyAxrk+5dW6HjeV/7FJ75sfbCsyO2q9drAJFzEcSi1hJ4zpL6KF3PXVHXpU7Uc7nIucqb1DblWOthvYJszPpFhCDiFcg+SWCu+4n1DL5jC/YVPcabZd3GGmTw1TI41hmypF9Bdsp1u7SJU1hHIZvV6p4TzZKuo02P07IZftAm1tS2jrS/Cx52/4O+Y81lv5hj9xN17Yxdo1v2yMHYfqllQecROTJBduA84hYufJAlLqxe0DUSxLIZxEDMGdQvm7VbMBs6YKGT3IMMViIj5bqGO52y0C0yKF0koM1rHvQRpNq1HmTw177NYLN6yUFfHb2VYlgWq1HnZRPBdO04xqfDZYN9Lspmkf+P/zjC6x/6IeftUmO2bvldOXKDLfyx7eTAPnPMhNEbTI8uE72tPMUuZBLTbUBOrqHEVqAggGG7UGQUO/usXpnrn//cMZ4cCH7Aeem86zxdy+Yf8K5/9jOfz1zv0O48s2HFPRlCmiYFoh2QCPv3Oj/TDto7/dTsC/m4Pm/mFZ5ubW8xx65nmHo+Vym8o1KPQW7Uo9QW5NlepQ0UfkTXk0bQ8eDBg53ZwRDU0Vt8BdXHeWQsc5FE8gmI2XCDeGO3CYJb2CcOIQNbD2jCkd2GfAfxwZU1DSQuHSwUebvEogyZffL96K3SbJ34DttBXNELO5y/++67vabi4ADhOASxX/3qV75Aq8umhoaGDHlKruVDEIMdNmFI9NglSCl4i9T+JNlf/Gip37yybZDv8AH4UqEfLNhtPwp6y+vee+/NuRdcQWPYorekFFvtEm+g2WRE9Fk+yJymSYh2ff0dxLNCPnv2ZLea0/rkGNiAOCPf8yWIwaZi/Qo6ipkvkvJLm6wrmOgSmQ/twBDIlfLJZy5GhjjMf1p/1DHmOzu7WRL3EnTa5CzbFpBYNUaFEMSAk2wNbOu3v+OHIVeGMejQsoK9q4z6UcVVJ845CTSWusyHIAbbQNDSWLmOESh+aP4dgYHlOH2MCpTjBxX940u5CWJXTcimaNaYIMuU7i8C+vp60DHehHZlvNK6kj7GuAXZY59HNrSfbHrG1zdtD946d2X5svWgzRumXZ2jBxnX9JYxdj37++4RWz0dyDhn90W2P9E2yrGdVQG69TaSjy95IDCDmtiBH0P0D4i1TBDDfJbEnEuCWC5BDAFVBOeD3qIVf5NydochziDsPdO255DApI6UOgtZEEFsfKveOXMCAvcS+I0igEVdFz0oNbHKDnJrOdcxsoblG0xf23uy1w/odGVjwhvy0t5VI/0/4AmOusSPSVv6zfBhhre+RQdKLa/Pu45BCtLyUcfAQBP44rSndbpskHNxfohC3+OMA7bMxJYkorsUZT4EMRAAg7KbRRHE0Be95anga//ggu/a50XOVbY45tTAbTtBCoyaL9Af2+5SYG63EedZOIm1sLQDQpgLT2zjFfeTzxqsGIIY7MGLhS57g85hvW1nWdOyYX2Ms5ZJAr+tW7f6+oTYZVIfeYZLsrRf5NB4Rh1jC3lti16jRNW1r8vLJVpf1LH9Eo+tE0QrZKSS8+UmiKE/QdmJ9foH67sgOemLlMjEFYVTktfzIYhhTaS3c7TteGXzD8zo1tnMEtInV7m6/zJntixk77LXP676OIe2tA1YV2vZed3O913Xss+ufsIni3o6cxu2UUXGPK3PPoY/2vjpNmqJIIY5Dzs72L8B2JjgO+KmYb9DaB0kiGW3mJzefmCovwnWeGHGlWEMzyv2iwxSR0q8jKFf4nERxKLWEmhH9KG0n5PiXJc6cZ7LRdZVgkinbcGx3qY8inhVLOa67V2DL8ixRV/HsX5pR/cnyk4tK8ey3b3dhv0dGbJcGcZET1plnLWU2Iq1Kra4t22JQxC7bfKmHNztl1qQlTvuyyhYb3xtzMocW8S2jX2nRa4TbWIgCWJ+gtjC2VfnjBnIQi4iDwhD4icoTzy+iVNO6mpZOWeXICppOTk+f8pFPt21ShADuaxn10lODAQLKVu16G02rbrfhwvwbNrY/7wl8lKC8LVm6W3m6KOymS1xbdzIdT5dxx2Tzd4udZfO25+RAVEMpDA5H1b26zXTp9ce80K/J7XeqxU9lcY7KhWuJIglgPSdd94ZSO5BQAhBJLyNEvYBAUS/iaknBSwukGEl6PPjH//Ym0zGjh0bJBZ4Hm83SnuwF9vjhX101rGrr746UBRb2iGLGnSKfilxDm/j2GQHrez111832JZT6ugSJCZkFfvggw90ldjHaNcOhIl+LPYQZMTnpZde8m0lqgli6LvUCcNBE8SQiSfoAzKS3rZUdKOvixcvzmRJw9ucch5klXw/yFwVhCn0guwStNVd3HGP21+MAQKaLv+ALbj261//Ot8u5sgjI55ghtK15SkqYVtLLRc2VpB/5plncjK/oT7GC9smgvgIEhBwEzKcJohBB0iIM2f634LSNiBbHrKgFfMBgctFREPmPRCzQE6UNjEX2B+dhS1ofinGr6S9QueLpPwS44WMWS5iK+ZmIRaCPImgufitJojlMxcjoIS6wB664Bv2n8sW3Z5gl8S9hP7v3r3blyVN/ALbaeK+0Rnj8EZ8oR/0HRiKfl3CV/U862pDsEcZ9onzo0pY/aBrOihaymNkuxKsgt5qtu3Bjwou8g+C0iDG6ExOdt243/Emst4yRWxEibfHQeDRWxU+v/bJnEC2Djx/c+mDOdfFFr0NzILus3PkdHawID0gJbmym9kEMbSJ7QM1mUj3DRgig8Evt/0oxw6xN61Sv6WvbcIx7EL2g9mdpxn8ABHHBoxhQ++Fzh920BbG8YV1h0J14UeysB8ZMMaHrC1n9Dad0o9fbH0hsB38kCFyUtqkNWRKQxYyF0bYWgU/7OgsBnq7S2AV9wcbab+SM4jJHFbsnPvXv/7Vwx1rkiQ/EohMupSALUqX7qjrUicqqI/MSsi+hECr+IQuQToKCpRLGyCOBGUpwpvSCHiLTrw9LfV0iWxIyDimM4lpgpjeMhAEFF0XxwgSSxuu61pek2Xy3SISAWfZcgMl8NF/OCdjI/agvHnies/mR2btMXhLGuQlkdEEMdh6xfAlvh+HRA7jhLew8aNTRk+nEd6WKDZBTOwI8iHBBNt64EcPkdf9kWONmdiCLAf6xy+pH9Re1HWxJ8pnRQ6YujK6wT7gBL9G30S+VOXSbmO8cRWsdAlMkWUCP0S4MrGJnTbRCj+QyTUpkeFA68Yxto+U61KCDDquVS9vjO06uO+Wdx/nG0+pq0uMN8iEcg9oPfhRB6RBbDepz+v6pTqOO8cnsRZGW/gfhbUz1tC67/kQxPJZg2mCmCtGF7bOQOwJLyeJjL12w3etX/qDtaR+KVLqJ7GWSQI/xJXEVpTI8JzUJ85zaL4ySRLECs2iBJwemn9n4DNrWJ+umXSZ83kTZDWQk/S6ykUQ2zks+2MxjoPa+v6qb3rjiu0dbTmdHQzP6fZ1+Y5+2hl/0X9NEIPsSxue9pHbtE/hGC8VoU3RW6pSr6Ftm/Ada2WsEZCdS2fYCrMPa8TmxzX18BW9WEfAp6LW6theFG0GrTvgC3fMusGHFbY+lXaktDPi2TbrNQ/qzOkyw6cTY4j1rIvch37AH5GFXNpDqduoNYIY5j28pLhkyRJvntd9x/8p7PSCOG/YB7vLSD3EfJP6pPUc0Pnkszx7XcQR/Uzlui52IbuT9BvPTXJelxv6THVm+kI9POviOSlsfYHnd2xRKe3oElt33z/jQqO3ogS5RreP4zhriajn7qjr0mbc53KRt8trRi830CHtob+aIIYMyIKBK6Mu9BWDuehGCV0YY1emNpDywnwDtomuIDvtvuM7XlQBYVDq6hLP01hbuuqV4lzQ+h82Yryw1eTIFt0yLzcF2ROHIIa6yB6n+45j+yUerDOw/tfxAF0HNmGdcd+MCyMxg48Bd+130q9ZHYZk1mBaN9bCQX1M63yx82qhhJo49bCloc6GhW0mg+pNHb/NN7YgNgXJ4rxsn4gySG75whtN5w4jfTZgvGyCWJPGWb8CqS1IX7EZxOLYjLY1ZlvW5G4LKfZFZRATuRmTdpkvffEkH77ityB2oV8ia5cgbwWRzJCRTDKuLZh1pQHJTPTaBLH553/FtDm7vzdukBOCGNoEma1Xt8m+vosulPCdiaM3Btpp253v92Lvo1qrT4JYlYxoJQ8U3jb55je/mSEZgJSB766MX2FQ44d+bD0GogJ0/eIXvwgTr4pryOKEfiCLwQMPPJDJvoR+xv1g8fXyyy9ntvCDDpC2okhscXWDlAVyC7av/MY3vhFKWIurs1g5ZJVDH2+//fZMv3UwsVjdUh8kFwRdQW5EliuQgN599125XPISJCXYgSxeIOfhx8hq+GBsQIhDNjeMF+75Qj7AHkF2bHGKe+T73/9+IJGtEP2og8AE5iVkCAQZLo1PEn5V7HxRbL8wt/zsZz/L4ITxCCIUFtMO5jQhf+HHdgT2gz6YK7E1qDwgol7YJ4l7CeRczImYI5Kaa102AwdkQIPPf+c730nNL11tF3NOB0Wr5RikqAfm3WawJSQCvcj6lLTtCFojGA5S0sGZ1xkEvpNuo1z6kGULb1xfOX5vpn/4Xo7tMUrRfxlHEL7wQ0++bYIQCHIesgPgRwv4gf0DUr46C5XHVj4gocEvsQVloXoqqV4xc1clzrlpBQxLrRc/NGDrPrzpvLnfdLN36PzM9hr2FhFhdoHsggxbeKsd2zsgu1iYfLVdwzYk8iwDgleY/SC06eC2JruF1dPXECQHAWjPkLlmXe8pxs4MpWWLOe51+sep/xFAx7gF6YIvwDcEA5SurAZB9dM6D9+9dsyKzDac8N9rRq8wX591UWA/0rKjGvRqn9o1aE6G0FUoie6+6Tsy/rJv2MKcH3jKjUU+/2eSWgvn02Y5ZeXFMxC7wghsWM/a2cmRPbySP/LiEuYmxCKS+lTSM1Ql2QIiEtZkWDfhD8eVZF8xtmAtgAzV+yd/JbP2fHDe7eaH679bM/3T2Mg43j3nZgNCXr5rnl9tf8lgXYk1E9Ys313xaGySmrYjieOfbHo2Y8d9cw/W1Doe2BT6QawXMVT8JZkJrFB7yv18kGT7eC6/aPBcg0zBWPvgO7Ztj9sGyPvIgIy6yGxlk2Xi6qknuUIw1+sWjdXtkzdntqfH2jXfjNJaT9xjrFdApsKLV1hn4zk6bt16lMvEFc77OK6A7NqFxhWwfoXf4B4DAbDQdU8aY1DoPCr18iXSUN6fJa2a8ADZa/a0vWbMsFVm+sQLzZK5X4tNuFq/4u7M1o7jR67LbP0IXWn0ffPqBzLtTB631Ywftd7MnLzbNCy43oQR5ZKwQ+4Hlh8jUMm8ozTHiBnE0kSXuokAESACRIAIWAiAUCgLbWTlivrg7XaRR5kv8ThKP6/nh0ASAVjqeKUmfyTguHJc0/aB/GarypdOI1hIndmtXCoJC3mbH8SvOHbNPCebNXNK2/6x6sTRm6QMshTI81n/xu1j2Yitb6TOxUPnx6qTpM3UVZn3RyWNS+X/5yiPhXihS+5dZHWP89GZ+r/97W/HqVIWGawtJYMbMqCBUJ7UJ+3nIurnszd9gD4Q5QNJzWfl1lNJzwq0pT6eJ+W5ByXHvD7GvFrGudj5OAlyDXVUL2mMY/fx2BV7H9VafRLEqmRE63WgqmR4aCYRIAJEgAhEILBv3z7vB4YbbrghQtpktpeVoD3eWE8jq2CkERTwEIgKQPI6g9T0AfpAWj7gTUQ1clAtAUjaWVxAHFvFyA8MIIjFyay2pOtorw6OK3EMkPlA+mVvcxlkb4/TWnl18EZ3kBzPF+dzxK9w/Grk30vi3UB2f7nfp02bFkv/+PHjvTovvPBCrDrlEGpoaPDsRDb3JD9pPQ9RL5+16QP0gbg+kOScVk5dfLYp/NmG2BWGnTz3oCSGhWFI3NLBrdi5mAQhkrvoAw8XexvVXP165R0xg1jNuTI7RASIABEgApWMALYQloU2iF8vvvhioLlvvPGGGT06+yMp3kTnp7wIxA1EUo5Ba/oAfSBpHyjv7Jd86wyYphMwrURcj/rM57xnnzEtexiQxlx2YgsRbMWILRvlWQlbTrpky30O29mIjSg39JkaaOd9My4009sP9OTRv0rapqPcWLL9ypkLkp/pa0Pjm2++6d2/uN/vvPPOwI799a9/NTt27PDk8YLPBx98EChfzgt6Xbp///7ETUn6OYj6+GxNH6AP5OsDiU9sZVLIZ6XKeVaql7HQ65x66TP7WR33WbHTMMlBJIjRB0gQs+cREsRsRCr0e70OVIUOB80iAkSACBCBPBF45513vG08ZMHdsmVLM2zYMDNhwoTM38CBA02zZs28HxYgBzIZfpzgp7wI5BuQpDyD2PQB+kBSPlDe2S/51hmArY4AbBLjNK3dAN8zzRGf+rQ5+7jTDTJq9Ty9tel8SguDbSg1MQzPPgObdDCPzrk4kHiVhG3F6EAf5FkOJYhwbU9onOkT+nVuo2amyVEn+WQgt3vwBRXbp2LwYN3qv6eTn+lrR2PPnj199zK2Y+zfv7+3fhs6dKjp0KGDTwb3++OPP16xIGBteejQIfP000+nYmNSzz/Uw2dp+gB9oFAfSGVyK4NSPmNV/zNWtY2hXuNUm+20t7bvl2KnYJKDSBCjD5AgZs8j9co7YgYx2xP4nQgQASJABIhAygi88sorpnHjxjk/IOgFuD7Gjw1hmcZSNpfqFQKFBiZZj0Ft+gB9oFgfUFNRTRwycFvbgVs9viB5jW/VO/ZzD4hi41r1irUdpW6n1Mf3z7jQnHNS09j9AoFsfe8pJIfNqR/fL7VPFtteTfxzSakT7777rhk8eHDs+x0EsjvuuCMla6pDbbHPPazPZ2f6AH2gWB+ojtky2spi/7+zPp898/UBHZPOty7l6W9p+kD0jBkuQXIQCWL0ARLE7FmCBDEbkQr9Xq8DVaHDQbOIABEgAkSgCASee+45s23bNjN//vzMVpLdunUzvXv3NpMmTTINDQ3m0ksvNa+++moRLbBq0ggUG6BkfQa56QP0gUJ9IOn5rNz60gwaUndlBqXvnb7DrOgx3mCbyb5ntjPtT2ySyRzW8eTmZlCTc82kNn3Nln4zAregrNRxvWXiBjOv03AzvHmXTPawVsefYVocc6rpdurZZljzzgYZ1PYNW1TR2dAqFVvaVdp7udz/F6qh/V//+tfmsssuM4sXL85kD8PaDWu4sWPHmoULF2bWdk899ZQ5fPhwNXQnVRsLfd5hPT4r0wfoA0n5QKqTXAmV83motM9DxHuv2dBnqlnefbxZ1XMiX27hyy0V5QPFTr0kB5EgRh8gQcyeR+qVd8QMYrYn8DsRIAJEgAgQASJABAIQSCpQST0MetMH6AP5+kDAtFS1pxl45w8d9AH6AH2gsnygav+h0PCKRCDf5xzK89mYPkAfSNoHKnJyLMAoPi9V1vMSx4PjQR8onw8UMIX6qpAcRIIYfYAEMd+kYIwhQcxGpEK/1+tAVehw0CwiQASIABEgAnWFQNIBS+pjEJw+QB+I6wO1NtkyqFq+oCqxJ/b0AfqAywdq7f8M+1NeBOI+31COz8L0AfpAWj5Q3lkwudZd/7N5js9y9AH6QD36QLEzK8lBJIjRB0gQs+eReuUdMYOY7Qn8TgSIABEgAkSACBCBAATSClxSL4Pi9AH6QJQPBExLVXu6HoOZ7DOD+PQB+kAl+0DV/kOh4RWJQNRzDa/z2Zc+QB9I2wcqcnIswKhKfnagbXy2pQ/QB0rpAwVMob4qJAeRIEYfIEHMNykwg5gNR+V+r1cmX+WOCC0jAkSACBABIlA/CKQdwKR+BsnpA/SBIB+otZm2lEFEtsWgNX2APkAfiPaBWvs/w/6UF4Gg5xme57MufYA+UCofKO8smFzrfIaJfoYhRsSIPlAfPlDszEpyEAli9AESxOx5pF55R8wgZnsCvxMBIkAEiAARIAJEIACBUgUy2Q6D5vQB+oDtAwHTUtWeZgC3PgK4HGeOM32genygav+h0PCKRMB+juF3PtvSB+gDpfaBipwcCzCKz1LV8yzFseJY0QfS9YECplBfFZKDSBCjD5Ag5psUmEHMhqNyv9crk69yR4SWEQEiQASIABGoHwRKHdBkewyi0wfoA+IDtTbTMnCabuCU+BJf+gB9IF8fqLX/M+xPeRGQ5xeWfJalD9AHyuUD5Z0Fk2s93//nlOczIH2APlCrPlDszEpyEAli9AESxOx5pF55R8wgZnsCvxMBIkAEiAARIAJEIACBNy/6qSlXcJPtMrBOH6hfH8DcU2ufx+fvM7UatGS/GJCnD9AHqs0HHp+3r9b+zbA/ZUaA66b6fW7lmoVjXwk+UEvrJ66b+FxZbc+VtJc+m4YPJLFe2bHhEUOCEEli9ewDuAf48SNAgpgfj4r9Vq8DVbEDQsOIABEgAkSACNQRAm9f9SoJYjsZ8K6EgDdtqC8/xNxTa59D6/aTIDaHgeM0AsfUSb+iD+TvA5iT+SECSSLAdVN9PatybcLxrjQfePvq2lk/cd2U/3MNnwWJGX2g9nwgifXK5Xu+RYLYWhLE6pkghnuAHz8C9co7YgYxvx/wGxEgAkSACBABIkAEAhH4w31vkiBGghh9gD5Qch/A3FNrnxeveYgEMRLE6AP0AfpAhfgA5mR+iECSCHDdRMJQpRGGaE99+eQf73srySmtrLq4bqo9ogvJSxxT+kD+PpDEeuWugy+QIEaCWF37wF0Hny/rM00lNk6CWCWOisOmeh0oBxQ8RQSIABEgAkSACJQYgfdf/EvJiSEMZNdXIJvjzfF2+cD7L/65xLNd+s299b2XSQypEGIIg9P5B6eJGTGrNR/AnMwPEUgSAa6b+EzreqblOfpFqXzg/Zf+kuSUVlZdXDfxubPWnjvZH/p0IT6QxHrlh8+9UdfkoHrOnMW+f5w5DvcAP34E6pV3xAxifj/gNyJABIgAESACRIAIBCNw2Ji39v2cJDFmkKIP0AdK5gOYc8zh4GmpWq8c/uiweaLhSpLESBKjD9AH6ANl9oEnll1pMCfzQwQSRYDrppI9K5aKcMN2SO6qFh9467LaWj9x3UQyTSFkGtah39SSDyS1Xjl8+LDZs/0xksSYRawufQC+j3uAHz8CJIj58ajYb/U6UBU7IDSMCBABIkAEiECdIfDuM39ksJ/kIPoAfaBkPoA5p1Y/r3/jORJDykwMqaWgMfvCH0HoA4X5wOuP/aBW/82wX2VGgOsmEoqqhVBEO2vLV2tx/cR1U2HPOHw2JG70gdrwgSTXK08feq0uyUHMoPVxBq16xgG+z08uAvXKO2IGsVxf4BkiQASIABEgAkSACIQi8Pvbf10ycgiD1bUVrOZ4cjzz8QHMNbX+ef6yu0kSI0mMPkAfoA+UyQcwB/NDBNJEgOsmPvvm8+xLWfpLsT7w+ztqd/3EdVNtEF1IWOI40gfy84E01iu3Xv8MSWLMIlZXPnDL9c+kueSrat0kiFXJ8NXrQFXJ8NBMIkAEiAARIAJ1gcBH739o3jnwK5LEmEWKPkAfSM0HfnvgV+bD9/9V83PqP979wDy9/WaSQ8pEDmFwOr/gNPEiXrXkA09vv8lgDuaHCKSJANdNJPwUS/hhffpQXB/47XWvmY8++DDNKa2surlu4nNoLT2Hsi/05zg+kNZ65f33/mGuveJQXRGE6jlzVr33Hb4On+fHjUC98o6YQcztDzxLBIgAESACRIAIEIFQBPBjB9+IZ7A6brCacvSVfHwAc0s9kMNkksWPHXwjngHiOAFiytBP6APJ+ADmXJLD5L8Qy7QR4LqJz8H5PAdTlv5SiA/87vZf1zQ5TOZprpuSeQ7i8yRxpA9Uvg+kvV4BYYaZxLjtYq2Tx5A5jOQweYpylySIuXGpuLP1OlAVNxA0iAgQASJABIgAEcgg8O4zfzRv7ft5almECgmOsg6D6vSB6vQBzCWYU+r18/o3njNPNFzFbGLMJkYfoA/QB1LygSeWXWlef+wH9fpvhv0uMwJcN1Xn8ynXFRy3SvaBty/D+ukPZZ7dSt88102VT24hAYljRB8ozAdKvV55+tBrZs/2x5hNjFtO1pQPwKfh2/xEI1CvvCNmEIv2DUoQASJABIgAESACRCAcgcPGvP/iX8wf7nvTvH3Vq+bNi35Kwhi3HqQP0AcifQBzBeYMzB3vv/hnYw6HTzX1cPXwR4fNW9972bx4zUPm0Lr95vH5+0gUSYkowoB1YQFr4kbcqskHHp+3LzOXYk7F3Io5lh8iUFYEuG6KfD6sZDIObSNZrNw+wPVTdgbnuonPpNX0TEpb6a9BPlAJ65XDhw+bHz73hrnr4Avm8j3fMjs2PFJTZKFaz5LF/j2c8Vn47l0Hn8/4Mnyan3gIkCAWD6eyS9XrQJUdeBpABIgAESACRIAIEAEiQASIABEgAkSACBABIkAEiAARIAJEgAgQASJABIgAESACRIAIEAEiQASqGIF65R0xg1gVOy1NJwJEgAgQASJABIgAESACRIAIEAEiQASIABEgAkSACBABIkAEiAARIAJEgAgQASJABIgAESACRCAeAiSIxcOp7FL1OlBlB54GEAEiQASIABEgAkSACBABIkAEiAARIAKS0EsRAAAgAElEQVREgAgQASJABIgAESACRIAIEAEiQASIABEgAkSACBCBKkagXnlHzCBWxU5L04kAESACRIAIEAEiQASIABEgAkSACBABIkAEiAARIAJEgAgQASJABIgAESACRIAIEAEiQASIABGIhwAJYvFwKrtUvQ5U2YGnAUSACBABIkAEiAARIAJEgAgQASJABIgAESACRIAIEAEiQASIABEgAkSACBABIkAEiAARIAJEoIoRqFfeETOIVbHT0nQiQASIABEgAkSACBABIkAEiAARIAJEgAgQASJABIgAESACRIAIEAEiQASIABEgAkSACBABIkAE4iFAglg8nMouVa8DVXbgaQARIAJEgAgQASJABIgAESACRIAIEAEiQASIABEgAkSACBABIkAEiAARIAJEgAgQASJABIgAEahiBOqVd8QMYlXstDSdCBABIkAEiAARIAJEgAgQASJABIgAESACRIAIEAEiQASIABEgAkSACBABIkAEiAARIAJEgAgQgXgIkCAWD6eyS9XrQJUdeBpABIgAESACRIAIEAEiQASIABEgAkSACBABIkAEiAARIAJEgAgQASJABIgAESACRIAIEAEiQASqGIF65R0xg1gVOy1NJwJEgAgQASJABIgAESACRIAIEAEiQASIABEgAkSACBABIkAEiAARIAJEgAgQASJABIgAESACRCAeAiSIxcOp7FLVPlCHDx82P3zuDXPXwRfM5Xu+ZXZseMRsXfsw/4hB3fkAfB/3AO4F3BO4N/ipEgQ+Omze+t6PzYvXPGQOrdtvHp+/zzw2Zy//iAF9gD6Qlw9g7sAcgrnkre+9bA5/VPr/A4fNYfOTf7xmvv7+d831f7nffOVPt5nL/nQr/4gBfYA+UBM+gDkNcxvmuJ/845cGc16pP1z/cq3PeAd9gD5AH6gWH2CcqtRPCWyPCBABIkAEiAARIAJEgAgQASJQPgSqnXdUKHLMIFYocgXUe+rJX5qLt3+j7ohA1RIIop3lDVru2f6YefrQawXcWaxSSgR+9dgPzBMNV+VFAiF5jOQ5+gB9II4PPNFwpXn9G8+VbEp77m+vmGv+fHdNkEBIaiOpjz5AH4jjA5jznv/7KyWbZ7n+Le/6iutb4k8foA/QB4rzAcapSvbIwIaIABEgAkSACBABIkAEiAARIAIlR4AEsZJDXliD1ThQ77/3D3Pr9c+SGMYsYfSBGD5w6/XPGNwz/FQWAv949wPz/GX3kBjGDFH0AfpA6j7w/GV3G8w5aX0+OPx3c997T5AYxgxR9AH6QN36AObADz76e1rTbOZZnuvf4kgJJHUQP/oAfYA+UDk+wDhVao8MVEwEiAARIAJEgAgQASJABIgAESgbAtXIO0oCLGYQSwLFEB0gulxz+ZMkBsUgBjH4VTnBr3KPxbVXHCJJLGReKfUlEDWe2nZT6qSQOBmGKMNMVPSB+vCBp7ffnApJDOSwW//69bolhcTJMEQZZqKiD9SHDxz86yOpkMS4/uWartxrSbZPH6QP0AfS8AHGqUodiWJ7RIAIEAEiQASIABEgAkSACBCBdBEgQSxdfBPTXm0DxTenGZhKIzBVDzrxhiY/lYEAM4fVByGHxCuOc6X5ADKJJf1h5rD6IL6Q4MRxpg/E8wHMiUl/uP7l+rce1qrsI/2cPlCfPsA4VdJPDdRHBIgAESACRIAIEAEiQASIABEoHwLVxjtKCilmEEsKSYeep578JTOHMXMYfaAIH3j60GuOO4unSonArx77ATOHcUtB+gB9oGw+8Po3nktsynvub68wcxi3FKQP0AfoA5YPPP/3VxKbZ7n+rU/CBIkyHHf6AH2gnnyAcarEHhuoiAgQASJABIgAESACRIAIEAEiUFYESBArK/zxG6+WgTp8+LC5ePs3SA4qghxUTwEm9tUdUN2z/TGDe4mfMiHw0WHzRMNVZSOGVFo2I9rDDFv0gdL7AOagwx8V/3/gsDlsrvnz3SSGWMQQZlmKl2WJOBGnWvYBzI2YI4v9cP3rXs9wnUdc6AP0AfpAbfkA41TFPjGwPhEgAkSACBABIkAEiAARIAJEoDIQqBbeUdJoMYNY0oh+ou+Hz71BchjJYfSBBHwA9xI/5UHgre/9mOQwZo6iD9AHyu4Db33v5aInwZ/84zWSw0gOow/QB+gDAT6AObLYD9e/tUWAIKGF40kfoA/QB4J9gHGqYp8aWJ8IEAEiQASIABEgAkSACBABIlB+BEgQK/8YxLKgWgbqroMvkByUADmIAanggFS9YIN7iZ/yIPDiNQ+VnRjCjE2lz9hEzIl5pfkA5qJiP19//7skhgQQQ2o5MxL7xsxf9IF4PoA5stgP179ct9XL+pT9pK/TB+gDjFMV+9TA+kSACBABIkAEiAARIAJEgAgQgfIjUC28o6SRYgaxpBH9RN/le75FghgJYvSBBHwA9xI/5UHg0Lr9JIgxexR9gD5Qdh/AXFTs5/q/3E+CGAli9AH6AH0gwAcwRxb74fqXhAmSZugD9AH6QL34AONUxT41sD4RIAJEgAgQASJABIgAESACRKD8CJAgVv4xiGVBtQzUjg2PkByUADmoXoJL7GdwIBX3Ej/lQeDx+fvKTgyptExGtIfZtegDpfcBzEXFfr7yp9tIDAkghjDDUrwMS8SJONWyD2COLPbD9W/weoZrPWJDH6AP0AdqywcYpyr2qYH1iQARIAJEgAgQASJABIgAESAC5UegWnhHSSPFDGJJI/qJPgZ/aiv4w/Es73imdJtSbQQCJMKUnghDzIk5fcDtAxHTVeTlWiZ2sG8kLtEH6ANJ+EDkRBohwPVSeddLxJ/40wfoA/SB0vpAxL9FXiYCRIAIEAEiQASIABEgAkSACBCBCkeABLEKHyAxr1oGioGZ0gZmiHdt4y33P8vSIkCiipuoQlyIC32g9D5Q7OyXBHmCOkjCoQ/QB2rZB4qdZ7keq+31GMeX40sfoA/QB/w+UOz/TdYnAkSACBABIkAEiAARIAJEgAgQgfIiUC28o6RRYgaxpBH9RB8DJ/7ACfEgHsX4QEq3KdVGIEASTOlJMMScmNMH3D4QMV1FXq5lUgf7RtISfYA+kIQPRE6kEQLFPOuzLteK9AH6AH2APlBtPhDxb5GXiQARIAJEgAgQASJABIgAESACRKDCESBBrMIHSMyrloGqtsAG7WUwrpJ9QO5/lqVFgEQVN1GFuBAX+kDpfaDY2S8J8gR1kIRDH6AP1LIPFDvPVvJagrZxrUsfoA/QB+gDSftAsf83WZ8IEAEiQASIABEgAkSACBABIkAEyotAtfCOkkaJGcSSRvQTfUkHHqiPwax69oGUblOqjUCAJJjSk2CIOTGnD7h9IGK6irxcy6QO9o2kJfoAfSAJH4icSCME6nmtwr5zrU4foA/QB+rPByL+LfIyESACRIAIEAEiQASIABEgAkSACFQ4AiSIVfgAiXnVMlAMDtVfcIhjnt6Yy/3PsrQIkKjiJqoQF+JCHyi9DxQ7+yVBnqAOknDoA/SBWvaBYudZroXSWwsRW2JLH6AP0AcqzweK/b/J+kSACBABIkAEiAARIAJEgAgQASJQXgSqhXeUNErMIJY0op/oY/Cm8oI3HJPqHZOUblOqjUCAJJjSk2CIOTGnD7h9IGK6irxcy6QO9o2kJfoAfSAJH4icSCMEuNaq3rUWx45jRx+gD9AH8veBiH+LvEwEiAARIAJEgAgQASJABIgAESACFY4ACWIVPkBiXrUMFIMr+QdXiBkxC/IBuf9ZlhYBElXcRBXiQlzoA6X3gWJnvyTIE9RBEg59gD5Qyz5Q7Dwb9BzP81zj0QfoA/QB+kAt+kCx/zdZnwgQASJABIgAESACRIAIEAEiQATKi0C18I6SRokZxJJG9BN9tRj8YJ8Y1CuXD6R0m1JtBAIkwZSeBEPMiTl9wO0DEdNV5OVaJnWwbyQt0QfoA0n4QOREGiFQrnUC2+UalT5AH6AP0AfK4QMR/xZ5mQgQASJABIgAESACRIAIEAEiQAQqHAESxCp8gMS8ahmocgQn2CaDYrXqA3L/sywtAiSquIkqxIW40AdK7wPFzn5JkCeogyQc+gB9oJZ9oNh5tlbXIewX19j0AfoAfYA+4PKBYv9vsj4RIAJEgAgQASJABIgAESACRIAIlBeBauEdJY0SM4gljegn+lzBA55jUIk+UJgPpHSb1pTaf/3rX+a9997L/P3zn/9MpG8kwSRHgnlw5k7zwIyd5sGZu0w94vo/s/eYR2btqcu+1+N4p9HnYie1WiZ1sG8kLdEH6ANJ+ECx8yzXOYWtc5LCbeOq+0xSuqindGO5efUDZv2KuzN/m1bfzzFcWzrs6efEulgfKPb/JusTASJABIgAESACRIAIEAEiQASIQHkRIEGsvPjHbr1aBqrYQAPrM1hFH8j6QOwJoo4FDxw4YP7t3/4t87dp06ZEkEiD5FFPOu+bcaEZ1ORcc8SnPu2NDcbo1kkb64ootaHPVPP//s+/ZzBY33tKXfW9nvw97b4WO6klQZ4oh459f7zF7P7f/Saptne9/jUDnUno2/PWAXPp725KRFcS9lAHSVL0geJ8oNh5lmuX7NqllFgsvuAa8/nPHZN5zup0zggSjKqMYDR88FJvndCjywSOX5WNXynvdbZVnjk2DPdi/2+yPhEgAkSACBABIkAEiAARIAJEgAiUF4Fq4R0ljRIziCWN6Cf6woIIvFZ5gR2OSWWPSUq3aU2pJUEsuWxfSRFdOp98lveDj5D3UB4Yt6auSFLtT2zi4YDjpPClnsrz+TTHpNgJuxTEkWnXLTLNB7T2/V1w56q8CVTrn91rBq0fY5r2Odv8309/KnP/fP7EI03bMZ3N6D3TzUVvXBdb565fXWtG7p5q2ozqaI44+r8zuqCzWb9WZsjGcWbjC5fG1rXvD7eYKdfON51n9DbHfPl4774+9dzGpu+y88ySRzfH1lWK8WAbxZGFiF/94VfsPMv1VHnWU/16zfTmYzxnchzKMw6F4k6CWHWNV6HjzHq1Oc7F/t9kfSJABIgAESACRIAIEAEiQASIABEoLwIkiJUX/9itV8tAMQBUmwEgjmt5xjX2BFHHgiSIlYYss7z7eDOv03Czc9CcUKLTLRM3eD/WIYPYmJY9vL87p24NrZsmyaYcuvs3PsfDAsflsIFtlub+SBPnYqf3tMkuY/bO8PxcE0JxPp+2G765zSOFaT36uFHb0w2IX1F6d/ziq+a45ic57RJ9//mFz5pV390VqQuZws6Z0DVUF3SCQBZlF6/XH/GIY14dY17sPJvmOqlhwfVmYN85mb+Fs6+uCxJU3D6PGrrcm5v/+7++VBfYpOlrpdZNglh54gulHme2V5vjXOz/TdYnAkSACBABIkAEiAARIAJEgAgQgfIiUC28o6RRYgaxpBH9RB8DQLUZAOK4lmdcU7pNa0otCWLpE2AePn+39wNc3zPbhRKd9gyZ68kOadoxVDZNUk0l6MaWmlPa9DMzzxlsDtbZ9pqVgH+t2FDshJ0mQQWZuIRwZZf5EMQWP7IphxyGzGFNerXIOQ/i14WvXhNIxtr6ypXmS6cf67MLmcOgCzq1nTi//FvbA3Vd8s5NptXwDr46qH9G12ZOAtr4y2cH6kpzHKi7OkhIHKfKHadi59k010nTJuzw5qARQ5bVBQkqbp83rLzXDOgz23TvPMFcMOOyusAmTV8rtW4SxMoTXyj1OLO92hznYv9vsj4RIAJEgAgQASJABIgAESACRIAIlBcBEsTKi3/s1qtloBgAqs0AEMe1POMae4KoY0ESxCqLILZtwPneD5n1ThCrFYIS+5H+PRaGcbHTexqklH1/vMX0WjTEu9dBmuo2p5/pMKm7dy4uQQy6NHHryFOO8m3/iO0dZx3MZolBW93nDggkYnWYnLUBsvPvXWvQhuCw9vt7vC0ncR1bRso1u5x8zTyvP5A9b+tEA9KYyCGbGbbDxDX52/6zq73rIlfNJfqz5cdXmK0/+UpN9auax4S2J080K3aeTXOdFJcslaYNpdZdj30uNcaV0B4JYuWJL1TC2NOG6h/7Yv9vsj4RIAJEgAgQASJABIgAESACRIAIlBeBauEdJY0SM4gljegn+iox2LNk7tfM4guuif23ceW93hvI0XWvNetX3O3Ju/q/YtFNsduGnauW3Bqqb+Oq+8y8mVcYbKsxdMACc/6Ui8zaZbeH1oFd/r5cGyiPbT00XpvXPOjJblp1v++algs63rLmIa++jQVscmGGc8sX3qjaCrZX6m9e/YBZMOsqM/q8lWZQv7lm3Mh1Zu7My3P0r224Q+n92C82rLgnR070rl560Ce/bP6BQFmpk1SZ0m1aU2pJEEufvPLAjJ0e+SEqgxgJYumPRxiZKOlr90zbbg6MW+38u2H8WvP1WRfFyhJ32+RNTh1ad9QWpLYOZLZz9feuqVt9bd0/40KnnK4L3bsGzTELOo0wK3tMMHuGzDNx6mkdaR0XO2EnTSa59Pc3m07TenlzAohR/VeOyJCHzp3a0zsflyC26OGNXp0jjv7vQCLSnNtXeHLI/HXJb2/MISztefOAJwO7Fj20IUcGeGz60WW+zGQrntjhlDutUxNP38C1o50yF//mBnPquY09uRE7pzjlkh6HtPWBGKb7DzzXPH1Ryfu2+3/3G4zP9AOLzMjdUw38YPOLl/lIf4IFSGzrn92b398P9np9AuEvqv6Wl69wti02wC+jdNjXQYKU+siAp69veO4S75rISAninier+iHX7RLtQN/5Ny8zI3dNNdOuW2SWPbbFYBtVWxbf1/8gTyyf3eu7f+2+7HnrgLOdnLZi9MVlbzHnip1nk3rud+mZPG5rdn6pkwxi9dhn19jX+rl6J4jZcZGgWIqcX6PiPXHqrl5yMDRmgfiR6I5TRsVAEPNBbGf8qPWZWMzU8dsy8ZwoP7b7gliXq44dk1m//C6fnD/WFR370zE8V4wLMSOXHchcqPFas/Q2p5yui7GYPvFCM7jfXDNi8FIDEqxdz2UD+qz16GPEr7QdONZxNy2bxnGx/zdZnwgQASJABIgAESACRIAIEAEiQATKiwAJYuXFP3br1TJQaQQfitX57//fp7zAumR4CCsvmLHPC8TErfv5zx1jBvaZ4wzKNG/SNa/2Tzqhmde+7juCSGG6jj7qlAxxTNeR402r78+xQQfFRA7lCcdlf+gETghgyfWFs6/O0ROGJa7NmLTLq++yHwQ30a/L005p5WsLpDh9XY7XNdxpzj7L/2O1tunILxxvxg5f7dUFaUxfx3GHtkO966IXJYJswFXLH3v0aU5ZXS+p49gTRAqC77zzjnnhhRfMU089Zd566y1z+PDhglt57733zMsvv2y+973vmd/97ncF6fnb3/5mnn32WfPaa6/56lc7Qex/Zu8xN09cb/YNW2hAbAkimUDulokbMnIg1eB7kGzYeRB+9g1bZG6asC52/c39pnv3QFoEsUdnX2wOjFtjrhi+xICQFtaHpK/dMWWLuWz4YnPj+LWh7YLAdMWIJebqUQ3mofN3hcoWYyP84MqRS81XRiwtORa23Yu7jPbGXs+D+rjR5442vc9oY/aPXRWISbdT/VmWdH19fMSnPm2GNO1k7nOQupof45+Ldwyc5WxvYus+Ppvx3e6XfAcZDG1qG/Tx0GadzN3TtgXWFz1plr4Jr4AvxZAm7LogmNhbLoJoInKFEMTOmZB9RhqyYaynS3Tq8qTWp3pjNfOmpTmyk666wLt+ZvfmOde1rr7LzvNkkf1MX8Pxxh/u867DJ8LILfPuXu3JhmUks9uI+g6SFgg8G1+4NMc+XXfHL75qGr65zax8cqcBYU1fi3OMcQVpbsmjm82On3+cAW3CV+Z4fZJ7Ys1Tu/PWHad9l8zO1641fZZmx0hskBIkQYybHpfmA1rn2CzyYeWG5z/Gd+wlM2PVR9vIHOcibyFDXVhbrmsLH1zv4WrfX5DHFqwujBr3PMvXFsbfJbf3NzeYXgsH+2S1HSBmIjseyJ+6vpaJe/yfX/isp8Puy+D1wfe3rT+oL9q+JI8LmFp9VZJ67rf14OWXTueM8MauEreYBLlj1tSLI19wsvsW9L0UfV63/K7MmhlrS/0ilG0T5Oaf/xUze9reWC9j2fXxHfoXzfmqmTP9UhP2QpKrLs4JGQUYRxF+gnQEncdLcUvm7s+8bIY1fiH2BenW59EO+r903nW+NXQ+BDH4BV4ew1hgO1FNltJtVdOxKy5iz4X6e//e53v4xa37H/9xhGnfepCBL9vY4EVDrT/OMWJKth6MTY8uEwN1wYYxw1bl1BM9iH3ptkEQlWu67NbJv615987jfXJx43bSFmwW/a4Y16knn+1dFzmUuBdFB8omjTs65SCLvnz2M5/3yeu6rVr09u5r3H/ASl//0hdPcsYXofvcdsN8sqi3avEtgbboPiRx7PsnyC9EgAgQASJABIgAESACRIAIEAEiUHUIVAvvKGlgmUEsaUQ/0ZdEsCFpHfkGiwohiEkgB6QmO9AcN4AnOk48vklOYAdvHNoBI5G3y349Z5gta7NZu4An3ki05ey3LgV3myCGtz/lmit4Zuu1v8N2qe/CAgQsGzPI2wQxBINFj5QINv/3f30pp2+2Dfjeu/tUrz6CcbbM0nn7veuif+yINTlyMye7CW1SJ8kypds0UC1IYDfccINp1swfqBWspk2bZt54443A+i+99JI59thjM3+zZs0yH374oVm+3L81GHQdeeSR5rbbbgvUoy9Arl27dr5xQBszZ840r7/+uqkmgtjAL3cwX/j0EZm/a0avMDsHzTFHfeZzvr6d+oVjzfhWvX3Zi1b1nJipI+Mg5aAm55oHZ0aTqUBwgazd1v/7P/9uzjmpqblm9PIcAsyjcy42sMVFnpE+oAShS2TxXWyTUsu6CFgg+bQ45lQDW6QOyhP+60tmXKteoUQsYCj6gS1IOiDPYWvLpkc1yvR3TMseXt+WdRvryeMYhLSzjzvd1y70QReuCekH5LEmR53kk4ONqBtGtFv9ybhBJ9oTfVLa9tw+ebM5t1HuvXf6kcebq0Yuy6kvetIs4xDE9LjN7jDUSV6MSxATXcDs4KSNvj5jTOU6yrgEsQmtevv0AC/cE11PbenTp3XrY9w38Ks0cQ7TrefDQo6TJFGAQKJJKSBkaf2aIAayjb7mOgZxRWMNkpJLTs6NuXiGJ99iSLscWZDCRN+kq+fmXBc9KEF2ElkQfnQWJ1wHWU2uY+tMXdc+RgYmEGNEftUhN1HHriffx18+O7PtJYg6OEbmpjO6+ucCXAO+uCb1QB5r1NY/h8EG1I3CEjqQiavl0Pae3WI/2pL+IHPa0M3jM38goknbaZYgh8EGsSes/NLpx2aIcbCnUIKYYBqXIKbtmXfPGh8mhRDEFty/ztNhk6rQ1nHNT8ohb6G/+l6EnCsTHrK+gbSobQ46Buntojeu82wJkgs7H0YQG7TOnYUPfbF1uvqSps8VMrfqOkk++0MXMsFgfWOvYfEdZAP5w4sseIEIsjjXtHGnnLWM2IYM0VKvRbPugXIgGIgc1ktSX5eLL7g2Q4qw16aoB90g8mj5OMf59Fn0wQ7pe5uz++e0uWDWlV5fcB1r37at+vv8DZgCt6njt3v1YT/6YfslXgjTLz6JHa5ywqgNxia+QB8IH726TTYg1bjqyTmsN0FQsW1Af89q2s2ZJVvqRpUgagEPWze+o4/Ixp1EJiKQgo475gxfO/CR1i37GmSjikMQwwttPbtOcsZBMHbA0kVsG9T3Am/s4xArISN+36fH9NCxicI37nVXXMQ1JnKuEIKY1EXf7PuyIILYKj9BDL5kx46kTbts2bxn5h608UHsS8vGJYh16zTWN072fKl1uo67d57g1Q+KceE+tu21CWKNzzgnRwaxN03udbUv53DPSXY2+KGcl3LUeSty9Dcs8D8/Qxb3gm1rmt/1/0AeEwEiQASIABEgAkSACBABIkAEiED1IUCCWJWMWbUMVJpBiEJ15xssKoYghuDMkAELfMGZfIN/NkFs5eKbcwJFEjAKKsePXOezoZIJYujDsEGLffZirKMIYnhzON+xlWxoCJDa2Nk/liBwj4Cdlgt7Q7RQ/wyrV8rp6V//+peZMGGCr7+67/r4ySefdJr23HPPefUHDx5sNm7Mbh2m68sxyGNBH5DLVqzIbikmdXQJotmmTZu8NnGcxCeMrFHMNZCxxP5ZHYZ4x3JOlyBnYYu7rf3DM5qASBVGErt8+GInuUy3heOl3cb4CDAgfdkyru+XDF2QIYi5rtnnNOkKWxOCvGXL2N+Bg66n8UeWLZEHtpecl/smfP/G53j9mtsxm41mdMseobiAsAbiHLK22eQ1aROlyGm75Fi3h2M5L6W+Dn8AUU7rto+RyU3qlqrMlyAGm0Hss+3LlyAGPaij9SRJEOt8sj/zjo21/f3YI44MJStqO5M+LnZOS5pUgW0cQcQ6/5ZlHpFE2tAEsThbTOosXZpYIvrsElmFZGxADLKva1KRZIWyZfR3EMNEn01+0pnNJl7pJ8JpHXIMwprocmU3EzlXOeLCyV5dZHrS/RCdUsLmVd/dZTa/dLlvm0y5LqXIudrDOb1lp9RxlXPuWJmDc5DOpM436+fPIOuyS5+TDHDlIIhhrHQWszQIYugriIM2vlEEMdglRD+NV9ixJkOGyQVd0/exTXYjQezhnLVO0BoA2ZWDMNbnQeLBS0GaqIVsTS695w1c5NPpyiiEeuNGrPXk9Ms1ohPkIW2D6xjrsyCSh+ixy3z6LHXx8pC0f+bp7XP6ra+fcVrbnLWl1JVy1NDlGeKWTWqS61KGEY6w5u7QLvu8KXXsEuQxm7Aj/QIhxJZ3fdcZsqVuVAniWZz1M/AslCSGF786dxgZ2gf4bI8u2XUnjm3bgQ8Ida6+63MgP9nZ1aZPzD4v2LEVux181ySlWesqBHoAACAASURBVFP35tjiqlPsuXxjRMUQxIAX2tM2F0sQw9yDzOp6LKKOXVnbNfaoHzR32BnESkEQAyHT3vIyDkEMpMYoLPR1YAA8ce/Y2evh37YNbVsN8OnH/eQiSurxTvq42PUJ6xMBIkAEiAARIAJEgAgQASJABIhAeRGoFt5R0igxg1jSiH6iL+nAQxL67CAo3hJG4DboD29YS7t2Xbzxirfz5A9vQtoyCOJIfZR28A9B56C2cX5g3zm++u1aD/IFgBBMAnkKQb2hAxZmtg3QASYcg9iktwBIkyCGQF9Yf/BGuOBhYyF2A8O1DXd4cpCPIoh1OTd367NGJzbPEPRA0sMPAaJfSuAi2dV0UFqu6yxlI4c05NRfMvdrPhulX2mVKd2mTrU2matjx45m69atmQxdNlELGbz+9Kc/5ejRBDHBFCSuZcuWmT179piFCxea//zP//Th+qMf/ShHD07s2rXLJ4c258yZY3bv3m0aGhpMo0b+bEJor5oIYoIPiCoz2g802AYPmaLkPEpkshJykpY784sn+uRmnjPYR6QRggoydml9yIQ0rd0Ag8xWi7qMNK2O97/Vv6HPVE8PCGLtT2yS+bPtkvMgZYFAFUcWdXRGqGHNu/hsQzauSW36mjnnDvX1G/YDA2yNKf2SUhPEYKMr21kQQUxwAZaT2/Q109sPzMneBUKSbGuo5WxyUZvjz8yxDTZqAlgUQUzGGYQ4+ALGFNs2ip0okVUrjAwouCRZ2gQxYDy8eZfM38AmHTKZ2rSNcmxni7MJYhhv+KL8QSf6J/Wl1HqSIohdPHR+TjtoG5gjq1uQLdPbDXCOc5J4u3Q5J8g8TtqkkjS/50sQQwYsGesTWp6cQ4Cxbd36ypWePAhQ+vq+P97iXYPO3b/e77uuZeX4yFOO8urY2yc26dXCuxaHJNV5RjYzKTKdSRtxSk0QEzywnWb/VSMNtuWziU8ntz/DnHrux9uBazlNUoMeEIhc7W//6VU+chkyVCFTGLbKHLR+jMFYiB3AecuPr3Dqceku9tzOX17jtS02oL8jdk4x0w8sMn0bhvkyYoHIJ9nfpl67wHS7oL/vT3RICUxsGSEH2hnEQP4CqUn++i0fnsnmJbqk1Jn0XAQxENjsNvX39c9ms8LZpCppA+Ow6/Wv+cYhiiCGMZX6UgLL0XumG/ho2zGdfX4gMrKl5cA1o3x2txnVMUcf7nndl/4rR3g22n0hQSw+QQyZr7COwR8ICjI2IAHI+ZbNe3hrEqxHRSYo0zGy3IgMSvtlIlnLnNM2+wIDtvOT8yjHjVzn03HkF47PZMnB2hXbnWlb0QZIX7p+2HG+fYYuTQCLIohJ37FOB3kJGbftLFpYj8q6W8u5so4FEexsnRgbkPOwrgTBRccNQH6ys2gjk5DYihIyXTuOybxMBdvsl5fk5acwbOUaXjrT7cOfkCUOL2oN7DMnJ+MZzkndfEpk4NJ9AJYgtPTtOT3jL7afQNYmiAEXrOu1HvgwfA3rfO3zkLGzOKE++if1JUOTqx/IgiVysE1iBS7ZJM/ZcZGoGFFYVvZTGrX04lOIUyE2A9ylX1LqjOk2QQx4hcV0cE1nvhszPLu9tuiHf4LIhuxw2MJR+5vIIPOfxjEtglhUzG/S2M2eHUEZxGCznVEuiiCGLIzSV12C0AbyJzKLue4B4AlcNLlR6uv4IOJRcl5KkFs1pqU4zmMpQlEiQASIABEgAkSACBABIkAEiAARqEAESBCrwEFxmVQtA1WKYES+bdiBqaDAuUtvnLrYPkGCM1KuXXa7F6Sxg3/5pH9HAE10Somgkh24xJuWcl1KBP2kT2kSxPJ5u9jGQmxFiX6JvSjDCGKuDGAIWtq2IOAtbeANV719CLas0IFjyGErD7QNcp0duLPt07amdeyaC9I6B/KVYPWtb30rp5k333zTR+66+eabc2RsgtjkyZPNP/7xD5/c22+/bRo3/viHbbSHrGX259133/W1ha0tcU5/kPFs27Ztns3QVU0EMRCCQHDShJBHZu0xfc/MZqGR8bhixBKf3P/M3mOGNuvk9R26QNLSunCsSTk9TmtlHpjh344SdUBOk3ZAIHv4/N05enYNvsCTgX12O/r7tgHne7LY6lFfk+P9Y/1zpiszFshkOqMWMn5JfSk1QUz6MLpFd4OsaagPMtXXz7/Iq6cJW5AP2vZRdEkJkpS0KeXa3tmMP5D76qjcbTp1eziWulLq69CxuMuoHBls4Sl2oFza1Z/pTXSlVdoEMRC77LZgoxDcxFZs36jltC9CBsQwfR3Ht07KzTiIDHoilwRBDD4PEp7YiRJ6beLdo7MvNm1PyM5TIGtiC1CxpZSlnvcKOS6WsJNP/XwJYrNuzRKxkTUqqi1s5ajHDltUSh1sS6ivyfmw8rRO2W2N9DZ/qKO35Yuz3R3INNK+JsmEtS/XbIKYK1sUzol+KV3beE7bv9An59ruEvaJDpDKxA5dth6ZJQOBGKWvpXkMkprYJuWFr17ja/+S395oOs/sY0AOw7anYfZ8/sQjffqQOS1I3iaIYatOWxZERE0shI09Fw7y5FwEMSGw2bpc321SlWBgt4O6YQQxTaYUHbAT9ut2ga3OMjZ003hzsbqvtOzWn3zFhyX02qQ1LW/3hQSx+AQxva7o3nm8h3tQ5ir9UotrnYmsYuIHUgZtHykEJKyBNRkEa0m9NsL2bPplJNi8YeW9Bi8OSRtYe9lrM923oOM4fUbdfAlieNFL9wk65s28wrNX7Ab5yO4bCCQ6LjCo31zfuhW6Fsy6ytMFWU3okb6CjCQYoz07i7bOHgY7pJ6UwFOyc3VsPzwvfHUfQDS0+4g2unbMbq8MgpG0G7fENp4aJ/gZzun6GAP4qeCN0iaIwZckexj8zpVtzY5/2CQw/TIZyGnaBn3cp8c0zxZkftLX0jy24yKuezeo/Th1XfGSiaM3ev2zCWIgmQW1Z5/HGOr5AGOIrHiIr2hZvHhpx1tgu5ZJiyCWT8wvjCCGvq1YdJNncxRBTM+BqIv7AaQu3WfMyRo/kECxXbDI2IRe6JCXKW1yZKHzrLRVaFnImoR1iAARIAJEgAgQASJABIgAESACRKByEKgW3lHSiDGDWNKIfqKv0ABDmvV0kBJBmnyCRXHqrl560AsqQj/+9DaVcQJ4Qf3XBCcJMNmBN6mL7Q+lfZR4a1KuVQNBDDbrbGNhBDH8QKL7isCjCxcE0fHW94TRG3JIdcBmxODsFnWiD29iIzObfEeZCcop0p/gmnaZ0m3qVPvRRx+ZlStXmgceeMB5HSeRBUxwQVYx+6MJYsgU9s9//tMWyXxHG6KnWbNmOTJ79+71XQcZLOgzcGCW4FRNBLHZHYY6ySYgoQg2KF1EGpBT7p7mJ8fdNnmTTx9IZaInLPMUCDOaeOMiQyVNEOt4cjYjQFD2M/QRJC/pA8obJ6zz9dEmiGG7yzDijiZkIaOZS9YmELkIUVJP47a+95Qcfbq9KIJYkD1oC6Q3wQHZraT9UpRxCGKwA2Q7sVFKEBnFxjgEMcg2+tzRPj3IKCc6NN5oY8fAWd41kUGJDGxiA8oJrXp7csh4p6/h+OpRDd51rQf3YudTWpirRi5zXteyaR4HzX1xz2vCRtrH+RLExl2aJZSCkBTHPj1+OrOVJubY2cWC9OqtDJF9SstBh7QF3fqa63j49ux2Qh2n9oyU1zo0Qaxpn7OddUHsQaYvsclFXhKdyBIlcsi6Jeel1NnR5t2zJuc65BY9lL1XsKWo1E27xPacYruUIDsV2m7SBDHYgYxZYhtKTW7UfigySRHEoE9nGwsjiE251p8pESSwi9++3onjggfWm07TepltPw3HmQSx4Fk3zfVAHLKUJoK4SB5Tx/ufGeFLWNvY2auQYUr89stnnuutI9E/ZLCRa6ef2sZ3TfcfOvW2c9iSUl+Pcxynz9CTD0EM/XURoqAHRCvpG8qgbTpBihO59q0H5fQLWczk+pD+83OuS9+x1hQ5rGE1aQ0vJMm1SWOyGY6krpRzZ14eqF9kXOX887+Syb4FApbrOray0/GPdQ13OuVcdXEO2aPE/kyGtNUPBNYHSU1kbYIYdK1Zdrtp0ay7WTJ3fywdNl7oq+iHLUE2IxOeyNlEnqA6SZwvJkYUt66Q7KR/epvKYghirpcY50y/1InxoL7ZF41gB/xL41cNBDFNqI0iiNmZ2zTmut8gkCLz4opFN/vwgAxiYjJmUmJedBHZ8snUqNsv9jj4PyKvEAEiQASIABEgAkSACBABIkAEiEA1IECCWDWMkjGmWgaq2EBDGvV1kBMBFgTJN6y4x/lnt2/XdZHLEAyTwI2UmuhkB/AQ3AlqH0QubYN+ixe67e0TtCy2W5D2UepAaJoEMWyxEdQfO9OZjYW2F8cIFEufkM1LX9fbP+oAPWTsHzFER1SJHzGOPuoUXzsIEttvug52vCUepTuJ65U2PT322GMeViNGjMgxTxPEevfunXNdTrz//vueHozf4cOH5VKmHDo0m33grrvu8l2zv1x++eWermoiiF1yXjCZSWc42jloTiA5RbY/BIb7hi3yyWE7PLl/FnQa4btmk1l0Nqy+jgxhSRLEQBoSu1DqDF+2Xfg+4qyunryd8UsTxLAFpKu+PqcJW9hSUl/Tx5qQNV6Ri7QMjqe06efZ5iK66faiCGJh9uwalP1RNoxIZtuXxPe4BDGbzIexvXnieg/jOAQxZK+zM5Et7ZbNmJYEQWzPkHnemIkfJoFTmjrsOS/f74USawqply9BDNsZyjgUQhBb+eROj/CCbfFEVyEEsZG7pnq6QOgRXSjzJYidNaitpysOjpoghi0lg+ogA5TY1XfZeYFyA1aP9OSQEcrWh60TRc/6H2S3N9Rym1+8zJMBuUhfS/MYW32KbVLC3n4rhhuQ2Ta/dHlOFqwwe9IgiIHEJ7ahxNaLYoOLIIbtTve8dcD5Z2f0srNu6XZwrAmEIO7p6zrTnfYByOTrk9IfXRZLEMMYBuGg+4Fj3RdtQ1rH+c6rtnwSz/xBOuKSpXRWKpB8tD5kWRaMkSFJjkF00HJjR6zxrg3uP893Tb+4E0VImDAqSzDVW2HqtsKO4/Y5H4KYZIl2tQtikWCCbf5cMjg3Y9IuTw54aDmQvEQH4gc2+U7L4lhnD9Lb/vXqNsXT07v7VF8bto60vp9wXDaDKjKs5dOOznw0bsTa0LqaOOQiiMVpF9t2Cu7QZ9fRBCkQxuzrOoMc+m1fT/O7HRcJixHZ/mTXdWUfs8l+wAnbnUqfbIIYMoAFxXRsQqGLdCp67dJFagL5T+TSIoiFxfw0KRN2uGwUv5JSCHBhBDFXtsZ87yHBRc/bYoO+N3FOvxAq9UpV2v8H+Z0IEAEiQASIABEgAkSACBABIkAEqguBauEdJY0qM4gljegn+koVkMinHZvkJQEWV4mgmNZt18V2kg0LbvD+ECi2iUzQq/XYATxXu3KufZvBvvYR9JFrKPGWobZPH9vbLEBeCFppEsS0ffYx3kTXNtpY9Okx3dc/1Ec/UMfGVRPEzmrazVevmO0fp0/c6dNl9wE/uNhBRN2nNI9Tuk0LVvvss896WIHEZX80QWzw4MH2Zd93ZBgTrN977z3fNb0F5SuvvOK7Zn85cOCAp6eaCGL29pKaYHJuo2Zen/YOne+RbLQMjnud3saT2z7gfJ9c7zOy16Iya0URrZIkiN04fq1n8wn/9SWfzXb/8H1J19GevL3NpLb7nJOaRuqKImxJ+/M6ZTNJTG3bP1Cvzpo1xrEFZlR7UdfFHr0lZxwinNRLooxLEMOWjHI/S3nR4LkedjZBDJnQkM1L/pDFS2+bKjouVv6fBEEMW3SKbpQgY2qc7pq61YC8GfSnZUt1bM95+X5Pi1Dh0psvQWzk7qneeBRCENvw/KUeMQdkMRnbQghiE6+8wNOFvhWTQaz9+K4+XS6s9DlNEMOxvqaPQWKTPg5cOzpQTm9H2WvRkBw5nYkMxDrdhhw3PJ7NOHRS61OdMiKbZHnJOzcZm9QlfZYShLXOM3qbZd/YGmmXrSufLSZPaHmy2fLyFd4fyHSj9+Q+t2J7UcHARRATu13l9p9e5dWFDpsgBoKfXe+CO1dl6oQRxEBa0/V6LMhug4l2Njx3icHYu/5Wf2+3zybpW7EEMW1P1DEJYtntKOOSpbBGFFxt4peQkZDhSmdV6tZprG+dhnWo6Fg056u+azorzuolB33X7LUQ6ooeZBOzr0d9j9vnfAhi6HtQu8jGJfY2OrF5oJzOmmT3C5mnRIcri5vdts42BiKLXLfX8+1aDzJYq5ZyLaoze+WbqUxn47J9SPoo5XCVybtQglj/XtmMZchyJ7ql1Ndtf4eMbNeJsUMGcalXitKOi4j/uErtI7DNrgsykY5RgZSk72fRidiV9M0miImMq0Q8ROqhBIFUy+kXE7UcjrHFqJbFsY7rpEUQs9vU30GG1XbaBDHYhBcQdR2QRxFbCyOI6blP6moynG4z6hhbTtqxSNEpZVh2vSj9xV7Pdz1CeSJABIgAESACRIAIEAEiQASIABGoLARIEKus8Qi0ploGqthAQxr1owIrEmBBqYldsCWfuqLn7LN6+QJOdgBP5FylTRCzs1sho1gQRvqtZtEtKesrlSCG1Po6CA27EVjG1pBhBDG9dQnqhOEShJc+r992FuyktLer0PXSPg6cEFK88Prrr5tdu3aZuXPnGpDA2rVrZ1q3bp35O/LII71AabEEsUaNGnm6NEEM2cQEe5TINhb2qUWCWM/TW3sYhBHEBjXJBq5tghiIRBrHIz71aRP2J7LI4GQTX5IkiCEjmrQFIpzdlv1dy9sksLQIYshaJTaGEcR05rU0CWJ6W8RKJYhh3AQzKUHGkvG0CWIiE1Zia1S9TWUSBDGQDHWbNp4b+mQJOFpOjqU/pSzD5r8414TcUYoyX4IYtj8UbFsMaeckpWi77cxeF71xnVcH2+OJrrgEMb1Fn5BupL0jTznK07fqUDZTmVy3yyEbs1lMei/OJWXZ8vp7XILY+MtmeTaFEcSm7c9uk+0iiIHAJlgF2dp/ZXabs84z+3g4a7vTOp5392rPPrEzqERWtTA7iiGIBbVpnwfZSmxImiC24P51maxhus0vnX6swb0QRhADuU3XsTPOdZ2dzYCp5XCMLUilP7okQSx4xk1zPRCXLKWzYPXpMc1bL+qtykDqAMFBMiXbpA7JQobruk/rV9zt8yd9zXWM9bT2K3lhySXrOhe3z0kRxDRGYQQxvZWnTRCziV3AMOxP46MzX4EIZq+BRRYEFRDGJozeELhdpgtP+xzaGD9qvencYZRBhjcQ2tAf+ZP2UOZDEMM467p2XMW2Iy5BbPa0Swyyh7du2ddge1OxE6Vuz0UQ02MGkiNiDGIHsnLJvQA9hRJ5RF++ZT4xoiiCmMYh6Bj915nIiiGI6a1Q0V5Y5j34m23T2OGrvXGoVIKYa5cA2B1GEJs0NpuNUPocdR+E+c3APtl1s+iTEuTGsLppXwv+j8grRIAIEAEiQASIABEgAkSACBABIlANCFQL7yhpLJlBLGlEP9GXdiCiEP35kLzsAE4+dRGsQZBx2fwDvmBNPsG/pAliqxbfkrGlkglis6bmEgvGj1yXExzXb5rmQ5yL4zP6hwEJuqFEgD5O/bRkUrpNnWr//Oc/m5Ejs9tSaRxcx2kRxP70pz/5gsh/+9vfnPbKSRLE/i2Dl00QAxnMNW5xztnklyQJYpp81fmUFh6ByG5TvustARt97mifPAlie314CGZJlnEziKFN27eWdx/v2VcIQWxr/5lefegnQUxmvfxKTfBI+zhfgtiihzd6fnNy+zOcpBRt885fXuPJw9/0tUt/d5Pv2t7f3OC7rmXl+JgvH+/VsTMWndapiXdt/n1rI3V1n5vd1nfEzimR8mIDylITxJY+usXrG3DsNqefmX/vWgPCHQhJui+43vDNbXn1R/et0GNkttIkPXt+0d+nXrsg0L60CWJ9G4b52k6DIGaPF/o+86alJIj96VYf9oX6GuoV+0lrHQC9cclS6xru9O5rkGjEpkH95nrnkQEL59u2ys5XINDg3OqlBz25Vi16e/VxTa+TsDYW3UGlTQiB7iBZ1/m4fa4kghi27tPzUj7H9laSICq1bN4zVB/IPnamOBeW9jlkTtLZ4KLszIcgtnbZ7T6bsd2e3b7+HkUQQ7Y7mwQWZq+LIIb2QICTenp7VJ1FvEnjjqG2aruTOs4nRpQEQWzi6I2+PpaTIKa3H61UghjGWW+tCx8CqRY+JP6EEi8aik8AY30Nx3Z8UWTjlIjhSQZIrRfzMO63ODrSkin2/ybrEwEiQASIABEgAkSACBABIkAEiEB5ESBBrLz4x269WgYqrQBEMXptkhfeDEZAzvWHIIxuy66rAzP2cYtm3Z2BGjv4hwxZrrZxbtigxb72EazU7dgEMm2rKyAlb2xvWn2/Tw90rlt+l68t0XXCcY19slPHb/fk7PT70BPUF5xf23CHVxf6cU73BxnEcN7eMhIEMPvtaU0Qa/blzj49HdoO9bUjfcmnxNYM2jYcIzCdj46kZWNPEAkIdunSxdd/fF+yZInZvn272bNnT+Zv0aLsjx9pEcQ++ugjnx0ffPBBaO9IEHMTxLB1nvgztjJc1XNi7D+bYJQkQWzbgOxWMB1Pbu4jANnt4rtuu+0JjX3yJIhVDkHskVl7PH8Tv8M2jTKm+RDE4LvYVlPqStn8mFN8bdikSJGb2LqPTw7f5ZpNeLO3OWUGseIIF/kSxDSZBkSeKIJHlDy2HhT/2/LjKyL16W0kkR1Jt6+36AsjIEkdbJEpbSODl5yPU5aaIAabdJYxsdtVDloXvJVlnL4VI7Pvj7eYVd/dZYZvn2TgW2d0bebb+lPsRUatoHbSIojBd1zbVWofFfuwbWTQ367Xv+az3d5iEoQ99E37F/Rim9CwDGK2HpAANUblyCCGcQrCQbCS0iZsatvTOA590IxxMennf60vLlkKdTTRAiQtnJNMzSAZiF5koBKsZe2p15GjzlvhyaIO1nMij1L0BJUgBml5nbUoqI4+H7fPlUQQ0xncTjqhmRk1dHnsv6D1JrarA+kJ617J7qZxRZwiartPjeu0CTt844L6IANi68V+PWeYfr1mZv50W/kQxJCdS9u3oQiC2MrFN/uye0Ev4iLImtSnx3TPVvFvXA8iiI0YssyzS8dS2pzd3zuPjGoaq1Ic23GRsBgRtozUNtl1Ne72MeIqru0+bYIY/AF6XX/IGKbbR9Y73Y69BaWWBeFRy+J49rS9nj7cL/o6snDp+nLcrVM2Uyvk8V2uobTjdmExP7ygqOvaMS7Mpbi+YNZVPtvQrt6WFN81Qcwlv2rJrb62dLtxjuGbGh8cIxtknLppysT410gRIkAEiAARIAJEgAgQASJABIgAEahgBKqFd5Q0hMwgljSin+hLMwhRqG47WDRz8kWxAyp2XWzrgDexe3WbnBOoGTF4qVOvHcBD3bh9ObfdMF87+o1wWweCojp4pH8IgKzdFzvTmeiz31LUAUk7eIb29FYNoiOotLEQgljDgut9tut+yLEmiNkBQgSHg9qM+9Ym3syVtlAiG1yQzlKdT+k2zVF76NAhX9+ffvrpHBmcePbZZz25tAhiaOe007Jbhrz66qtOW+QkCWJugliP01p5Y6WJOkKUyafUJK2+Z7bzyDYuHZoANqRpxxzZA+OyW4eBCOTSoc8t6zbW68eIs7r65EkQqxyC2E0T1nnjJPPobZM3eeNlE8RaHX+GWdBpROYP25pKHZR9zmzr1dO+gIxzWg6kR31djvXWq5Cf12m4J7d7sP8HLVx/dPbF3vX7Z1xodg2ak/nTviztShulLGWuK7RMg0wRpDNfgtju/93vG9Pdv97vI7HY7SBrkowFyEL2db2t3rx71uRc1/I7fn61pws6L3nnJp88tmaUtvotH+67pvXIsc5GtvjrGyPlpR7KchDE0O6kq7OZhaSvUh5x9H9nslRpOyvhGJniQHYSO6XEeZd9xRDEgMGoi6Zl/hq1Pd3XJvS62nQRxLAdpMs21zmb2CUEsc0vXe5rX/qtS02q0luEQqZpn7N9NkAf7hH82bJpbTEZRjbU/cCx7osLp6TPFTq/Sr001wVxyVKwoWfXSZ6fYHs0TdTCmlLsxEtCgnnTxp0y57ucO9o7t2LRTZ6s1MlnKz5kKhP99jaWoi+sjNvnSiKIgYAjfU4rAzWIeiA76TW93k40DFNc05m08GIbXiBz1dGkq3wIYtClyWVL5u536pc2wzKI9eo2xcMTxCnJii51pezfK/viSRBBTBMcgR36jXtDcES5cdV9obZKe0mWdlwknxiRXRc+hxgV/qRf4o9nn9XL2TebIAb/iNu/CaOyJFNpJygmhFiSyEgpmQvRHuYgOY8S5EqXHTrzIeTs8bb7nU/Mz45xCUEMduBFRG2ffawJYog72dcxF7v6g3Nx4lQuncjqGKSzVOfl/x9LIkAEiAARIAJEgAgQASJABIgAEahOBEgQq5Jxq5aBKlVAIp92igkWhdW1U86DWCVva2v77ABePsE/vS2IBJuCAqT6rXHI2qQpBOhFB8rJ47bmBJb0DwYiq9uzg2eQCQoGagzk2MZCCGK4rn/UkLZ1qQliIOPpazjWdkp7GA9kREPAc8GsK3P6K3Io65kgtndvdnu4adOmBc6KzzzzjId7mgSxgQMHeu089NBDgfbgwmWXXebJbtq0KVQ27sW0yB/nnNTUsxXkpqB2ep7e2pPbO3R+oJwmwtjZlCa36evpWNRlZKAOseHh83cHyiRJEPv6LP+2HP8ze09gu7Bt7NnZLXYWdxnlkyVBrHIIYjPaZ+9ZmZsfnZMlXtkEsWntBnhjObP9IM9Xpe6BcWu86+KjIAjKdZTjWvXKkYFsk6P8/+uQFUx03OggsoEQJtd1CRt0ezjW10t1Hze8KgAAIABJREFUHHfeCpJLmkgRpi9fghh06SxIk666wEdisdtqObS9NyYjd0/NkR28PksoPWdC15zrWt/oPdM9XS2GtMuRxRaHMv4gCiGbla6vj5HlSmSRWcomm2lZ13GpCWLoix4rZJMaf9ksc96WCZnMYiuf3GnibNHp6ktS50CMsrO6ie6Gx/2EfmC/4xdfdY5PMQQxTUJc8uhmb4xlrCdemeuvaRHE0PeBa0bl2CC2oNSkKtxL+hr8Mgij8ZfP9smSIBY0mwaf1+uJpI/jkqXQLrYclHEf0Ge20Rmj7C3qJFMz1rqyXkJdkHFcfUA2HtEdRnhAXawxRRZrP5e+sHNx+1xJBDEQjKTPwDRqfQySUpRMEEYghUlbIHoFydnnpQ7KpfOuC6xXDEFM10VWNdsG/V2/3NajywSf7JmnZ//fgxSn6+ljZD2TftmEIS2nYxC4F3RWJrwAqGVLdaxtQh/yiRGF1dX+IdjI9rK6b8UQxJD1TnRLGZT5q3vnCTmyOmZmvxDZteMY53jYWe71NpXoV1jcTvfbdWzHuDRBbM3S23J0S59RaoIYdGsyLa4H9Qd4wWbM1UFkTegjQSz4fy+vEAEiQASIABEgAkSACBABIkAEiEDhCFQL76jwHrprMoOYG5eiz7oCLuU+V0ywKKzujEnZHwQlSOTKIhYWwIvCBttGiG4p8Zal/bahDrCKnL1Vgg7YQgbp/O2tH+zMXJDTwWs7eGZfj+qPjYUmiKFPn/3M53P6K/3RBDFkP5PzUn75zHPN+hV3ewFFBB57dJnok8MboDogqe2tBYLY4cOHzfvvv5/3fbxz504PJ2wrGfTR2brSJIht2bLFswdbXaJfQZ+RI0d6siSIZQlDFw3OZoY56jOfMw/O3BVIbtkxcJZBFqfl3cc5ZZIkiIFU0+KYU70xW9p1jLNNyN09bVvGLrnHrx2zwidLglh2vNMiK9lbMp593Om+MQAJbGWP3B9+hjXv4pMLI4jdO32Hb5wx3q4sYrM7+N/gh8/eOmmjr52dg/yZNKFr37BFngyyhTX63NGe/+H6sUccaW4cv9aTAZYgMtoZyyCbFs5heoPmvrjnhVRTilKTjsbsneEk7Nh2YPtGYIs/ZGlyZWVCnS0v+zNQuMgudpal7T+72mnDJb+9MbNFn7Q76+DyHDmQqDS56II7V+XISF86z8xua9pz4aBAOZG3y1ITxM6/Obvd1pw7VuZtr21/0t/FPpCa5t+7Nse+vg3+7LrYWjTIBj2GGG/XtpBSd+wlWaIBZDVBDDKndWri+Squu7KIpUkQ2/PWAQOyovitXWqCGMh19nUQIS964zofVtt/epU58pSjfLIkiMWdXbNyej2R9HFcshTaBclAxh2khc4dsqRCZEzStum1o14DdWw/3CcndfSLPFGkJCGfwZYhAxY49YleVxm3z5VEEEM/9Mta5w1cFNjvTavuNyDcASedSQk6sDbHdn563WtjNHvaJd44R42F1MU2n+IbKEF6kWt2qQku+WYQ036CWMOWtQ8FtqMzR9kEMf0iHrJV2TbK95bNsy+ShBHE9BagHdqdZ85q2s3DA8RK0VfK0o6LJEUQQ8Y0O4blyiJWDEEMOB17dDbjN3wK2eOQFV5jqEmr4n/AX8voLHCQge32faHnKNFjbxNp9zmpDGKwFVs6Srt2aRPEQDi0ZUDW1X1GLEvfZ8AuyA9rhSD2+9//3nz44YfZf5w8IgJEgAgQASJABIgAESACRIAIEIGyIkCCWFnhj994tQyUDnxUynExwaKouvabjK4sYnbwDzoREA7669ZprC+A5Eprj3ZwHrIIvtpBqIwdax706RnU159NAHUQjEIQGm926m0nRB/e3tXj6CKIoV5QX3Bep8C3sdAEMbQzZnh2+zmxQUo7UN65Q5YYJDIgmAEXBObssYMMgvFBgWo78Iigne57OY7jzxDGfPvb3zaNGjXK+AJIVX/84x9jV7/vvuxb79je0UUye/PNN82xxx7r+VqaBLE//OEPXjsYtw0bNph//etfOf258cYbfXIkiPkJQ9jGT+6NXqe3MQ/M2JlDcPnqqOWeDGRBFrPJKkkTxK4YvsRrEyQffLfbvG/GhT6CTv/G5+TIkCDmH28bwyS+2wQx+Aj8Cn/I1GVvD4nrOAdyn24/jCAGuYmtswQb8Vk7i9jVoxo8vxEZtDWkaScztW1/ozPvyfUjPvVp8+BMv9+7SGSQ731GG4PMZqNadDdf+PQROW1BRvepVMc5E1+eJ4T8UoqyEIIYSC8gAsmYtR3T2Vz6+5t9JJatr1zpI7Egk1hQfxr3PMvThW0fL3z1Gp8ssnuBKCPtgVyEcy59QzaO8+RgY8M3t+XInbfVT0RHNjGXrrBzpSaIIbua9B+Z2LDVZ5h9pbw269bc+/y45ieZzjN6m77LzjMntc4SjKUPzfq1CrQ/SYIYtmOUNqW0s4i5CGIgmiFTXtDf+mf3evYHbTEpYzDtukU5NogtmiAGeeAl16SEvwPLQevH+LLIyXWUJIjlOckak+p6IS5ZStYpICtgHLEOQjYwHNsEBsjqLRH1ejYo69P65Xf5CA0uAhReKurbM5udEevMsMw4YrNdxu1zpRHENBkG+E+fuDPHN7AObdWit3dvHnfMGZ7MqiW3+kg3QWOhMzIBbxu/oO86m/iwQYud9Xp3n+rZBt/JlyAG4hnqyR/G0vVy1sgh/rneJojprFIggbn6BHylHZRhBDH4ocQGNDEHMZOg2ICrzSTP2XGRpAhisNH10p+dRcwmiAHDsJgO4kIgGgoG40bmbi8PjFu37Gswns2+3Nk3PjJWS+Z+zdMBXa4tKKGnfetBmQzzIEFKXSkxhvYLkzK+IoP5J6w/Y0es8eywY1w6gxhshA/LfCr6pbTn1xWLbs6xF7KQC4rd4bprvkDb1U4Qe/vtt///9u49WJKyvAPwv0lV/CNVKUpTJhhQEFRMuOOyoKCgLOF+WS5yh+V+ERYEhBVFQLkEWbloQBKM6K4FWGsUKZCSSq1IWYJIFKJVwlYMUkYLFDRc9HTqHbdn+/R0n5k5031mevqZqq2ZM9P9TffzvdPn9Le/+TrZccc//d0dY0kPP/zw8L9krUGAAAECBAgQIECAAAEClQs0JXdU9Y6bQaxq0fXtpQNGk3SfHywa5tuE/dbNfhs1HSTKzyKWH/xLlyu7zw9IxTco55pZq6idogHl+OZ4dkC0aL38c/lB4fzgWX75op+zIbC8Rfa1qJkYoM1++zrbXj4gdsnyr3QHerPLzfU4PzCardOmB8SWLl06azAywlOD3p599tlZ62655ZbJZZddltx7773J/fffn6xYsSJ53etel2y00Ubd5WKA7/TTT++8nr7Po48+2n193333TZ8uvE/DbNFfL730Us8yl1xySbetWGa77bZLrrrqqmT16tXJjTfemOy224Zvfqd9LiA2OzCUD9TETGIRgPnYB45PztjloGSnN82eDeUdb9gkKbrkYzZEFrMt7feOxZ1/H9x2z57AzBV7L+v2WyxXFqLJh3k+sMWOyfLdDu/MRhXbmA/orD7mYz1tCYjN7u8y61GeLwqIpZ+3svv8pUDj/fsFxO46dsOsgWm7RbOIFc3qlS5fdB91XrT/2fBk0XplzxW1VfdzPQfHIZ9IgyVV3kfAKIJY+X8RPkntXr/5G3tef8f7t+kJbMV2HXjF7JBVBLvee9Y+SVwGMt4r2260f8G3r+wGavL7lb00ZCwb6y46ZvdOW7udtmRW0CxeP+KGZaVtxQxk+YBRhMsi0LXkokOSt+y8ZXd/o63tDllc2lZ+O7M/L3RAbP+PHzlru2PbIwCX/RczVUUwa/Fx7yucxSu7/VU+zl5GNLZrkH9xScyybcj33ygziMV7bLz1prO2KT+LWFFArN8+xOU00+3vFxCLme023WlD+Dvbdj4gdvUzt80KX2aXneuxgNiQB9maA2L77LVhRtj4okt8CSb+lV12L7t82s/77312NwiRPfeJcEy6THp/6fl3FS4b60UoLF0u7uNLQhHKWXrAhZ3LpGWDZvH6UUsvK20rux35x9l9mGufJy0gFvuRnRUrDCLcFG5xObz4ElOEVrKGcf6Z7v9Hln8lyRtGqCRmWIoZiMJ687dsP2v9CNek6/e7j9nhsu8dwZuoozgfP/SAD3e+SBWvZ7cx9ie+TBaznvVrP339PYs3XO452ouZpiJ4dtiBFyXxhbXo0+x2xON8QOyDSz86a5kI+sT+h0PMKBYzYuW3Nezis1F2+cyiL93FbOPpdi/0fX5cpMqAWIQN88b5WcSKAmL5dfI/Z+sgwmLRL/ll5vo5/0XI1Dz/uZmrjXitKAyYH7fr10YELdP3z49x5cfjYrnsJXuzbecDYrHsHrsdO5TL9tss6W5Luk3pfdMDYrfccsssi+OPP374X7LWIECAAAECBAgQIECAAIHKBQTEKietp8GmdFQ6kDFJ9/nBoioDYhFoyn4bNwaLOrN3Xfzv3UGe/OBfdkCp6HHRgFRM158drC1aL30uf2nJbF/kB1vTdYru89P/Rzv5wbOi9fLPZUNgeYvsa+l2Rigt30b8nA+IxfJnnXxL8tdveHPh8tk2ogaWHXttt0/S98reNz0glg9M3XDDDUMdjG6+ufdyRFnDePzd7343Wb58w6Wp4rlzzjmn+z5VBsRiFrMjj+z9T+zsNi1atCjJbreAWG9g6PK9Tiyc5SnrGI833+hvk1W5y/Vlgy8RDMuvEz/HJQazyw0aEFtzwlXJezfbtrDN7PtEUGzlgWfPeo/0/QTEevs7tanqfpiAWMzWVTQDXWxLv4BYLHPQO9/dUw/5WcTi5wg6Zmuk7HFcyrTs0qoxw9nOm/TOvpltK/Ynv91VuQ7TTvcAO88HafCkyvt86Cbr1u/xxQ9f0w3DZLfpoCuP7tuvnVm8HuydxSvbTjw+597L+rYV2zlXOCxtMy7Vl78EX9E+7nTke0ovj5m2VXa/0AGxmJEtAnxF+1H23LuXfaCw38r2ab7Pr/z1l5IDLu+9bG3Zdh2xsjzgF9uQr9VRA2Lp5S+z25OdRazugFjs04X/8cnCvssHxGLZ+Lz1q9+Y2SxCmek+CYgNf7DNnk9U/Ti+KJT2TfY+wllF71V0rhaXMytaNs71sm0WnYNm14sZwt7/3g0zhGXXzT8ummEs29Zcjwfd50kMiMUXmN6+5eJZrnmb9Of9lpzZ0y8RBonASbrMXPd77XFSz/pzuV56wd19v3QWs0QVzYAUgaO52s6+FvuQvYRj0T5EmGvfTPgxHxCL9vqFhuILdDFjWX4sIGa2ym5P+viU46/vcZ3ry2PpenXd58dFqgyIxTbnP9/RD9n9HTUgFu8RX0B82xY797gW9XkEDcssY7uKAqtF7UTAMC7Fmm8rP+ZXtG72uWEDYvF+RftaFBCLGceyl1vNvm/+cdRBNniX36+mB8Q++cnZf7McfPDBw/+StQYBAgQIECBAgAABAgQIVC7QlNxR1TtuBrGqRde3lx/QmISf84NFowTEikJGRZdFPPygi7uDVvnBv/ygUP7nssH5GACNQfmioFjsYwwCZi/nWGYfg+5zDbjGt3xPPPrq7vZn2yn6T4f89ud/zobA8hbZ17LvE9+izLdTFBCLdWJALQb4ilyijR22XZLkL2WQfa/0cWxL9j1j0Dl9bVz3w3xMIxCW3f5hp++fmZnpzM6VvYxk2t5WW22V3HnnnZ3Nee6555KYHSxmFIvXswGxH//4x91tOPzww+fc/OwMYi+//HLhsrFN11xzzayZy9Jtiktc/vKXv0yyl5m8+uqrC9sZ9slhwhvDLJsNm3z+sAsLQ0/RXnZ2rev3P7N0uX3evmFA/sq9l5Uud+dRK5IdNp49003qGCGYmLGrLEiT7t9NB5/buQRful56nw+IRUAofS0u1ZeuX3Z/3m6HFQZ+4tKB4ZC/VGG2nTBM3ytss68VPY6ZrdLli2a5SteJbUqXO2XRfqXtXrLnMd3lDtv6vT3LnbXLwd3Xi95v0O350lEbZlGI0FO6nQtxn7VITbL3G//l6zv9tOxd+87ZV9naj/VP2Okfe/Yju5/pe8TlI/P7GZeMPGLbPUqDjxEqvGD3I3rCi/l2onZjhrGi8GPMMHb74Rd1LjeZbkvc59tYiJ+HPX7ll59vUGeu9fKhm6xRv8dlAbF4v6M/e1rhJQQjGBahlblmispv7/JvfaIzg1msm9+mTXbYPDn+9rMHDjxd9dPPdWYHy89kFu1G0GrJhQcnEWzKb8OgPx92/YndbYzHZesd+ZkNx9e4tGXZcrFv6T7vcc5+PctFkCi9FGfsU+xD/l/Rvp70b+f2tFW2DaM+f979lyfv3Hu77n6k+5Pex0xbH3300323Jx+EO+Oei0vXOfzTJ816vwhO5fcj+jnfZgSw0uUWIiAW75W9nGtqUhQQi2Wv+59/TXY96f09M/HFetHONf99e2e2uLSdskt2xox66TLpfbSd7nv+Pj8b2j6XLi1dNm0vvS/bl/x7VPVz/rg57M91nyfEeWV+pp6ygFh8eSk7Y3RcFq1s+/JfjolAQ9my2efjUopxvpj2V/Y+zmPjCzzZ5efzeJB9PnPZhi+3xDlm/n2y561Fr6fLx/lzug9v3WyHnnbS5bLBtdj/9Pn8ffRBzJRVNgN4hLBOPu760vVjZqYIC2X7Md2+uI8+ne/sbLEPMatZtr14HGMJEWyLgFvsT8xGnq25YQJisX4YxOUvi/YhAjXRXvYykzHGkXeMYExZyObvNt6q++WxqLfsZTvLAmKxTdkQUoTU8u+5kD/nx0VGCYjFDG35bY8vGOb7OS7bmC5XRUAs2oowVMxEVzQzXLx/jDuVjS2l2xL30d/vWXxY6Qzx8Xk6aN/zSi8Jmh/zy+97/uf5BMTOPf32HtOigFi6XzF+Fcfqom2Lz3G4RfA2Xb7oPkJ4+W0vmyWvaP26nhv09+QTTzwxa/vTMaVB17ccAQIECBAgQIAAAQIECNQjICBWj2vlrTalo+oagNDuvbMGjvIBr+zlKQa1ikHSCz90Z2eAOgbt4tvlMcA36PqTuFwMLMZAXIS9YrC/6Nulk7jdZds07IEkLg2ZDiC++uqrw67eWT7W+8lPftK5vOSaNWs6Iax5NVTxSuvWrUu++tWvJmvXrk3mu2+DbtJChD7G8R73nXxdctthH05W7HlsZ6anW5d+OPnmydeOJfSS3/8Igl277+lJzEAWs0Tdf8rsmcnyy/u5/tnDJt04Al4RKrtuv9OTq/c5tRPo6hd0LNunmNHu0wec1Zmtbq6Z9MrWr/P5QY9bZctVFaBYyHb+6bkvJMsfuDw5edUFSQRuRglf3fCrO5OPPHJtp63zH7wiuf65L5SGVAbZx8t/dFNy2l0XJXFZwKvXfX6ktgZ5v6qXyQaYdjx81zk9rvivWzrBvPTvirjcZ9Xb06+9a3/+L53+O/vrK5K4fGjM6BaXWey3nte/XGgUs8edueaSJAJYcQlKTn9yKjt+Dvp82d/x0/58nGedesINScxQHedfl120ptHnkXX018Xnrepcmi6+UBbBujj3HvR94rw8LiF5zBGfSGKG8JOOuSaJ0E+/QMkg7V987qrOGEBc9jH6sM4xgBhjOPKQSzuzeX/s4sEvVZnux4oP39NxiDbiMn9xvp++Nuz9dlt/oHuuvN/eZ827nWHfty3L77vkjK5v/O0Qlxsddt9jjCrq/ISjPpUcd+SVyTmn/nPjx3RinyKcGWNU8XmL40A8N6zNJC0/6O/HWO4Xv/hF54uIzzzzzDCrWZYAAQIECBAgQIAAAQIEahRoSu6oagIziFUtur69SRq0mOZt2XXRIbMG3+Iyl/HtxM3evG0S3zqe5n1v074N8zF9/PHHuzVx3HHHDbOqZXMCdYY9tC3YpAbUwDA1kDs8Df2jAEhxUKatLksu2vD348f/88a+AaGL1n6q+7fFZru8ve/ybXW1383+nA19YM2t0KZzE/s6+0tbPJrjEcG67KxuEd7Tf9X2X8w8l4bK4z68Y4wq/p118md5X1Kt9zjrN/dr0I8ECBAgQIAAAQIECBAg0DABAbGGdFhTOmqcgxRteu+lB2y4tFp2EC4ez+ebuW2ya9K+Dnp4iks0Llq0qDMgG5dufOGFFwZd1XIFAsOENywr7KMG1ECdNVBwiBrqKcGVZgdXqu6/TXd6a/c/by97fGXfwFd2xrHtDlncd/mqt1d76nchamCog2rBwk06t7Ct0xPQ0JfD9eWyY6/t/v572xY7CyvVEFYquqxlOlYVM4Kp2eFqdpK9Cn4VeooAAQIECBAgQIAAAQIEGiTQlNxR1aRmEKtadH17kzyIMU3bFpeB2PhvNlxOMB14ExCbnkG3qNdBb6eeemp3wPuHP/zhoKtZrkSgzrCHtoWJ1IAaGKYGSg5TAz+9EOEK79GcEM8ux+/R/Xthi93fmVz108+Vhr7iMoSv3/yN3eUPvfb40mXVQHNqQF/19tXAB9SSBafpHNO+TNe5ZNv789Lz7+pc/jQugfoPW+3e/X0Wl6tsu01d+7/rokO7ztkxKgGx6Tq2lPw69DQBAgQIECBAgAABAgQINERAQExHVSpQ10CTdnsHlGKmsAP3+VCy/TZLki3f+q7uvwiP8er1aqLJoB/OJ598Mlm7dm3y1FNPDbqK5eYQGCa8YVlhHzWgBuqsgTkOVQO9JAzSGwZps8nZX1/R8x+3m+ywebLNge9Ktj90cbLtQYuSCI791Zs2mrXcxltvmly97vMCYs+rp2n8/Ax0MJ1joSaeY9jm6ThX1I9z9+MxR3xi1u+yCCzFZQ+Nl8ztNmpdhfvOOx6YxExt6TjVmctuNkZVw6xto/bVfNef41eilwgQIECAAAECBAgQIECgAQICYg3opNjEpnTUfAcYrFfvIB3fZvo25PA0dZtZZ9hD28JEakANDFMDox5gpzHMYZ9GCymd+IVzkz/7iz/v+U/z7Ewf2cdb779T8qmnbxMOEw6b2hoY9TjrPKuZ51n6bfr7rSggZiar6e93n+36+3jU35vWJ0CAAAECBAgQIECAAIHxCjQld1S1kktMVi26vj2DMfUPxjBuj3FNH1PN9hEYJrxhWWEfNaAG6qyBPoervi8LU40WpppWvxv+94vJaXddlOx1wUHJ4uPel/z9Pjskb9l5y+Qd798mWXT07smeH9ovOfLGUwTDhMKmNhSW/Wz3PZD2WcC5WXvOzfR1s/p6xQV3Jwfvtzw5dP8LkgiLXXzeKrNYTdEsVj6P4/s89vm16GUCBAgQIECAAAECBAgQmHABAbEJ76B085rSUQZpxjdIw3767NPPv/uFFagz7KFtYSI1oAaGqYFRj37ZEITHwmJqQA2ogd4aGPU46xxs+s7B9Kk+VQNqQA2U18CovzetT4AAAQIECBAgQIAAAQLjFWhK7qhqJTOIVS26vj2DKOWDKGzYDFsDNX1MNdtHYJjwhmWFfdSAGqizBvocrvq+LAzSGwZhwkQNqIFsDfQ9kPZZYNi/7y3vnFANqAE1oAaaXAN9fi16mQABAgQIECBAgAABAgQmXEBAbMI7KN28pnRUkwc5bLtBukmrgfTz735hBeoMe2hbmEgNqIFhamDUo182BOGxUIwaUANqoLcGRj3OTtr5g+1xTqsG1IAaUAN11sCovzetT4AAAQIECBAgQIAAAQLjFWhK7qhqJTOIVS26vr06ByG0bZCrbTVQ08dUs30EhglvWFbYRw2ogTproM/hqu/LwiC9YRAmTNSAGsjWQN8DaZ8F2nZ+Yn+dk6sBNaAG2l0DfX4tepkAAQIECBAgQIAAAQIEJlxAQGzCOyjdvKZ0lIGidg8U6f9q+z/9/LtfWIE6wx7aFiZSA2pgmBoY9eiXDUF4LBSjBtSAGuitgVGPs85/qj3/4clTDagBNTDZNTDq703rEyBAgAABAgQIECBAgMB4BZqSO6payQxiVYuub89AzmQP5OifZvVPTR9TzfYRGCa8YVlhHzWgBuqsgT6Hq74vC4P0hkGYMFEDaiBbA30PpH0WcH7VrPMr/aW/1IAaUAOj1UCfX4teJkCAAAECBAgQIECAAIEJFxAQm/AOSjevKR111UfvSwy2jDbYwo9f1EB8ltzGI/DgmSuTOgMf2hYoUgNqYJAaePCMlSMfBG9+fnWSDUJ4LBijBtSAGthQAzc9v3rk46zzX+duzt/VgBpQA22pAeNUI//ZoAECBAgQIECAAAECBAiMXaApuaOqocwgVrXo+vZuvO7bAmKXGBxry+BYnfsZnyW38QisvfR2AbFTBXgGCfBYRp3UWQNxLBr1dsdvviYg9vyGMIhgDAs1oAayNRDHyFFvzn+d+9Z5Tqht9aUG1MAk1YBxqlH/arA+AQIECBAgQIAAAQIExi8gIDb+PhhoC5rSUXev+oGAmICYGqigBu5e9dhAxwYLVS/wxK3fEBATEFMDamDsNRDHolFv3/zddwTEBMTUgBpQAyU1EMfIUW/Of4U3Jim8YVvUoxpQA3XWgHGqUf9qsD4BAgQIECBAgAABAgTGL9CU3FHVUmYQq1p0fXuPP/pz4aAKwkF1DuhouxkDhvFZchuPwLMP/2jswZA6ZyXStlmv1EAzaiCORaPennzlZ4IhJcGQ7CxCHptVSg20swbiGDnqzflvM86tnAPrJzWgBtTA6DVgnGrUvxqsT4AAAQIECBAgQIAAgfELCIiNvw8G2oKmdNTMzExy3ZUPCIkJiamBEWogPkPxWXIbj8DMH2eSh86/RUjMDFJqQA2MrQYeWn5LEseiUW8zyUxy6wv3CIkJiakBNaAGcjUQx8Y4Ro56c/47euBAaIOhGlADamDya8A41ah/MVifAAECBAgQIECAAAECkyHQlNxR1VpmEKtaNNPeI2ufFg4aIRxkYGzyB8bq7qP4DLmNV2Ddtx4dWzDE7E7NmN1JP+mnOmtg3QPfr+wg+Ni7Nqj1AAAQzklEQVTLTwmG5IIhZotq52xR+l2/Z2sgjo1V3Zz/On+r+/xQ+2pMDaiBcdeAcaqq/mrQDgECBAgQIECAAAECBMYrICA2Xv+B371pHfXlO74nJCYkpgbmUQNfuuN7Ax8XLFivwGOfuUdIzAxSakANLHgNxLGn6tualx4SEhMSUwNqQA2sr4E1Lz5U9WE2cf4rvDHu8Ib3V4NqQA3UVQPGqSr/s0GDBAgQIECAAAECBAgQGJtA03JHVUGZQawqyZJ2fvfSK8ltN60VEJpHQKiuAR3tTv5gYXxm4rPjNhkCr7z4++SRK+9c8HBInbMSadusV2pgsmvgkSu/mMSxp+rb7//4crLqt/cJhwgIqQE10PoaiGNhHBOrvjn/nfxzLefD+kgNqAE1MHwNGKeq+i8G7REgQIAAAQIECBAgQGC8AgJi4/Uf+N2b2FExSO6b1MMPvhiwaqdZfCNTOGzgQ+KCLRhBDTOJTXagRuBJ/0xLDcSxpo5wWHrAjECEmcRcYi97iT2P1UPbaiBmDqsjHJYeZ53/tvM8zvm7flcDamBaa8A4Vfob3j0BAgQIECBAgAABAgSmR6CJuaMq9M0gVoXigG08svbp5LorHzCbmNnE1EBBDcRnIz4jbpMtsO5bjyYPnf9Zs4m53KAaUAOV18BDy29J1j3w/QU7CD728lPJrS/c0/pZhNoWjLG/wmBtroE45sWxb6Fuzn+FRaY1LGK/1LYaaEcNGKdaqL8YvA8BAgQIECBAgAABAgQWXkBAbOHN5/WOTe+omZmZ5PFHf57cveoHyY3XfTu56qP3CQsVhIUMtk3/YFvUfnwG7l71WOczEZ8Nt2YIzPxxJnn24R8lT9z6jWTtpbcnD565svKgyLTMhGQ/zOqlBspr4MEzVnaOIXEsiWNKHFsW+jaTzCRPvvJ08s3ffSe54zdfS25+frXAmEsPqgE1MDU1cNPzqzvHtjjGPfnKz5I45i30zfnv9J/XOXfXx2pADUxLDRinWui/ErwfAQIECBAgQIAAAQIExifQ9NzRfOXMIDZfOesRIECAAAECBAgQIECAAAECBAgQIECAAAECBAgQIECAAAECBAgQINAYAQGxhnRVWzuqId1jMwkQIECAAAECBAgQIECAAAECBAgQIECAAAECBAgQIECAAAECBAhMpEBbc0dmEJvIcrRRBAgQIECAAAECBAgQIECAAAECBAgQIECAAAECBAgQIECAAAECBAhUKSAgVqVmjW21taNqJNU0AQIECBAgQIAAAQIECBAgQIAAAQIECBAgQIAAAQIECBAgQIAAgakXaGvuyAxiU1/adpAAAQIECBAgQIAAAQIECBAgQIAAAQIECBAgQIAAAQIECBAgQIAAAQGxhtRAWzuqId1jMwkQIECAAAECBAgQIECAAAECBAgQIECAAAECBAgQIECAAAECBAhMpEBbc0dmEJvIcrRRBAgQIECAAAECBAgQIECAAAECBAgQIECAAAECBAgQIECAAAECBAhUKSAgVqVmjW21taNqJNU0AQIECBAgQIAAAQIECBAgQIAAAQIECBAgQIAAAQIECBAgQIAAgakXaGvuyAxiU1/adpAAAQIECBAgQIAAAQIECBAgQIAAAQIECBAgQIAAAQIECBAgQIAAAQGxhtRAWzuqId1jMwkQIECAAAECBAgQIECAAAECBAgQIECAAAECBAgQIECAAAECBAhMpEBbc0dmEJvIcrRRBAgQIECAAAECBAgQIECAAAECBAgQIECAAAECBAgQIECAAAECBAhUKSAgVqVmjW21taNqJNU0AQIECBAgQIAAAQIECBAgQIAAAQIECBAgQIAAAQIECBAgQIAAgakXaGvuyAxiU1/adpAAAQIECBAgQIAAAQIECBAgQIAAAQIECBAgQIAAAQIECBAgQIAAAQGxhtRAWzuqId1jMwkQIECAAAECBAgQIECAAAECBAgQIECAAAECBAgQIECAAAECBAhMpEBbc0dmEJvIcrRRBAgQIECAAAECBAgQIECAAAECBAgQIECAAAECBAgQIECAAAECBAhUKSAgVqVmjW21taNqJNU0AQIECBAgQIAAAQIECBAgQIAAAQIECBAgQIAAAQIECBAgQIAAgakXaGvuyAxiU1/adpAAAQIECBAgQIAAAQIECBAgQIAAAQIECBAgQIAAAQIECBAgQIAAAQGxhtRAWzuqId1jMwkQIECAAAECBAgQIECAAAECBAgQIECAAAECBAgQIECAAAECBAhMpEBbc0dmEJvIcrRRBAgQIECAAAECBAgQIECAAAECBAgQIECAAAECBAgQIECAAAECBAhUKSAgVqVmjW21taNqJNU0AQIECBAgQIAAAQIECBAgQIAAAQIECBAgQIAAAQIECBAgQIAAgakXaGvuyAxiU1/adpAAAQIECBAgQIAAAQIECBAgQIAAAQIECBAgQIAAAQIECBAgQIAAAQGxhtRAWzuqId1jMwkQIECAAAECBAgQIECAAAECBAgQIECAAAECBAgQIECAAAECBAhMpEBbc0dmEJvIcrRRBAgQIECAAAECBAgQIECAAAECBAgQIECAAAECBAgQIECAAAECBAhUKSAgVqVmjW21taNqJNU0AQIECBAgQIAAAQIECBAgQIAAAQIECBAgQIAAAQIECBAgQIAAgakXaGvuyAxiU1/adpAAAQIECBAgQIAAAQIECBAgQIAAAQIECBAgQIAAAQIECBAgQIAAAQGxhtRAWzuqId1jMwkQIECAAAECBAgQIECAAAECBAgQIECAAAECBAgQIECAAAECBAhMpEBbc0dmEJvIcrRRBAgQIECAAAECBAgQIECAAAECBAgQIECAAAECBAgQIECAAAECBAhUKSAgVqVmjW21taNqJNU0AQIECBAgQIAAAQIECBAgQIAAAQIECBAgQIAAAQIECBAgQIAAgakXaGvuyAxiU1/adpAAAQIECBAgQIAAAQIECBAgQIAAAQIECBAgQIAAAQIECBAgQIAAAQGxhtRAWzuqId1jMwkQIECAAAECBAgQIECAAAECBAgQIECAAAECBAgQIECAAAECBAhMpEBbc0eNnUFsZmZmIgvJRhEgQIAAAQIECBAgQIAAAQIECBAgQIAAAQIECBAgQIAAAQIECBAgMHkCAmKT1yeFW/TLX/0mic567bU/FL7uSQIECBAgQIAAAQIECBAgQIAAAQIECBAgQIAAAQIECBAgQIAAAQIECGQFXn31tU7mKLJHbbs1bgax3/z2953O+u2L/9e2vrK/BAgQIECAAAECBAgQIECAAAECBAgQIECAAAECBAgQIECAAAECBAjMQyCyRjEpVWSP2nZrXEDslfVpvuiwSPa5ESBAgAABAgQIECBAgAABAgQIECBAgAABAgQIECBAgAABAgQIECBAoEwgnT2srXmjxgXEoiPTWcRiyjchsbLS9jwBAgQIECBAgAABAgQIECBAgAABAgQIECBAgAABAgQIECBAgACBdgtEtigyRm2dPSx6v5EBsdjwXz//YqfjovNiCrjXXvtDMjMz0+6KtvcECBAgQIAAAQIECBAgQIAAAQIECBAgQIAAAQIECBAgQIAAAQIEWi4QGaLIEqWXlYx8UWSN2nprbEAsOiydSSw60T8GakANqAE1oAbUgBpQA2pADagBNaAG1IAaUANqQA2oATWgBtSAGlADakANqAE1oAbUgBpQA2pADeRrIDJGbb41OiAWHRfTwEUnplPB5TvYzz70akANqAE1oAbUgBpQA2pADagBNaAG1IAaUANqQA2oATWgBtSAGlADakANqAE1oAbUgBpQA2qgXTUQWaLIFL3y6mttzoZ19r3xAbHW9yAAAgQIECBAgAABAgQIECBAgAABAgQIECBAgAABAgQIECBAgAABAgQIlAgIiJXAeJoAAQIECBAgQIAAAQIECBAgQIAAAQIECBAgQIAAAQIECBAgQIAAAQJNFxAQa3oP2n4CBAgQIECAAAECBAgQIECAAAECBAgQIECAAAECBAgQIECAAAECBAiUCAiIlcB4mgABAgQIECBAgAABAgQIECBAgAABAgQIECBAgAABAgQIECBAgAABAk0XEBBreg/afgIECBAgQIAAAQIECBAgQIAAAQIECBAgQIAAAQIECBAgQIAAAQIECJQICIiVwHiaAAECBAgQIECAAAECBAgQIECAAAECBAgQIECAAAECBAgQIECAAAECTRcQEGt6D9p+AgQIECBAgAABAgQIECBAgAABAgQIECBAgAABAgQIECBAgAABAgQIlAgIiJXAeJoAAQIECBAgQIAAAQIECBAgQIAAAQIECBAgQIAAAQIECBAgQIAAAQJNFxAQa3oP2n4CBAgQIECAAAECBAgQIECAAAECBAgQIECAAAECBAgQIECAAAECBAiUCAiIlcB4mgABAgQIECBAgAABAgQIECBAgAABAgQIECBAgAABAgQIECBAgAABAk0XEBBreg/afgIECBAgQIAAAQIECBAgQIAAAQIECBAgQIAAAQIECBAgQIAAAQIECJQICIiVwHiaAAECBAgQIECAAAECBAgQIECAAAECBAgQIECAAAECBAgQIECAAAECTRcQEGt6D9p+AgQIECBAgAABAgQIECBAgAABAgQIECBAgAABAgQIECBAgAABAgQIlAgIiJXAeJoAAQIECBAgQIAAAQIECBAgQIAAAQIECBAgQIAAAQIECBAgQIAAAQJNFxAQa3oP2n4CBAgQIECAAAECBAgQIECAAAECBAgQIECAAAECBAgQIECAAAECBAiUCAiIlcB4mgABAgQIECBAgAABAgQIECBAgAABAgQIECBAgAABAgQIECBAgAABAk0XEBBreg/afgIECBAgQIAAAQIECBAgQIAAAQIECBAgQIAAAQIECBAgQIAAAQIECJQICIiVwHiaAAECBAgQIECAAAECBAgQIECAAAECBAgQIECAAAECBAgQIECAAAECTRcQEGt6D9p+AgQIECBAgAABAgQIECBAgAABAgQIECBAgAABAgQIECBAgAABAgQIlAgIiJXAeJoAAQIECBAgQIAAAQIECBAgQIAAAQIECBAgQIAAAQIECBAgQIAAAQJNFxAQa3oP2n4CBAgQIECAAAECBAgQIECAAAECBAgQIECAAAECBAgQIECAAAECBAiUCAiIlcB4mgABAgQIECBAgAABAgQIECBAgAABAgQIECBAgAABAgQIECBAgAABAk0XEBBreg/afgIECBAgQIAAAQIECBAgQIAAAQIECBAgQIAAAQIECBAgQIAAAQIECJQICIiVwHiaAAECBAgQIECAAAECBAgQIECAAAECBAgQIECAAAECBAgQIECAAAECTRcQEGt6D9p+AgQIECBAgAABAgQIECBAgAABAgQIECBAgAABAgQIECBAgAABAgQIlAgIiJXAeJoAAQIECBAgQIAAAQIECBAgQIAAAQIECBAgQIAAAQIECBAgQIAAAQJNFxAQa3oP2n4CBAgQIECAAAECBAgQIECAAAECBAgQIECAAAECBAgQIECAAAECBAiUCAiIlcB4mgABAgQIECBAgAABAgQIECBAgAABAgQIECBAgAABAgQIECBAgAABAk0XEBBreg/afgIECBAgQIAAAQIECBAgQIAAAQIECBAgQIAAAQIECBAgQIAAAQIECJQICIiVwHiaAAECBAgQIECAAAECBAgQIECAAAECBAgQIECAAAECBAgQIECAAAECTRf4fy9iArW5CvrCAAAAAElFTkSuQmCC)"
   ]
  },
  {
   "cell_type": "code",
   "execution_count": 39,
   "metadata": {
    "colab": {},
    "colab_type": "code",
    "id": "rEHmRLo_kBic"
   },
   "outputs": [],
   "source": [
    "\n",
    "data_ner = spark.createDataFrame([[text]]).toDF(\"text\")"
   ]
  },
  {
   "cell_type": "code",
   "execution_count": 40,
   "metadata": {
    "colab": {
     "base_uri": "https://localhost:8080/",
     "height": 230
    },
    "colab_type": "code",
    "id": "DJ-4jw12i_Pi",
    "outputId": "75769376-8c06-4580-9202-77805c963c5b"
   },
   "outputs": [
    {
     "name": "stdout",
     "output_type": "stream",
     "text": [
      "ner_posology download started this may take some time.\n",
      "Approximate size to download 13.7 MB\n",
      "[OK!]\n",
      "+----------------+------+----------------------------------------------------------------------------------------------------+-------+----------+\n",
      "|           chunk|entity|                                                                                         target_text|   code|confidence|\n",
      "+----------------+------+----------------------------------------------------------------------------------------------------+-------+----------+\n",
      "|           Advil|  DRUG|moxetumomab pasudotox - tdfk 1 mg injection [ lumoxiti ] :::phenolphthalein 9 0 mg oral tablet [ ...|2099314|    1.0000|\n",
      "|insulin glargine|  DRUG|insulin glargine 1 0 0 units / ml subcutaneous solution:::insulin glargine 3 0 0 units / ml subcu...| 311041|    0.4944|\n",
      "|  insulin lispro|  DRUG|insulin lispro 1 0 0 units / ml subcutaneous solution:::insulin lispro 2 0 0 units / ml subcutane...| 242120|    0.4790|\n",
      "|       metformin|  DRUG|metformin hydrochloride tablets:::metformin hydrochloride oral solution:::pioglitazone tablets:::...|2054650|    0.9931|\n",
      "+----------------+------+----------------------------------------------------------------------------------------------------+-------+----------+\n",
      "\n"
     ]
    }
   ],
   "source": [
    "posology_ner = NerDLModel.pretrained(\"ner_posology\", \"en\", \"clinical/models\") \\\n",
    "  .setInputCols([\"sentence\", \"token\", \"embeddings\"]) \\\n",
    "  .setOutputCol(\"ner\")\n",
    "\n",
    "ner_converter = NerConverter() \\\n",
    "  .setInputCols([\"sentence\", \"token\", \"ner\"]) \\\n",
    "  .setOutputCol(\"ner_chunk\")\\\n",
    "  .setWhiteList(['DRUG'])\n",
    "\n",
    "posology_rx = Pipeline(\n",
    "    stages = [\n",
    "    documentAssembler,\n",
    "    sentenceDetector,\n",
    "    tokenizer,\n",
    "    word_embeddings,\n",
    "    posology_ner,\n",
    "    ner_converter,\n",
    "    chunk_embeddings,\n",
    "    chunk_tokenizer,\n",
    "    rxnormResolver\n",
    "  ])\n",
    "\n",
    "model_rxnorm = posology_rx.fit(data_ner)\n",
    "\n",
    "output = model_rxnorm.transform(data_ner)\n",
    "\n",
    "output.select(F.explode(F.arrays_zip(\"ner_chunk.result\",\"ner_chunk.metadata\",\"rxnorm_resolution.result\",\"rxnorm_resolution.metadata\")).alias(\"rxnorm_result\")) \\\n",
    "    .select(F.expr(\"rxnorm_result['0']\").alias(\"chunk\"),\n",
    "            F.expr(\"rxnorm_result['1'].entity\").alias(\"entity\"),\n",
    "            F.expr(\"rxnorm_result['3'].all_k_resolutions\").alias(\"target_text\"),\n",
    "            F.expr(\"rxnorm_result['2']\").alias(\"code\"),\n",
    "            F.expr(\"rxnorm_result['3'].confidence\").alias(\"confidence\")).show(truncate = 100)"
   ]
  },
  {
   "cell_type": "code",
   "execution_count": 41,
   "metadata": {
    "colab": {},
    "colab_type": "code",
    "id": "zPg9sy57kox7"
   },
   "outputs": [
    {
     "data": {
      "text/plain": [
       "[DocumentAssembler_09234459d07c,\n",
       " SentenceDetector_4a55d70a40c7,\n",
       " REGEX_TOKENIZER_e1c4bf4dc10f,\n",
       " WORD_EMBEDDINGS_MODEL_9004b1d00302,\n",
       " NerDLModel_d6171a6a5d57,\n",
       " NerConverter_8be791ea5e54,\n",
       " ChunkEmbeddings_ea9ff3ca0a87,\n",
       " CHUNK_TOKENIZER_ea23d6264cac,\n",
       " ENSER_MODEL_ef77f462b393]"
      ]
     },
     "execution_count": 41,
     "metadata": {},
     "output_type": "execute_result"
    }
   ],
   "source": [
    "model_rxnorm.stages"
   ]
  },
  {
   "cell_type": "code",
   "execution_count": 42,
   "metadata": {
    "colab": {},
    "colab_type": "code",
    "id": "8DBRsI02kUaB"
   },
   "outputs": [
    {
     "ename": "Py4JJavaError",
     "evalue": "An error occurred while calling o6242.save.\n: java.io.IOException: Path posology_rxNorm_resolver already exists. To overwrite it, please use write.overwrite().save(path) for Scala and use write().overwrite().save(path) for Java and Python.\n\tat org.apache.spark.ml.util.FileSystemOverwrite.handleOverwrite(ReadWrite.scala:702)\n\tat org.apache.spark.ml.util.MLWriter.save(ReadWrite.scala:179)\n\tat sun.reflect.NativeMethodAccessorImpl.invoke0(Native Method)\n\tat sun.reflect.NativeMethodAccessorImpl.invoke(NativeMethodAccessorImpl.java:62)\n\tat sun.reflect.DelegatingMethodAccessorImpl.invoke(DelegatingMethodAccessorImpl.java:43)\n\tat java.lang.reflect.Method.invoke(Method.java:498)\n\tat py4j.reflection.MethodInvoker.invoke(MethodInvoker.java:244)\n\tat py4j.reflection.ReflectionEngine.invoke(ReflectionEngine.java:357)\n\tat py4j.Gateway.invoke(Gateway.java:282)\n\tat py4j.commands.AbstractCommand.invokeMethod(AbstractCommand.java:132)\n\tat py4j.commands.CallCommand.execute(CallCommand.java:79)\n\tat py4j.GatewayConnection.run(GatewayConnection.java:238)\n\tat java.lang.Thread.run(Thread.java:748)\n",
     "output_type": "error",
     "traceback": [
      "\u001b[0;31m---------------------------------------------------------------------------\u001b[0m",
      "\u001b[0;31mPy4JJavaError\u001b[0m                             Traceback (most recent call last)",
      "\u001b[0;32m<ipython-input-42-08937f5c82c8>\u001b[0m in \u001b[0;36m<module>\u001b[0;34m\u001b[0m\n\u001b[0;32m----> 1\u001b[0;31m \u001b[0mmodel_rxnorm\u001b[0m\u001b[0;34m.\u001b[0m\u001b[0msave\u001b[0m\u001b[0;34m(\u001b[0m\u001b[0;34m'posology_rxNorm_resolver'\u001b[0m\u001b[0;34m)\u001b[0m\u001b[0;34m\u001b[0m\u001b[0;34m\u001b[0m\u001b[0m\n\u001b[0m",
      "\u001b[0;32m~/devel/mag/notebooks/3.7env/lib/python3.7/site-packages/pyspark/ml/util.py\u001b[0m in \u001b[0;36msave\u001b[0;34m(self, path)\u001b[0m\n\u001b[1;32m    242\u001b[0m     \u001b[0;32mdef\u001b[0m \u001b[0msave\u001b[0m\u001b[0;34m(\u001b[0m\u001b[0mself\u001b[0m\u001b[0;34m,\u001b[0m \u001b[0mpath\u001b[0m\u001b[0;34m)\u001b[0m\u001b[0;34m:\u001b[0m\u001b[0;34m\u001b[0m\u001b[0;34m\u001b[0m\u001b[0m\n\u001b[1;32m    243\u001b[0m         \u001b[0;34m\"\"\"Save this ML instance to the given path, a shortcut of 'write().save(path)'.\"\"\"\u001b[0m\u001b[0;34m\u001b[0m\u001b[0;34m\u001b[0m\u001b[0m\n\u001b[0;32m--> 244\u001b[0;31m         \u001b[0mself\u001b[0m\u001b[0;34m.\u001b[0m\u001b[0mwrite\u001b[0m\u001b[0;34m(\u001b[0m\u001b[0;34m)\u001b[0m\u001b[0;34m.\u001b[0m\u001b[0msave\u001b[0m\u001b[0;34m(\u001b[0m\u001b[0mpath\u001b[0m\u001b[0;34m)\u001b[0m\u001b[0;34m\u001b[0m\u001b[0;34m\u001b[0m\u001b[0m\n\u001b[0m\u001b[1;32m    245\u001b[0m \u001b[0;34m\u001b[0m\u001b[0m\n\u001b[1;32m    246\u001b[0m \u001b[0;34m\u001b[0m\u001b[0m\n",
      "\u001b[0;32m~/devel/mag/notebooks/3.7env/lib/python3.7/site-packages/pyspark/ml/util.py\u001b[0m in \u001b[0;36msave\u001b[0;34m(self, path)\u001b[0m\n\u001b[1;32m    181\u001b[0m         \u001b[0;32mif\u001b[0m \u001b[0;32mnot\u001b[0m \u001b[0misinstance\u001b[0m\u001b[0;34m(\u001b[0m\u001b[0mpath\u001b[0m\u001b[0;34m,\u001b[0m \u001b[0mbasestring\u001b[0m\u001b[0;34m)\u001b[0m\u001b[0;34m:\u001b[0m\u001b[0;34m\u001b[0m\u001b[0;34m\u001b[0m\u001b[0m\n\u001b[1;32m    182\u001b[0m             \u001b[0;32mraise\u001b[0m \u001b[0mTypeError\u001b[0m\u001b[0;34m(\u001b[0m\u001b[0;34m\"path should be a basestring, got type %s\"\u001b[0m \u001b[0;34m%\u001b[0m \u001b[0mtype\u001b[0m\u001b[0;34m(\u001b[0m\u001b[0mpath\u001b[0m\u001b[0;34m)\u001b[0m\u001b[0;34m)\u001b[0m\u001b[0;34m\u001b[0m\u001b[0;34m\u001b[0m\u001b[0m\n\u001b[0;32m--> 183\u001b[0;31m         \u001b[0mself\u001b[0m\u001b[0;34m.\u001b[0m\u001b[0m_jwrite\u001b[0m\u001b[0;34m.\u001b[0m\u001b[0msave\u001b[0m\u001b[0;34m(\u001b[0m\u001b[0mpath\u001b[0m\u001b[0;34m)\u001b[0m\u001b[0;34m\u001b[0m\u001b[0;34m\u001b[0m\u001b[0m\n\u001b[0m\u001b[1;32m    184\u001b[0m \u001b[0;34m\u001b[0m\u001b[0m\n\u001b[1;32m    185\u001b[0m     \u001b[0;32mdef\u001b[0m \u001b[0moverwrite\u001b[0m\u001b[0;34m(\u001b[0m\u001b[0mself\u001b[0m\u001b[0;34m)\u001b[0m\u001b[0;34m:\u001b[0m\u001b[0;34m\u001b[0m\u001b[0;34m\u001b[0m\u001b[0m\n",
      "\u001b[0;32m~/devel/mag/notebooks/3.7env/lib/python3.7/site-packages/py4j/java_gateway.py\u001b[0m in \u001b[0;36m__call__\u001b[0;34m(self, *args)\u001b[0m\n\u001b[1;32m   1255\u001b[0m         \u001b[0manswer\u001b[0m \u001b[0;34m=\u001b[0m \u001b[0mself\u001b[0m\u001b[0;34m.\u001b[0m\u001b[0mgateway_client\u001b[0m\u001b[0;34m.\u001b[0m\u001b[0msend_command\u001b[0m\u001b[0;34m(\u001b[0m\u001b[0mcommand\u001b[0m\u001b[0;34m)\u001b[0m\u001b[0;34m\u001b[0m\u001b[0;34m\u001b[0m\u001b[0m\n\u001b[1;32m   1256\u001b[0m         return_value = get_return_value(\n\u001b[0;32m-> 1257\u001b[0;31m             answer, self.gateway_client, self.target_id, self.name)\n\u001b[0m\u001b[1;32m   1258\u001b[0m \u001b[0;34m\u001b[0m\u001b[0m\n\u001b[1;32m   1259\u001b[0m         \u001b[0;32mfor\u001b[0m \u001b[0mtemp_arg\u001b[0m \u001b[0;32min\u001b[0m \u001b[0mtemp_args\u001b[0m\u001b[0;34m:\u001b[0m\u001b[0;34m\u001b[0m\u001b[0;34m\u001b[0m\u001b[0m\n",
      "\u001b[0;32m~/devel/mag/notebooks/3.7env/lib/python3.7/site-packages/pyspark/sql/utils.py\u001b[0m in \u001b[0;36mdeco\u001b[0;34m(*a, **kw)\u001b[0m\n\u001b[1;32m     61\u001b[0m     \u001b[0;32mdef\u001b[0m \u001b[0mdeco\u001b[0m\u001b[0;34m(\u001b[0m\u001b[0;34m*\u001b[0m\u001b[0ma\u001b[0m\u001b[0;34m,\u001b[0m \u001b[0;34m**\u001b[0m\u001b[0mkw\u001b[0m\u001b[0;34m)\u001b[0m\u001b[0;34m:\u001b[0m\u001b[0;34m\u001b[0m\u001b[0;34m\u001b[0m\u001b[0m\n\u001b[1;32m     62\u001b[0m         \u001b[0;32mtry\u001b[0m\u001b[0;34m:\u001b[0m\u001b[0;34m\u001b[0m\u001b[0;34m\u001b[0m\u001b[0m\n\u001b[0;32m---> 63\u001b[0;31m             \u001b[0;32mreturn\u001b[0m \u001b[0mf\u001b[0m\u001b[0;34m(\u001b[0m\u001b[0;34m*\u001b[0m\u001b[0ma\u001b[0m\u001b[0;34m,\u001b[0m \u001b[0;34m**\u001b[0m\u001b[0mkw\u001b[0m\u001b[0;34m)\u001b[0m\u001b[0;34m\u001b[0m\u001b[0;34m\u001b[0m\u001b[0m\n\u001b[0m\u001b[1;32m     64\u001b[0m         \u001b[0;32mexcept\u001b[0m \u001b[0mpy4j\u001b[0m\u001b[0;34m.\u001b[0m\u001b[0mprotocol\u001b[0m\u001b[0;34m.\u001b[0m\u001b[0mPy4JJavaError\u001b[0m \u001b[0;32mas\u001b[0m \u001b[0me\u001b[0m\u001b[0;34m:\u001b[0m\u001b[0;34m\u001b[0m\u001b[0;34m\u001b[0m\u001b[0m\n\u001b[1;32m     65\u001b[0m             \u001b[0ms\u001b[0m \u001b[0;34m=\u001b[0m \u001b[0me\u001b[0m\u001b[0;34m.\u001b[0m\u001b[0mjava_exception\u001b[0m\u001b[0;34m.\u001b[0m\u001b[0mtoString\u001b[0m\u001b[0;34m(\u001b[0m\u001b[0;34m)\u001b[0m\u001b[0;34m\u001b[0m\u001b[0;34m\u001b[0m\u001b[0m\n",
      "\u001b[0;32m~/devel/mag/notebooks/3.7env/lib/python3.7/site-packages/py4j/protocol.py\u001b[0m in \u001b[0;36mget_return_value\u001b[0;34m(answer, gateway_client, target_id, name)\u001b[0m\n\u001b[1;32m    326\u001b[0m                 raise Py4JJavaError(\n\u001b[1;32m    327\u001b[0m                     \u001b[0;34m\"An error occurred while calling {0}{1}{2}.\\n\"\u001b[0m\u001b[0;34m.\u001b[0m\u001b[0;34m\u001b[0m\u001b[0;34m\u001b[0m\u001b[0m\n\u001b[0;32m--> 328\u001b[0;31m                     format(target_id, \".\", name), value)\n\u001b[0m\u001b[1;32m    329\u001b[0m             \u001b[0;32melse\u001b[0m\u001b[0;34m:\u001b[0m\u001b[0;34m\u001b[0m\u001b[0;34m\u001b[0m\u001b[0m\n\u001b[1;32m    330\u001b[0m                 raise Py4JError(\n",
      "\u001b[0;31mPy4JJavaError\u001b[0m: An error occurred while calling o6242.save.\n: java.io.IOException: Path posology_rxNorm_resolver already exists. To overwrite it, please use write.overwrite().save(path) for Scala and use write().overwrite().save(path) for Java and Python.\n\tat org.apache.spark.ml.util.FileSystemOverwrite.handleOverwrite(ReadWrite.scala:702)\n\tat org.apache.spark.ml.util.MLWriter.save(ReadWrite.scala:179)\n\tat sun.reflect.NativeMethodAccessorImpl.invoke0(Native Method)\n\tat sun.reflect.NativeMethodAccessorImpl.invoke(NativeMethodAccessorImpl.java:62)\n\tat sun.reflect.DelegatingMethodAccessorImpl.invoke(DelegatingMethodAccessorImpl.java:43)\n\tat java.lang.reflect.Method.invoke(Method.java:498)\n\tat py4j.reflection.MethodInvoker.invoke(MethodInvoker.java:244)\n\tat py4j.reflection.ReflectionEngine.invoke(ReflectionEngine.java:357)\n\tat py4j.Gateway.invoke(Gateway.java:282)\n\tat py4j.commands.AbstractCommand.invokeMethod(AbstractCommand.java:132)\n\tat py4j.commands.CallCommand.execute(CallCommand.java:79)\n\tat py4j.GatewayConnection.run(GatewayConnection.java:238)\n\tat java.lang.Thread.run(Thread.java:748)\n"
     ]
    }
   ],
   "source": [
    "model_rxnorm.save('posology_rxNorm_resolver')"
   ]
  },
  {
   "cell_type": "code",
   "execution_count": 44,
   "metadata": {
    "colab": {
     "base_uri": "https://localhost:8080/",
     "height": 176
    },
    "colab_type": "code",
    "id": "5cRGNSM5kb0c",
    "outputId": "c067c038-ae16-4f44-b26a-9e60c0b183d7"
   },
   "outputs": [
    {
     "data": {
      "text/plain": [
       "[DocumentAssembler_004aa7570849,\n",
       " SentenceDetector_bbce79597aa9,\n",
       " REGEX_TOKENIZER_2014f096b1ad,\n",
       " WORD_EMBEDDINGS_MODEL_9004b1d00302,\n",
       " NerDLModel_d6171a6a5d57,\n",
       " NerConverter_40d561dd88ee,\n",
       " ChunkEmbeddings_f9dfc9ba254e,\n",
       " CHUNK_TOKENIZER_89315b9b2231,\n",
       " ENSER_MODEL_ef77f462b393]"
      ]
     },
     "execution_count": 44,
     "metadata": {},
     "output_type": "execute_result"
    }
   ],
   "source": [
    "from pyspark.ml import PipelineModel\n",
    "\n",
    "loaded_rxnorm = PipelineModel.load('posology_rxNorm_resolver')\n",
    "\n",
    "loaded_rxnorm.stages"
   ]
  },
  {
   "cell_type": "code",
   "execution_count": 45,
   "metadata": {
    "colab": {
     "base_uri": "https://localhost:8080/",
     "height": 123
    },
    "colab_type": "code",
    "id": "n8Ir94AwkuiF",
    "outputId": "a0c029a5-6dc6-4949-e646-f449d73a6b40"
   },
   "outputs": [
    {
     "name": "stdout",
     "output_type": "stream",
     "text": [
      "+----------------------------------------------------+----------------------------------+\n",
      "|                                              result|                            result|\n",
      "+----------------------------------------------------+----------------------------------+\n",
      "|[Advil, insulin glargine, insulin lispro, metformin]|[2099314, 311041, 242120, 2054650]|\n",
      "+----------------------------------------------------+----------------------------------+\n",
      "\n"
     ]
    }
   ],
   "source": [
    "loaded_rxnorm.transform(data_ner).select(\"ner_chunk.result\",\"rxnorm_resolution.result\").show(truncate=100)"
   ]
  },
  {
   "cell_type": "markdown",
   "metadata": {
    "colab_type": "text",
    "id": "ZkaRMSjXiTpg"
   },
   "source": [
    "# ICD10 + RxNorm with multiple NERs"
   ]
  },
  {
   "cell_type": "code",
   "execution_count": 46,
   "metadata": {
    "colab": {},
    "colab_type": "code",
    "id": "Ji_40I45dhii"
   },
   "outputs": [],
   "source": [
    "notes = [\n",
    "'Pentamidine 300 mg IV q . 36 hours , Pentamidine nasal wash 60 mg per 6 ml of sterile water q.d . , voriconazole 200 mg p.o . b.i.d . , acyclovir 400 mg p.o . b.i.d . , cyclosporine 50 mg p.o . b.i.d . , prednisone 60 mg p.o . q.d . , GCSF 480 mcg IV q.d . , Epogen 40,000 units subcu q . week , Protonix 40 mg q.d . , Simethicone 80 mg p.o . q . 8 , nitroglycerin paste 1 \" ; q . 4 h . p.r.n . , flunisolide nasal inhaler , 2 puffs q . 8 , OxyCodone 10-15 mg p.o . q . 6 p.r.n . , Sudafed 30 mg q . 6 p.o . p.r.n . , Fluconazole 2% cream b.i.d . to erythematous skin lesions , Ditropan 5 mg p.o . b.i.d . , Tylenol 650 mg p.o . q . 4 h . p.r.n . , Ambien 5-10 mg p.o . q . h.s . p.r.n . , Neurontin 100 mg q . a.m . , 200 mg q . p.m . , Aquaphor cream b.i.d . p.r.n . , Lotrimin 1% cream b.i.d . to feet , Dulcolax 5-10 mg p.o . q.d . p.r.n . , Phoslo 667 mg p.o . t.i.d . , Peridex 0.12% , 15 ml p.o . b.i.d . mouthwash , Benadryl 25-50 mg q . 4-6 h . p.r.n . pruritus , Sarna cream q.d . p.r.n . pruritus , Nystatin 5 ml p.o . q.i.d . swish and !',\n",
    "'Albuterol nebulizers 2.5 mg q.4h . and Atrovent nebulizers 0.5 mg q.4h . , please alternate albuterol and Atrovent ; Rocaltrol 0.25 mcg per NG tube q.d .; calcium carbonate 1250 mg per NG tube q.i.d .; vitamin B12 1000 mcg IM q . month , next dose is due Nov 18 ; diltiazem 60 mg per NG tube t.i.d .; ferrous sulfate 300 mg per NG t.i.d .; Haldol 5 mg IV q.h.s .; hydralazine 10 mg IV q.6h . p.r.n . hypertension ; lisinopril 10 mg per NG tube q.d .; Ativan 1 mg per NG tube q.h.s .; Lopressor 25 mg per NG tube t.i.d .; Zantac 150 mg per NG tube b.i.d .; multivitamin 10 ml per NG tube q.d .; Macrodantin 100 mg per NG tube q.i.d . x 10 days beginning on 11/3/00 .',\n",
    "'Tylenol 650 mg p.o . q . 4-6h p.r.n . headache or pain ; acyclovir 400 mg p.o . t.i.d .; acyclovir topical t.i.d . to be applied to lesion on corner of mouth ; Peridex 15 ml p.o . b.i.d .; Mycelex 1 troche p.o . t.i.d .; g-csf 404 mcg subcu q.d .; folic acid 1 mg p.o . q.d .; lorazepam 1-2 mg p.o . q . 4-6h p.r.n . nausea and vomiting ; Miracle Cream topical q.d . p.r.n . perianal irritation ; Eucerin Cream topical b.i.d .; Zantac 150 mg p.o . b.i.d .; Restoril 15-30 mg p.o . q . h.s . p.r.n . insomnia ; multivitamin 1 tablet p.o . q.d .; viscous lidocaine 15 ml p.o . q . 3h can be applied to corner of mouth or lips p.r.n . pain control .',\n",
    "'The patient\\'s incisions sternal and right leg were clean and healing well , normal sinus rhythm at 70-80 , with blood pressure 98-110/60 and patient was doing well , recovering , ambulating , tolerating regular diet and last hematocrit prior to discharge was 39% with a BUN and creatinine of 15 and 1.0 , prothrombin time level of 13.8 , chest X-ray prior to discharge showed small bilateral effusions with mild cardiomegaly and subsegmental atelectasis bibasilar and electrocardiogram showed normal sinus rhythm with left atrial enlargement and no acute ischemic changes on electrocardiogram .',\n",
    "'This is an 82 - year-old male with a history of prior tobacco use , hypertension , chronic renal insufficiency , COPD , gastritis , and TIA who initially presented to Braintree with a non-ST elevation MI and Guaiac positive stools , transferred to St . Margaret\\'s Center for Women & Infants for cardiac catheterization with PTCA to mid LAD lesion complicated by hypotension and bradycardia requiring Atropine , IV fluids and transient dopamine possibly secondary to vagal reaction , subsequently transferred to CCU for close monitoring , hemodynamically stable at the time of admission to the CCU .',\n",
    "'O2 95% on 3L NC mixed Quinn 82% genrl : in nad , resting comfortably heent : perrla ( 4->3 mm ) bilaterally , blind in right visual field , eomi , dry mm , ? thrush neck : no bruits cv : rrr , no m/r/g , faint s1/s2 pulm : cta bilaterally abd : midline scar ( from urostomy ) , nabs , soft , appears distended but patient denies , ostomy RLQ c/d/i , NT to palpation back : right flank urostomy tube , c/d/i , nt to palpation extr : no Gardner neuro : a , ox3 , wiggles toes bilaterally , unable to lift LE , 06-12 grip bilaterally w/ UE , decrease sensation to soft touch in left',\n",
    "'Is notable for an inferior myocardial infarction , restrictive and obstructive lung disease with an FEV1 of . 9 and FVC of 1.34 and a moderate at best response to bronchodilators , and a negative sestamibi scan in May , 1999 apart from a severe fixed inferolateral defect , systolic dysfunction with recent echocardiography revealing an LVID of 62 mm . and ejection fraction of 28 percent , moderate mitral regurgitation and mild-to-moderate aortic stenosis with a peak gradient of 33 and a mean gradient of 19 and a valve area of 1.4 cm . squared .',\n",
    "'This is a 47 - year-old male with a past medical history of type 2 diabetes , high cholesterol , hypertension , and coronary artery disease , status post percutaneous transluminal coronary angioplasty times two , who presented with acute coronary syndrome refractory to medical treatment and TNK , now status post Angio-Jet percutaneous transluminal coronary angioplasty and stent of proximal left anterior descending artery and percutaneous transluminal coronary angioplasty of first diagonal with intra-aortic balloon pump placement .',\n",
    "'Clinical progression of skin and sinus infection on maximal antimicrobial therapy continued , with emergence on November 20 of a new right-sided ptosis in association with a left homonymous hemianopsia , and fleeting confusion while febrile , prompting head MRI which revealed a large 5 x 2 x 4.3 cm region in the right occipital lobe of hemorrhage and edema , with dural and , likely , leptomeningeal enhancement in association with small foci in the right cerebellum and pons , concerning for early lesions of similar type .',\n",
    "'The patient had an echocardiogram on day two of admission , which revealed a mildly dilated left atrium , mild symmetric LVH , normal LV cavity size , mild region LV systolic dysfunction , arresting regional wall motion abnormality including focal apical hypokinesis , a normal right ventricular chamber size and free wall motion , a moderately dilated aortic root , a mildly dilated ascending aorta , normal aortic valve leaflet , normal mitral valve leaflet and no pericardial effusions .',\n",
    "'The patient is a 65-year-old man with refractory CLL , status post non-myeloblative stem cell transplant approximately nine months prior to admission , and status post prolonged recent Retelk County Medical Center stay for Acanthamoeba infection of skin and sinuses , complicated by ARS due to medication toxicity , as well as GVHD and recent CMV infection , readmitted for new fever , increasing creatinine , hepatomegaly and fluid surge spacing , in the setting of hyponatremia .',\n",
    "'Tylenol 650 mg p.o . q.4h . p.r.n . , Benadryl 25 mg p.o . q.h.s . p.r.n . , Colace 100 mg p.o . q.i.d . , Nortriptyline 25 mg p.o . q.h.s . , Simvastatin 10 mg p.o . q.h.s . , Metamucil one packet p.o . b.i.d . p.r.n . , Neurontin 300 mg p.o . t.i.d . , Levsinex 0.375 mg p.o . q.12h . , Lisinopril / hydrochlorothiazide 20/25 mg p.o . q.d . , hydrocortisone topical ointment to affected areas , MS Contin 30 mg p.o . b.i.d . , MSIR 15 to 30 mg p.o . q.4h . p.r.n . pain .',\n",
    "'Aspirin 325 q.d . ; albuterol nebs 2.5 mg q . 4h ; Colace 100 mg b.i.d . ; heparin 5,000 units subcu b.i.d . ; Synthroid 200 mcg q.d . ; Ocean Spray 2 sprays q . i.d . ; simvastatin 10 mg q . h.s . ; Flovent 220 mcg 2 puffs b.i.d . ; Zantac 150 b.i.d . ; nystatin ointment to the gluteal fold b.i.d . ; Lisinopril 20 mg q.d . ; Mestinon controlled release 180 q . h.s . ; Mestinon 30 mg q . 4h while awake ; prednisone 60 mg p.o . q . IM ; Atrovent nebs 0.5 mg q . i.d .',\n",
    "'An echocardiogram was obtained on 4-26 which showed concentric left ventricular hypertrophy with normal _____ left ventricular function , severe right ventricular dilatation with septal hypokinesis and flattening with a question of right ventricular apical clot raised with mild aortic stenosis , severe tricuspid regurgitation and increased pulmonary artery pressure of approximately 70 millimeters , consistent with fairly severe pulmonary hypertension .',\n",
    "'1 ) CV ( R ) finished amio IV load then started on po , agressive lytes ; although interrogation showed >100 episodes of VT ( as / x ) , pt prefers med therapy as opposed to ablation ( I ) enzymes mildly elevated but not actively ischemic ; lipids , ASA , statin , BB ; Adenosine thal 1/4 and echo 1/4 to look for signs of ischemia as active cause for VT ( P ) JVP at angle of jaw 1/4 -- > giving 20 Lasix ; dig level 1/4 1.3 -- > 1/2 dose as on Amio',\n",
    "'sodium 141 , potassium 3.5 , chloride 107 , bicarbonates 23.8 , BUN 23 , creatinine 1.1 , glucose 165 , PO2 377 , PCO2 32 , PH 7.50 , asomus 298 , toxic screen negative , white blood cell count 11.1 , hematocrit 39.6 , platelet count 137 , prothrombin time 25.2 , INR 4.3 , partial thromboplastin time 34.7 , urinalysis 1+ albumin , 0-5 high link caths , cervical spine negative , pelvis negative , lumbar spine ; negative , thoracic spine negative .',\n",
    "]"
   ]
  },
  {
   "cell_type": "code",
   "execution_count": 47,
   "metadata": {
    "colab": {
     "base_uri": "https://localhost:8080/",
     "height": 1000
    },
    "colab_type": "code",
    "id": "rInAaHXWOaWj",
    "outputId": "77c5e913-7fb8-425c-b80f-cda108a48fe6"
   },
   "outputs": [
    {
     "data": {
      "text/html": [
       "Note 0:<div style=\"border:2px solid #747474; background-color: #e3e3e3; margin: 5px; padding: 10px\">Pentamidine 300 mg IV q . 36 hours , Pentamidine nasal wash 60 mg per 6 ml of sterile water q.d . , voriconazole 200 mg p.o . b.i.d . , acyclovir 400 mg p.o . b.i.d . , cyclosporine 50 mg p.o . b.i.d . , prednisone 60 mg p.o . q.d . , GCSF 480 mcg IV q.d . , Epogen 40,000 units subcu q . week , Protonix 40 mg q.d . , Simethicone 80 mg p.o . q . 8 , nitroglycerin paste 1 \" ; q . 4 h . p.r.n . , flunisolide nasal inhaler , 2 puffs q . 8 , OxyCodone 10-15 mg p.o . q . 6 p.r.n . , Sudafed 30 mg q . 6 p.o . p.r.n . , Fluconazole 2% cream b.i.d . to erythematous skin lesions , Ditropan 5 mg p.o . b.i.d . , Tylenol 650 mg p.o . q . 4 h . p.r.n . , Ambien 5-10 mg p.o . q . h.s . p.r.n . , Neurontin 100 mg q . a.m . , 200 mg q . p.m . , Aquaphor cream b.i.d . p.r.n . , Lotrimin 1% cream b.i.d . to feet , Dulcolax 5-10 mg p.o . q.d . p.r.n . , Phoslo 667 mg p.o . t.i.d . , Peridex 0.12% , 15 ml p.o . b.i.d . mouthwash , Benadryl 25-50 mg q . 4-6 h . p.r.n . pruritus , Sarna cream q.d . p.r.n . pruritus , Nystatin 5 ml p.o . q.i.d . swish and !</div><br/>Note 1:<div style=\"border:2px solid #747474; background-color: #e3e3e3; margin: 5px; padding: 10px\">Albuterol nebulizers 2.5 mg q.4h . and Atrovent nebulizers 0.5 mg q.4h . , please alternate albuterol and Atrovent ; Rocaltrol 0.25 mcg per NG tube q.d .; calcium carbonate 1250 mg per NG tube q.i.d .; vitamin B12 1000 mcg IM q . month , next dose is due Nov 18 ; diltiazem 60 mg per NG tube t.i.d .; ferrous sulfate 300 mg per NG t.i.d .; Haldol 5 mg IV q.h.s .; hydralazine 10 mg IV q.6h . p.r.n . hypertension ; lisinopril 10 mg per NG tube q.d .; Ativan 1 mg per NG tube q.h.s .; Lopressor 25 mg per NG tube t.i.d .; Zantac 150 mg per NG tube b.i.d .; multivitamin 10 ml per NG tube q.d .; Macrodantin 100 mg per NG tube q.i.d . x 10 days beginning on 11/3/00 .</div><br/>Note 2:<div style=\"border:2px solid #747474; background-color: #e3e3e3; margin: 5px; padding: 10px\">Tylenol 650 mg p.o . q . 4-6h p.r.n . headache or pain ; acyclovir 400 mg p.o . t.i.d .; acyclovir topical t.i.d . to be applied to lesion on corner of mouth ; Peridex 15 ml p.o . b.i.d .; Mycelex 1 troche p.o . t.i.d .; g-csf 404 mcg subcu q.d .; folic acid 1 mg p.o . q.d .; lorazepam 1-2 mg p.o . q . 4-6h p.r.n . nausea and vomiting ; Miracle Cream topical q.d . p.r.n . perianal irritation ; Eucerin Cream topical b.i.d .; Zantac 150 mg p.o . b.i.d .; Restoril 15-30 mg p.o . q . h.s . p.r.n . insomnia ; multivitamin 1 tablet p.o . q.d .; viscous lidocaine 15 ml p.o . q . 3h can be applied to corner of mouth or lips p.r.n . pain control .</div><br/>Note 3:<div style=\"border:2px solid #747474; background-color: #e3e3e3; margin: 5px; padding: 10px\">The patient's incisions sternal and right leg were clean and healing well , normal sinus rhythm at 70-80 , with blood pressure 98-110/60 and patient was doing well , recovering , ambulating , tolerating regular diet and last hematocrit prior to discharge was 39% with a BUN and creatinine of 15 and 1.0 , prothrombin time level of 13.8 , chest X-ray prior to discharge showed small bilateral effusions with mild cardiomegaly and subsegmental atelectasis bibasilar and electrocardiogram showed normal sinus rhythm with left atrial enlargement and no acute ischemic changes on electrocardiogram .</div><br/>Note 4:<div style=\"border:2px solid #747474; background-color: #e3e3e3; margin: 5px; padding: 10px\">This is an 82 - year-old male with a history of prior tobacco use , hypertension , chronic renal insufficiency , COPD , gastritis , and TIA who initially presented to Braintree with a non-ST elevation MI and Guaiac positive stools , transferred to St . Margaret's Center for Women & Infants for cardiac catheterization with PTCA to mid LAD lesion complicated by hypotension and bradycardia requiring Atropine , IV fluids and transient dopamine possibly secondary to vagal reaction , subsequently transferred to CCU for close monitoring , hemodynamically stable at the time of admission to the CCU .</div><br/>Note 5:<div style=\"border:2px solid #747474; background-color: #e3e3e3; margin: 5px; padding: 10px\">O2 95% on 3L NC mixed Quinn 82% genrl : in nad , resting comfortably heent : perrla ( 4->3 mm ) bilaterally , blind in right visual field , eomi , dry mm , ? thrush neck : no bruits cv : rrr , no m/r/g , faint s1/s2 pulm : cta bilaterally abd : midline scar ( from urostomy ) , nabs , soft , appears distended but patient denies , ostomy RLQ c/d/i , NT to palpation back : right flank urostomy tube , c/d/i , nt to palpation extr : no Gardner neuro : a , ox3 , wiggles toes bilaterally , unable to lift LE , 06-12 grip bilaterally w/ UE , decrease sensation to soft touch in left</div><br/>Note 6:<div style=\"border:2px solid #747474; background-color: #e3e3e3; margin: 5px; padding: 10px\">Is notable for an inferior myocardial infarction , restrictive and obstructive lung disease with an FEV1 of . 9 and FVC of 1.34 and a moderate at best response to bronchodilators , and a negative sestamibi scan in May , 1999 apart from a severe fixed inferolateral defect , systolic dysfunction with recent echocardiography revealing an LVID of 62 mm . and ejection fraction of 28 percent , moderate mitral regurgitation and mild-to-moderate aortic stenosis with a peak gradient of 33 and a mean gradient of 19 and a valve area of 1.4 cm . squared .</div><br/>Note 7:<div style=\"border:2px solid #747474; background-color: #e3e3e3; margin: 5px; padding: 10px\">This is a 47 - year-old male with a past medical history of type 2 diabetes , high cholesterol , hypertension , and coronary artery disease , status post percutaneous transluminal coronary angioplasty times two , who presented with acute coronary syndrome refractory to medical treatment and TNK , now status post Angio-Jet percutaneous transluminal coronary angioplasty and stent of proximal left anterior descending artery and percutaneous transluminal coronary angioplasty of first diagonal with intra-aortic balloon pump placement .</div><br/>Note 8:<div style=\"border:2px solid #747474; background-color: #e3e3e3; margin: 5px; padding: 10px\">Clinical progression of skin and sinus infection on maximal antimicrobial therapy continued , with emergence on November 20 of a new right-sided ptosis in association with a left homonymous hemianopsia , and fleeting confusion while febrile , prompting head MRI which revealed a large 5 x 2 x 4.3 cm region in the right occipital lobe of hemorrhage and edema , with dural and , likely , leptomeningeal enhancement in association with small foci in the right cerebellum and pons , concerning for early lesions of similar type .</div><br/>Note 9:<div style=\"border:2px solid #747474; background-color: #e3e3e3; margin: 5px; padding: 10px\">The patient had an echocardiogram on day two of admission , which revealed a mildly dilated left atrium , mild symmetric LVH , normal LV cavity size , mild region LV systolic dysfunction , arresting regional wall motion abnormality including focal apical hypokinesis , a normal right ventricular chamber size and free wall motion , a moderately dilated aortic root , a mildly dilated ascending aorta , normal aortic valve leaflet , normal mitral valve leaflet and no pericardial effusions .</div><br/>Note 10:<div style=\"border:2px solid #747474; background-color: #e3e3e3; margin: 5px; padding: 10px\">The patient is a 65-year-old man with refractory CLL , status post non-myeloblative stem cell transplant approximately nine months prior to admission , and status post prolonged recent Retelk County Medical Center stay for Acanthamoeba infection of skin and sinuses , complicated by ARS due to medication toxicity , as well as GVHD and recent CMV infection , readmitted for new fever , increasing creatinine , hepatomegaly and fluid surge spacing , in the setting of hyponatremia .</div><br/>Note 11:<div style=\"border:2px solid #747474; background-color: #e3e3e3; margin: 5px; padding: 10px\">Tylenol 650 mg p.o . q.4h . p.r.n . , Benadryl 25 mg p.o . q.h.s . p.r.n . , Colace 100 mg p.o . q.i.d . , Nortriptyline 25 mg p.o . q.h.s . , Simvastatin 10 mg p.o . q.h.s . , Metamucil one packet p.o . b.i.d . p.r.n . , Neurontin 300 mg p.o . t.i.d . , Levsinex 0.375 mg p.o . q.12h . , Lisinopril / hydrochlorothiazide 20/25 mg p.o . q.d . , hydrocortisone topical ointment to affected areas , MS Contin 30 mg p.o . b.i.d . , MSIR 15 to 30 mg p.o . q.4h . p.r.n . pain .</div><br/>Note 12:<div style=\"border:2px solid #747474; background-color: #e3e3e3; margin: 5px; padding: 10px\">Aspirin 325 q.d . ; albuterol nebs 2.5 mg q . 4h ; Colace 100 mg b.i.d . ; heparin 5,000 units subcu b.i.d . ; Synthroid 200 mcg q.d . ; Ocean Spray 2 sprays q . i.d . ; simvastatin 10 mg q . h.s . ; Flovent 220 mcg 2 puffs b.i.d . ; Zantac 150 b.i.d . ; nystatin ointment to the gluteal fold b.i.d . ; Lisinopril 20 mg q.d . ; Mestinon controlled release 180 q . h.s . ; Mestinon 30 mg q . 4h while awake ; prednisone 60 mg p.o . q . IM ; Atrovent nebs 0.5 mg q . i.d .</div><br/>Note 13:<div style=\"border:2px solid #747474; background-color: #e3e3e3; margin: 5px; padding: 10px\">An echocardiogram was obtained on 4-26 which showed concentric left ventricular hypertrophy with normal _____ left ventricular function , severe right ventricular dilatation with septal hypokinesis and flattening with a question of right ventricular apical clot raised with mild aortic stenosis , severe tricuspid regurgitation and increased pulmonary artery pressure of approximately 70 millimeters , consistent with fairly severe pulmonary hypertension .</div><br/>Note 14:<div style=\"border:2px solid #747474; background-color: #e3e3e3; margin: 5px; padding: 10px\">1 ) CV ( R ) finished amio IV load then started on po , agressive lytes ; although interrogation showed >100 episodes of VT ( as / x ) , pt prefers med therapy as opposed to ablation ( I ) enzymes mildly elevated but not actively ischemic ; lipids , ASA , statin , BB ; Adenosine thal 1/4 and echo 1/4 to look for signs of ischemia as active cause for VT ( P ) JVP at angle of jaw 1/4 -- > giving 20 Lasix ; dig level 1/4 1.3 -- > 1/2 dose as on Amio</div><br/>Note 15:<div style=\"border:2px solid #747474; background-color: #e3e3e3; margin: 5px; padding: 10px\">sodium 141 , potassium 3.5 , chloride 107 , bicarbonates 23.8 , BUN 23 , creatinine 1.1 , glucose 165 , PO2 377 , PCO2 32 , PH 7.50 , asomus 298 , toxic screen negative , white blood cell count 11.1 , hematocrit 39.6 , platelet count 137 , prothrombin time 25.2 , INR 4.3 , partial thromboplastin time 34.7 , urinalysis 1+ albumin , 0-5 high link caths , cervical spine negative , pelvis negative , lumbar spine ; negative , thoracic spine negative .</div><br/>"
      ],
      "text/plain": [
       "<IPython.core.display.HTML object>"
      ]
     },
     "metadata": {},
     "output_type": "display_data"
    }
   ],
   "source": [
    "from IPython.core.display import display, HTML\n",
    "\n",
    "html_output=\"\"\n",
    "for i, d in enumerate(notes):\n",
    "    html_output += f'Note {i}:'\n",
    "    html_output +='<div style=\"border:2px solid #747474; background-color: #e3e3e3; margin: 5px; padding: 10px\">'\n",
    "    html_output += d\n",
    "    html_output += '</div><br/>'\n",
    "\n",
    "display(HTML(html_output))"
   ]
  },
  {
   "cell_type": "code",
   "execution_count": 48,
   "metadata": {
    "colab": {
     "base_uri": "https://localhost:8080/",
     "height": 390
    },
    "colab_type": "code",
    "id": "C4x5nlrIOffp",
    "outputId": "db692a92-be80-4dd5-f8aa-5139b60283fc"
   },
   "outputs": [
    {
     "name": "stdout",
     "output_type": "stream",
     "text": [
      "+------+--------------------------------------------------+\n",
      "|doc_id|                                         text_feed|\n",
      "+------+--------------------------------------------------+\n",
      "|     0|pentamidine 300 mg iv q . 36 hours , pentamidin...|\n",
      "|     1|albuterol nebulizers 2.5 mg q.4h . and atrovent...|\n",
      "|     2|tylenol 650 mg p.o . q . 4-6h p.r.n . headache ...|\n",
      "|     3|the patient's incisions sternal and right leg w...|\n",
      "|     4|this is an 82 - year-old male with a history of...|\n",
      "|     5|o2 95% on 3l nc mixed quinn 82% genrl : in nad ...|\n",
      "|     6|is notable for an inferior myocardial infarctio...|\n",
      "|     7|this is a 47 - year-old male with a past medica...|\n",
      "|     8|clinical progression of skin and sinus infectio...|\n",
      "|     9|the patient had an echocardiogram on day two of...|\n",
      "|    10|the patient is a 65-year-old man with refractor...|\n",
      "|    11|tylenol 650 mg p.o . q.4h . p.r.n . , benadryl ...|\n",
      "|    12|aspirin 325 q.d . ; albuterol nebs 2.5 mg q . 4...|\n",
      "|    13|an echocardiogram was obtained on 4-26 which sh...|\n",
      "|    14|1 ) cv ( r ) finished amio iv load then started...|\n",
      "|    15|sodium 141 , potassium 3.5 , chloride 107 , bic...|\n",
      "+------+--------------------------------------------------+\n",
      "\n"
     ]
    }
   ],
   "source": [
    "data = spark.createDataFrame([(i,n.lower()) for i,n in enumerate(notes)]).toDF('doc_id', 'text_feed')\n",
    "\n",
    "data.show(truncate=50)"
   ]
  },
  {
   "cell_type": "markdown",
   "metadata": {
    "colab_type": "text",
    "id": "z9ERXdIpOxRB"
   },
   "source": [
    "let's build a SparkNLP pipeline with the following stages:\n",
    "\n",
    "`DocumentAssembler`: Entry annotator for our pipelines; it creates the data structure for the Annotation Framework\n",
    "\n",
    "`SentenceDetector`: Annotator to pragmatically separate complete sentences inside each document\n",
    "\n",
    "`Tokenizer`: Annotator to separate sentences in tokens (generally words)\n",
    "\n",
    "`StopWordsCleaner`: Annotator to remove words defined as StopWords in SparkML\n",
    "\n",
    "`WordEmbeddings`: Vectorization of word tokens, in this case using word embeddings trained from PubMed, ICD10 and other clinical resources.\n",
    "\n",
    "`ChunkEmbeddings`: Aggregates the WordEmbeddings for each NER Chunk\n",
    "\n",
    "`BioNLP NER + NerConverter`: This annotators return Chunks related to Cancer and Genetics diseases\n",
    "\n",
    "`ChunkEntityResolver`: Annotator that performs search for the KNNs, in this case trained from ICDO Histology Behavior."
   ]
  },
  {
   "cell_type": "code",
   "execution_count": 49,
   "metadata": {
    "colab": {},
    "colab_type": "code",
    "id": "MD4aggbPQEe_"
   },
   "outputs": [],
   "source": [
    "# preparation Annotators and Embeddings\n",
    "\n",
    "docAssembler = DocumentAssembler()\\\n",
    "                .setInputCol('text_feed')\\\n",
    "                .setOutputCol('document')\n",
    "\n",
    "sentenceDetector = SentenceDetector()\\\n",
    "                .setInputCols('document')\\\n",
    "                .setOutputCol('sentence')\n",
    "\n",
    "tokenizer_chars = [\",\",\"\\/\",\" \",\".\",\"|\",\"@\",\"#\",\"%\",\"&\",\"\\\\$\",\"\\\\[\",\"\\\\]\",\"\\\\(\",\"\\\\)\",\"\\\\-\",\";\"]\n",
    "\n",
    "tokenizer = Tokenizer().setSplitChars(tokenizer_chars)\\\n",
    "            .setInputCols('sentence')\\\n",
    "            .setOutputCol('token')\n"
   ]
  },
  {
   "cell_type": "code",
   "execution_count": 50,
   "metadata": {
    "colab": {
     "base_uri": "https://localhost:8080/",
     "height": 123
    },
    "colab_type": "code",
    "id": "DKBaRiGzQPkH",
    "outputId": "0d298bca-6cba-4178-dac3-d0453ee566d6"
   },
   "outputs": [
    {
     "name": "stdout",
     "output_type": "stream",
     "text": [
      "ner_jsl download started this may take some time.\n",
      "Approximate size to download 14 MB\n",
      "[OK!]\n",
      "ner_drugs download started this may take some time.\n",
      "Approximate size to download 13.8 MB\n",
      "[OK!]\n"
     ]
    }
   ],
   "source": [
    "\n",
    "# Annotators responsible for the Cancer Genetics Entity Recognition task\n",
    "\n",
    "\n",
    "jslNer = NerDLModel.pretrained('ner_jsl', 'en', \"clinical/models\")\\\n",
    "    .setInputCols('sentence', 'token', 'embeddings')\\\n",
    "    .setOutputCol('ner_jsl')\n",
    "\n",
    "drugNer = NerDLModel.pretrained('ner_drugs', 'en', \"clinical/models\")\\\n",
    "    .setInputCols('sentence', 'token', 'embeddings')\\\n",
    "    .setOutputCol('ner_drug')"
   ]
  },
  {
   "cell_type": "code",
   "execution_count": 51,
   "metadata": {
    "colab": {},
    "colab_type": "code",
    "id": "vKqP-pkGQ-Tv"
   },
   "outputs": [],
   "source": [
    "\n",
    "#Converter annotators transform IOB tags into full chunks (sequence set of tokens) tagged with `entity` metadata\n",
    "\n",
    "jslConverter = NerConverter()\\\n",
    "    .setInputCols('sentence', 'token', 'ner_jsl')\\\n",
    "    .setOutputCol('chunk_jsl')\\\n",
    "    .setWhiteList([\"Diagnosis\"])\n",
    "\n",
    "drugConverter = NerConverter()\\\n",
    "    .setInputCols('sentence', 'token', 'ner_drug')\\\n",
    "    .setOutputCol('chunk_drug')"
   ]
  },
  {
   "cell_type": "code",
   "execution_count": 52,
   "metadata": {
    "colab": {},
    "colab_type": "code",
    "id": "j2Z7meiIRS30"
   },
   "outputs": [],
   "source": [
    "\n",
    "#ChunkEmbeddings annotators aggregate embeddings for each token in the chunk\n",
    "\n",
    "jslChunkEmbeddings = ChunkEmbeddings()\\\n",
    "  .setInputCols('chunk_jsl', 'embeddings')\\\n",
    "  .setOutputCol('chunk_embs_jsl')\n",
    "\n",
    "drugChunkEmbeddings = ChunkEmbeddings()\\\n",
    "  .setInputCols('chunk_drug', 'embeddings')\\\n",
    "  .setOutputCol('chunk_embs_drug')"
   ]
  },
  {
   "cell_type": "code",
   "execution_count": 53,
   "metadata": {
    "colab": {},
    "colab_type": "code",
    "id": "7owOfPHSRmo0"
   },
   "outputs": [],
   "source": [
    "\n",
    "# ChunkTokenizer provides extra flexibility at the time of tokenizing a given chunk\n",
    "\n",
    "jslChunkTokenizer = ChunkTokenizer()\\\n",
    "    .setSplitChars(tokenizer_chars)\\\n",
    "    .setInputCols('chunk_jsl')\\\n",
    "    .setOutputCol('chunk_token_jsl')\n",
    "\n",
    "drugChunkTokenizer = ChunkTokenizer()\\\n",
    "    .setSplitChars(tokenizer_chars)\\\n",
    "    .setInputCols('chunk_drug')\\\n",
    "    .setOutputCol('chunk_token_drug')"
   ]
  },
  {
   "cell_type": "code",
   "execution_count": 54,
   "metadata": {
    "colab": {
     "base_uri": "https://localhost:8080/",
     "height": 123
    },
    "colab_type": "code",
    "id": "1b62vB4qt33m",
    "outputId": "32ac831c-8f2f-46db-dc25-549534b752f5"
   },
   "outputs": [
    {
     "name": "stdout",
     "output_type": "stream",
     "text": [
      "chunkresolve_icd10cm_clinical download started this may take some time.\n",
      "Approximate size to download 166.3 MB\n",
      "[OK!]\n",
      "ensembleresolve_rxnorm_small_clinical download started this may take some time.\n",
      "Approximate size to download 159.7 MB\n",
      "[OK!]\n"
     ]
    }
   ],
   "source": [
    "# Entity Resolution Pretrained Models\n",
    "\n",
    "icd10cmResolver = ChunkEntityResolverModel.pretrained('chunkresolve_icd10cm_clinical', 'en', \"clinical/models\")\\\n",
    "    .setEnableLevenshtein(True)\\\n",
    "    .setNeighbours(200).setAlternatives(5).setDistanceWeights([1,3,2,0,0,1])\\\n",
    "    .setInputCols('chunk_token_jsl', 'chunk_embs_jsl')\\\n",
    "    .setOutputCol('icd10cm_resolution')\n",
    "\n",
    "rxnormResolver = EnsembleEntityResolverModel()\\\n",
    "    .pretrained('ensembleresolve_rxnorm_small_clinical', 'en', \"clinical/models\")\\\n",
    "    .setEnableLevenshtein(True)\\\n",
    "    .setNeighbours(200).setAlternatives(5).setDistanceWeights([1,3,2,0,0,1])\\\n",
    "    .setInputCols('chunk_token_drug', 'chunk_embs_drug')\\\n",
    "    .setOutputCol('rxnorm_resolution')\\"
   ]
  },
  {
   "cell_type": "code",
   "execution_count": 55,
   "metadata": {
    "colab": {},
    "colab_type": "code",
    "id": "f0EB751rUXw5"
   },
   "outputs": [],
   "source": [
    "pipelineFull = Pipeline().setStages([\n",
    "    docAssembler, \n",
    "    sentenceDetector, \n",
    "    tokenizer, \n",
    "    word_embeddings, \n",
    "    jslNer,\n",
    "    drugNer,\n",
    "    jslConverter,\n",
    "    drugConverter,\n",
    "    jslChunkEmbeddings, \n",
    "    drugChunkEmbeddings,\n",
    "    jslChunkTokenizer,\n",
    "    drugChunkTokenizer,\n",
    "    rxnormResolver,\n",
    "    icd10cmResolver\n",
    "])"
   ]
  },
  {
   "cell_type": "code",
   "execution_count": null,
   "metadata": {
    "colab": {},
    "colab_type": "code",
    "id": "hmcAw9wsUagb"
   },
   "outputs": [],
   "source": [
    "# Persisiting temporarily to keep DAG size and resource usage low (Ensmeble Resolvers are Resource Intensive)\n",
    "pipelineModelFull = pipelineFull.fit(data)\n",
    "\n",
    "output = pipelineModelFull.transform(data)\n",
    "\n",
    "output.write.mode(\"overwrite\").save(\"temp\")\n",
    "\n",
    "output = spark.read.load(\"temp\")"
   ]
  },
  {
   "cell_type": "code",
   "execution_count": 57,
   "metadata": {
    "colab": {
     "base_uri": "https://localhost:8080/",
     "height": 410
    },
    "colab_type": "code",
    "id": "gAtS93JRU9t5",
    "outputId": "e00bd466-c3c1-4fec-ff74-2c78bef2dab7"
   },
   "outputs": [
    {
     "name": "stdout",
     "output_type": "stream",
     "text": [
      "+--------------------+--------------------+--------------------+--------------------+--------------------+--------------------+--------------------+--------------------+--------------------+--------------------+\n",
      "|                text|            document|            sentence|               token|          embeddings|                 ner|           ner_chunk|    chunk_embeddings|           ner_token|   rxnorm_resolution|\n",
      "+--------------------+--------------------+--------------------+--------------------+--------------------+--------------------+--------------------+--------------------+--------------------+--------------------+\n",
      "|The patient was p...|[[document, 0, 25...|[[document, 0, 68...|[[token, 0, 2, Th...|[[word_embeddings...|[[named_entity, 0...|[[chunk, 40, 44, ...|[[word_embeddings...|[[token, 40, 44, ...|[[entity, 40, 44,...|\n",
      "+--------------------+--------------------+--------------------+--------------------+--------------------+--------------------+--------------------+--------------------+--------------------+--------------------+\n",
      "\n"
     ]
    }
   ],
   "source": [
    "output.show()"
   ]
  },
  {
   "cell_type": "code",
   "execution_count": null,
   "metadata": {
    "colab": {},
    "colab_type": "code",
    "id": "1mebmO-eVjHT"
   },
   "outputs": [],
   "source": [
    "def quick_metadata_analysis(df, doc_field, chunk_field, code_fields):\n",
    "    code_res_meta = \", \".join([f\"{cf}.metadata\" for cf in code_fields])\n",
    "    expression = f\"explode(arrays_zip({chunk_field}.begin, {chunk_field}.end, {chunk_field}.result, {chunk_field}.metadata, \"+code_res_meta+\")) as a\"\n",
    "    top_n_rest = [(f\"float(a['{i+4}'].confidence) as {(cf.split('_')[0])}_conf\",\n",
    "                    f\"arrays_zip(split(a['{i+4}'].all_k_results,':::'),split(a['{i+4}'].all_k_resolutions,':::')) as {cf.split('_')[0]+'_opts'}\")\n",
    "                    for i, cf in enumerate(code_fields)]\n",
    "    top_n_rest_args = []\n",
    "    for tr in top_n_rest:\n",
    "        for t in tr:\n",
    "            top_n_rest_args.append(t)\n",
    "    return df.selectExpr(doc_field, expression) \\\n",
    "        .orderBy('doc_id', F.expr(\"a['0']\"), F.expr(\"a['1']\"))\\\n",
    "        .selectExpr(f\"concat_ws('::',{doc_field},a['0'],a['1']) as coords\", \"a['2'] as chunk\",\"a['3'].entity as entity\", *top_n_rest_args)"
   ]
  },
  {
   "cell_type": "code",
   "execution_count": null,
   "metadata": {
    "colab": {},
    "colab_type": "code",
    "id": "kR95WIFuVlDz"
   },
   "outputs": [],
   "source": [
    "icd10cm_analysis = quick_metadata_analysis(output, 'doc_id', 'chunk_jsl',['icd10cm_resolution']).toPandas()"
   ]
  },
  {
   "cell_type": "code",
   "execution_count": null,
   "metadata": {
    "colab": {},
    "colab_type": "code",
    "id": "GtgPTgcAVmoT"
   },
   "outputs": [],
   "source": [
    "rxnorm_analysis = \\\n",
    "quick_metadata_analysis(output, 'doc_id', 'chunk_drug',['rxnorm_resolution']).toPandas()"
   ]
  },
  {
   "cell_type": "code",
   "execution_count": null,
   "metadata": {
    "colab": {},
    "colab_type": "code",
    "id": "yxKKXh5FW92K"
   },
   "outputs": [],
   "source": [
    "pd.set_option('display.max_colwidth', 250)\n",
    "pd.set_option('display.max_rows', 500)"
   ]
  },
  {
   "cell_type": "code",
   "execution_count": null,
   "metadata": {
    "colab": {
     "base_uri": "https://localhost:8080/",
     "height": 434
    },
    "colab_type": "code",
    "id": "Wd3_1oqkWyFb",
    "outputId": "3e56e01f-5acc-4168-f025-84c52d72fa81"
   },
   "outputs": [
    {
     "data": {
      "text/html": [
       "<div>\n",
       "<style scoped>\n",
       "    .dataframe tbody tr th:only-of-type {\n",
       "        vertical-align: middle;\n",
       "    }\n",
       "\n",
       "    .dataframe tbody tr th {\n",
       "        vertical-align: top;\n",
       "    }\n",
       "\n",
       "    .dataframe thead th {\n",
       "        text-align: right;\n",
       "    }\n",
       "</style>\n",
       "<table border=\"1\" class=\"dataframe\">\n",
       "  <thead>\n",
       "    <tr style=\"text-align: right;\">\n",
       "      <th></th>\n",
       "      <th>coords</th>\n",
       "      <th>chunk</th>\n",
       "      <th>entity</th>\n",
       "      <th>icd10cm_conf</th>\n",
       "      <th>icd10cm_opts</th>\n",
       "    </tr>\n",
       "  </thead>\n",
       "  <tbody>\n",
       "    <tr>\n",
       "      <th>5</th>\n",
       "      <td>6::51::90</td>\n",
       "      <td>restrictive and obstructive lung disease</td>\n",
       "      <td>Diagnosis</td>\n",
       "      <td>0.2596</td>\n",
       "      <td>[(J449, Chronic obstructive pulmonary disease, unspecified), (J670, Farmer's lung), (J660, Byssinosis), (J673, Suberosis), (G241, Genetic torsion dystonia)]</td>\n",
       "    </tr>\n",
       "    <tr>\n",
       "      <th>6</th>\n",
       "      <td>6::245::270</td>\n",
       "      <td>fixed inferolateral defect</td>\n",
       "      <td>Diagnosis</td>\n",
       "      <td>0.2716</td>\n",
       "      <td>[(Q214, Aortopulmonary septal defect), (I510, Cardiac septal defect, acquired), (Q790, Congenital diaphragmatic hernia), (Q212, Atrioventricular septal defect), (Q210, Ventricular septal defect)]</td>\n",
       "    </tr>\n",
       "    <tr>\n",
       "      <th>8</th>\n",
       "      <td>6::442::456</td>\n",
       "      <td>aortic stenosis</td>\n",
       "      <td>Diagnosis</td>\n",
       "      <td>0.2524</td>\n",
       "      <td>[(Q253, Supravalvular aortic stenosis), (Q230, Congenital stenosis of aortic valve), (I060, Rheumatic aortic stenosis), (Q9382, Williams syndrome), (I062, Rheumatic aortic stenosis with insufficiency)]</td>\n",
       "    </tr>\n",
       "    <tr>\n",
       "      <th>11</th>\n",
       "      <td>9::84::102</td>\n",
       "      <td>dilated left atrium</td>\n",
       "      <td>Diagnosis</td>\n",
       "      <td>0.3030</td>\n",
       "      <td>[(Q242, Cor triatriatum), (I420, Dilated cardiomyopathy), (I429, Cardiomyopathy, unspecified), (M5432, Sciatica, left side), (M7722, Periarthritis, left wrist)]</td>\n",
       "    </tr>\n",
       "    <tr>\n",
       "      <th>13</th>\n",
       "      <td>9::467::487</td>\n",
       "      <td>pericardial effusions</td>\n",
       "      <td>Diagnosis</td>\n",
       "      <td>0.2764</td>\n",
       "      <td>[(I318, Other specified diseases of pericardium), (J90, Pleural effusion, not elsewhere classified), (I313, Pericardial effusion (noninflammatory)), (J940, Chylous effusion), (S2611XS, Contusion of heart without hemopericardium, sequela)]</td>\n",
       "    </tr>\n",
       "    <tr>\n",
       "      <th>14</th>\n",
       "      <td>10::223::244</td>\n",
       "      <td>acanthamoeba infection</td>\n",
       "      <td>Diagnosis</td>\n",
       "      <td>0.2877</td>\n",
       "      <td>[(B6010, Acanthamebiasis, unspecified), (B72, Dracunculiasis), (B1081, Human herpesvirus 6 infection), (B810, Anisakiasis), (B831, Gnathostomiasis)]</td>\n",
       "    </tr>\n",
       "    <tr>\n",
       "      <th>16</th>\n",
       "      <td>10::467::478</td>\n",
       "      <td>hyponatremia</td>\n",
       "      <td>Diagnosis</td>\n",
       "      <td>0.5242</td>\n",
       "      <td>[(E871, Hypo-osmolality and hyponatremia), (E876, Hypokalemia), (E861, Hypovolemia), (E8351, Hypocalcemia), (E8342, Hypomagnesemia)]</td>\n",
       "    </tr>\n",
       "    <tr>\n",
       "      <th>18</th>\n",
       "      <td>13::145::172</td>\n",
       "      <td>right ventricular dilatation</td>\n",
       "      <td>Diagnosis</td>\n",
       "      <td>0.2664</td>\n",
       "      <td>[(I50810, Right heart failure, unspecified), (I509, Heart failure, unspecified), (N134, Hydroureter), (I2541, Coronary artery aneurysm), (I470, Re-entry ventricular arrhythmia)]</td>\n",
       "    </tr>\n",
       "    <tr>\n",
       "      <th>19</th>\n",
       "      <td>13::279::293</td>\n",
       "      <td>aortic stenosis</td>\n",
       "      <td>Diagnosis</td>\n",
       "      <td>0.2524</td>\n",
       "      <td>[(Q253, Supravalvular aortic stenosis), (Q230, Congenital stenosis of aortic valve), (I060, Rheumatic aortic stenosis), (Q9382, Williams syndrome), (I062, Rheumatic aortic stenosis with insufficiency)]</td>\n",
       "    </tr>\n",
       "  </tbody>\n",
       "</table>\n",
       "</div>"
      ],
      "text/plain": [
       "          coords  ...                                                                                                                                                                                                                                    icd10cm_opts\n",
       "5      6::51::90  ...                                                                                    [(J449, Chronic obstructive pulmonary disease, unspecified), (J670, Farmer's lung), (J660, Byssinosis), (J673, Suberosis), (G241, Genetic torsion dystonia)]\n",
       "6    6::245::270  ...                                             [(Q214, Aortopulmonary septal defect), (I510, Cardiac septal defect, acquired), (Q790, Congenital diaphragmatic hernia), (Q212, Atrioventricular septal defect), (Q210, Ventricular septal defect)]\n",
       "8    6::442::456  ...                                       [(Q253, Supravalvular aortic stenosis), (Q230, Congenital stenosis of aortic valve), (I060, Rheumatic aortic stenosis), (Q9382, Williams syndrome), (I062, Rheumatic aortic stenosis with insufficiency)]\n",
       "11    9::84::102  ...                                                                                [(Q242, Cor triatriatum), (I420, Dilated cardiomyopathy), (I429, Cardiomyopathy, unspecified), (M5432, Sciatica, left side), (M7722, Periarthritis, left wrist)]\n",
       "13   9::467::487  ...  [(I318, Other specified diseases of pericardium), (J90, Pleural effusion, not elsewhere classified), (I313, Pericardial effusion (noninflammatory)), (J940, Chylous effusion), (S2611XS, Contusion of heart without hemopericardium, sequela)]\n",
       "14  10::223::244  ...                                                                                            [(B6010, Acanthamebiasis, unspecified), (B72, Dracunculiasis), (B1081, Human herpesvirus 6 infection), (B810, Anisakiasis), (B831, Gnathostomiasis)]\n",
       "16  10::467::478  ...                                                                                                            [(E871, Hypo-osmolality and hyponatremia), (E876, Hypokalemia), (E861, Hypovolemia), (E8351, Hypocalcemia), (E8342, Hypomagnesemia)]\n",
       "18  13::145::172  ...                                                               [(I50810, Right heart failure, unspecified), (I509, Heart failure, unspecified), (N134, Hydroureter), (I2541, Coronary artery aneurysm), (I470, Re-entry ventricular arrhythmia)]\n",
       "19  13::279::293  ...                                       [(Q253, Supravalvular aortic stenosis), (Q230, Congenital stenosis of aortic valve), (I060, Rheumatic aortic stenosis), (Q9382, Williams syndrome), (I062, Rheumatic aortic stenosis with insufficiency)]\n",
       "\n",
       "[9 rows x 5 columns]"
      ]
     },
     "execution_count": 69,
     "metadata": {
      "tags": []
     },
     "output_type": "execute_result"
    }
   ],
   "source": [
    "icd10cm_analysis[icd10cm_analysis.icd10cm_conf>0.25].head(20)"
   ]
  },
  {
   "cell_type": "code",
   "execution_count": null,
   "metadata": {
    "colab": {
     "base_uri": "https://localhost:8080/",
     "height": 981
    },
    "colab_type": "code",
    "id": "cF4I90A3W_GU",
    "outputId": "4917deab-ce01-4504-be12-9dce66a01aa1"
   },
   "outputs": [
    {
     "data": {
      "text/html": [
       "<div>\n",
       "<style scoped>\n",
       "    .dataframe tbody tr th:only-of-type {\n",
       "        vertical-align: middle;\n",
       "    }\n",
       "\n",
       "    .dataframe tbody tr th {\n",
       "        vertical-align: top;\n",
       "    }\n",
       "\n",
       "    .dataframe thead th {\n",
       "        text-align: right;\n",
       "    }\n",
       "</style>\n",
       "<table border=\"1\" class=\"dataframe\">\n",
       "  <thead>\n",
       "    <tr style=\"text-align: right;\">\n",
       "      <th></th>\n",
       "      <th>coords</th>\n",
       "      <th>chunk</th>\n",
       "      <th>entity</th>\n",
       "      <th>rxnorm_conf</th>\n",
       "      <th>rxnorm_opts</th>\n",
       "    </tr>\n",
       "  </thead>\n",
       "  <tbody>\n",
       "    <tr>\n",
       "      <th>0</th>\n",
       "      <td>0::0::10</td>\n",
       "      <td>pentamidine</td>\n",
       "      <td>DrugChem</td>\n",
       "      <td>0.6458</td>\n",
       "      <td>[(2054812, chloroquine phosphate tablets), (370622, atovaquone oral suspension), (757307, paromomycin oral solution), (2181643, azithromycin for injection), (2108548, tobramycin inhalation solution)]</td>\n",
       "    </tr>\n",
       "    <tr>\n",
       "      <th>1</th>\n",
       "      <td>0::37::47</td>\n",
       "      <td>pentamidine</td>\n",
       "      <td>DrugChem</td>\n",
       "      <td>0.6458</td>\n",
       "      <td>[(2054812, chloroquine phosphate tablets), (370622, atovaquone oral suspension), (757307, paromomycin oral solution), (2181643, azithromycin for injection), (2108548, tobramycin inhalation solution)]</td>\n",
       "    </tr>\n",
       "    <tr>\n",
       "      <th>2</th>\n",
       "      <td>0::100::111</td>\n",
       "      <td>voriconazole</td>\n",
       "      <td>DrugChem</td>\n",
       "      <td>1.0000</td>\n",
       "      <td>[(2107778, fluconazole 5 0 mg oral tablet), (197702, flucytosine 2 5 0 mg oral capsule), (352218, voriconazole 5 0 mg oral tablet , film coated [ vfend ] ), (197701, fluconazole 5 0 mg oral tablet [ fluconazole ] ), (207106, fluconazole 5 0 mg or...</td>\n",
       "    </tr>\n",
       "    <tr>\n",
       "      <th>3</th>\n",
       "      <td>0::136::144</td>\n",
       "      <td>acyclovir</td>\n",
       "      <td>DrugChem</td>\n",
       "      <td>1.0000</td>\n",
       "      <td>[(1811462, valacyclovir hydrochloride 1 g oral capsule), (314007, ganciclovir 2 5 0 mg oral capsule), (201905, acyclovir 4 0 0 mg oral tablet [ zovirax ] ), (197313, acyclovir 8 0 0 mg oral tablet [ acyclovir ] ), (213694, acyclovir 2 0 0 mg oral...</td>\n",
       "    </tr>\n",
       "    <tr>\n",
       "      <th>7</th>\n",
       "      <td>0::351::363</td>\n",
       "      <td>nitroglycerin</td>\n",
       "      <td>DrugChem</td>\n",
       "      <td>0.9094</td>\n",
       "      <td>[(374405, nitroglycerin ointment), (705128, nitroglycerin lingual spray), (373106, nitroglycerin sublingual tablets), (242946, nitroglycerin 2 % transdermal ointment), (378154, aminophylline tablets)]</td>\n",
       "    </tr>\n",
       "    <tr>\n",
       "      <th>10</th>\n",
       "      <td>0::518::528</td>\n",
       "      <td>fluconazole</td>\n",
       "      <td>DrugChem</td>\n",
       "      <td>1.0000</td>\n",
       "      <td>[(2107778, fluconazole 5 0 mg oral tablet), (197701, fluconazole 5 0 mg oral tablet [ fluconazole ] ), (207106, fluconazole 5 0 mg oral tablet [ diflucan ] ), (197702, flucytosine 2 5 0 mg oral capsule), (207108, fluconazole 1 5 0 mg oral tablet ...</td>\n",
       "    </tr>\n",
       "    <tr>\n",
       "      <th>12</th>\n",
       "      <td>0::608::614</td>\n",
       "      <td>tylenol</td>\n",
       "      <td>DrugChem</td>\n",
       "      <td>0.9080</td>\n",
       "      <td>[(207791, nitrofurantoin , macrocrystals 2 5 mg oral capsule [ macrodantin ] ), (1544490, insulin , regular , human 8 unt inhalation powder [ afrezza ] ), (1543207, insulin , regular , human 4 unt inhalation powder [ afrezza ] ), (994456, phendim...</td>\n",
       "    </tr>\n",
       "    <tr>\n",
       "      <th>14</th>\n",
       "      <td>0::690::698</td>\n",
       "      <td>neurontin</td>\n",
       "      <td>DrugChem</td>\n",
       "      <td>1.0000</td>\n",
       "      <td>[(2099314, moxetumomab pasudotox - tdfk 1 mg injection [ lumoxiti ] ), (1095283, factor xiii , human 1 unt injection [ corifact ] ), (207791, nitrofurantoin , macrocrystals 2 5 mg oral capsule [ macrodantin ] ), (205960, ergoloid mesylates , usp ...</td>\n",
       "    </tr>\n",
       "    <tr>\n",
       "      <th>16</th>\n",
       "      <td>0::846::855</td>\n",
       "      <td>phoslo 667</td>\n",
       "      <td>DrugChem</td>\n",
       "      <td>0.9984</td>\n",
       "      <td>[(1728063, pegaspargase 7 5 0 unt / ml injection [ oncaspar ] ), (2121428, calaspargase pegol - mknl 7 5 0 unt / ml injection [ asparlas ] ), (261137, monascus purpureus west 6 0 0 mg oral capsule [ cholestin ] ), (1087010, thyroid ( usp ) 1 9 5 ...</td>\n",
       "    </tr>\n",
       "    <tr>\n",
       "      <th>19</th>\n",
       "      <td>1::0::8</td>\n",
       "      <td>albuterol</td>\n",
       "      <td>DrugChem</td>\n",
       "      <td>0.8700</td>\n",
       "      <td>[(370542, albuterol tablets), (544499, albuterol oral solution), (2108226, albuterol inhalation solution), (745678, albuterol inhalation aerosol), (197316, albuterol 2 mg oral tablet)]</td>\n",
       "    </tr>\n",
       "    <tr>\n",
       "      <th>20</th>\n",
       "      <td>1::39::46</td>\n",
       "      <td>atrovent</td>\n",
       "      <td>DrugChem</td>\n",
       "      <td>0.9963</td>\n",
       "      <td>[(404640, methscopolamine bromide 5 mg oral tablet [ pamine forte ] ), (1797835, ipratropium bromide 2 1 ug nasal spray , metered [ atrovent ] ), (207086, methscopolamine bromide 2 . 5 mg oral tablet [ pamine ] ), (314088, methscopolamine bromide...</td>\n",
       "    </tr>\n",
       "    <tr>\n",
       "      <th>21</th>\n",
       "      <td>1::92::100</td>\n",
       "      <td>albuterol</td>\n",
       "      <td>DrugChem</td>\n",
       "      <td>0.8700</td>\n",
       "      <td>[(370542, albuterol tablets), (544499, albuterol oral solution), (2108226, albuterol inhalation solution), (745678, albuterol inhalation aerosol), (197316, albuterol 2 mg oral tablet)]</td>\n",
       "    </tr>\n",
       "    <tr>\n",
       "      <th>22</th>\n",
       "      <td>1::106::113</td>\n",
       "      <td>atrovent</td>\n",
       "      <td>DrugChem</td>\n",
       "      <td>0.9963</td>\n",
       "      <td>[(404640, methscopolamine bromide 5 mg oral tablet [ pamine forte ] ), (1797835, ipratropium bromide 2 1 ug nasal spray , metered [ atrovent ] ), (207086, methscopolamine bromide 2 . 5 mg oral tablet [ pamine ] ), (314088, methscopolamine bromide...</td>\n",
       "    </tr>\n",
       "    <tr>\n",
       "      <th>23</th>\n",
       "      <td>1::117::125</td>\n",
       "      <td>rocaltrol</td>\n",
       "      <td>DrugChem</td>\n",
       "      <td>1.0000</td>\n",
       "      <td>[(2099314, moxetumomab pasudotox - tdfk 1 mg injection [ lumoxiti ] ), (728491, protein c , human 1 unt injection [ ceprotin ] ), (1095283, factor xiii , human 1 unt injection [ corifact ] ), (1659991, antithrombin iii , human 1 unt injection [ t...</td>\n",
       "    </tr>\n",
       "    <tr>\n",
       "      <th>25</th>\n",
       "      <td>1::202::217</td>\n",
       "      <td>vitamin b12 1000</td>\n",
       "      <td>DrugChem</td>\n",
       "      <td>0.7501</td>\n",
       "      <td>[(245506, vitamin e 5 unt oral tablet), (246010, vitamin e 1 5 unt oral capsule), (245502, vitamin e 2 5 unt oral capsule), (150930, vitamin e 7 5 unt oral capsule), (235489, vitamin e 5 0 unt oral capsule)]</td>\n",
       "    </tr>\n",
       "    <tr>\n",
       "      <th>26</th>\n",
       "      <td>1::264::272</td>\n",
       "      <td>diltiazem</td>\n",
       "      <td>DrugChem</td>\n",
       "      <td>0.9866</td>\n",
       "      <td>[(2054452, diltiazem hydrochloride tablets), (2247088, diltiazem hydrochloride for injection), (373067, nifedipine capsules), (370724, isradipine capsules), (1122731, verapamil hydrochloride crystal)]</td>\n",
       "    </tr>\n",
       "    <tr>\n",
       "      <th>28</th>\n",
       "      <td>1::340::345</td>\n",
       "      <td>haldol</td>\n",
       "      <td>DrugChem</td>\n",
       "      <td>0.9296</td>\n",
       "      <td>[(706831, risperidone 2 5 mg injection [ risperdal ] ), (2099314, moxetumomab pasudotox - tdfk 1 mg injection [ lumoxiti ] ), (205869, haloperidol 0 . 5 mg oral tablet [ haldol ] ), (1356693, omacetaxine mepesuccinate 3 . 5 mg injection [ synribo...</td>\n",
       "    </tr>\n",
       "    <tr>\n",
       "      <th>29</th>\n",
       "      <td>1::364::374</td>\n",
       "      <td>hydralazine</td>\n",
       "      <td>DrugChem</td>\n",
       "      <td>0.9999</td>\n",
       "      <td>[(2054688, hydralazine hydrochloride tablets), (371254, captopril tablets), (2054374, enalapril maleate tablets), (2054464, fosinopril sodium tablets), (2054433, labetalol hydrochloride tablets)]</td>\n",
       "    </tr>\n",
       "    <tr>\n",
       "      <th>31</th>\n",
       "      <td>1::521::526</td>\n",
       "      <td>zantac</td>\n",
       "      <td>DrugChem</td>\n",
       "      <td>0.9102</td>\n",
       "      <td>[(2099314, moxetumomab pasudotox - tdfk 1 mg injection [ lumoxiti ] ), (1233622, factor ix complex 1 unt injection [ bebulin ] ), (1670392, factor ix complex 1 unt injection [ profilnine ] ), (1095283, factor xiii , human 1 unt injection [ corifa...</td>\n",
       "    </tr>\n",
       "    <tr>\n",
       "      <th>32</th>\n",
       "      <td>1::594::604</td>\n",
       "      <td>macrodantin</td>\n",
       "      <td>DrugChem</td>\n",
       "      <td>0.8759</td>\n",
       "      <td>[(2099314, moxetumomab pasudotox - tdfk 1 mg injection [ lumoxiti ] ), (1233622, factor ix complex 1 unt injection [ bebulin ] ), (1670392, factor ix complex 1 unt injection [ profilnine ] ), (728491, protein c , human 1 unt injection [ ceprotin ...</td>\n",
       "    </tr>\n",
       "  </tbody>\n",
       "</table>\n",
       "</div>"
      ],
      "text/plain": [
       "         coords  ...                                                                                                                                                                                                                                                rxnorm_opts\n",
       "0      0::0::10  ...                                                    [(2054812, chloroquine phosphate tablets), (370622, atovaquone oral suspension), (757307, paromomycin oral solution), (2181643, azithromycin for injection), (2108548, tobramycin inhalation solution)]\n",
       "1     0::37::47  ...                                                    [(2054812, chloroquine phosphate tablets), (370622, atovaquone oral suspension), (757307, paromomycin oral solution), (2181643, azithromycin for injection), (2108548, tobramycin inhalation solution)]\n",
       "2   0::100::111  ...  [(2107778, fluconazole 5 0 mg oral tablet), (197702, flucytosine 2 5 0 mg oral capsule), (352218, voriconazole 5 0 mg oral tablet , film coated [ vfend ] ), (197701, fluconazole 5 0 mg oral tablet [ fluconazole ] ), (207106, fluconazole 5 0 mg or...\n",
       "3   0::136::144  ...  [(1811462, valacyclovir hydrochloride 1 g oral capsule), (314007, ganciclovir 2 5 0 mg oral capsule), (201905, acyclovir 4 0 0 mg oral tablet [ zovirax ] ), (197313, acyclovir 8 0 0 mg oral tablet [ acyclovir ] ), (213694, acyclovir 2 0 0 mg oral...\n",
       "7   0::351::363  ...                                                   [(374405, nitroglycerin ointment), (705128, nitroglycerin lingual spray), (373106, nitroglycerin sublingual tablets), (242946, nitroglycerin 2 % transdermal ointment), (378154, aminophylline tablets)]\n",
       "10  0::518::528  ...  [(2107778, fluconazole 5 0 mg oral tablet), (197701, fluconazole 5 0 mg oral tablet [ fluconazole ] ), (207106, fluconazole 5 0 mg oral tablet [ diflucan ] ), (197702, flucytosine 2 5 0 mg oral capsule), (207108, fluconazole 1 5 0 mg oral tablet ...\n",
       "12  0::608::614  ...  [(207791, nitrofurantoin , macrocrystals 2 5 mg oral capsule [ macrodantin ] ), (1544490, insulin , regular , human 8 unt inhalation powder [ afrezza ] ), (1543207, insulin , regular , human 4 unt inhalation powder [ afrezza ] ), (994456, phendim...\n",
       "14  0::690::698  ...  [(2099314, moxetumomab pasudotox - tdfk 1 mg injection [ lumoxiti ] ), (1095283, factor xiii , human 1 unt injection [ corifact ] ), (207791, nitrofurantoin , macrocrystals 2 5 mg oral capsule [ macrodantin ] ), (205960, ergoloid mesylates , usp ...\n",
       "16  0::846::855  ...  [(1728063, pegaspargase 7 5 0 unt / ml injection [ oncaspar ] ), (2121428, calaspargase pegol - mknl 7 5 0 unt / ml injection [ asparlas ] ), (261137, monascus purpureus west 6 0 0 mg oral capsule [ cholestin ] ), (1087010, thyroid ( usp ) 1 9 5 ...\n",
       "19      1::0::8  ...                                                                   [(370542, albuterol tablets), (544499, albuterol oral solution), (2108226, albuterol inhalation solution), (745678, albuterol inhalation aerosol), (197316, albuterol 2 mg oral tablet)]\n",
       "20    1::39::46  ...  [(404640, methscopolamine bromide 5 mg oral tablet [ pamine forte ] ), (1797835, ipratropium bromide 2 1 ug nasal spray , metered [ atrovent ] ), (207086, methscopolamine bromide 2 . 5 mg oral tablet [ pamine ] ), (314088, methscopolamine bromide...\n",
       "21   1::92::100  ...                                                                   [(370542, albuterol tablets), (544499, albuterol oral solution), (2108226, albuterol inhalation solution), (745678, albuterol inhalation aerosol), (197316, albuterol 2 mg oral tablet)]\n",
       "22  1::106::113  ...  [(404640, methscopolamine bromide 5 mg oral tablet [ pamine forte ] ), (1797835, ipratropium bromide 2 1 ug nasal spray , metered [ atrovent ] ), (207086, methscopolamine bromide 2 . 5 mg oral tablet [ pamine ] ), (314088, methscopolamine bromide...\n",
       "23  1::117::125  ...  [(2099314, moxetumomab pasudotox - tdfk 1 mg injection [ lumoxiti ] ), (728491, protein c , human 1 unt injection [ ceprotin ] ), (1095283, factor xiii , human 1 unt injection [ corifact ] ), (1659991, antithrombin iii , human 1 unt injection [ t...\n",
       "25  1::202::217  ...                                            [(245506, vitamin e 5 unt oral tablet), (246010, vitamin e 1 5 unt oral capsule), (245502, vitamin e 2 5 unt oral capsule), (150930, vitamin e 7 5 unt oral capsule), (235489, vitamin e 5 0 unt oral capsule)]\n",
       "26  1::264::272  ...                                                   [(2054452, diltiazem hydrochloride tablets), (2247088, diltiazem hydrochloride for injection), (373067, nifedipine capsules), (370724, isradipine capsules), (1122731, verapamil hydrochloride crystal)]\n",
       "28  1::340::345  ...  [(706831, risperidone 2 5 mg injection [ risperdal ] ), (2099314, moxetumomab pasudotox - tdfk 1 mg injection [ lumoxiti ] ), (205869, haloperidol 0 . 5 mg oral tablet [ haldol ] ), (1356693, omacetaxine mepesuccinate 3 . 5 mg injection [ synribo...\n",
       "29  1::364::374  ...                                                        [(2054688, hydralazine hydrochloride tablets), (371254, captopril tablets), (2054374, enalapril maleate tablets), (2054464, fosinopril sodium tablets), (2054433, labetalol hydrochloride tablets)]\n",
       "31  1::521::526  ...  [(2099314, moxetumomab pasudotox - tdfk 1 mg injection [ lumoxiti ] ), (1233622, factor ix complex 1 unt injection [ bebulin ] ), (1670392, factor ix complex 1 unt injection [ profilnine ] ), (1095283, factor xiii , human 1 unt injection [ corifa...\n",
       "32  1::594::604  ...  [(2099314, moxetumomab pasudotox - tdfk 1 mg injection [ lumoxiti ] ), (1233622, factor ix complex 1 unt injection [ bebulin ] ), (1670392, factor ix complex 1 unt injection [ profilnine ] ), (728491, protein c , human 1 unt injection [ ceprotin ...\n",
       "\n",
       "[20 rows x 5 columns]"
      ]
     },
     "execution_count": 68,
     "metadata": {
      "tags": []
     },
     "output_type": "execute_result"
    }
   ],
   "source": [
    "rxnorm_analysis[rxnorm_analysis.rxnorm_conf>0.5].head(20)"
   ]
  },
  {
   "cell_type": "markdown",
   "metadata": {
    "colab_type": "text",
    "id": "sx-lDFW1eVVw"
   },
   "source": [
    "## Snomed Resolver"
   ]
  },
  {
   "cell_type": "code",
   "execution_count": 58,
   "metadata": {
    "colab": {
     "base_uri": "https://localhost:8080/",
     "height": 176
    },
    "colab_type": "code",
    "id": "qqnNRFT4y-Bu",
    "outputId": "e507211d-f19c-4ea1-c9a7-3fe26dcd6b05"
   },
   "outputs": [
    {
     "name": "stdout",
     "output_type": "stream",
     "text": [
      "+------+--------------------+\n",
      "|doc_id|           text_feed|\n",
      "+------+--------------------+\n",
      "|     0|pentamidine 300 m...|\n",
      "|     1|albuterol nebuliz...|\n",
      "|     2|tylenol 650 mg p....|\n",
      "+------+--------------------+\n",
      "only showing top 3 rows\n",
      "\n"
     ]
    }
   ],
   "source": [
    "data.show(3)"
   ]
  },
  {
   "cell_type": "code",
   "execution_count": 59,
   "metadata": {
    "colab": {
     "base_uri": "https://localhost:8080/",
     "height": 70
    },
    "colab_type": "code",
    "id": "bVBGOeU7xKUu",
    "outputId": "44e19fb6-d2b9-4825-bde9-7db320336c20"
   },
   "outputs": [
    {
     "name": "stdout",
     "output_type": "stream",
     "text": [
      "ensembleresolve_snomed_small_clinical download started this may take some time.\n",
      "Approximate size to download 440.3 MB\n",
      "[OK!]\n"
     ]
    }
   ],
   "source": [
    "docAssembler = DocumentAssembler()\\\n",
    "                .setInputCol('text_feed')\\\n",
    "                .setOutputCol('document')\n",
    "\n",
    "sentenceDetector = SentenceDetector()\\\n",
    "                .setInputCols('document')\\\n",
    "                .setOutputCol('sentence')\n",
    "\n",
    "\n",
    "tokenizer = Tokenizer()\\\n",
    "            .setInputCols('sentence')\\\n",
    "            .setOutputCol('token')\n",
    "\n",
    "ner_converter = NerConverter() \\\n",
    "  .setInputCols([\"sentence\", \"token\", \"ner\"]) \\\n",
    "  .setOutputCol(\"ner_chunk\")\n",
    "\n",
    "chunk_embeddings = ChunkEmbeddings()\\\n",
    "    .setInputCols(\"ner_chunk\", \"embeddings\")\\\n",
    "    .setOutputCol(\"chunk_embeddings\")\n",
    "\n",
    "chunk_tokenizer = ChunkTokenizer()\\\n",
    "    .setInputCols(\"ner_chunk\")\\\n",
    "    .setOutputCol(\"ner_token\")\n",
    "\n",
    "\n",
    "snomedResolver = \\\n",
    "    EnsembleEntityResolverModel.pretrained(\"ensembleresolve_snomed_small_clinical\",\"en\",\"clinical/models\")\\\n",
    "    .setInputCols(\"ner_token\",\"chunk_embeddings\").setOutputCol(\"snomed_resolution\")\n",
    "\n",
    "\n",
    "pipeline_snomed = Pipeline(\n",
    "    stages = [\n",
    "    docAssembler,\n",
    "    sentenceDetector,\n",
    "    tokenizer,\n",
    "    word_embeddings,\n",
    "    clinical_ner,\n",
    "    ner_converter,\n",
    "    chunk_embeddings,\n",
    "    chunk_tokenizer,\n",
    "    snomedResolver\n",
    "  ])\n",
    "\n",
    "model_snomed = pipeline_snomed.fit(data)\n"
   ]
  },
  {
   "cell_type": "code",
   "execution_count": 60,
   "metadata": {
    "colab": {},
    "colab_type": "code",
    "id": "q1y69kCpzwRz"
   },
   "outputs": [],
   "source": [
    "\n",
    "output = model_snomed.transform(data)\n",
    "\n",
    "output.write.mode(\"overwrite\").save(\"temp\")\n",
    "\n",
    "output = spark.read.load(\"temp\")"
   ]
  },
  {
   "cell_type": "code",
   "execution_count": 61,
   "metadata": {
    "colab": {
     "base_uri": "https://localhost:8080/",
     "height": 478
    },
    "colab_type": "code",
    "id": "gFUIxOQruofR",
    "outputId": "7a802614-3616-4147-bbee-3554531bad74"
   },
   "outputs": [
    {
     "name": "stdout",
     "output_type": "stream",
     "text": [
      "+-------------------------+---------+----------------------------------------------------------------------------------------------------+---------+----------+\n",
      "|                    chunk|   entity|                                                                                         target_text|     code|confidence|\n",
      "+-------------------------+---------+----------------------------------------------------------------------------------------------------+---------+----------+\n",
      "|              pentamidine|TREATMENT|pentamidine:::pentamidine isethionate:::pentamidine diisothionate:::eprazinone:::chloroquine phos...|372699006|    0.9962|\n",
      "|   pentamidine nasal wash|TREATMENT|pentamidine isetionate:::pentamidine ( substance ) :::pentamidine diisothionate ( substance ) :::...| 16826009|    0.9281|\n",
      "|             voriconazole|TREATMENT|                        voriconazole:::trifluridine:::amikacin liposome:::lymecycline:::luliconazole|385469007|    1.0000|\n",
      "|                acyclovir|TREATMENT|                    acyclovir:::acyclovir sodium:::trolamine salicylate:::trifluridine:::lymecycline|372729009|    0.9981|\n",
      "|             cyclosporine|TREATMENT|cyclosporine and cyclosporine derivative:::doxercalciferol:::trolamine salicylate:::trifluridine:...|412039006|    1.0000|\n",
      "|               prednisone|TREATMENT|           prednisone:::hydrocortisone valerate:::doxercalciferol:::mycophenolate sodium:::busulphan|116602009|    1.0000|\n",
      "|                     gcsf|TREATMENT|                           ephelis:::ketoacidaemia:::parafilariosis:::gasterophilosis:::carnosinuria|403536009|    0.2000|\n",
      "|                   epogen|TREATMENT|                              polyonychia:::micronychia:::cocainism:::colporrhexis:::choledochocoele|403280008|    0.2000|\n",
      "|                 protonix|TREATMENT|           diastematocrania:::trachonychia:::silicosiderosis:::melanoglossia:::hydromeningomyelocele| 18355000|    0.2000|\n",
      "|              simethicone|TREATMENT|simethicone only product:::magaldrate and simethicone only product:::loperamide and simethicone o...|777535005|    0.9708|\n",
      "|      nitroglycerin paste|TREATMENT|silicone paste:::fish paste:::polyantibiotic paste:::dental prophylaxis paste:::bite registration...|261246006|    0.3221|\n",
      "|                    p.r.n|TREATMENT|                                     cocainism:::colporrhexis:::proctodynia:::gooseflesh:::polyalgia|403748005|    0.2000|\n",
      "|flunisolide nasal inhaler|TREATMENT|                flunisolide:::nasal mucus:::nasal fluid:::nasal contents:::nasal flap ( substance ) |116588001|    0.8640|\n",
      "|                oxycodone|TREATMENT|oxycodone hydrochloride:::oxycodone terephthalate:::netupitant:::sufentanil citrate:::morphine di...|387024006|    0.5000|\n",
      "|                  sudafed|TREATMENT|           diastematocrania:::trachonychia:::silicosiderosis:::melanoglossia:::hydromeningomyelocele| 18355000|    0.2000|\n",
      "|                    p.r.n|TREATMENT|                                     cocainism:::colporrhexis:::proctodynia:::gooseflesh:::polyalgia|403748005|    0.2000|\n",
      "|              fluconazole|TREATMENT|               fluconazole:::griseofulvin microsize:::amikacin liposome:::lymecycline:::luliconazole|387174006|    1.0000|\n",
      "|erythematous skin lesions|  PROBLEM|achromic skin lesions of pinta:::achromic and hyperchromic skin lesions of pinta:::skin depigment...| 82074004|    0.8271|\n",
      "|                 ditropan|TREATMENT|           diastematocrania:::trachonychia:::silicosiderosis:::melanoglossia:::hydromeningomyelocele| 18355000|    0.2000|\n",
      "|                  tylenol|TREATMENT|                       polyonychia:::micronychia:::aesthesioneuroblastoma:::cocainism:::colporrhexis|403280008|    0.2000|\n",
      "+-------------------------+---------+----------------------------------------------------------------------------------------------------+---------+----------+\n",
      "only showing top 20 rows\n",
      "\n"
     ]
    }
   ],
   "source": [
    "\n",
    "output.select(F.explode(F.arrays_zip(\"ner_chunk.result\",\"ner_chunk.metadata\",\"snomed_resolution.result\",\"snomed_resolution.metadata\")).alias(\"snomed_result\")) \\\n",
    "    .select(F.expr(\"snomed_result['0']\").alias(\"chunk\"),\n",
    "            F.expr(\"snomed_result['1'].entity\").alias(\"entity\"),\n",
    "            F.expr(\"snomed_result['3'].all_k_resolutions\").alias(\"target_text\"),\n",
    "            F.expr(\"snomed_result['2']\").alias(\"code\"),\n",
    "            F.expr(\"snomed_result['3'].confidence\").alias(\"confidence\")).show(truncate = 100)"
   ]
  },
  {
   "cell_type": "code",
   "execution_count": null,
   "metadata": {
    "colab": {},
    "colab_type": "code",
    "id": "u5yo-mG51j-W"
   },
   "outputs": [],
   "source": []
  },
  {
   "cell_type": "code",
   "execution_count": null,
   "metadata": {},
   "outputs": [],
   "source": []
  }
 ],
 "metadata": {
  "colab": {
   "collapsed_sections": [],
   "name": "3_Clinical_Entity_Resolvers_v2.5.ipynb",
   "provenance": [],
   "toc_visible": true
  },
  "kernelspec": {
   "display_name": "Python 3",
   "language": "python",
   "name": "python3"
  },
  "language_info": {
   "codemirror_mode": {
    "name": "ipython",
    "version": 3
   },
   "file_extension": ".py",
   "mimetype": "text/x-python",
   "name": "python",
   "nbconvert_exporter": "python",
   "pygments_lexer": "ipython3",
   "version": "3.7.7"
  }
 },
 "nbformat": 4,
 "nbformat_minor": 4
}
