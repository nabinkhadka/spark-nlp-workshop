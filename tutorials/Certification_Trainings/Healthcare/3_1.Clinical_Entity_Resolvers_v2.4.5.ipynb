{
 "cells": [
  {
   "cell_type": "markdown",
   "metadata": {
    "colab_type": "text",
    "id": "I08sFJYCxR0Z"
   },
   "source": [
    "![JohnSnowLabs](https://nlp.johnsnowlabs.com/assets/images/logo.png)"
   ]
  },
  {
   "cell_type": "markdown",
   "metadata": {
    "colab_type": "text",
    "id": "TFt3I9CgrOq5"
   },
   "source": [
    "[![Open In Colab](https://colab.research.google.com/assets/colab-badge.svg)](https://colab.research.google.com/github/JohnSnowLabs/spark-nlp-workshop/blob/master/tutorials/Certification_Trainings/Healthcare/3_1.Clinical_Entity_Resolvers_v2.4.5.ipynb)"
   ]
  },
  {
   "cell_type": "markdown",
   "metadata": {
    "colab_type": "text",
    "id": "Niy3mZAjoayg"
   },
   "source": [
    "# Clinical Entity Resolvers (v 2.4.5)"
   ]
  },
  {
   "cell_type": "markdown",
   "metadata": {
    "colab_type": "text",
    "id": "okhT7AcXxben"
   },
   "source": [
    "## Colab Setup"
   ]
  },
  {
   "cell_type": "code",
   "execution_count": null,
   "metadata": {
    "colab": {},
    "colab_type": "code",
    "id": "9xoslgNepLhZ"
   },
   "outputs": [],
   "source": [
    "import json\n",
    "\n",
    "with open('license_keys.json') as f_in:\n",
    "    license_keys = json.load(f_in)\n",
    "\n",
    "license_keys.keys()"
   ]
  },
  {
   "cell_type": "code",
   "execution_count": null,
   "metadata": {
    "colab": {},
    "colab_type": "code",
    "id": "45PVdk7uLitQ"
   },
   "outputs": [],
   "source": [
    "# template for license_key.json\n",
    "\n",
    "{'secret':\"xxx\",\n",
    "'SPARK_NLP_LICENSE': 'aaa',\n",
    "'JSL_OCR_LICENSE': 'bbb',\n",
    "'AWS_ACCESS_KEY_ID':\"ccc\",\n",
    "'AWS_SECRET_ACCESS_KEY':\"ddd\",\n",
    "'JSL_OCR_SECRET':\"eee\"}"
   ]
  },
  {
   "cell_type": "code",
   "execution_count": 2,
   "metadata": {
    "colab": {
     "base_uri": "https://localhost:8080/",
     "height": 338
    },
    "colab_type": "code",
    "id": "uS5LtVO6pWo6",
    "outputId": "0e4e2ce0-4849-425c-8b76-381a98df21df"
   },
   "outputs": [
    {
     "name": "stdout",
     "output_type": "stream",
     "text": [
      "openjdk version \"1.8.0_242\"\n",
      "OpenJDK Runtime Environment (build 1.8.0_242-8u242-b08-0ubuntu3~18.04-b08)\n",
      "OpenJDK 64-Bit Server VM (build 25.242-b08, mixed mode)\n",
      "\u001b[K     |████████████████████████████████| 215.7MB 62kB/s \n",
      "\u001b[K     |████████████████████████████████| 204kB 46.1MB/s \n",
      "\u001b[?25h  Building wheel for pyspark (setup.py) ... \u001b[?25l\u001b[?25hdone\n",
      "Looking in indexes: https://pypi.org/simple, https://pypi.johnsnowlabs.com/zMdiOE2Fn2\n",
      "Collecting spark-nlp-jsl==2.4.5\n",
      "  Downloading https://pypi.johnsnowlabs.com/zMdiOE2Fn2/spark-nlp-jsl/spark_nlp_jsl-2.4.5-py3-none-any.whl\n",
      "Collecting spark-nlp==2.4.5\n",
      "\u001b[?25l  Downloading https://files.pythonhosted.org/packages/31/46/5c5a2bda407f693126386da5378f132e5e163fa6dfa46109548270348786/spark_nlp-2.4.5-py2.py3-none-any.whl (110kB)\n",
      "\u001b[K     |████████████████████████████████| 112kB 2.8MB/s \n",
      "\u001b[?25hRequirement already satisfied, skipping upgrade: pyspark==2.4.4 in /usr/local/lib/python3.6/dist-packages (from spark-nlp-jsl==2.4.5) (2.4.4)\n",
      "Requirement already satisfied, skipping upgrade: py4j==0.10.7 in /usr/local/lib/python3.6/dist-packages (from pyspark==2.4.4->spark-nlp-jsl==2.4.5) (0.10.7)\n",
      "Installing collected packages: spark-nlp, spark-nlp-jsl\n",
      "Successfully installed spark-nlp-2.4.5 spark-nlp-jsl-2.4.5\n",
      "2.4.5\n"
     ]
    }
   ],
   "source": [
    "import os\n",
    "\n",
    "# Install java\n",
    "! apt-get install -y openjdk-8-jdk-headless -qq > /dev/null\n",
    "os.environ[\"JAVA_HOME\"] = \"/usr/lib/jvm/java-8-openjdk-amd64\"\n",
    "os.environ[\"PATH\"] = os.environ[\"JAVA_HOME\"] + \"/bin:\" + os.environ[\"PATH\"]\n",
    "! java -version\n",
    "\n",
    "# Install pyspark\n",
    "! pip install --ignore-installed -q pyspark==2.4.4\n",
    "\n",
    "secret = license_keys['secret']\n",
    "os.environ['SPARK_NLP_LICENSE'] = license_keys['SPARK_NLP_LICENSE']\n",
    "os.environ['JSL_OCR_LICENSE'] = license_keys['JSL_OCR_LICENSE']\n",
    "os.environ['AWS_ACCESS_KEY_ID']= license_keys['AWS_ACCESS_KEY_ID']\n",
    "os.environ['AWS_SECRET_ACCESS_KEY'] = license_keys['AWS_SECRET_ACCESS_KEY']\n",
    "\n",
    "! python -m pip install --upgrade spark-nlp-jsl==2.4.5  --extra-index-url https://pypi.johnsnowlabs.com/$secret\n",
    "\n",
    "# Install Spark NLP\n",
    "! pip install --ignore-installed -q spark-nlp==2.4.5\n",
    "\n",
    "import sparknlp\n",
    "\n",
    "print (sparknlp.version())\n",
    "\n",
    "import json\n",
    "import os\n",
    "from pyspark.ml import Pipeline\n",
    "from pyspark.sql import SparkSession\n",
    "\n",
    "\n",
    "from sparknlp.annotator import *\n",
    "from sparknlp_jsl.annotator import *\n",
    "from sparknlp.base import *\n",
    "import sparknlp_jsl\n",
    "\n",
    "\n",
    "def start(secret):\n",
    "    builder = SparkSession.builder \\\n",
    "        .appName(\"Spark NLP Licensed\") \\\n",
    "        .master(\"local[*]\") \\\n",
    "        .config(\"spark.driver.memory\", \"8G\") \\\n",
    "        .config(\"spark.serializer\", \"org.apache.spark.serializer.KryoSerializer\") \\\n",
    "        .config(\"spark.kryoserializer.buffer.max\", \"900M\") \\\n",
    "        .config(\"spark.jars.packages\", \"com.johnsnowlabs.nlp:spark-nlp_2.11:2.4.5\") \\\n",
    "        .config(\"spark.jars\", \"https://pypi.johnsnowlabs.com/\"+secret+\"/spark-nlp-jsl-2.4.5.jar\")\n",
    "      \n",
    "    return builder.getOrCreate()\n",
    "\n",
    "\n",
    "spark = start(secret) # if you want to start the session with custom params as in start function above\n",
    "# sparknlp_jsl.start(secret)"
   ]
  },
  {
   "cell_type": "code",
   "execution_count": 4,
   "metadata": {
    "colab": {
     "base_uri": "https://localhost:8080/",
     "height": 34
    },
    "colab_type": "code",
    "id": "fjfp_4KJMQlO",
    "outputId": "3c54f968-9a33-4160-fcfb-db3887c1e25a"
   },
   "outputs": [
    {
     "data": {
      "text/plain": [
       "'2.4.5'"
      ]
     },
     "execution_count": 4,
     "metadata": {
      "tags": []
     },
     "output_type": "execute_result"
    }
   ],
   "source": [
    "sparknlp_jsl.version()"
   ]
  },
  {
   "cell_type": "code",
   "execution_count": 5,
   "metadata": {
    "colab": {
     "base_uri": "https://localhost:8080/",
     "height": 216
    },
    "colab_type": "code",
    "id": "V1wrGrq0GClP",
    "outputId": "41d6223e-dcb4-4a96-ff85-0b35fcd7f736"
   },
   "outputs": [
    {
     "data": {
      "text/html": [
       "\n",
       "            <div>\n",
       "                <p><b>SparkSession - in-memory</b></p>\n",
       "                \n",
       "        <div>\n",
       "            <p><b>SparkContext</b></p>\n",
       "\n",
       "            <p><a href=\"http://a03e6254c378:4040\">Spark UI</a></p>\n",
       "\n",
       "            <dl>\n",
       "              <dt>Version</dt>\n",
       "                <dd><code>v2.4.4</code></dd>\n",
       "              <dt>Master</dt>\n",
       "                <dd><code>local[*]</code></dd>\n",
       "              <dt>AppName</dt>\n",
       "                <dd><code>Spark NLP Licensed</code></dd>\n",
       "            </dl>\n",
       "        </div>\n",
       "        \n",
       "            </div>\n",
       "        "
      ],
      "text/plain": [
       "<pyspark.sql.session.SparkSession at 0x7fa136c06dd8>"
      ]
     },
     "execution_count": 5,
     "metadata": {
      "tags": []
     },
     "output_type": "execute_result"
    }
   ],
   "source": [
    "spark"
   ]
  },
  {
   "cell_type": "markdown",
   "metadata": {
    "colab_type": "text",
    "id": "AMU4sAJQ0Rhs"
   },
   "source": [
    "# Clinical Resolvers"
   ]
  },
  {
   "cell_type": "markdown",
   "metadata": {
    "colab_type": "text",
    "id": "6693WoyVefGz"
   },
   "source": []
  },
  {
   "cell_type": "markdown",
   "metadata": {
    "colab_type": "text",
    "id": "hPihlu0DUdVS"
   },
   "source": [
    "![image.png](data:image/png;base64,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)"
   ]
  },
  {
   "cell_type": "markdown",
   "metadata": {
    "colab_type": "text",
    "id": "ne8BHjBjU6nN"
   },
   "source": [
    "## Entity Resolvers for ICD-10"
   ]
  },
  {
   "cell_type": "markdown",
   "metadata": {
    "colab_type": "text",
    "id": "RYB-ZiRUgGYI"
   },
   "source": [
    "A common NLP problem in biomedical aplications is to identify the presence of clinical entities in a given text. This clinical entities could be diseases, symptoms, drugs, results of clinical investigations or others.\n",
    "\n",
    "Other than providing the code in the \"result\" field it provides more metadata about the matching process:\n",
    "\n",
    "- target_text -> Text to resolve\n",
    "- resolved_text -> Best match text\n",
    "- confidence -> Relative confidence for the top match (distance to probability)\n",
    "- confidence_ratio -> Relative confidence for the top match. TopMatchConfidence / SecondMatchConfidence\n",
    "- alternative_codes -> List of other plausible codes (in the KNN neighborhood)\n",
    "- alternative_confidence_ratios -> Rest of confidence ratios\n",
    "- all_k_results -> All resolved codes for metrics calculation purposes\n",
    "- sentence -> SentenceId\n",
    "- chunk -> ChunkId"
   ]
  },
  {
   "cell_type": "code",
   "execution_count": null,
   "metadata": {
    "colab": {},
    "colab_type": "code",
    "id": "ONMo7NWXU19B"
   },
   "outputs": [],
   "source": [
    "import sys, os, time\n",
    "from sparknlp.base import *\n",
    "from sparknlp.annotator import *\n",
    "from sparknlp.util import *\n",
    "from sparknlp_jsl.annotator import *\n",
    "\n",
    "from sparknlp.pretrained import ResourceDownloader\n",
    "\n",
    "from pyspark.sql import functions as F\n",
    "from pyspark.ml import Pipeline, PipelineModel"
   ]
  },
  {
   "cell_type": "markdown",
   "metadata": {
    "colab_type": "text",
    "id": "2boadIMbhoCd"
   },
   "source": [
    "### Clinical NER Pipeline creation"
   ]
  },
  {
   "cell_type": "code",
   "execution_count": null,
   "metadata": {
    "colab": {},
    "colab_type": "code",
    "id": "XsXx7JxPVSWP"
   },
   "outputs": [],
   "source": [
    "# Annotator that transforms a text column from dataframe into an Annotation ready for NLP\n",
    "\n",
    "documentAssembler = DocumentAssembler()\\\n",
    "  .setInputCol(\"text\")\\\n",
    "  .setOutputCol(\"document\")\n",
    "\n",
    "# Sentence Detector annotator, processes various sentences per line\n",
    "\n",
    "sentenceDetector = SentenceDetector()\\\n",
    "  .setInputCols([\"document\"])\\\n",
    "  .setOutputCol(\"sentence\")\n",
    "\n",
    "# Tokenizer splits words in a relevant format for NLP\n",
    "\n",
    "tokenizer = Tokenizer()\\\n",
    "  .setInputCols([\"sentence\"])\\\n",
    "  .setOutputCol(\"token\")"
   ]
  },
  {
   "cell_type": "markdown",
   "metadata": {
    "colab_type": "text",
    "id": "F4qEq7cogdtR"
   },
   "source": [
    "The fourth annotator in the pipeline is \"WordEmbeddingsModel\". We will download a pretrained model available from \"clinical/models\" named \"embeddings_clinical\".\n",
    "\n",
    "When running this cell your are advised to be patient.\n",
    "\n",
    "First time you call this pretrained model it needs to be downloaded in your local.\n",
    "\n",
    "The model size is about will download the embeddings_clinical corpus it takes a while.\n",
    "\n",
    "The size is about 1.7Gb and will be saved typically in your home folder as\n",
    "\n",
    "~HOMEFOLDER/cached_models/embeddings_clinical_en_2.0.2_2.4_1558454742956.zip\n",
    "\n",
    "Next times you call it the model is loaded from your cached copy but even in that case it needs to be indexed each time so expect waiting up to 5 minutes (depending on your machine)"
   ]
  },
  {
   "cell_type": "code",
   "execution_count": 8,
   "metadata": {
    "colab": {
     "base_uri": "https://localhost:8080/",
     "height": 70
    },
    "colab_type": "code",
    "id": "H1vxrcMVgm55",
    "outputId": "8d4a16eb-16c7-4b35-8766-b50ffb9f8775"
   },
   "outputs": [
    {
     "name": "stdout",
     "output_type": "stream",
     "text": [
      "embeddings_clinical download started this may take some time.\n",
      "Approximate size to download 1.6 GB\n",
      "[OK!]\n"
     ]
    }
   ],
   "source": [
    "# WordEmbeddingsModel pretrained \"embeddings_clinical\" includes a model of 1.7Gb that needs to be downloaded\n",
    "\n",
    "word_embeddings = WordEmbeddingsModel.pretrained(\"embeddings_clinical\", \"en\", \"clinical/models\")\\\n",
    "  .setInputCols([\"sentence\", \"token\"])\\\n",
    "  .setOutputCol(\"embeddings\")"
   ]
  },
  {
   "cell_type": "code",
   "execution_count": null,
   "metadata": {
    "colab": {
     "base_uri": "https://localhost:8080/",
     "height": 54
    },
    "colab_type": "code",
    "id": "nxESBh68ZnCC",
    "outputId": "d63c6857-25c3-4f03-ccbd-f030665dfa92"
   },
   "outputs": [
    {
     "name": "stdout",
     "output_type": "stream",
     "text": [
      "download: s3://auxdata.johnsnowlabs.com/clinical/models/chunkresolve_icd10cm_clinical_en_2.4.2_2.4_1583085234727.zip to ./chunkresolve_icd10cm_clinical_en_2.4.2_2.4_1583085234727.zip\n"
     ]
    }
   ],
   "source": [
    "!aws s3 cp s3://auxdata.johnsnowlabs.com/clinical/models/chunkresolve_icd10cm_clinical_en_2.4.2_2.4_1583085234727.zip chunkresolve_icd10cm_clinical_en_2.4.2_2.4_1583085234727.zip"
   ]
  },
  {
   "cell_type": "markdown",
   "metadata": {
    "colab_type": "text",
    "id": "i0by2rhcgp5L"
   },
   "source": [
    "The fifth and final annotator in our NER pipeline is the pretrained `ner_clinical` NerDLModel avaliable from \"clinical/models\". It requires as input the \"sentence\", \"token\" and \"embeddings\" (clinical embeddings pretrained model) and will classify each token in four categories:\n",
    "\n",
    "- PROBLEM: for patient problems\n",
    "\n",
    "- TEST: for tests, labs, etc.\n",
    "\n",
    "- TREATMENT: for treatments, medicines, etc.\n",
    "\n",
    "- OTHER: for the rest of tokens.\n",
    "\n",
    "In order to split those identified NER that are consecutive, the B prefix (as B-PROBLEM) will be used at the first token of each NER. The I prefix (as I-PROBLEM) will be used for the rest of tokens inside the NER."
   ]
  },
  {
   "cell_type": "code",
   "execution_count": 9,
   "metadata": {
    "colab": {
     "base_uri": "https://localhost:8080/",
     "height": 70
    },
    "colab_type": "code",
    "id": "uDjjiX6QaRwv",
    "outputId": "11ea3bdc-a264-4fbe-9fcb-67c9d38aa5a7"
   },
   "outputs": [
    {
     "name": "stdout",
     "output_type": "stream",
     "text": [
      "ner_clinical download started this may take some time.\n",
      "Approximate size to download 13.8 MB\n",
      "[OK!]\n"
     ]
    }
   ],
   "source": [
    "# Named Entity Recognition for clinical concepts.\n",
    "\n",
    "clinical_ner = NerDLModel.pretrained(\"ner_clinical\", \"en\", \"clinical/models\") \\\n",
    "  .setInputCols([\"sentence\", \"token\", \"embeddings\"]) \\\n",
    "  .setOutputCol(\"ner\")"
   ]
  },
  {
   "cell_type": "markdown",
   "metadata": {
    "colab_type": "text",
    "id": "Xs06Ht7ahW5c"
   },
   "source": [
    "### Define the NER pipeline\n",
    "\n",
    "Now we will define the actual pipeline that puts together the annotators we have created."
   ]
  },
  {
   "cell_type": "code",
   "execution_count": null,
   "metadata": {
    "colab": {},
    "colab_type": "code",
    "id": "oBRouQyLVbDn"
   },
   "outputs": [],
   "source": [
    "# Build up the pipeline\n",
    "\n",
    "pipeline_ner = Pipeline(\n",
    "    stages = [\n",
    "    documentAssembler,\n",
    "    sentenceDetector,\n",
    "    tokenizer,\n",
    "    word_embeddings,\n",
    "    clinical_ner\n",
    "  ])"
   ]
  },
  {
   "cell_type": "markdown",
   "metadata": {
    "colab_type": "text",
    "id": "B7KVjaN5hwCZ"
   },
   "source": [
    "### Create a SparkDataFrame with the content\n",
    "\n",
    "Now we will create a sample Spark dataframe with our clinical note example.\n",
    "\n",
    "In this example we are working over a unique clinical note. In production environments a table with several of those clinical notes could be distributed in a cluster and be run in large scale systems."
   ]
  },
  {
   "cell_type": "code",
   "execution_count": null,
   "metadata": {
    "colab": {},
    "colab_type": "code",
    "id": "OP0I7ELJ0his"
   },
   "outputs": [],
   "source": [
    "\n",
    "clinical_note = (\n",
    "    'A 28-year-old female with a history of gestational diabetes mellitus diagnosed eight years '\n",
    "    'prior to presentation and subsequent type two diabetes mellitus (T2DM), one prior '\n",
    "    'episode of HTG-induced pancreatitis three years prior to presentation, associated '\n",
    "    'with an acute hepatitis, and obesity with a body mass index (BMI) of 33.5 kg/m2, '\n",
    "    'presented with a one-week history of polyuria, polydipsia, poor appetite, and vomiting. '\n",
    "    'Two weeks prior to presentation, she was treated with a five-day course of amoxicillin '\n",
    "    'for a respiratory tract infection. She was on metformin, glipizide, and dapagliflozin '\n",
    "    'for T2DM and atorvastatin and gemfibrozil for HTG. She had been on dapagliflozin for six months '\n",
    "    'at the time of presentation. Physical examination on presentation was significant for dry oral mucosa; '\n",
    "    'significantly, her abdominal examination was benign with no tenderness, guarding, or rigidity. Pertinent '\n",
    "    'laboratory findings on admission were: serum glucose 111 mg/dl, bicarbonate 18 mmol/l, anion gap 20, '\n",
    "    'creatinine 0.4 mg/dL, triglycerides 508 mg/dL, total cholesterol 122 mg/dL, glycated hemoglobin (HbA1c) '\n",
    "    '10%, and venous pH 7.27. Serum lipase was normal at 43 U/L. Serum acetone levels could not be assessed '\n",
    "    'as blood samples kept hemolyzing due to significant lipemia. The patient was initially admitted for '\n",
    "    'starvation ketosis, as she reported poor oral intake for three days prior to admission. However, '\n",
    "    'serum chemistry obtained six hours after presentation revealed her glucose was 186 mg/dL, the anion gap '\n",
    "    'was still elevated at 21, serum bicarbonate was 16 mmol/L, triglyceride level peaked at 2050 mg/dL, and '\n",
    "    'lipase was 52 U/L. The β-hydroxybutyrate level was obtained and found to be elevated at 5.29 mmol/L - '\n",
    "    'the original sample was centrifuged and the chylomicron layer removed prior to analysis due to '\n",
    "    'interference from turbidity caused by lipemia again. The patient was treated with an insulin drip '\n",
    "    'for euDKA and HTG with a reduction in the anion gap to 13 and triglycerides to 1400 mg/dL, within '\n",
    "    '24 hours. Her euDKA was thought to be precipitated by her respiratory tract infection in the setting '\n",
    "    'of SGLT2 inhibitor use. The patient was seen by the endocrinology service and she was discharged on '\n",
    "    '40 units of insulin glargine at night, 12 units of insulin lispro with meals, and metformin 1000 mg '\n",
    "    'two times a day. It was determined that all SGLT2 inhibitors should be discontinued indefinitely. She '\n",
    "    'had close follow-up with endocrinology post discharge.'\n",
    ")\n",
    "\n",
    "data_ner = spark.createDataFrame([[clinical_note]]).toDF(\"text\")"
   ]
  },
  {
   "cell_type": "code",
   "execution_count": 14,
   "metadata": {
    "colab": {
     "base_uri": "https://localhost:8080/",
     "height": 143
    },
    "colab_type": "code",
    "id": "WUwTHgazh6q2",
    "outputId": "ced0428b-a9d8-451c-ee4f-89300fe21a85"
   },
   "outputs": [
    {
     "name": "stdout",
     "output_type": "stream",
     "text": [
      "+----------------------------------------------------------------------------------------------------+\n",
      "|                                                                                                text|\n",
      "+----------------------------------------------------------------------------------------------------+\n",
      "|A 28-year-old female with a history of gestational diabetes mellitus diagnosed eight years prior ...|\n",
      "+----------------------------------------------------------------------------------------------------+\n",
      "\n"
     ]
    }
   ],
   "source": [
    "data_ner.show(truncate = 100)\n"
   ]
  },
  {
   "cell_type": "markdown",
   "metadata": {
    "colab_type": "text",
    "id": "7-W5pM5miMcx"
   },
   "source": [
    "### Transform / annotate the clinical note using the model.\n",
    "\n",
    "In order to process the data with the new created model we have two options.\n",
    "\n",
    "The first one would be to use the model to transform our clinical note by the command:\n",
    "\n",
    "`output = model_ner.transform(data_ner)`\n",
    "\n",
    "That would save in a Spakr DataFrame (output) the resuls of running the model over the clinical note.\n",
    "\n",
    "However for small tests like this or for real-time request a LightPipelines is a simpler way of managing the data. It will return a dictionary (instead of a Spark DataFrame) with the results of the transformation\n",
    "\n",
    "We will create a light_pipeline_ner using our model_ner and then will annotate the clinical_note using this light_pipeline."
   ]
  },
  {
   "cell_type": "code",
   "execution_count": null,
   "metadata": {
    "colab": {},
    "colab_type": "code",
    "id": "ILwJzJmgiLkI"
   },
   "outputs": [],
   "source": [
    "light_pipeline = LightPipeline(model_ner)\n",
    "light_data = light_pipeline.annotate(clinical_note)"
   ]
  },
  {
   "cell_type": "markdown",
   "metadata": {
    "colab_type": "text",
    "id": "4Iw3K9JQiWwQ"
   },
   "source": [
    "Now we have a dictionaty (light_data_ner) that contains the results of running the NER pipeline over our clinical note.\n",
    "\n",
    "It contains the original document:"
   ]
  },
  {
   "cell_type": "code",
   "execution_count": 17,
   "metadata": {
    "colab": {
     "base_uri": "https://localhost:8080/",
     "height": 54
    },
    "colab_type": "code",
    "id": "mtFmN3YtiV08",
    "outputId": "e582d84a-2b61-4be8-8f14-893bf65f35e5"
   },
   "outputs": [
    {
     "data": {
      "text/plain": [
       "'A 28-year-old female with a history of gestational diabetes mellitus diagnosed eight years prior to '"
      ]
     },
     "execution_count": 17,
     "metadata": {
      "tags": []
     },
     "output_type": "execute_result"
    }
   ],
   "source": [
    "light_data['document'][0][0:100]\n"
   ]
  },
  {
   "cell_type": "code",
   "execution_count": 18,
   "metadata": {
    "colab": {
     "base_uri": "https://localhost:8080/",
     "height": 141
    },
    "colab_type": "code",
    "id": "uWVU0ZXJifuL",
    "outputId": "ad12bc3a-f9cd-4017-be1f-4f9725b49213"
   },
   "outputs": [
    {
     "name": "stdout",
     "output_type": "stream",
     "text": [
      "Number of sentences: 17\n",
      "\n",
      "Sentence 0: A 28-year-old female with a history of gestational diabetes mellitus diagnosed e\n",
      "Sentence 1: Two weeks prior to presentation, she was treated with a five-day course of amoxi\n",
      "Sentence 2: She was on metformin, glipizide, and dapagliflozin for T2DM and atorvastatin and\n",
      "Sentence 3: She had been on dapagliflozin for six months at the time of presentation.\n",
      "Sentence 4: Physical examination on presentation was significant for dry oral mucosa;\n"
     ]
    }
   ],
   "source": [
    "print(\"Number of sentences: {}\".format(len(light_data['sentence'])))\n",
    "print(\"\")\n",
    "for i in range(5):\n",
    "    print(\"Sentence {}: {}\".format(i, light_data['sentence'][i][0:80]))"
   ]
  },
  {
   "cell_type": "code",
   "execution_count": 19,
   "metadata": {
    "colab": {
     "base_uri": "https://localhost:8080/",
     "height": 514
    },
    "colab_type": "code",
    "id": "YlllypNuijnH",
    "outputId": "20f108bc-2fc0-40b0-8462-680b09948fb7"
   },
   "outputs": [
    {
     "name": "stdout",
     "output_type": "stream",
     "text": [
      "Number of tokens: 436\n",
      "\n",
      "Token 0: A (O)\n",
      "Token 1: 28-year-old (O)\n",
      "Token 2: female (O)\n",
      "Token 3: with (O)\n",
      "Token 4: a (O)\n",
      "Token 5: history (O)\n",
      "Token 6: of (O)\n",
      "Token 7: gestational (B-PROBLEM)\n",
      "Token 8: diabetes (I-PROBLEM)\n",
      "Token 9: mellitus (I-PROBLEM)\n",
      "Token 10: diagnosed (O)\n",
      "Token 11: eight (O)\n",
      "Token 12: years (O)\n",
      "Token 13: prior (O)\n",
      "Token 14: to (O)\n",
      "Token 15: presentation (O)\n",
      "Token 16: and (O)\n",
      "Token 17: subsequent (O)\n",
      "Token 18: type (B-PROBLEM)\n",
      "Token 19: two (I-PROBLEM)\n",
      "Token 20: diabetes (I-PROBLEM)\n",
      "Token 21: mellitus (I-PROBLEM)\n",
      "Token 22: ( (O)\n",
      "Token 23: T2DM (B-PROBLEM)\n",
      "Token 24: ), (I-PROBLEM)\n",
      "...\n"
     ]
    }
   ],
   "source": [
    "print(\"Number of tokens: {}\".format(len(light_data['token'])))\n",
    "print(\"\")\n",
    "for i in range(25):\n",
    "    print(\"Token {}: {} ({})\".format(i, light_data['token'][i][0:20], light_data['ner'][i]))\n",
    "print(\"...\")"
   ]
  },
  {
   "cell_type": "markdown",
   "metadata": {
    "colab_type": "text",
    "id": "yibMbKlbi8fx"
   },
   "source": [
    "Lets apply some HTML formating to see the results of the pipeline in a nicer layout:\n",
    "\n"
   ]
  },
  {
   "cell_type": "code",
   "execution_count": null,
   "metadata": {
    "colab": {},
    "colab_type": "code",
    "id": "pLkSVsT9idXS"
   },
   "outputs": [],
   "source": [
    "import random\n",
    "from IPython.core.display import display, HTML\n",
    "\n",
    "\n",
    "def get_color():\n",
    "    r = lambda: random.randint(100,255)\n",
    "    return '#%02X%02X%02X' % (r(),r(),r())\n",
    "\n",
    "def get_NER_html (light_data):\n",
    "\n",
    "    html_output=''\n",
    "    \n",
    "    problem_flag = False\n",
    "    new_problem = []\n",
    "    problem_list = []\n",
    "    \n",
    "    label_list = list(set([i.split('-')[1] for i in light_data['ner'] if i!='O']))\n",
    "    \n",
    "        \n",
    "    label_color={}\n",
    "    \n",
    "    for l in label_list:\n",
    "        \n",
    "        label_color[l]=get_color()\n",
    "            \n",
    "    for index, this_token in enumerate(light_data['token']):\n",
    "\n",
    "        try:\n",
    "            ent = light_data['ner'][index].split('-')[1]\n",
    "        except:\n",
    "            ent = light_data['ner'][index]\n",
    "        \n",
    "       \n",
    "        if ent in label_list:\n",
    "            color = label_color[ent]\n",
    "            html_output+='<SPAN style=\"background-color: {}\">'.format(color) + this_token + \" </SPAN>\"\n",
    "        else:\n",
    "            html_output+=this_token + \" \"\n",
    "        \n",
    "\n",
    "    html_output += '</div>'\n",
    "    html_output += '<div>Color codes:'\n",
    "    \n",
    "\n",
    "    for l in label_list:\n",
    "        \n",
    "        html_output += '<SPAN style=\"background-color: {}\">{}</SPAN>, '.format(label_color[l],l)\n",
    "   \n",
    "    \n",
    "    return display(HTML(html_output))\n"
   ]
  },
  {
   "cell_type": "code",
   "execution_count": 22,
   "metadata": {
    "colab": {
     "base_uri": "https://localhost:8080/",
     "height": 350
    },
    "colab_type": "code",
    "id": "f05foFiYjkEa",
    "outputId": "8053d833-9259-473d-80ff-0dead432b2b7"
   },
   "outputs": [
    {
     "data": {
      "text/html": [
       "A 28-year-old female with a history of <SPAN style=\"background-color: #68C579\">gestational </SPAN><SPAN style=\"background-color: #68C579\">diabetes </SPAN><SPAN style=\"background-color: #68C579\">mellitus </SPAN>diagnosed eight years prior to presentation and subsequent <SPAN style=\"background-color: #68C579\">type </SPAN><SPAN style=\"background-color: #68C579\">two </SPAN><SPAN style=\"background-color: #68C579\">diabetes </SPAN><SPAN style=\"background-color: #68C579\">mellitus </SPAN>( <SPAN style=\"background-color: #68C579\">T2DM </SPAN><SPAN style=\"background-color: #68C579\">), </SPAN>one prior episode of <SPAN style=\"background-color: #68C579\">HTG-induced </SPAN><SPAN style=\"background-color: #68C579\">pancreatitis </SPAN>three years prior to presentation , associated with <SPAN style=\"background-color: #68C579\">an </SPAN><SPAN style=\"background-color: #68C579\">acute </SPAN><SPAN style=\"background-color: #68C579\">hepatitis </SPAN>, and <SPAN style=\"background-color: #68C579\">obesity </SPAN>with <SPAN style=\"background-color: #68C579\">a </SPAN><SPAN style=\"background-color: #68C579\">body </SPAN><SPAN style=\"background-color: #68C579\">mass </SPAN><SPAN style=\"background-color: #68C579\">index </SPAN>( <SPAN style=\"background-color: #68C579\">BMI </SPAN><SPAN style=\"background-color: #68C579\">) </SPAN><SPAN style=\"background-color: #68C579\">of </SPAN><SPAN style=\"background-color: #68C579\">33.5 </SPAN><SPAN style=\"background-color: #68C579\">kg/m2 </SPAN>, presented with a one-week history of <SPAN style=\"background-color: #68C579\">polyuria </SPAN>, <SPAN style=\"background-color: #68C579\">polydipsia </SPAN>, <SPAN style=\"background-color: #68C579\">poor </SPAN><SPAN style=\"background-color: #68C579\">appetite </SPAN>, and <SPAN style=\"background-color: #68C579\">vomiting </SPAN>. Two weeks prior to presentation , she was treated with a five-day course of <SPAN style=\"background-color: #D4A872\">amoxicillin </SPAN>for <SPAN style=\"background-color: #68C579\">a </SPAN><SPAN style=\"background-color: #68C579\">respiratory </SPAN><SPAN style=\"background-color: #68C579\">tract </SPAN><SPAN style=\"background-color: #68C579\">infection </SPAN>. She was on <SPAN style=\"background-color: #D4A872\">metformin </SPAN>, <SPAN style=\"background-color: #D4A872\">glipizide </SPAN>, and <SPAN style=\"background-color: #D4A872\">dapagliflozin </SPAN>for <SPAN style=\"background-color: #68C579\">T2DM </SPAN>and <SPAN style=\"background-color: #D4A872\">atorvastatin </SPAN>and <SPAN style=\"background-color: #D4A872\">gemfibrozil </SPAN>for <SPAN style=\"background-color: #68C579\">HTG </SPAN>. She had been on <SPAN style=\"background-color: #D4A872\">dapagliflozin </SPAN>for six months at the time of presentation . <SPAN style=\"background-color: #F5F5E0\">Physical </SPAN><SPAN style=\"background-color: #F5F5E0\">examination </SPAN>on presentation was significant for dry oral mucosa ; significantly , <SPAN style=\"background-color: #F5F5E0\">her </SPAN><SPAN style=\"background-color: #F5F5E0\">abdominal </SPAN><SPAN style=\"background-color: #F5F5E0\">examination </SPAN>was benign with no <SPAN style=\"background-color: #68C579\">tenderness </SPAN>, <SPAN style=\"background-color: #68C579\">guarding </SPAN>, or <SPAN style=\"background-color: #68C579\">rigidity </SPAN>. Pertinent laboratory findings on admission were : <SPAN style=\"background-color: #F5F5E0\">serum </SPAN><SPAN style=\"background-color: #F5F5E0\">glucose </SPAN>111 <SPAN style=\"background-color: #F5F5E0\">mg/dl </SPAN>, <SPAN style=\"background-color: #F5F5E0\">bicarbonate </SPAN>18 <SPAN style=\"background-color: #F5F5E0\">mmol/l </SPAN>, <SPAN style=\"background-color: #F5F5E0\">anion </SPAN><SPAN style=\"background-color: #F5F5E0\">gap </SPAN>20 , <SPAN style=\"background-color: #F5F5E0\">creatinine </SPAN>0.4 mg/dL , <SPAN style=\"background-color: #F5F5E0\">triglycerides </SPAN>508 mg/dL , <SPAN style=\"background-color: #F5F5E0\">total </SPAN><SPAN style=\"background-color: #F5F5E0\">cholesterol </SPAN>122 mg/dL , <SPAN style=\"background-color: #F5F5E0\">glycated </SPAN><SPAN style=\"background-color: #F5F5E0\">hemoglobin </SPAN>( <SPAN style=\"background-color: #F5F5E0\">HbA1c </SPAN>) 10% , and <SPAN style=\"background-color: #F5F5E0\">venous </SPAN><SPAN style=\"background-color: #F5F5E0\">pH </SPAN>7.27 . <SPAN style=\"background-color: #F5F5E0\">Serum </SPAN><SPAN style=\"background-color: #F5F5E0\">lipase </SPAN>was normal at 43 <SPAN style=\"background-color: #F5F5E0\">U/L </SPAN>. <SPAN style=\"background-color: #F5F5E0\">Serum </SPAN><SPAN style=\"background-color: #F5F5E0\">acetone </SPAN><SPAN style=\"background-color: #F5F5E0\">levels </SPAN>could not be assessed as <SPAN style=\"background-color: #F5F5E0\">blood </SPAN><SPAN style=\"background-color: #F5F5E0\">samples </SPAN>kept <SPAN style=\"background-color: #F5F5E0\">hemolyzing </SPAN>due to <SPAN style=\"background-color: #68C579\">significant </SPAN><SPAN style=\"background-color: #68C579\">lipemia </SPAN>. The patient was initially admitted for <SPAN style=\"background-color: #68C579\">starvation </SPAN><SPAN style=\"background-color: #68C579\">ketosis </SPAN>, as she reported <SPAN style=\"background-color: #68C579\">poor </SPAN><SPAN style=\"background-color: #68C579\">oral </SPAN><SPAN style=\"background-color: #68C579\">intake </SPAN>for three days prior to admission . However , <SPAN style=\"background-color: #F5F5E0\">serum </SPAN><SPAN style=\"background-color: #F5F5E0\">chemistry </SPAN>obtained six hours after presentation revealed <SPAN style=\"background-color: #F5F5E0\">her </SPAN><SPAN style=\"background-color: #F5F5E0\">glucose </SPAN>was 186 mg/dL , <SPAN style=\"background-color: #F5F5E0\">the </SPAN><SPAN style=\"background-color: #F5F5E0\">anion </SPAN><SPAN style=\"background-color: #F5F5E0\">gap </SPAN>was <SPAN style=\"background-color: #68C579\">still </SPAN><SPAN style=\"background-color: #68C579\">elevated </SPAN>at 21 , <SPAN style=\"background-color: #F5F5E0\">serum </SPAN><SPAN style=\"background-color: #F5F5E0\">bicarbonate </SPAN>was 16 mmol/L , <SPAN style=\"background-color: #F5F5E0\">triglyceride </SPAN><SPAN style=\"background-color: #F5F5E0\">level </SPAN>peaked at 2050 <SPAN style=\"background-color: #F5F5E0\">mg/dL </SPAN>, and <SPAN style=\"background-color: #F5F5E0\">lipase </SPAN>was 52 <SPAN style=\"background-color: #F5F5E0\">U/L </SPAN>. <SPAN style=\"background-color: #F5F5E0\">The </SPAN><SPAN style=\"background-color: #F5F5E0\">β-hydroxybutyrate </SPAN><SPAN style=\"background-color: #F5F5E0\">level </SPAN>was obtained and found to be elevated at 5.29 mmol/L - the original sample was centrifuged and the chylomicron layer removed prior to <SPAN style=\"background-color: #F5F5E0\">analysis </SPAN>due to <SPAN style=\"background-color: #68C579\">interference </SPAN><SPAN style=\"background-color: #68C579\">from </SPAN><SPAN style=\"background-color: #68C579\">turbidity </SPAN>caused by <SPAN style=\"background-color: #68C579\">lipemia </SPAN>again . The patient was treated with <SPAN style=\"background-color: #D4A872\">an </SPAN><SPAN style=\"background-color: #D4A872\">insulin </SPAN><SPAN style=\"background-color: #D4A872\">drip </SPAN>for <SPAN style=\"background-color: #68C579\">euDKA </SPAN>and <SPAN style=\"background-color: #68C579\">HTG </SPAN>with <SPAN style=\"background-color: #68C579\">a </SPAN><SPAN style=\"background-color: #68C579\">reduction </SPAN><SPAN style=\"background-color: #68C579\">in </SPAN><SPAN style=\"background-color: #68C579\">the </SPAN><SPAN style=\"background-color: #68C579\">anion </SPAN><SPAN style=\"background-color: #68C579\">gap </SPAN>to 13 and <SPAN style=\"background-color: #F5F5E0\">triglycerides </SPAN>to 1400 mg/dL , within 24 hours . <SPAN style=\"background-color: #68C579\">Her </SPAN><SPAN style=\"background-color: #68C579\">euDKA </SPAN>was thought to be precipitated by <SPAN style=\"background-color: #68C579\">her </SPAN><SPAN style=\"background-color: #68C579\">respiratory </SPAN><SPAN style=\"background-color: #68C579\">tract </SPAN><SPAN style=\"background-color: #68C579\">infection </SPAN>in the setting of <SPAN style=\"background-color: #D4A872\">SGLT2 </SPAN><SPAN style=\"background-color: #D4A872\">inhibitor </SPAN>use . The patient was seen by the endocrinology service and she was discharged on 40 units of <SPAN style=\"background-color: #D4A872\">insulin </SPAN><SPAN style=\"background-color: #D4A872\">glargine </SPAN>at night , 12 units of <SPAN style=\"background-color: #D4A872\">insulin </SPAN><SPAN style=\"background-color: #D4A872\">lispro </SPAN>with meals , and <SPAN style=\"background-color: #D4A872\">metformin </SPAN>1000 mg two times a day . It was determined that <SPAN style=\"background-color: #D4A872\">all </SPAN><SPAN style=\"background-color: #D4A872\">SGLT2 </SPAN><SPAN style=\"background-color: #D4A872\">inhibitors </SPAN>should be discontinued indefinitely . She had close follow-up with endocrinology post discharge . </div><div>Color codes:<SPAN style=\"background-color: #F5F5E0\">TEST</SPAN>, <SPAN style=\"background-color: #D4A872\">TREATMENT</SPAN>, <SPAN style=\"background-color: #68C579\">PROBLEM</SPAN>, "
      ],
      "text/plain": [
       "<IPython.core.display.HTML object>"
      ]
     },
     "metadata": {
      "tags": []
     },
     "output_type": "display_data"
    }
   ],
   "source": [
    "get_NER_html (light_data)"
   ]
  },
  {
   "cell_type": "markdown",
   "metadata": {
    "colab_type": "text",
    "id": "z4nyb0HNjo74"
   },
   "source": [
    "##  ICD10 coding Pipeline creation.\n",
    "\n",
    "We will now create a new pipeline that from each of these problems will try to assign an ICD10 base on the content, the wordembeddings and some pretrained models for ICD10 annotation.\n",
    "\n",
    "The architecture of this new pipeline will be as follows:\n",
    "\n",
    "- DocumentAssembler (text -> document)\n",
    "\n",
    "- SentenceDetector (document -> sentence)\n",
    "\n",
    "- Tokenizer (sentence -> token)\n",
    "\n",
    "- WordEmbeddingsModel ([sentence, token] -> embeddings)\n",
    "\n",
    "- NerDLModel ([sentence, token, embeddings] -> ner)\n",
    "\n",
    "- NerConverter ([\"sentence, token, ner] -> ner_chunk\n",
    "\n",
    "- ChunkTokenizer (ner_chunk -> ner_chunk_tokenized)\n",
    "\n",
    "- ICD10CMEntityResolverModel ([ner_chunk_tokenized, embeddings] -> resolution)\n",
    "\n",
    "- ICD10PCSEntityResolverModel ([ner_chunk_tokenized, embeddings] -> resolution)\n",
    "\n",
    "So from a text we end having a list of Named Entities (ner_chunk) and their ICD10 codes (resolution)\n",
    "\n",
    "Most of the annotators in this pipeline have been already created for the previous pipeline, but we need to create four additional annotators: NerConverter, ChunkEmbeddigns, EntityResolverModel for ICD10CM and EntityResolverModel for ICD10PCS.\n",
    "\n",
    "Now we define the new pipeline\n",
    "\n",
    "\n"
   ]
  },
  {
   "cell_type": "code",
   "execution_count": 25,
   "metadata": {
    "colab": {
     "base_uri": "https://localhost:8080/",
     "height": 70
    },
    "colab_type": "code",
    "id": "Z9UyX1Tx-vA0",
    "outputId": "776e2558-b2de-48b0-9059-1323cc734d5a"
   },
   "outputs": [
    {
     "name": "stdout",
     "output_type": "stream",
     "text": [
      "chunkresolve_icd10cm_clinical download started this may take some time.\n",
      "Approximate size to download 166.3 MB\n",
      "[OK!]\n"
     ]
    }
   ],
   "source": [
    "# Named Entity Recognition concepts parser, transforms entities into CHUNKS (required for next step: assertion status)\n",
    "\n",
    "ner_converter = NerConverter() \\\n",
    "  .setInputCols([\"sentence\", \"token\", \"ner\"]) \\\n",
    "  .setOutputCol(\"ner_chunk\")\\\n",
    "  .setWhiteList(['PROBLEM'])\n",
    "\n",
    "chunk_embeddings = ChunkEmbeddings()\\\n",
    "    .setInputCols(\"ner_chunk\", \"embeddings\")\\\n",
    "    .setOutputCol(\"chunk_embeddings\")\n",
    "\n",
    "chunk_tokenizer = ChunkTokenizer()\\\n",
    "    .setInputCols(\"ner_chunk\")\\\n",
    "    .setOutputCol(\"ner_token\")\n",
    "\n",
    "# ICD resolution model\n",
    "\n",
    "icd10cm_resolution = ChunkEntityResolverModel.pretrained(\"chunkresolve_icd10cm_clinical\", \"en\", \"clinical/models\") \\\n",
    "  .setInputCols([\"ner_token\", \"chunk_embeddings\"]) \\\n",
    "  .setOutputCol(\"icd10cm_code\") \\\n",
    "  .setDistanceFunction(\"COSINE\")  \\\n",
    "  .setNeighbours(5)"
   ]
  },
  {
   "cell_type": "code",
   "execution_count": null,
   "metadata": {
    "colab": {},
    "colab_type": "code",
    "id": "mj7oL8Q1kdRK"
   },
   "outputs": [],
   "source": [
    "\n",
    "pipeline_icd10 = Pipeline(\n",
    "    stages = [\n",
    "    documentAssembler,\n",
    "    sentenceDetector,\n",
    "    tokenizer,\n",
    "    word_embeddings,\n",
    "    clinical_ner,\n",
    "    ner_converter,\n",
    "    chunk_embeddings,\n",
    "    chunk_tokenizer,\n",
    "    icd10cm_resolution\n",
    "  ])\n",
    "\n",
    "model_icd10 = pipeline_icd10.fit(data_ner)\n"
   ]
  },
  {
   "cell_type": "code",
   "execution_count": null,
   "metadata": {
    "colab": {},
    "colab_type": "code",
    "id": "M-xhO4-Mkw4T"
   },
   "outputs": [],
   "source": [
    "light_pipeline_icd10 = LightPipeline(model_icd10)\n"
   ]
  },
  {
   "cell_type": "code",
   "execution_count": 29,
   "metadata": {
    "colab": {
     "base_uri": "https://localhost:8080/",
     "height": 54
    },
    "colab_type": "code",
    "id": "QboxyjzjlAth",
    "outputId": "c3421803-b859-4ca0-a9dc-288ab7ebf62f"
   },
   "outputs": [
    {
     "data": {
      "text/plain": [
       "'A 28-year-old female with a history of gestational diabetes mellitus diagnosed eight years prior to presentation and subsequent type two diabetes mellitus (T2DM), one prior episode of HTG-induced pancreatitis three years prior to presentation, associated with an acute hepatitis, and obesity with a body mass index (BMI) of 33.5 kg/m2, presented with a one-week history of polyuria, polydipsia, poor appetite, and vomiting. Two weeks prior to presentation, she was treated with a five-day course of amoxicillin for a respiratory tract infection. She was on metformin, glipizide, and dapagliflozin for T2DM and atorvastatin and gemfibrozil for HTG. She had been on dapagliflozin for six months at the time of presentation. Physical examination on presentation was significant for dry oral mucosa; significantly, her abdominal examination was benign with no tenderness, guarding, or rigidity. Pertinent laboratory findings on admission were: serum glucose 111 mg/dl, bicarbonate 18 mmol/l, anion gap 20, creatinine 0.4 mg/dL, triglycerides 508 mg/dL, total cholesterol 122 mg/dL, glycated hemoglobin (HbA1c) 10%, and venous pH 7.27. Serum lipase was normal at 43 U/L. Serum acetone levels could not be assessed as blood samples kept hemolyzing due to significant lipemia. The patient was initially admitted for starvation ketosis, as she reported poor oral intake for three days prior to admission. However, serum chemistry obtained six hours after presentation revealed her glucose was 186 mg/dL, the anion gap was still elevated at 21, serum bicarbonate was 16 mmol/L, triglyceride level peaked at 2050 mg/dL, and lipase was 52 U/L. The β-hydroxybutyrate level was obtained and found to be elevated at 5.29 mmol/L - the original sample was centrifuged and the chylomicron layer removed prior to analysis due to interference from turbidity caused by lipemia again. The patient was treated with an insulin drip for euDKA and HTG with a reduction in the anion gap to 13 and triglycerides to 1400 mg/dL, within 24 hours. Her euDKA was thought to be precipitated by her respiratory tract infection in the setting of SGLT2 inhibitor use. The patient was seen by the endocrinology service and she was discharged on 40 units of insulin glargine at night, 12 units of insulin lispro with meals, and metformin 1000 mg two times a day. It was determined that all SGLT2 inhibitors should be discontinued indefinitely. She had close follow-up with endocrinology post discharge.'"
      ]
     },
     "execution_count": 29,
     "metadata": {
      "tags": []
     },
     "output_type": "execute_result"
    }
   ],
   "source": [
    "text = light_data['document'][0]\n",
    "\n",
    "text"
   ]
  },
  {
   "cell_type": "code",
   "execution_count": 40,
   "metadata": {
    "colab": {
     "base_uri": "https://localhost:8080/",
     "height": 917
    },
    "colab_type": "code",
    "id": "WXtMY_RQmd19",
    "outputId": "1439dfb7-4377-4ca4-e90a-ea0d39bf932a"
   },
   "outputs": [
    {
     "data": {
      "text/html": [
       "<div>\n",
       "<style scoped>\n",
       "    .dataframe tbody tr th:only-of-type {\n",
       "        vertical-align: middle;\n",
       "    }\n",
       "\n",
       "    .dataframe tbody tr th {\n",
       "        vertical-align: top;\n",
       "    }\n",
       "\n",
       "    .dataframe thead th {\n",
       "        text-align: right;\n",
       "    }\n",
       "</style>\n",
       "<table border=\"1\" class=\"dataframe\">\n",
       "  <thead>\n",
       "    <tr style=\"text-align: right;\">\n",
       "      <th></th>\n",
       "      <th>Problem</th>\n",
       "      <th>ICD10-CM-Code</th>\n",
       "    </tr>\n",
       "  </thead>\n",
       "  <tbody>\n",
       "    <tr>\n",
       "      <th>0</th>\n",
       "      <td>gestational diabetes mellitus</td>\n",
       "      <td>O24424</td>\n",
       "    </tr>\n",
       "    <tr>\n",
       "      <th>1</th>\n",
       "      <td>type two diabetes mellitus</td>\n",
       "      <td>E11630</td>\n",
       "    </tr>\n",
       "    <tr>\n",
       "      <th>2</th>\n",
       "      <td>T2DM),</td>\n",
       "      <td>E1165</td>\n",
       "    </tr>\n",
       "    <tr>\n",
       "      <th>3</th>\n",
       "      <td>HTG-induced pancreatitis</td>\n",
       "      <td>B252</td>\n",
       "    </tr>\n",
       "    <tr>\n",
       "      <th>4</th>\n",
       "      <td>an acute hepatitis</td>\n",
       "      <td>B172</td>\n",
       "    </tr>\n",
       "    <tr>\n",
       "      <th>5</th>\n",
       "      <td>obesity</td>\n",
       "      <td>E661</td>\n",
       "    </tr>\n",
       "    <tr>\n",
       "      <th>6</th>\n",
       "      <td>a body mass index</td>\n",
       "      <td>Z6831</td>\n",
       "    </tr>\n",
       "    <tr>\n",
       "      <th>7</th>\n",
       "      <td>BMI) of 33.5 kg/m2</td>\n",
       "      <td>Z6845</td>\n",
       "    </tr>\n",
       "    <tr>\n",
       "      <th>8</th>\n",
       "      <td>polyuria</td>\n",
       "      <td>R358</td>\n",
       "    </tr>\n",
       "    <tr>\n",
       "      <th>9</th>\n",
       "      <td>polydipsia</td>\n",
       "      <td>R631</td>\n",
       "    </tr>\n",
       "    <tr>\n",
       "      <th>10</th>\n",
       "      <td>poor appetite</td>\n",
       "      <td>R630</td>\n",
       "    </tr>\n",
       "    <tr>\n",
       "      <th>11</th>\n",
       "      <td>vomiting</td>\n",
       "      <td>R1114</td>\n",
       "    </tr>\n",
       "    <tr>\n",
       "      <th>12</th>\n",
       "      <td>a respiratory tract infection</td>\n",
       "      <td>J00</td>\n",
       "    </tr>\n",
       "    <tr>\n",
       "      <th>13</th>\n",
       "      <td>T2DM</td>\n",
       "      <td>E1165</td>\n",
       "    </tr>\n",
       "    <tr>\n",
       "      <th>14</th>\n",
       "      <td>HTG</td>\n",
       "      <td>E781</td>\n",
       "    </tr>\n",
       "    <tr>\n",
       "      <th>15</th>\n",
       "      <td>tenderness</td>\n",
       "      <td>R10815</td>\n",
       "    </tr>\n",
       "    <tr>\n",
       "      <th>16</th>\n",
       "      <td>guarding</td>\n",
       "      <td>R300</td>\n",
       "    </tr>\n",
       "    <tr>\n",
       "      <th>17</th>\n",
       "      <td>rigidity</td>\n",
       "      <td>R1935</td>\n",
       "    </tr>\n",
       "    <tr>\n",
       "      <th>18</th>\n",
       "      <td>significant lipemia</td>\n",
       "      <td>O134</td>\n",
       "    </tr>\n",
       "    <tr>\n",
       "      <th>19</th>\n",
       "      <td>starvation ketosis</td>\n",
       "      <td>E71121</td>\n",
       "    </tr>\n",
       "    <tr>\n",
       "      <th>20</th>\n",
       "      <td>poor oral intake</td>\n",
       "      <td>E639</td>\n",
       "    </tr>\n",
       "    <tr>\n",
       "      <th>21</th>\n",
       "      <td>still elevated</td>\n",
       "      <td>E7841</td>\n",
       "    </tr>\n",
       "    <tr>\n",
       "      <th>22</th>\n",
       "      <td>interference from turbidity</td>\n",
       "      <td>D596</td>\n",
       "    </tr>\n",
       "    <tr>\n",
       "      <th>23</th>\n",
       "      <td>lipemia</td>\n",
       "      <td>E7801</td>\n",
       "    </tr>\n",
       "    <tr>\n",
       "      <th>24</th>\n",
       "      <td>euDKA</td>\n",
       "      <td>R0602</td>\n",
       "    </tr>\n",
       "    <tr>\n",
       "      <th>25</th>\n",
       "      <td>HTG</td>\n",
       "      <td>E781</td>\n",
       "    </tr>\n",
       "    <tr>\n",
       "      <th>26</th>\n",
       "      <td>a reduction in the anion gap</td>\n",
       "      <td>M2653</td>\n",
       "    </tr>\n",
       "    <tr>\n",
       "      <th>27</th>\n",
       "      <td>Her euDKA</td>\n",
       "      <td>R799</td>\n",
       "    </tr>\n",
       "    <tr>\n",
       "      <th>28</th>\n",
       "      <td>her respiratory tract infection</td>\n",
       "      <td>J00</td>\n",
       "    </tr>\n",
       "  </tbody>\n",
       "</table>\n",
       "</div>"
      ],
      "text/plain": [
       "                            Problem ICD10-CM-Code\n",
       "0     gestational diabetes mellitus        O24424\n",
       "1        type two diabetes mellitus        E11630\n",
       "2                            T2DM),         E1165\n",
       "3          HTG-induced pancreatitis          B252\n",
       "4                an acute hepatitis          B172\n",
       "5                           obesity          E661\n",
       "6                 a body mass index         Z6831\n",
       "7                BMI) of 33.5 kg/m2         Z6845\n",
       "8                          polyuria          R358\n",
       "9                        polydipsia          R631\n",
       "10                    poor appetite          R630\n",
       "11                         vomiting         R1114\n",
       "12    a respiratory tract infection           J00\n",
       "13                             T2DM         E1165\n",
       "14                              HTG          E781\n",
       "15                       tenderness        R10815\n",
       "16                         guarding          R300\n",
       "17                         rigidity         R1935\n",
       "18              significant lipemia          O134\n",
       "19               starvation ketosis        E71121\n",
       "20                 poor oral intake          E639\n",
       "21                   still elevated         E7841\n",
       "22      interference from turbidity          D596\n",
       "23                          lipemia         E7801\n",
       "24                            euDKA         R0602\n",
       "25                              HTG          E781\n",
       "26     a reduction in the anion gap         M2653\n",
       "27                        Her euDKA          R799\n",
       "28  her respiratory tract infection           J00"
      ]
     },
     "execution_count": 40,
     "metadata": {
      "tags": []
     },
     "output_type": "execute_result"
    }
   ],
   "source": [
    "import pandas as pd\n",
    "\n",
    "\n",
    "light_result = light_pipeline_icd10.annotate(text)\n",
    "\n",
    "df = pd.DataFrame(list(zip(light_result['ner_chunk'], light_result['icd10cm_code'])),\n",
    "                  columns = ['Problem','ICD10-CM-Code'])\n",
    "\n",
    "df"
   ]
  },
  {
   "cell_type": "code",
   "execution_count": null,
   "metadata": {
    "colab": {},
    "colab_type": "code",
    "id": "ycCgwwain7qz"
   },
   "outputs": [],
   "source": [
    "def get_icd10_codes (light_model, text):\n",
    "\n",
    "  full_light_result = light_model.fullAnnotate(text)\n",
    "\n",
    "  chunks = []\n",
    "  codes = []\n",
    "  resolved= []\n",
    "  begin = []\n",
    "  end = []\n",
    "  resolutions=[]\n",
    "\n",
    "  for chunk, code in zip(full_light_result[0]['ner_chunk'], full_light_result[0]['icd10cm_code']):\n",
    "          \n",
    "      begin.append(chunk.begin)\n",
    "      end.append(chunk.end)\n",
    "      chunks.append(chunk.result)\n",
    "      codes.append(code.result) \n",
    "      resolved.append(code.metadata['resolved_text'])\n",
    "      resolutions.append(code.metadata['all_k_resolutions'])\n",
    "      \n",
    "  import pandas as pd\n",
    "\n",
    "  df = pd.DataFrame({'chunks':chunks, 'begin': begin, 'end':end, \n",
    "                    'icd10_cm_code':codes, 'resolved_text':resolved,\n",
    "                    'target_text':resolutions})\n",
    "\n",
    "  return df\n",
    "\n",
    "\n"
   ]
  },
  {
   "cell_type": "code",
   "execution_count": 43,
   "metadata": {
    "colab": {
     "base_uri": "https://localhost:8080/",
     "height": 1000
    },
    "colab_type": "code",
    "id": "LNqsPX8rqL3r",
    "outputId": "8146e464-0a03-4783-840e-34389f1209c0"
   },
   "outputs": [
    {
     "data": {
      "text/html": [
       "<div>\n",
       "<style scoped>\n",
       "    .dataframe tbody tr th:only-of-type {\n",
       "        vertical-align: middle;\n",
       "    }\n",
       "\n",
       "    .dataframe tbody tr th {\n",
       "        vertical-align: top;\n",
       "    }\n",
       "\n",
       "    .dataframe thead th {\n",
       "        text-align: right;\n",
       "    }\n",
       "</style>\n",
       "<table border=\"1\" class=\"dataframe\">\n",
       "  <thead>\n",
       "    <tr style=\"text-align: right;\">\n",
       "      <th></th>\n",
       "      <th>chunks</th>\n",
       "      <th>begin</th>\n",
       "      <th>end</th>\n",
       "      <th>icd10_cm_code</th>\n",
       "      <th>resolved_text</th>\n",
       "      <th>target_text</th>\n",
       "    </tr>\n",
       "  </thead>\n",
       "  <tbody>\n",
       "    <tr>\n",
       "      <th>0</th>\n",
       "      <td>gestational diabetes mellitus</td>\n",
       "      <td>39</td>\n",
       "      <td>67</td>\n",
       "      <td>O24424</td>\n",
       "      <td>Gestational diabetes mellitus in childbirth, i...</td>\n",
       "      <td>Gestational diabetes mellitus in childbirth, i...</td>\n",
       "    </tr>\n",
       "    <tr>\n",
       "      <th>1</th>\n",
       "      <td>type two diabetes mellitus</td>\n",
       "      <td>128</td>\n",
       "      <td>153</td>\n",
       "      <td>E11630</td>\n",
       "      <td>Type 2 diabetes mellitus with periodontal disease</td>\n",
       "      <td>Type 2 diabetes mellitus with periodontal dise...</td>\n",
       "    </tr>\n",
       "    <tr>\n",
       "      <th>2</th>\n",
       "      <td>T2DM),</td>\n",
       "      <td>156</td>\n",
       "      <td>161</td>\n",
       "      <td>E1165</td>\n",
       "      <td>Type 2 diabetes mellitus with hyperglycemia</td>\n",
       "      <td>Type 2 diabetes mellitus with hyperglycemia:::...</td>\n",
       "    </tr>\n",
       "    <tr>\n",
       "      <th>3</th>\n",
       "      <td>HTG-induced pancreatitis</td>\n",
       "      <td>184</td>\n",
       "      <td>207</td>\n",
       "      <td>B252</td>\n",
       "      <td>Cytomegaloviral pancreatitis</td>\n",
       "      <td>Cytomegaloviral pancreatitis:::Alcohol-induced...</td>\n",
       "    </tr>\n",
       "    <tr>\n",
       "      <th>4</th>\n",
       "      <td>an acute hepatitis</td>\n",
       "      <td>260</td>\n",
       "      <td>277</td>\n",
       "      <td>B172</td>\n",
       "      <td>Acute hepatitis E</td>\n",
       "      <td>Acute hepatitis E:::Other specified acute vira...</td>\n",
       "    </tr>\n",
       "    <tr>\n",
       "      <th>5</th>\n",
       "      <td>obesity</td>\n",
       "      <td>284</td>\n",
       "      <td>290</td>\n",
       "      <td>E661</td>\n",
       "      <td>Drug-induced obesity</td>\n",
       "      <td>Drug-induced obesity:::Drug-induced obesity:::...</td>\n",
       "    </tr>\n",
       "    <tr>\n",
       "      <th>6</th>\n",
       "      <td>a body mass index</td>\n",
       "      <td>297</td>\n",
       "      <td>313</td>\n",
       "      <td>Z6831</td>\n",
       "      <td>Body mass index (BMI) 31.0-31.9, adult</td>\n",
       "      <td>Body mass index (BMI) 31.0-31.9, adult:::Body ...</td>\n",
       "    </tr>\n",
       "    <tr>\n",
       "      <th>7</th>\n",
       "      <td>BMI) of 33.5 kg/m2</td>\n",
       "      <td>316</td>\n",
       "      <td>333</td>\n",
       "      <td>Z6845</td>\n",
       "      <td>Body mass index (BMI) 70 or greater, adult</td>\n",
       "      <td>Body mass index (BMI) 70 or greater, adult:::B...</td>\n",
       "    </tr>\n",
       "    <tr>\n",
       "      <th>8</th>\n",
       "      <td>polyuria</td>\n",
       "      <td>373</td>\n",
       "      <td>380</td>\n",
       "      <td>R358</td>\n",
       "      <td>Other polyuria</td>\n",
       "      <td>Other polyuria:::Polydipsia:::Polydipsia:::Gly...</td>\n",
       "    </tr>\n",
       "    <tr>\n",
       "      <th>9</th>\n",
       "      <td>polydipsia</td>\n",
       "      <td>383</td>\n",
       "      <td>392</td>\n",
       "      <td>R631</td>\n",
       "      <td>Polydipsia</td>\n",
       "      <td>Polydipsia:::Polydipsia:::Glycosuria:::Other p...</td>\n",
       "    </tr>\n",
       "    <tr>\n",
       "      <th>10</th>\n",
       "      <td>poor appetite</td>\n",
       "      <td>395</td>\n",
       "      <td>407</td>\n",
       "      <td>R630</td>\n",
       "      <td>Anorexia</td>\n",
       "      <td>Anorexia:::Nutritional deficiency, unspecified...</td>\n",
       "    </tr>\n",
       "    <tr>\n",
       "      <th>11</th>\n",
       "      <td>vomiting</td>\n",
       "      <td>414</td>\n",
       "      <td>421</td>\n",
       "      <td>R1114</td>\n",
       "      <td>Bilious vomiting</td>\n",
       "      <td>Bilious vomiting:::Projectile vomiting:::Bilio...</td>\n",
       "    </tr>\n",
       "    <tr>\n",
       "      <th>12</th>\n",
       "      <td>a respiratory tract infection</td>\n",
       "      <td>515</td>\n",
       "      <td>543</td>\n",
       "      <td>J00</td>\n",
       "      <td>Acute nasopharyngitis [common cold]</td>\n",
       "      <td>Acute nasopharyngitis [common cold]:::Herpesvi...</td>\n",
       "    </tr>\n",
       "    <tr>\n",
       "      <th>13</th>\n",
       "      <td>T2DM</td>\n",
       "      <td>601</td>\n",
       "      <td>604</td>\n",
       "      <td>E1165</td>\n",
       "      <td>Type 2 diabetes mellitus with hyperglycemia</td>\n",
       "      <td>Type 2 diabetes mellitus with hyperglycemia:::...</td>\n",
       "    </tr>\n",
       "    <tr>\n",
       "      <th>14</th>\n",
       "      <td>HTG</td>\n",
       "      <td>643</td>\n",
       "      <td>645</td>\n",
       "      <td>E781</td>\n",
       "      <td>Pure hyperglyceridemia</td>\n",
       "      <td>Pure hyperglyceridemia:::Pure hyperglyceridemi...</td>\n",
       "    </tr>\n",
       "    <tr>\n",
       "      <th>15</th>\n",
       "      <td>tenderness</td>\n",
       "      <td>856</td>\n",
       "      <td>865</td>\n",
       "      <td>R10815</td>\n",
       "      <td>Periumbilic abdominal tenderness</td>\n",
       "      <td>Periumbilic abdominal tenderness:::Periumbilic...</td>\n",
       "    </tr>\n",
       "    <tr>\n",
       "      <th>16</th>\n",
       "      <td>guarding</td>\n",
       "      <td>868</td>\n",
       "      <td>875</td>\n",
       "      <td>R300</td>\n",
       "      <td>Dysuria</td>\n",
       "      <td>Dysuria:::Periumbilic rebound abdominal tender...</td>\n",
       "    </tr>\n",
       "    <tr>\n",
       "      <th>17</th>\n",
       "      <td>rigidity</td>\n",
       "      <td>881</td>\n",
       "      <td>888</td>\n",
       "      <td>R1935</td>\n",
       "      <td>Periumbilic abdominal rigidity</td>\n",
       "      <td>Periumbilic abdominal rigidity:::Epigastric ab...</td>\n",
       "    </tr>\n",
       "    <tr>\n",
       "      <th>18</th>\n",
       "      <td>significant lipemia</td>\n",
       "      <td>1249</td>\n",
       "      <td>1267</td>\n",
       "      <td>O134</td>\n",
       "      <td>Gestational [pregnancy-induced] hypertension w...</td>\n",
       "      <td>Gestational [pregnancy-induced] hypertension w...</td>\n",
       "    </tr>\n",
       "    <tr>\n",
       "      <th>19</th>\n",
       "      <td>starvation ketosis</td>\n",
       "      <td>1309</td>\n",
       "      <td>1326</td>\n",
       "      <td>E71121</td>\n",
       "      <td>Propionic acidemia</td>\n",
       "      <td>Propionic acidemia:::Propionic acidemia:::Type...</td>\n",
       "    </tr>\n",
       "    <tr>\n",
       "      <th>20</th>\n",
       "      <td>poor oral intake</td>\n",
       "      <td>1345</td>\n",
       "      <td>1360</td>\n",
       "      <td>E639</td>\n",
       "      <td>Nutritional deficiency, unspecified</td>\n",
       "      <td>Nutritional deficiency, unspecified:::Underdos...</td>\n",
       "    </tr>\n",
       "    <tr>\n",
       "      <th>21</th>\n",
       "      <td>still elevated</td>\n",
       "      <td>1514</td>\n",
       "      <td>1527</td>\n",
       "      <td>E7841</td>\n",
       "      <td>Elevated Lipoprotein(a)</td>\n",
       "      <td>Elevated Lipoprotein(a):::Hyperaldosteronism, ...</td>\n",
       "    </tr>\n",
       "    <tr>\n",
       "      <th>22</th>\n",
       "      <td>interference from turbidity</td>\n",
       "      <td>1811</td>\n",
       "      <td>1837</td>\n",
       "      <td>D596</td>\n",
       "      <td>Hemoglobinuria due to hemolysis from other ext...</td>\n",
       "      <td>Hemoglobinuria due to hemolysis from other ext...</td>\n",
       "    </tr>\n",
       "    <tr>\n",
       "      <th>23</th>\n",
       "      <td>lipemia</td>\n",
       "      <td>1849</td>\n",
       "      <td>1855</td>\n",
       "      <td>E7801</td>\n",
       "      <td>Familial hypercholesterolemia</td>\n",
       "      <td>Familial hypercholesterolemia:::Acetonuria:::H...</td>\n",
       "    </tr>\n",
       "    <tr>\n",
       "      <th>24</th>\n",
       "      <td>euDKA</td>\n",
       "      <td>1913</td>\n",
       "      <td>1917</td>\n",
       "      <td>R0602</td>\n",
       "      <td>Shortness of breath</td>\n",
       "      <td>Shortness of breath:::Balanitis:::Chancroid:::...</td>\n",
       "    </tr>\n",
       "    <tr>\n",
       "      <th>25</th>\n",
       "      <td>HTG</td>\n",
       "      <td>1923</td>\n",
       "      <td>1925</td>\n",
       "      <td>E781</td>\n",
       "      <td>Pure hyperglyceridemia</td>\n",
       "      <td>Pure hyperglyceridemia:::Pure hyperglyceridemi...</td>\n",
       "    </tr>\n",
       "    <tr>\n",
       "      <th>26</th>\n",
       "      <td>a reduction in the anion gap</td>\n",
       "      <td>1932</td>\n",
       "      <td>1959</td>\n",
       "      <td>M2653</td>\n",
       "      <td>Deviation in opening and closing of the mandible</td>\n",
       "      <td>Deviation in opening and closing of the mandib...</td>\n",
       "    </tr>\n",
       "    <tr>\n",
       "      <th>27</th>\n",
       "      <td>Her euDKA</td>\n",
       "      <td>2017</td>\n",
       "      <td>2025</td>\n",
       "      <td>R799</td>\n",
       "      <td>Abnormal finding of blood chemistry, unspecified</td>\n",
       "      <td>Abnormal finding of blood chemistry, unspecifi...</td>\n",
       "    </tr>\n",
       "    <tr>\n",
       "      <th>28</th>\n",
       "      <td>her respiratory tract infection</td>\n",
       "      <td>2061</td>\n",
       "      <td>2091</td>\n",
       "      <td>J00</td>\n",
       "      <td>Acute nasopharyngitis [common cold]</td>\n",
       "      <td>Acute nasopharyngitis [common cold]:::Diseases...</td>\n",
       "    </tr>\n",
       "  </tbody>\n",
       "</table>\n",
       "</div>"
      ],
      "text/plain": [
       "                             chunks  ...                                        target_text\n",
       "0     gestational diabetes mellitus  ...  Gestational diabetes mellitus in childbirth, i...\n",
       "1        type two diabetes mellitus  ...  Type 2 diabetes mellitus with periodontal dise...\n",
       "2                            T2DM),  ...  Type 2 diabetes mellitus with hyperglycemia:::...\n",
       "3          HTG-induced pancreatitis  ...  Cytomegaloviral pancreatitis:::Alcohol-induced...\n",
       "4                an acute hepatitis  ...  Acute hepatitis E:::Other specified acute vira...\n",
       "5                           obesity  ...  Drug-induced obesity:::Drug-induced obesity:::...\n",
       "6                 a body mass index  ...  Body mass index (BMI) 31.0-31.9, adult:::Body ...\n",
       "7                BMI) of 33.5 kg/m2  ...  Body mass index (BMI) 70 or greater, adult:::B...\n",
       "8                          polyuria  ...  Other polyuria:::Polydipsia:::Polydipsia:::Gly...\n",
       "9                        polydipsia  ...  Polydipsia:::Polydipsia:::Glycosuria:::Other p...\n",
       "10                    poor appetite  ...  Anorexia:::Nutritional deficiency, unspecified...\n",
       "11                         vomiting  ...  Bilious vomiting:::Projectile vomiting:::Bilio...\n",
       "12    a respiratory tract infection  ...  Acute nasopharyngitis [common cold]:::Herpesvi...\n",
       "13                             T2DM  ...  Type 2 diabetes mellitus with hyperglycemia:::...\n",
       "14                              HTG  ...  Pure hyperglyceridemia:::Pure hyperglyceridemi...\n",
       "15                       tenderness  ...  Periumbilic abdominal tenderness:::Periumbilic...\n",
       "16                         guarding  ...  Dysuria:::Periumbilic rebound abdominal tender...\n",
       "17                         rigidity  ...  Periumbilic abdominal rigidity:::Epigastric ab...\n",
       "18              significant lipemia  ...  Gestational [pregnancy-induced] hypertension w...\n",
       "19               starvation ketosis  ...  Propionic acidemia:::Propionic acidemia:::Type...\n",
       "20                 poor oral intake  ...  Nutritional deficiency, unspecified:::Underdos...\n",
       "21                   still elevated  ...  Elevated Lipoprotein(a):::Hyperaldosteronism, ...\n",
       "22      interference from turbidity  ...  Hemoglobinuria due to hemolysis from other ext...\n",
       "23                          lipemia  ...  Familial hypercholesterolemia:::Acetonuria:::H...\n",
       "24                            euDKA  ...  Shortness of breath:::Balanitis:::Chancroid:::...\n",
       "25                              HTG  ...  Pure hyperglyceridemia:::Pure hyperglyceridemi...\n",
       "26     a reduction in the anion gap  ...  Deviation in opening and closing of the mandib...\n",
       "27                        Her euDKA  ...  Abnormal finding of blood chemistry, unspecifi...\n",
       "28  her respiratory tract infection  ...  Acute nasopharyngitis [common cold]:::Diseases...\n",
       "\n",
       "[29 rows x 6 columns]"
      ]
     },
     "execution_count": 43,
     "metadata": {
      "tags": []
     },
     "output_type": "execute_result"
    }
   ],
   "source": [
    "df = get_icd10_codes (light_pipeline_icd10, text)\n",
    "\n",
    "df"
   ]
  },
  {
   "cell_type": "code",
   "execution_count": 33,
   "metadata": {
    "colab": {
     "base_uri": "https://localhost:8080/",
     "height": 1000
    },
    "colab_type": "code",
    "id": "aUFk762VkzfS",
    "outputId": "8b1e68eb-970f-4392-bb8e-7e07f04bd415"
   },
   "outputs": [
    {
     "data": {
      "text/html": [
       "<div>\n",
       "<style scoped>\n",
       "    .dataframe tbody tr th:only-of-type {\n",
       "        vertical-align: middle;\n",
       "    }\n",
       "\n",
       "    .dataframe tbody tr th {\n",
       "        vertical-align: top;\n",
       "    }\n",
       "\n",
       "    .dataframe thead th {\n",
       "        text-align: right;\n",
       "    }\n",
       "</style>\n",
       "<table border=\"1\" class=\"dataframe\">\n",
       "  <thead>\n",
       "    <tr style=\"text-align: right;\">\n",
       "      <th></th>\n",
       "      <th>chunk</th>\n",
       "      <th>entity</th>\n",
       "      <th>resolved_text</th>\n",
       "      <th>code</th>\n",
       "      <th>cms</th>\n",
       "    </tr>\n",
       "  </thead>\n",
       "  <tbody>\n",
       "    <tr>\n",
       "      <th>0</th>\n",
       "      <td>starvation ketosis</td>\n",
       "      <td>PROBLEM</td>\n",
       "      <td>Propionic acidemia</td>\n",
       "      <td>E71121</td>\n",
       "      <td>Propionic acidemia:::Propionic acidemia:::Type...</td>\n",
       "    </tr>\n",
       "    <tr>\n",
       "      <th>1</th>\n",
       "      <td>Her euDKA</td>\n",
       "      <td>PROBLEM</td>\n",
       "      <td>Abnormal finding of blood chemistry, unspecified</td>\n",
       "      <td>R799</td>\n",
       "      <td>Abnormal finding of blood chemistry, unspecifi...</td>\n",
       "    </tr>\n",
       "    <tr>\n",
       "      <th>2</th>\n",
       "      <td>HTG-induced pancreatitis</td>\n",
       "      <td>PROBLEM</td>\n",
       "      <td>Cytomegaloviral pancreatitis</td>\n",
       "      <td>B252</td>\n",
       "      <td>Cytomegaloviral pancreatitis:::Alcohol-induced...</td>\n",
       "    </tr>\n",
       "    <tr>\n",
       "      <th>3</th>\n",
       "      <td>significant lipemia</td>\n",
       "      <td>PROBLEM</td>\n",
       "      <td>Gestational [pregnancy-induced] hypertension w...</td>\n",
       "      <td>O134</td>\n",
       "      <td>Gestational [pregnancy-induced] hypertension w...</td>\n",
       "    </tr>\n",
       "    <tr>\n",
       "      <th>4</th>\n",
       "      <td>guarding</td>\n",
       "      <td>PROBLEM</td>\n",
       "      <td>Dysuria</td>\n",
       "      <td>R300</td>\n",
       "      <td>Dysuria:::Periumbilic rebound abdominal tender...</td>\n",
       "    </tr>\n",
       "    <tr>\n",
       "      <th>5</th>\n",
       "      <td>vomiting</td>\n",
       "      <td>PROBLEM</td>\n",
       "      <td>Bilious vomiting</td>\n",
       "      <td>R1114</td>\n",
       "      <td>Bilious vomiting:::Projectile vomiting:::Bilio...</td>\n",
       "    </tr>\n",
       "    <tr>\n",
       "      <th>6</th>\n",
       "      <td>polydipsia</td>\n",
       "      <td>PROBLEM</td>\n",
       "      <td>Polydipsia</td>\n",
       "      <td>R631</td>\n",
       "      <td>Polydipsia:::Polydipsia:::Glycosuria:::Other p...</td>\n",
       "    </tr>\n",
       "    <tr>\n",
       "      <th>7</th>\n",
       "      <td>a respiratory tract infection</td>\n",
       "      <td>PROBLEM</td>\n",
       "      <td>Acute nasopharyngitis [common cold]</td>\n",
       "      <td>J00</td>\n",
       "      <td>Acute nasopharyngitis [common cold]:::Herpesvi...</td>\n",
       "    </tr>\n",
       "    <tr>\n",
       "      <th>8</th>\n",
       "      <td>her respiratory tract infection</td>\n",
       "      <td>PROBLEM</td>\n",
       "      <td>Acute nasopharyngitis [common cold]</td>\n",
       "      <td>J00</td>\n",
       "      <td>Acute nasopharyngitis [common cold]:::Diseases...</td>\n",
       "    </tr>\n",
       "    <tr>\n",
       "      <th>9</th>\n",
       "      <td>HTG</td>\n",
       "      <td>PROBLEM</td>\n",
       "      <td>Pure hyperglyceridemia</td>\n",
       "      <td>E781</td>\n",
       "      <td>Pure hyperglyceridemia:::Pure hyperglyceridemi...</td>\n",
       "    </tr>\n",
       "    <tr>\n",
       "      <th>10</th>\n",
       "      <td>T2DM</td>\n",
       "      <td>PROBLEM</td>\n",
       "      <td>Type 2 diabetes mellitus with hyperglycemia</td>\n",
       "      <td>E1165</td>\n",
       "      <td>Type 2 diabetes mellitus with hyperglycemia:::...</td>\n",
       "    </tr>\n",
       "    <tr>\n",
       "      <th>11</th>\n",
       "      <td>tenderness</td>\n",
       "      <td>PROBLEM</td>\n",
       "      <td>Periumbilic abdominal tenderness</td>\n",
       "      <td>R10815</td>\n",
       "      <td>Periumbilic abdominal tenderness:::Periumbilic...</td>\n",
       "    </tr>\n",
       "    <tr>\n",
       "      <th>12</th>\n",
       "      <td>an acute hepatitis</td>\n",
       "      <td>PROBLEM</td>\n",
       "      <td>Acute hepatitis E</td>\n",
       "      <td>B172</td>\n",
       "      <td>Acute hepatitis E:::Other specified acute vira...</td>\n",
       "    </tr>\n",
       "    <tr>\n",
       "      <th>13</th>\n",
       "      <td>a reduction in the anion gap</td>\n",
       "      <td>PROBLEM</td>\n",
       "      <td>Deviation in opening and closing of the mandible</td>\n",
       "      <td>M2653</td>\n",
       "      <td>Deviation in opening and closing of the mandib...</td>\n",
       "    </tr>\n",
       "    <tr>\n",
       "      <th>14</th>\n",
       "      <td>euDKA</td>\n",
       "      <td>PROBLEM</td>\n",
       "      <td>Shortness of breath</td>\n",
       "      <td>R0602</td>\n",
       "      <td>Shortness of breath:::Balanitis:::Chancroid:::...</td>\n",
       "    </tr>\n",
       "    <tr>\n",
       "      <th>15</th>\n",
       "      <td>polyuria</td>\n",
       "      <td>PROBLEM</td>\n",
       "      <td>Other polyuria</td>\n",
       "      <td>R358</td>\n",
       "      <td>Other polyuria:::Polydipsia:::Polydipsia:::Gly...</td>\n",
       "    </tr>\n",
       "    <tr>\n",
       "      <th>16</th>\n",
       "      <td>BMI) of 33.5 kg/m2</td>\n",
       "      <td>PROBLEM</td>\n",
       "      <td>Body mass index (BMI) 70 or greater, adult</td>\n",
       "      <td>Z6845</td>\n",
       "      <td>Body mass index (BMI) 70 or greater, adult:::B...</td>\n",
       "    </tr>\n",
       "    <tr>\n",
       "      <th>17</th>\n",
       "      <td>gestational diabetes mellitus</td>\n",
       "      <td>PROBLEM</td>\n",
       "      <td>Gestational diabetes mellitus in childbirth, i...</td>\n",
       "      <td>O24424</td>\n",
       "      <td>Gestational diabetes mellitus in childbirth, i...</td>\n",
       "    </tr>\n",
       "    <tr>\n",
       "      <th>18</th>\n",
       "      <td>obesity</td>\n",
       "      <td>PROBLEM</td>\n",
       "      <td>Drug-induced obesity</td>\n",
       "      <td>E661</td>\n",
       "      <td>Drug-induced obesity:::Drug-induced obesity:::...</td>\n",
       "    </tr>\n",
       "    <tr>\n",
       "      <th>19</th>\n",
       "      <td>type two diabetes mellitus</td>\n",
       "      <td>PROBLEM</td>\n",
       "      <td>Type 2 diabetes mellitus with periodontal disease</td>\n",
       "      <td>E11630</td>\n",
       "      <td>Type 2 diabetes mellitus with periodontal dise...</td>\n",
       "    </tr>\n",
       "    <tr>\n",
       "      <th>20</th>\n",
       "      <td>lipemia</td>\n",
       "      <td>PROBLEM</td>\n",
       "      <td>Familial hypercholesterolemia</td>\n",
       "      <td>E7801</td>\n",
       "      <td>Familial hypercholesterolemia:::Acetonuria:::H...</td>\n",
       "    </tr>\n",
       "    <tr>\n",
       "      <th>21</th>\n",
       "      <td>poor oral intake</td>\n",
       "      <td>PROBLEM</td>\n",
       "      <td>Nutritional deficiency, unspecified</td>\n",
       "      <td>E639</td>\n",
       "      <td>Nutritional deficiency, unspecified:::Underdos...</td>\n",
       "    </tr>\n",
       "    <tr>\n",
       "      <th>22</th>\n",
       "      <td>T2DM),</td>\n",
       "      <td>PROBLEM</td>\n",
       "      <td>Type 2 diabetes mellitus with hyperglycemia</td>\n",
       "      <td>E1165</td>\n",
       "      <td>Type 2 diabetes mellitus with hyperglycemia:::...</td>\n",
       "    </tr>\n",
       "    <tr>\n",
       "      <th>23</th>\n",
       "      <td>rigidity</td>\n",
       "      <td>PROBLEM</td>\n",
       "      <td>Periumbilic abdominal rigidity</td>\n",
       "      <td>R1935</td>\n",
       "      <td>Periumbilic abdominal rigidity:::Epigastric ab...</td>\n",
       "    </tr>\n",
       "    <tr>\n",
       "      <th>24</th>\n",
       "      <td>interference from turbidity</td>\n",
       "      <td>PROBLEM</td>\n",
       "      <td>Hemoglobinuria due to hemolysis from other ext...</td>\n",
       "      <td>D596</td>\n",
       "      <td>Hemoglobinuria due to hemolysis from other ext...</td>\n",
       "    </tr>\n",
       "    <tr>\n",
       "      <th>25</th>\n",
       "      <td>a body mass index</td>\n",
       "      <td>PROBLEM</td>\n",
       "      <td>Body mass index (BMI) 31.0-31.9, adult</td>\n",
       "      <td>Z6831</td>\n",
       "      <td>Body mass index (BMI) 31.0-31.9, adult:::Body ...</td>\n",
       "    </tr>\n",
       "    <tr>\n",
       "      <th>26</th>\n",
       "      <td>still elevated</td>\n",
       "      <td>PROBLEM</td>\n",
       "      <td>Elevated Lipoprotein(a)</td>\n",
       "      <td>E7841</td>\n",
       "      <td>Elevated Lipoprotein(a):::Hyperaldosteronism, ...</td>\n",
       "    </tr>\n",
       "    <tr>\n",
       "      <th>27</th>\n",
       "      <td>poor appetite</td>\n",
       "      <td>PROBLEM</td>\n",
       "      <td>Anorexia</td>\n",
       "      <td>R630</td>\n",
       "      <td>Anorexia:::Nutritional deficiency, unspecified...</td>\n",
       "    </tr>\n",
       "  </tbody>\n",
       "</table>\n",
       "</div>"
      ],
      "text/plain": [
       "                              chunk  ...                                                cms\n",
       "0                starvation ketosis  ...  Propionic acidemia:::Propionic acidemia:::Type...\n",
       "1                         Her euDKA  ...  Abnormal finding of blood chemistry, unspecifi...\n",
       "2          HTG-induced pancreatitis  ...  Cytomegaloviral pancreatitis:::Alcohol-induced...\n",
       "3               significant lipemia  ...  Gestational [pregnancy-induced] hypertension w...\n",
       "4                          guarding  ...  Dysuria:::Periumbilic rebound abdominal tender...\n",
       "5                          vomiting  ...  Bilious vomiting:::Projectile vomiting:::Bilio...\n",
       "6                        polydipsia  ...  Polydipsia:::Polydipsia:::Glycosuria:::Other p...\n",
       "7     a respiratory tract infection  ...  Acute nasopharyngitis [common cold]:::Herpesvi...\n",
       "8   her respiratory tract infection  ...  Acute nasopharyngitis [common cold]:::Diseases...\n",
       "9                               HTG  ...  Pure hyperglyceridemia:::Pure hyperglyceridemi...\n",
       "10                             T2DM  ...  Type 2 diabetes mellitus with hyperglycemia:::...\n",
       "11                       tenderness  ...  Periumbilic abdominal tenderness:::Periumbilic...\n",
       "12               an acute hepatitis  ...  Acute hepatitis E:::Other specified acute vira...\n",
       "13     a reduction in the anion gap  ...  Deviation in opening and closing of the mandib...\n",
       "14                            euDKA  ...  Shortness of breath:::Balanitis:::Chancroid:::...\n",
       "15                         polyuria  ...  Other polyuria:::Polydipsia:::Polydipsia:::Gly...\n",
       "16               BMI) of 33.5 kg/m2  ...  Body mass index (BMI) 70 or greater, adult:::B...\n",
       "17    gestational diabetes mellitus  ...  Gestational diabetes mellitus in childbirth, i...\n",
       "18                          obesity  ...  Drug-induced obesity:::Drug-induced obesity:::...\n",
       "19       type two diabetes mellitus  ...  Type 2 diabetes mellitus with periodontal dise...\n",
       "20                          lipemia  ...  Familial hypercholesterolemia:::Acetonuria:::H...\n",
       "21                 poor oral intake  ...  Nutritional deficiency, unspecified:::Underdos...\n",
       "22                           T2DM),  ...  Type 2 diabetes mellitus with hyperglycemia:::...\n",
       "23                         rigidity  ...  Periumbilic abdominal rigidity:::Epigastric ab...\n",
       "24      interference from turbidity  ...  Hemoglobinuria due to hemolysis from other ext...\n",
       "25                a body mass index  ...  Body mass index (BMI) 31.0-31.9, adult:::Body ...\n",
       "26                   still elevated  ...  Elevated Lipoprotein(a):::Hyperaldosteronism, ...\n",
       "27                    poor appetite  ...  Anorexia:::Nutritional deficiency, unspecified...\n",
       "\n",
       "[28 rows x 5 columns]"
      ]
     },
     "execution_count": 33,
     "metadata": {
      "tags": []
     },
     "output_type": "execute_result"
    }
   ],
   "source": [
    "output = model_icd10.transform(data_ner).cache()\n",
    "\n",
    "output.select(F.explode(F.arrays_zip(\"ner_chunk.result\",\"ner_chunk.metadata\",\n",
    "                                     \"icd10cm_code.result\",\"icd10cm_code.metadata\")).alias(\"icd10cm_result\")) \\\n",
    ".select(F.expr(\"icd10cm_result['0']\").alias(\"chunk\"),\n",
    "        F.expr(\"icd10cm_result['1'].entity\").alias(\"entity\"),\n",
    "        F.expr(\"icd10cm_result['3'].resolved_text\").alias(\"resolved_text\"),\n",
    "        F.expr(\"icd10cm_result['2']\").alias(\"code\"),\n",
    "        F.expr(\"icd10cm_result['3'].all_k_resolutions\").alias(\"cms\"))\\\n",
    ".distinct() \\\n",
    ".toPandas()\n"
   ]
  },
  {
   "cell_type": "code",
   "execution_count": 45,
   "metadata": {
    "colab": {
     "base_uri": "https://localhost:8080/",
     "height": 141
    },
    "colab_type": "code",
    "id": "ZCXjwUlLc3CF",
    "outputId": "f664e236-8881-44e0-815f-f280ce591df2"
   },
   "outputs": [
    {
     "data": {
      "text/html": [
       "<div>\n",
       "<style scoped>\n",
       "    .dataframe tbody tr th:only-of-type {\n",
       "        vertical-align: middle;\n",
       "    }\n",
       "\n",
       "    .dataframe tbody tr th {\n",
       "        vertical-align: top;\n",
       "    }\n",
       "\n",
       "    .dataframe thead th {\n",
       "        text-align: right;\n",
       "    }\n",
       "</style>\n",
       "<table border=\"1\" class=\"dataframe\">\n",
       "  <thead>\n",
       "    <tr style=\"text-align: right;\">\n",
       "      <th></th>\n",
       "      <th>chunks</th>\n",
       "      <th>begin</th>\n",
       "      <th>end</th>\n",
       "      <th>icd10_cm_code</th>\n",
       "      <th>resolved_text</th>\n",
       "      <th>target_text</th>\n",
       "    </tr>\n",
       "  </thead>\n",
       "  <tbody>\n",
       "    <tr>\n",
       "      <th>0</th>\n",
       "      <td>a brain damage</td>\n",
       "      <td>7</td>\n",
       "      <td>20</td>\n",
       "      <td>G931</td>\n",
       "      <td>Anoxic brain damage, not elsewhere classified</td>\n",
       "      <td>Anoxic brain damage, not elsewhere classified:...</td>\n",
       "    </tr>\n",
       "    <tr>\n",
       "      <th>1</th>\n",
       "      <td>lung cancer</td>\n",
       "      <td>26</td>\n",
       "      <td>36</td>\n",
       "      <td>J676</td>\n",
       "      <td>Maple-bark-stripper's lung</td>\n",
       "      <td>Maple-bark-stripper's lung:::Mushroom-worker's...</td>\n",
       "    </tr>\n",
       "  </tbody>\n",
       "</table>\n",
       "</div>"
      ],
      "text/plain": [
       "           chunks  ...                                        target_text\n",
       "0  a brain damage  ...  Anoxic brain damage, not elsewhere classified:...\n",
       "1     lung cancer  ...  Maple-bark-stripper's lung:::Mushroom-worker's...\n",
       "\n",
       "[2 rows x 6 columns]"
      ]
     },
     "execution_count": 45,
     "metadata": {
      "tags": []
     },
     "output_type": "execute_result"
    }
   ],
   "source": [
    "text = 'He has a brain damage and lung cancer'\n",
    "\n",
    "df = get_icd10_codes(light_pipeline_icd10, text)\n",
    "\n",
    "df"
   ]
  },
  {
   "cell_type": "markdown",
   "metadata": {
    "colab_type": "text",
    "id": "aR87HGvadf4F"
   },
   "source": [
    "# RxNorm Resolver"
   ]
  },
  {
   "cell_type": "code",
   "execution_count": 46,
   "metadata": {
    "colab": {
     "base_uri": "https://localhost:8080/",
     "height": 70
    },
    "colab_type": "code",
    "id": "Ji_40I45dhii",
    "outputId": "1a457f7e-2dd4-43c5-d1a1-166491b3a963"
   },
   "outputs": [
    {
     "name": "stdout",
     "output_type": "stream",
     "text": [
      "ensembleresolve_rxnorm_clinical download started this may take some time.\n",
      "Approximate size to download 783.3 MB\n",
      "[OK!]\n"
     ]
    }
   ],
   "source": [
    "rxnorm_resolution = EnsembleEntityResolverModel.pretrained(\"ensembleresolve_rxnorm_clinical\", \"en\", \"clinical/models\")\\\n",
    "    .setInputCols(\"ner_token\",\"chunk_embeddings\").setOutputCol(\"rxnorm_result\")\n",
    "\n",
    "ner_converter = NerConverter() \\\n",
    "  .setInputCols([\"sentence\", \"token\", \"ner\"]) \\\n",
    "  .setOutputCol(\"ner_chunk\")\\\n",
    "  .setWhiteList(['TREATMENT'])\n",
    "\n",
    "\n",
    "pipeline_rx = Pipeline(\n",
    "    stages = [\n",
    "    documentAssembler,\n",
    "    sentenceDetector,\n",
    "    tokenizer,\n",
    "    word_embeddings,\n",
    "    clinical_ner,\n",
    "    ner_converter,\n",
    "    chunk_embeddings,\n",
    "    chunk_tokenizer,\n",
    "    rxnorm_resolution\n",
    "  ])\n",
    "\n",
    "model_rxnorm = pipeline_rx.fit(data_ner)\n"
   ]
  },
  {
   "cell_type": "code",
   "execution_count": 47,
   "metadata": {
    "colab": {
     "base_uri": "https://localhost:8080/",
     "height": 54
    },
    "colab_type": "code",
    "id": "osMp8AkZreh1",
    "outputId": "cb6d325d-91d0-49d2-b721-04433ec7457b"
   },
   "outputs": [
    {
     "data": {
      "text/plain": [
       "'A 28-year-old female with a history of gestational diabetes mellitus diagnosed eight years prior to presentation and subsequent type two diabetes mellitus (T2DM), one prior episode of HTG-induced pancreatitis three years prior to presentation, associated with an acute hepatitis, and obesity with a body mass index (BMI) of 33.5 kg/m2, presented with a one-week history of polyuria, polydipsia, poor appetite, and vomiting. Two weeks prior to presentation, she was treated with a five-day course of amoxicillin for a respiratory tract infection. She was on metformin, glipizide, and dapagliflozin for T2DM and atorvastatin and gemfibrozil for HTG. She had been on dapagliflozin for six months at the time of presentation. Physical examination on presentation was significant for dry oral mucosa; significantly, her abdominal examination was benign with no tenderness, guarding, or rigidity. Pertinent laboratory findings on admission were: serum glucose 111 mg/dl, bicarbonate 18 mmol/l, anion gap 20, creatinine 0.4 mg/dL, triglycerides 508 mg/dL, total cholesterol 122 mg/dL, glycated hemoglobin (HbA1c) 10%, and venous pH 7.27. Serum lipase was normal at 43 U/L. Serum acetone levels could not be assessed as blood samples kept hemolyzing due to significant lipemia. The patient was initially admitted for starvation ketosis, as she reported poor oral intake for three days prior to admission. However, serum chemistry obtained six hours after presentation revealed her glucose was 186 mg/dL, the anion gap was still elevated at 21, serum bicarbonate was 16 mmol/L, triglyceride level peaked at 2050 mg/dL, and lipase was 52 U/L. The β-hydroxybutyrate level was obtained and found to be elevated at 5.29 mmol/L - the original sample was centrifuged and the chylomicron layer removed prior to analysis due to interference from turbidity caused by lipemia again. The patient was treated with an insulin drip for euDKA and HTG with a reduction in the anion gap to 13 and triglycerides to 1400 mg/dL, within 24 hours. Her euDKA was thought to be precipitated by her respiratory tract infection in the setting of SGLT2 inhibitor use. The patient was seen by the endocrinology service and she was discharged on 40 units of insulin glargine at night, 12 units of insulin lispro with meals, and metformin 1000 mg two times a day. It was determined that all SGLT2 inhibitors should be discontinued indefinitely. She had close follow-up with endocrinology post discharge.'"
      ]
     },
     "execution_count": 47,
     "metadata": {
      "tags": []
     },
     "output_type": "execute_result"
    }
   ],
   "source": [
    "text = light_data['document'][0]\n",
    "text"
   ]
  },
  {
   "cell_type": "code",
   "execution_count": 55,
   "metadata": {
    "colab": {
     "base_uri": "https://localhost:8080/",
     "height": 143
    },
    "colab_type": "code",
    "id": "P2eDvK4utBxi",
    "outputId": "0c357770-f427-4772-dad6-2a63ad02e368"
   },
   "outputs": [
    {
     "name": "stdout",
     "output_type": "stream",
     "text": [
      "+--------------------+--------------------+--------------------+--------------------+--------------------+--------------------+--------------------+--------------------+--------------------+--------------------+\n",
      "|                text|            document|            sentence|               token|          embeddings|                 ner|           ner_chunk|    chunk_embeddings|           ner_token|       rxnorm_result|\n",
      "+--------------------+--------------------+--------------------+--------------------+--------------------+--------------------+--------------------+--------------------+--------------------+--------------------+\n",
      "|A 28-year-old fem...|[[document, 0, 24...|[[document, 0, 42...|[[token, 0, 0, A,...|[[word_embeddings...|[[named_entity, 0...|[[chunk, 499, 509...|[[word_embeddings...|[[token, 499, 509...|[[entity, 499, 50...|\n",
      "+--------------------+--------------------+--------------------+--------------------+--------------------+--------------------+--------------------+--------------------+--------------------+--------------------+\n",
      "\n"
     ]
    }
   ],
   "source": [
    "data = spark.createDataFrame([[text]]).toDF(\"text\")\n",
    "        \n",
    "output = model_rxnorm.transform(data)\n",
    "\n",
    "output.show()"
   ]
  },
  {
   "cell_type": "code",
   "execution_count": 57,
   "metadata": {
    "colab": {
     "base_uri": "https://localhost:8080/",
     "height": 336
    },
    "colab_type": "code",
    "id": "1b62vB4qt33m",
    "outputId": "6ff0f8e4-a6d5-4b22-f0b3-8085a9c512f9"
   },
   "outputs": [
    {
     "name": "stdout",
     "output_type": "stream",
     "text": [
      "+--------------------+---------+--------------------------------------------------+-------+------+\n",
      "|               chunk|   entity|                                       target_text|   code|  conf|\n",
      "+--------------------+---------+--------------------------------------------------+-------+------+\n",
      "|         amoxicillin|TREATMENT|Amoxicillin:::amoxicillin:::AMOXICILLIN:::Amoxi...|    723|1.0000|\n",
      "|           metformin|TREATMENT|Metformin:::metformin:::METFORMIN:::Metformin::...|   6809|1.0000|\n",
      "|           glipizide|TREATMENT|Glipizide:::GLIPIZIDE:::glipizide:::Glipizide::...|   4821|1.0000|\n",
      "|       dapagliflozin|TREATMENT|DAPAGLIFLOZIN:::dapagliflozin:::Dapagliflozin::...|1488564|1.0000|\n",
      "|        atorvastatin|TREATMENT|Atorvastatin:::atorvastatin:::ATORVASTATIN:::At...|  83367|1.0000|\n",
      "|         gemfibrozil|TREATMENT|Gemfibrozil:::GEMFIBROZIL:::gemfibrozil:::Gemfi...|   4719|1.0000|\n",
      "|       dapagliflozin|TREATMENT|DAPAGLIFLOZIN:::dapagliflozin:::Dapagliflozin::...|1488564|1.0000|\n",
      "|     an insulin drip|TREATMENT|insulin argine:::INSULIN ARGINE:::NPH insulin::...|1740938|1.0000|\n",
      "|     SGLT2 inhibitor|TREATMENT|MTP inhibitor:::Cyclooxygenase inhibitor:::Reni...|2117779|1.0205|\n",
      "|    insulin glargine|TREATMENT|Insulin Glargine:::insulin glargine:::Insulin g...| 274783|1.0000|\n",
      "|      insulin lispro|TREATMENT|Lispro insulin:::Insulin Lispro:::insulin lispr...|  86009|1.0000|\n",
      "|           metformin|TREATMENT|Metformin:::metformin:::METFORMIN:::Metformin::...|   6809|1.0000|\n",
      "|all SGLT2 inhibitors|TREATMENT|MAO inhibitors:::Prolactine inhibitors:::Renin-...|1431605|1.0553|\n",
      "+--------------------+---------+--------------------------------------------------+-------+------+\n",
      "\n"
     ]
    }
   ],
   "source": [
    "output.select(F.explode(F.arrays_zip(\"ner_chunk.result\",\"ner_chunk.metadata\",\"rxnorm_result.result\",\"rxnorm_result.metadata\")).alias(\"rxnorm_result\")) \\\n",
    "    .select(F.expr(\"rxnorm_result['0']\").alias(\"chunk\"),\n",
    "            F.expr(\"rxnorm_result['1'].entity\").alias(\"entity\"),\n",
    "            F.expr(\"rxnorm_result['3'].all_k_resolutions\").alias(\"target_text\"),\n",
    "            F.expr(\"rxnorm_result['2']\").alias(\"code\"),\n",
    "            F.expr(\"rxnorm_result['3'].confidence_ratio\").alias(\"conf\")).show(truncate = 50)"
   ]
  },
  {
   "cell_type": "markdown",
   "metadata": {
    "colab_type": "text",
    "id": "sx-lDFW1eVVw"
   },
   "source": [
    "## Snomed Resolver"
   ]
  },
  {
   "cell_type": "code",
   "execution_count": 58,
   "metadata": {
    "colab": {
     "base_uri": "https://localhost:8080/",
     "height": 70
    },
    "colab_type": "code",
    "id": "gFUIxOQruofR",
    "outputId": "ee97f873-d5d3-465f-bda7-0ee204266229"
   },
   "outputs": [
    {
     "name": "stdout",
     "output_type": "stream",
     "text": [
      "ensembleresolve_snomed_clinical download started this may take some time.\n",
      "Approximate size to download 592.9 MB\n",
      "[OK!]\n"
     ]
    }
   ],
   "source": [
    "ner_snomed_resolver = \\\n",
    "    EnsembleEntityResolverModel.pretrained(\"ensembleresolve_snomed_clinical\",\"en\",\"clinical/models\")\\\n",
    "    .setInputCols(\"ner_token\",\"chunk_embeddings\").setOutputCol(\"snomed_result\")"
   ]
  },
  {
   "cell_type": "code",
   "execution_count": null,
   "metadata": {
    "colab": {},
    "colab_type": "code",
    "id": "Jqy8NbCyuvaw"
   },
   "outputs": [],
   "source": [
    "ner_converter = NerConverter() \\\n",
    "  .setInputCols([\"sentence\", \"token\", \"ner\"]) \\\n",
    "  .setOutputCol(\"ner_chunk\")\n",
    "\n",
    "pipeline_snomed = Pipeline(\n",
    "    stages = [\n",
    "    documentAssembler,\n",
    "    sentenceDetector,\n",
    "    tokenizer,\n",
    "    word_embeddings,\n",
    "    clinical_ner,\n",
    "    ner_converter,\n",
    "    chunk_embeddings,\n",
    "    chunk_tokenizer,\n",
    "    ner_snomed_resolver\n",
    "  ])\n",
    "\n",
    "model_snomed = pipeline_snomed.fit(data_ner)"
   ]
  },
  {
   "cell_type": "code",
   "execution_count": 63,
   "metadata": {
    "colab": {
     "base_uri": "https://localhost:8080/",
     "height": 143
    },
    "colab_type": "code",
    "id": "QSJ7mDMyvVvE",
    "outputId": "0d044e9c-e611-4234-ca35-bebbbed2d689"
   },
   "outputs": [
    {
     "name": "stdout",
     "output_type": "stream",
     "text": [
      "+--------------------+--------------------+--------------------+--------------------+--------------------+--------------------+--------------------+--------------------+--------------------+--------------------+\n",
      "|                text|            document|            sentence|               token|          embeddings|                 ner|           ner_chunk|    chunk_embeddings|           ner_token|       snomed_result|\n",
      "+--------------------+--------------------+--------------------+--------------------+--------------------+--------------------+--------------------+--------------------+--------------------+--------------------+\n",
      "|A 28-year-old fem...|[[document, 0, 24...|[[document, 0, 42...|[[token, 0, 0, A,...|[[word_embeddings...|[[named_entity, 0...|[[chunk, 39, 67, ...|[[word_embeddings...|[[token, 39, 49, ...|[[entity, 39, 67,...|\n",
      "+--------------------+--------------------+--------------------+--------------------+--------------------+--------------------+--------------------+--------------------+--------------------+--------------------+\n",
      "\n"
     ]
    }
   ],
   "source": [
    "data = spark.createDataFrame([[text]]).toDF(\"text\")\n",
    "        \n",
    "output = model_snomed.transform(data)\n",
    "\n",
    "output.show()"
   ]
  },
  {
   "cell_type": "code",
   "execution_count": 65,
   "metadata": {
    "colab": {
     "base_uri": "https://localhost:8080/",
     "height": 498
    },
    "colab_type": "code",
    "id": "ZYTj2bSOef6k",
    "outputId": "c5d0ee12-138d-416e-b6d9-6536c976f782"
   },
   "outputs": [
    {
     "name": "stdout",
     "output_type": "stream",
     "text": [
      "+-------------------------------+---------+-----+----+-----------+------------------------------------------+----------------+\n",
      "|                            ner|   entity|begin| end|snomed_code|                             resolved_text|confidence_ratio|\n",
      "+-------------------------------+---------+-----+----+-----------+------------------------------------------+----------------+\n",
      "|     type two diabetes mellitus|  PROBLEM|  128| 153|   44054006|                  Diabetes mellitus type 2|             1.0|\n",
      "|                         T2DM),|  PROBLEM|  156| 161|   84999002|                             Bowen disease|            1.07|\n",
      "|                        obesity|  PROBLEM|  284| 290|  414916001|                                   Obesity|             0.5|\n",
      "|                            HTG|  PROBLEM|  643| 645|   46803007|                                   Glucoma|             1.0|\n",
      "|    interference from turbidity|  PROBLEM| 1811|1837|    9123002|                       Increased turbidity|             1.0|\n",
      "|                      anion gap|     TEST|  988| 996|  102637000|                                 Anion gap|             0.5|\n",
      "|                       polyuria|  PROBLEM|  373| 380|   28442001|                                  Polyuria|             0.5|\n",
      "|                     hemolyzing|     TEST| 1231|1240|  698245004|                  Veillonella denticariosi|             1.0|\n",
      "|  gestational diabetes mellitus|  PROBLEM|   39|  67|   11687002|             Gestational diabetes mellitus|             0.5|\n",
      "|                            HTG|  PROBLEM| 1923|1925|   46803007|                                   Glucoma|             1.0|\n",
      "|                          mg/dL|     TEST| 1603|1607|   44687006|                           Megathrombocyte|             1.0|\n",
      "|her respiratory tract infection|  PROBLEM| 2061|2091|  275498002|               Respiratory tract infection|            1.54|\n",
      "|                         mmol/l|     TEST|  980| 985|   45417004|                                  Ragocyte|             1.0|\n",
      "|  a respiratory tract infection|  PROBLEM|  515| 543|  275498002|               Respiratory tract infection|            2.19|\n",
      "|                          HbA1c|     TEST| 1099|1103|   44687006|                           Megathrombocyte|             1.0|\n",
      "|                      glipizide|TREATMENT|  568| 576|  387143009|                                 Glipizide|             0.5|\n",
      "|              serum bicarbonate|     TEST| 1536|1552|  271239003|             Serum bicarbonate measurement|             1.0|\n",
      "|                   atorvastatin|TREATMENT|  610| 621|  373444002|                              Atorvastatin|             0.5|\n",
      "|                    gemfibrozil|TREATMENT|  627| 637|  776091002|                  Gemfibrozil only product|            1.61|\n",
      "|      her abdominal examination|     TEST|  811| 835|  314618003|Operative abdominal ultrasound examination|            1.21|\n",
      "+-------------------------------+---------+-----+----+-----------+------------------------------------------+----------------+\n",
      "only showing top 20 rows\n",
      "\n"
     ]
    }
   ],
   "source": [
    "\n",
    "output.select(F.explode(F.arrays_zip(\"ner_chunk.begin\",\n",
    "                                  \"ner_chunk.end\",\n",
    "                                      \"ner_chunk.result\", \"ner_chunk.metadata\", \"snomed_result.result\", \"snomed_result.metadata\")).alias(\"snomed_result\")) \\\n",
    ".select(F.expr(\"snomed_result['2']\").alias(\"ner\"),\n",
    "        F.expr(\"snomed_result['3'].entity\").alias(\"entity\"),\n",
    "        F.expr(\"snomed_result['0']\").alias(\"begin\"),\n",
    "        F.expr(\"snomed_result['1']\").alias(\"end\"),\n",
    "        F.expr(\"snomed_result['4']\").alias(\"snomed_code\"),\n",
    "        F.expr(\"snomed_result['5'].resolved_text\").alias(\"resolved_text\"),\n",
    "        F.expr(\"round(snomed_result['5'].confidence_ratio,2)\").alias(\"confidence_ratio\")) \\\n",
    ".distinct().show(truncate=50)"
   ]
  },
  {
   "cell_type": "markdown",
   "metadata": {
    "colab_type": "text",
    "id": "DBB4qVpUw2Dn"
   },
   "source": [
    "# ICD-O Resolver"
   ]
  },
  {
   "cell_type": "markdown",
   "metadata": {
    "colab_type": "text",
    "id": "vOdyMvshw7yl"
   },
   "source": [
    "A common NLP problem in medical applications is to identify histology behaviour in documented cancer studies.\n",
    "\n",
    "In this example we will use Spark-NLP to identify and resolve histology behavior expressions and resolve them to an ICD-O code."
   ]
  },
  {
   "cell_type": "code",
   "execution_count": null,
   "metadata": {
    "colab": {},
    "colab_type": "code",
    "id": "pmBgr7bYxBar"
   },
   "outputs": [],
   "source": [
    "text = '''\n",
    "A 35-year-old African-American man was referred to our urology clinic by his primary care physician for consultation about a large left scrotal mass. The patient reported a 3-month history of left scrotal swelling that had progressively increased in size and was associated with mild left scrotal pain. He also had complaints of mild constipation, with hard stools every other day. He denied any urinary complaints. On physical examination, a hard paratesticular mass could be palpated in the left hemiscrotum extending into the left groin, separate from the left testicle, and measuring approximately 10 × 7 cm in size. A hard, lower abdominal mass in the suprapubic region could also be palpated in the midline. The patient was admitted urgently to the hospital for further evaluation with cross-sectional imaging and blood work.\n",
    "Laboratory results, including results of a complete blood cell count with differential, liver function tests, coagulation panel, and basic chemistry panel, were unremarkable except for a serum creatinine level of 2.6 mg/dL. Typical markers for a testicular germ cell tumor were within normal limits: the beta–human chorionic gonadotropin level was less than 1 mIU/mL and the alpha fetoprotein level was less than 2.8 ng/mL. A CT scan of the chest, abdomen, and pelvis with intravenous contrast was obtained, and it showed large multifocal intra-abdominal, retroperitoneal, and pelvic masses (Figure 1). On cross-sectional imaging, a 7.8-cm para-aortic mass was visualized compressing the proximal portion of the left ureter, creating moderate left hydroureteronephrosis. Additionally, three separate pelvic masses were present in the retrovesical space, each measuring approximately 5 to 10 cm at their largest diameter; these displaced the bladder anteriorly and the rectum posteriorly.\n",
    "The patient underwent ultrasound-guided needle biopsy of one of the pelvic masses on hospital day 3 for definitive diagnosis. Microscopic examination of the tissue by our pathologist revealed cellular islands with oval to elongated, irregular, and hyperchromatic nuclei; scant cytoplasm; and invading fibrous tissue—as well as three mitoses per high-powered field (Figure 2). Immunohistochemical staining demonstrated strong positivity for cytokeratin AE1/AE3, vimentin, and desmin. Further mutational analysis of the cells detected the presence of an EWS-WT1 fusion transcript consistent with a diagnosis of desmoplastic small round cell tumor.\n",
    "'''"
   ]
  },
  {
   "cell_type": "markdown",
   "metadata": {
    "colab_type": "text",
    "id": "ZQBXXOi4xVap"
   },
   "source": [
    "\n",
    "And let's build a SparkNLP pipeline with the following stages:\n",
    "\n",
    "- DocumentAssembler: Entry annotator for our pipelines; it creates the data structure for the Annotation Framework\n",
    "\n",
    "- SentenceDetector: Annotator to pragmatically separate complete sentences inside each document\n",
    "\n",
    "- Tokenizer: Annotator to separate sentences in tokens (generally words)\n",
    "\n",
    "- WordEmbeddings: Vectorization of word tokens, in this case using word embeddings trained from PubMed, ICD10 and other clinical resources.\n",
    "\n",
    "- EntityResolver: Annotator that performs search for the KNNs, in this case trained from ICDO Histology Behavior.\n",
    "\n",
    "In order to find cancer related chunks, we are going to use a pretrained Search Trie wrapped up in our TextMatcher Annotator; and to identify treatments/procedures we are going to use our good old NER.\n",
    "\n",
    "- TextMatcher: Trained with a Cancer Glossary and an augmented dataset from JSL Data Market this annotator makes sure to return just found phrases in a search Trie. In this case ICDO phrases.\n",
    "\n",
    "- NerDLModel: TensorFlow based Named Entity Recognizer, trained to extract PROBLEMS, TREATMENTS and TESTS\n",
    "\n",
    "- NerConverter: Chunk builder out of tokens tagged by the Ner Model"
   ]
  },
  {
   "cell_type": "markdown",
   "metadata": {
    "colab_type": "text",
    "id": "nxYaT_1wxr40"
   },
   "source": [
    "## TextMatcher Strategy\n"
   ]
  },
  {
   "cell_type": "code",
   "execution_count": 76,
   "metadata": {
    "colab": {
     "base_uri": "https://localhost:8080/",
     "height": 123
    },
    "colab_type": "code",
    "id": "sY_CjCaIxrOh",
    "outputId": "0b60dcfc-8b16-4e1d-ad98-b48010c2a8eb"
   },
   "outputs": [
    {
     "name": "stdout",
     "output_type": "stream",
     "text": [
      "ner_bionlp download started this may take some time.\n",
      "Approximate size to download 13.9 MB\n",
      "[OK!]\n",
      "chunkresolve_icdo_clinical download started this may take some time.\n",
      "Approximate size to download 8.2 MB\n",
      "[OK!]\n"
     ]
    }
   ],
   "source": [
    "icdo_ner = NerDLModel.pretrained(\"ner_bionlp\", \"en\", \"clinical/models\")\\\n",
    "    .setInputCols(\"sentence\", \"token\", \"embeddings\")\\\n",
    "    .setOutputCol(\"icdo_ner\")\n",
    "\n",
    "icdo_chunk = NerConverter().setInputCols(\"sentence\",\"token\",\"icdo_ner\").setOutputCol(\"icdo_chunk\")\n",
    "\n",
    "icdo_chunk_embeddings = ChunkEmbeddings()\\\n",
    "    .setInputCols(\"icdo_chunk\", \"embeddings\")\\\n",
    "    .setOutputCol(\"icdo_chunk_embeddings\")\n",
    "\n",
    "icdo_chunk_resolver = ChunkEntityResolverModel.pretrained(\"chunkresolve_icdo_clinical\", \"en\", \"clinical/models\")\\\n",
    "    .setInputCols(\"token\",\"icdo_chunk_embeddings\")\\\n",
    "    .setOutputCol(\"tm_icdo_code\")"
   ]
  },
  {
   "cell_type": "code",
   "execution_count": null,
   "metadata": {
    "colab": {},
    "colab_type": "code",
    "id": "wVZpNJPZxv8J"
   },
   "outputs": [],
   "source": [
    "pipeline_icdo = Pipeline().setStages([\n",
    "\n",
    "    documentAssembler, \n",
    "    sentenceDetector, \n",
    "    tokenizer, \n",
    "    word_embeddings, \n",
    "    \n",
    "    clinical_ner, \n",
    "    ner_converter, \n",
    "    chunk_embeddings,\n",
    "    chunk_tokenizer,\n",
    "    ner_snomed_resolver,\n",
    "    \n",
    "    icdo_ner,\n",
    "    icdo_chunk,\n",
    "    icdo_chunk_embeddings, \n",
    "    icdo_chunk_resolver\n",
    "])\n",
    "\n",
    "model_icdo = pipeline_icdo.fit(data_ner)"
   ]
  },
  {
   "cell_type": "code",
   "execution_count": 78,
   "metadata": {
    "colab": {
     "base_uri": "https://localhost:8080/",
     "height": 161
    },
    "colab_type": "code",
    "id": "0mokCe7dyf1h",
    "outputId": "d2cc631e-cd14-41e7-a101-cd54497b6661"
   },
   "outputs": [
    {
     "name": "stdout",
     "output_type": "stream",
     "text": [
      "+--------------------+--------------------+--------------------+--------------------+--------------------+--------------------+--------------------+--------------------+--------------------+--------------------+--------------------+--------------------+---------------------+--------------------+\n",
      "|                text|            document|            sentence|               token|          embeddings|                 ner|           ner_chunk|    chunk_embeddings|           ner_token|       snomed_result|            icdo_ner|          icdo_chunk|icdo_chunk_embeddings|        tm_icdo_code|\n",
      "+--------------------+--------------------+--------------------+--------------------+--------------------+--------------------+--------------------+--------------------+--------------------+--------------------+--------------------+--------------------+---------------------+--------------------+\n",
      "|\n",
      "A 35-year-old Af...|[[document, 0, 24...|[[document, 1, 14...|[[token, 1, 1, A,...|[[word_embeddings...|[[named_entity, 1...|[[chunk, 124, 148...|[[word_embeddings...|[[token, 124, 124...|[[entity, 124, 14...|[[named_entity, 1...|[[chunk, 32, 34, ...| [[word_embeddings...|[[entity, 32, 34,...|\n",
      "+--------------------+--------------------+--------------------+--------------------+--------------------+--------------------+--------------------+--------------------+--------------------+--------------------+--------------------+--------------------+---------------------+--------------------+\n",
      "\n"
     ]
    }
   ],
   "source": [
    "data = spark.createDataFrame([[text]]).toDF(\"text\")\n",
    "        \n",
    "output = model_icdo.transform(data)\n",
    "\n",
    "output.show()"
   ]
  },
  {
   "cell_type": "code",
   "execution_count": null,
   "metadata": {
    "colab": {},
    "colab_type": "code",
    "id": "slitfL4gy3il"
   },
   "outputs": [],
   "source": []
  },
  {
   "cell_type": "code",
   "execution_count": 79,
   "metadata": {
    "colab": {
     "base_uri": "https://localhost:8080/",
     "height": 1000
    },
    "colab_type": "code",
    "id": "IT6sVEN1zQ3x",
    "outputId": "eeae5446-2189-4cf1-c501-ca292b3a3855"
   },
   "outputs": [
    {
     "data": {
      "text/html": [
       "<div>\n",
       "<style scoped>\n",
       "    .dataframe tbody tr th:only-of-type {\n",
       "        vertical-align: middle;\n",
       "    }\n",
       "\n",
       "    .dataframe tbody tr th {\n",
       "        vertical-align: top;\n",
       "    }\n",
       "\n",
       "    .dataframe thead th {\n",
       "        text-align: right;\n",
       "    }\n",
       "</style>\n",
       "<table border=\"1\" class=\"dataframe\">\n",
       "  <thead>\n",
       "    <tr style=\"text-align: right;\">\n",
       "      <th></th>\n",
       "      <th>note</th>\n",
       "      <th>chunk</th>\n",
       "      <th>resolved_text</th>\n",
       "      <th>code</th>\n",
       "      <th>confidence</th>\n",
       "    </tr>\n",
       "  </thead>\n",
       "  <tbody>\n",
       "    <tr>\n",
       "      <th>0</th>\n",
       "      <td>8589934592</td>\n",
       "      <td>beta–human chorionic</td>\n",
       "      <td>Choriocarcinoma</td>\n",
       "      <td>9100/3</td>\n",
       "      <td>3.37</td>\n",
       "    </tr>\n",
       "    <tr>\n",
       "      <th>1</th>\n",
       "      <td>8589934592</td>\n",
       "      <td>abdominal</td>\n",
       "      <td>Immunoproliferative small</td>\n",
       "      <td>9764/3</td>\n",
       "      <td>1.72</td>\n",
       "    </tr>\n",
       "    <tr>\n",
       "      <th>2</th>\n",
       "      <td>8589934592</td>\n",
       "      <td>left groin</td>\n",
       "      <td>Renal cell carcinoma</td>\n",
       "      <td>8312/3</td>\n",
       "      <td>1.44</td>\n",
       "    </tr>\n",
       "    <tr>\n",
       "      <th>3</th>\n",
       "      <td>8589934592</td>\n",
       "      <td>left hemiscrotum</td>\n",
       "      <td>Renal cell carcinoma</td>\n",
       "      <td>8312/3</td>\n",
       "      <td>1.43</td>\n",
       "    </tr>\n",
       "    <tr>\n",
       "      <th>4</th>\n",
       "      <td>8589934592</td>\n",
       "      <td>alpha fetoprotein</td>\n",
       "      <td>Immunoproliferative small</td>\n",
       "      <td>9764/3</td>\n",
       "      <td>1.43</td>\n",
       "    </tr>\n",
       "    <tr>\n",
       "      <th>5</th>\n",
       "      <td>8589934592</td>\n",
       "      <td>left scrotal</td>\n",
       "      <td>Renal cell carcinoma</td>\n",
       "      <td>8312/3</td>\n",
       "      <td>1.42</td>\n",
       "    </tr>\n",
       "    <tr>\n",
       "      <th>6</th>\n",
       "      <td>8589934592</td>\n",
       "      <td>pelvic masses</td>\n",
       "      <td>Renal cell carcinoma</td>\n",
       "      <td>8312/3</td>\n",
       "      <td>1.38</td>\n",
       "    </tr>\n",
       "    <tr>\n",
       "      <th>7</th>\n",
       "      <td>8589934592</td>\n",
       "      <td>needle biopsy</td>\n",
       "      <td>Renal cell carcinoma</td>\n",
       "      <td>8312/3</td>\n",
       "      <td>1.36</td>\n",
       "    </tr>\n",
       "    <tr>\n",
       "      <th>8</th>\n",
       "      <td>8589934592</td>\n",
       "      <td>blood</td>\n",
       "      <td>Leukemia, NOS</td>\n",
       "      <td>9800/3</td>\n",
       "      <td>1.28</td>\n",
       "    </tr>\n",
       "    <tr>\n",
       "      <th>9</th>\n",
       "      <td>8589934592</td>\n",
       "      <td>vimentin</td>\n",
       "      <td>Polyembryoma</td>\n",
       "      <td>9072/3</td>\n",
       "      <td>1.20</td>\n",
       "    </tr>\n",
       "    <tr>\n",
       "      <th>10</th>\n",
       "      <td>8589934592</td>\n",
       "      <td>cytokeratin</td>\n",
       "      <td>Hepatoblastoma</td>\n",
       "      <td>8970/3</td>\n",
       "      <td>1.19</td>\n",
       "    </tr>\n",
       "    <tr>\n",
       "      <th>11</th>\n",
       "      <td>8589934592</td>\n",
       "      <td>bladder anteriorly</td>\n",
       "      <td>Renal cell carcinoma</td>\n",
       "      <td>8312/3</td>\n",
       "      <td>1.10</td>\n",
       "    </tr>\n",
       "    <tr>\n",
       "      <th>12</th>\n",
       "      <td>8589934592</td>\n",
       "      <td>left ureter</td>\n",
       "      <td>Renal cell carcinoma</td>\n",
       "      <td>8312/3</td>\n",
       "      <td>1.07</td>\n",
       "    </tr>\n",
       "    <tr>\n",
       "      <th>13</th>\n",
       "      <td>8589934592</td>\n",
       "      <td>pelvis</td>\n",
       "      <td>Renal cell carcinoma</td>\n",
       "      <td>8312/3</td>\n",
       "      <td>1.03</td>\n",
       "    </tr>\n",
       "    <tr>\n",
       "      <th>14</th>\n",
       "      <td>8589934592</td>\n",
       "      <td>cellular</td>\n",
       "      <td>Hodgkin lymphoma, nod. sc</td>\n",
       "      <td>9664/3</td>\n",
       "      <td>1.03</td>\n",
       "    </tr>\n",
       "    <tr>\n",
       "      <th>15</th>\n",
       "      <td>8589934592</td>\n",
       "      <td>rectum</td>\n",
       "      <td>Malignant peripheral nerv</td>\n",
       "      <td>9540/3</td>\n",
       "      <td>1.02</td>\n",
       "    </tr>\n",
       "    <tr>\n",
       "      <th>16</th>\n",
       "      <td>8589934592</td>\n",
       "      <td>left testicle</td>\n",
       "      <td>Seminoma, NOS</td>\n",
       "      <td>9061/3</td>\n",
       "      <td>1.02</td>\n",
       "    </tr>\n",
       "    <tr>\n",
       "      <th>17</th>\n",
       "      <td>8589934592</td>\n",
       "      <td>man</td>\n",
       "      <td>Malignant lymphoma, non-H</td>\n",
       "      <td>9591/3</td>\n",
       "      <td>1.01</td>\n",
       "    </tr>\n",
       "    <tr>\n",
       "      <th>18</th>\n",
       "      <td>8589934592</td>\n",
       "      <td>abdomen</td>\n",
       "      <td>Fibromyxosarcoma</td>\n",
       "      <td>8811/3</td>\n",
       "      <td>1.01</td>\n",
       "    </tr>\n",
       "    <tr>\n",
       "      <th>19</th>\n",
       "      <td>8589934592</td>\n",
       "      <td>desmoplastic small round cell tumor</td>\n",
       "      <td>Desmoplastic small round</td>\n",
       "      <td>8806/3</td>\n",
       "      <td>1.00</td>\n",
       "    </tr>\n",
       "    <tr>\n",
       "      <th>20</th>\n",
       "      <td>8589934592</td>\n",
       "      <td>urinary</td>\n",
       "      <td>Psammomatous meningioma</td>\n",
       "      <td>9533/0</td>\n",
       "      <td>1.00</td>\n",
       "    </tr>\n",
       "    <tr>\n",
       "      <th>21</th>\n",
       "      <td>8589934592</td>\n",
       "      <td>scant cytoplasm</td>\n",
       "      <td>T-cell large granular lym</td>\n",
       "      <td>9831/3</td>\n",
       "      <td>1.00</td>\n",
       "    </tr>\n",
       "    <tr>\n",
       "      <th>22</th>\n",
       "      <td>8589934592</td>\n",
       "      <td>cells</td>\n",
       "      <td>Hairy cell leukemia</td>\n",
       "      <td>9940/3</td>\n",
       "      <td>1.00</td>\n",
       "    </tr>\n",
       "    <tr>\n",
       "      <th>23</th>\n",
       "      <td>8589934592</td>\n",
       "      <td>paratesticular</td>\n",
       "      <td>Malignant peripheral nerv</td>\n",
       "      <td>9540/3</td>\n",
       "      <td>1.00</td>\n",
       "    </tr>\n",
       "    <tr>\n",
       "      <th>24</th>\n",
       "      <td>8589934592</td>\n",
       "      <td>tissue</td>\n",
       "      <td>Marginal zone B-cell lymp</td>\n",
       "      <td>9699/3</td>\n",
       "      <td>1.00</td>\n",
       "    </tr>\n",
       "    <tr>\n",
       "      <th>25</th>\n",
       "      <td>8589934592</td>\n",
       "      <td>chest</td>\n",
       "      <td>Capillary hemangioma</td>\n",
       "      <td>9131/0</td>\n",
       "      <td>1.00</td>\n",
       "    </tr>\n",
       "    <tr>\n",
       "      <th>26</th>\n",
       "      <td>8589934592</td>\n",
       "      <td>nuclei</td>\n",
       "      <td>Psammomatous meningioma</td>\n",
       "      <td>9533/0</td>\n",
       "      <td>1.00</td>\n",
       "    </tr>\n",
       "    <tr>\n",
       "      <th>27</th>\n",
       "      <td>8589934592</td>\n",
       "      <td>desmin</td>\n",
       "      <td>Malignant peripheral nerv</td>\n",
       "      <td>9540/3</td>\n",
       "      <td>1.00</td>\n",
       "    </tr>\n",
       "    <tr>\n",
       "      <th>28</th>\n",
       "      <td>8589934592</td>\n",
       "      <td>intravenous</td>\n",
       "      <td>Hairy cell leukemia</td>\n",
       "      <td>9940/3</td>\n",
       "      <td>1.00</td>\n",
       "    </tr>\n",
       "    <tr>\n",
       "      <th>29</th>\n",
       "      <td>8589934592</td>\n",
       "      <td>fibrous tissue—as</td>\n",
       "      <td>Fibrous meningioma</td>\n",
       "      <td>9532/0</td>\n",
       "      <td>1.00</td>\n",
       "    </tr>\n",
       "    <tr>\n",
       "      <th>30</th>\n",
       "      <td>8589934592</td>\n",
       "      <td>He</td>\n",
       "      <td>Renal cell carcinoma</td>\n",
       "      <td>8312/3</td>\n",
       "      <td>1.00</td>\n",
       "    </tr>\n",
       "    <tr>\n",
       "      <th>31</th>\n",
       "      <td>8589934592</td>\n",
       "      <td>testicular germ cell tumor</td>\n",
       "      <td>Germ cell tumor, nonsemin</td>\n",
       "      <td>9065/3</td>\n",
       "      <td>1.00</td>\n",
       "    </tr>\n",
       "    <tr>\n",
       "      <th>32</th>\n",
       "      <td>8589934592</td>\n",
       "      <td>EWS-WT1</td>\n",
       "      <td>Acute monocytic leukemia</td>\n",
       "      <td>9891/3</td>\n",
       "      <td>1.00</td>\n",
       "    </tr>\n",
       "    <tr>\n",
       "      <th>33</th>\n",
       "      <td>8589934592</td>\n",
       "      <td>blood cell</td>\n",
       "      <td>Multiple myeloma</td>\n",
       "      <td>9732/3</td>\n",
       "      <td>1.00</td>\n",
       "    </tr>\n",
       "    <tr>\n",
       "      <th>34</th>\n",
       "      <td>8589934592</td>\n",
       "      <td>left</td>\n",
       "      <td>Fibromyxosarcoma</td>\n",
       "      <td>8811/3</td>\n",
       "      <td>1.00</td>\n",
       "    </tr>\n",
       "    <tr>\n",
       "      <th>35</th>\n",
       "      <td>8589934592</td>\n",
       "      <td>serum</td>\n",
       "      <td>Psammomatous meningioma</td>\n",
       "      <td>9533/0</td>\n",
       "      <td>1.00</td>\n",
       "    </tr>\n",
       "    <tr>\n",
       "      <th>36</th>\n",
       "      <td>8589934592</td>\n",
       "      <td>liver</td>\n",
       "      <td>Hepatocellular carcinoma,</td>\n",
       "      <td>8172/3</td>\n",
       "      <td>1.00</td>\n",
       "    </tr>\n",
       "    <tr>\n",
       "      <th>37</th>\n",
       "      <td>8589934592</td>\n",
       "      <td>patient</td>\n",
       "      <td>Gliofibroma</td>\n",
       "      <td>9442/1</td>\n",
       "      <td>1.00</td>\n",
       "    </tr>\n",
       "  </tbody>\n",
       "</table>\n",
       "</div>"
      ],
      "text/plain": [
       "          note                                chunk  ...    code confidence\n",
       "0   8589934592                 beta–human chorionic  ...  9100/3       3.37\n",
       "1   8589934592                            abdominal  ...  9764/3       1.72\n",
       "2   8589934592                           left groin  ...  8312/3       1.44\n",
       "3   8589934592                     left hemiscrotum  ...  8312/3       1.43\n",
       "4   8589934592                    alpha fetoprotein  ...  9764/3       1.43\n",
       "5   8589934592                         left scrotal  ...  8312/3       1.42\n",
       "6   8589934592                        pelvic masses  ...  8312/3       1.38\n",
       "7   8589934592                        needle biopsy  ...  8312/3       1.36\n",
       "8   8589934592                                blood  ...  9800/3       1.28\n",
       "9   8589934592                             vimentin  ...  9072/3       1.20\n",
       "10  8589934592                          cytokeratin  ...  8970/3       1.19\n",
       "11  8589934592                   bladder anteriorly  ...  8312/3       1.10\n",
       "12  8589934592                          left ureter  ...  8312/3       1.07\n",
       "13  8589934592                               pelvis  ...  8312/3       1.03\n",
       "14  8589934592                             cellular  ...  9664/3       1.03\n",
       "15  8589934592                               rectum  ...  9540/3       1.02\n",
       "16  8589934592                        left testicle  ...  9061/3       1.02\n",
       "17  8589934592                                  man  ...  9591/3       1.01\n",
       "18  8589934592                              abdomen  ...  8811/3       1.01\n",
       "19  8589934592  desmoplastic small round cell tumor  ...  8806/3       1.00\n",
       "20  8589934592                              urinary  ...  9533/0       1.00\n",
       "21  8589934592                      scant cytoplasm  ...  9831/3       1.00\n",
       "22  8589934592                                cells  ...  9940/3       1.00\n",
       "23  8589934592                       paratesticular  ...  9540/3       1.00\n",
       "24  8589934592                               tissue  ...  9699/3       1.00\n",
       "25  8589934592                                chest  ...  9131/0       1.00\n",
       "26  8589934592                               nuclei  ...  9533/0       1.00\n",
       "27  8589934592                               desmin  ...  9540/3       1.00\n",
       "28  8589934592                          intravenous  ...  9940/3       1.00\n",
       "29  8589934592                    fibrous tissue—as  ...  9532/0       1.00\n",
       "30  8589934592                                   He  ...  8312/3       1.00\n",
       "31  8589934592           testicular germ cell tumor  ...  9065/3       1.00\n",
       "32  8589934592                              EWS-WT1  ...  9891/3       1.00\n",
       "33  8589934592                           blood cell  ...  9732/3       1.00\n",
       "34  8589934592                                 left  ...  8811/3       1.00\n",
       "35  8589934592                                serum  ...  9533/0       1.00\n",
       "36  8589934592                                liver  ...  8172/3       1.00\n",
       "37  8589934592                              patient  ...  9442/1       1.00\n",
       "\n",
       "[38 rows x 5 columns]"
      ]
     },
     "execution_count": 79,
     "metadata": {
      "tags": []
     },
     "output_type": "execute_result"
    }
   ],
   "source": [
    "output.withColumn(\"note\",F.monotonically_increasing_id()).select(F.col(\"note\"),F.explode(F.arrays_zip(\"icdo_chunk.result\",\"tm_icdo_code.result\",\"tm_icdo_code.metadata\")).alias(\"icdo_result\")) \\\n",
    ".select(\"note\",\n",
    "        F.expr(\"icdo_result['0']\").alias(\"chunk\"),\n",
    "        F.expr(\"substring(icdo_result['2'].resolved_text,0,25)\").alias(\"resolved_text\"),\n",
    "        F.expr(\"icdo_result['1']\").alias(\"code\"),\n",
    "        F.expr(\"round(icdo_result['2'].confidence_ratio,2)\").alias(\"confidence\")) \\\n",
    ".distinct() \\\n",
    ".orderBy([\"note\",\"confidence\"], ascending=[True,False]) \\\n",
    ".toPandas()"
   ]
  },
  {
   "cell_type": "code",
   "execution_count": 80,
   "metadata": {
    "colab": {
     "base_uri": "https://localhost:8080/",
     "height": 1000
    },
    "colab_type": "code",
    "id": "mKpIiNHezX8w",
    "outputId": "7219e384-10ad-47f3-a553-05a6f82f2bc4"
   },
   "outputs": [
    {
     "data": {
      "text/html": [
       "<div>\n",
       "<style scoped>\n",
       "    .dataframe tbody tr th:only-of-type {\n",
       "        vertical-align: middle;\n",
       "    }\n",
       "\n",
       "    .dataframe tbody tr th {\n",
       "        vertical-align: top;\n",
       "    }\n",
       "\n",
       "    .dataframe thead th {\n",
       "        text-align: right;\n",
       "    }\n",
       "</style>\n",
       "<table border=\"1\" class=\"dataframe\">\n",
       "  <thead>\n",
       "    <tr style=\"text-align: right;\">\n",
       "      <th></th>\n",
       "      <th>chunk</th>\n",
       "      <th>entity</th>\n",
       "      <th>resolved_text</th>\n",
       "      <th>conf</th>\n",
       "    </tr>\n",
       "  </thead>\n",
       "  <tbody>\n",
       "    <tr>\n",
       "      <th>0</th>\n",
       "      <td>a complete blood cell count</td>\n",
       "      <td>TEST</td>\n",
       "      <td>Complete blood count</td>\n",
       "      <td>2.54</td>\n",
       "    </tr>\n",
       "    <tr>\n",
       "      <th>1</th>\n",
       "      <td>an EWS-WT1 fusion transcript</td>\n",
       "      <td>TEST</td>\n",
       "      <td>Fusion oncogene protein</td>\n",
       "      <td>1.66</td>\n",
       "    </tr>\n",
       "    <tr>\n",
       "      <th>2</th>\n",
       "      <td>coagulation panel</td>\n",
       "      <td>TEST</td>\n",
       "      <td>Blood coagulation panel</td>\n",
       "      <td>1.55</td>\n",
       "    </tr>\n",
       "    <tr>\n",
       "      <th>3</th>\n",
       "      <td>mild left scrotal pain</td>\n",
       "      <td>PROBLEM</td>\n",
       "      <td>Acute scrotal pain</td>\n",
       "      <td>1.54</td>\n",
       "    </tr>\n",
       "    <tr>\n",
       "      <th>4</th>\n",
       "      <td>urinary complaints</td>\n",
       "      <td>PROBLEM</td>\n",
       "      <td>Multiple complaints</td>\n",
       "      <td>1.51</td>\n",
       "    </tr>\n",
       "    <tr>\n",
       "      <th>5</th>\n",
       "      <td>a 7.8-cm para-aortic mass</td>\n",
       "      <td>PROBLEM</td>\n",
       "      <td>Observation of a mass</td>\n",
       "      <td>1.43</td>\n",
       "    </tr>\n",
       "    <tr>\n",
       "      <th>6</th>\n",
       "      <td>desmin</td>\n",
       "      <td>TEST</td>\n",
       "      <td>Desmin (substance)</td>\n",
       "      <td>1.32</td>\n",
       "    </tr>\n",
       "    <tr>\n",
       "      <th>7</th>\n",
       "      <td>further evaluation</td>\n",
       "      <td>TEST</td>\n",
       "      <td>Preanaesthesia evaluation</td>\n",
       "      <td>1.24</td>\n",
       "    </tr>\n",
       "    <tr>\n",
       "      <th>8</th>\n",
       "      <td>A CT scan of the chest, abdomen, an</td>\n",
       "      <td>TEST</td>\n",
       "      <td>Computed tomography of chest, abdom</td>\n",
       "      <td>1.23</td>\n",
       "    </tr>\n",
       "    <tr>\n",
       "      <th>9</th>\n",
       "      <td>a serum creatinine level</td>\n",
       "      <td>TEST</td>\n",
       "      <td>Corrected serum creatinine level</td>\n",
       "      <td>1.19</td>\n",
       "    </tr>\n",
       "    <tr>\n",
       "      <th>10</th>\n",
       "      <td>a testicular germ cell tumor</td>\n",
       "      <td>PROBLEM</td>\n",
       "      <td>Pineal germ cell tumor</td>\n",
       "      <td>1.17</td>\n",
       "    </tr>\n",
       "    <tr>\n",
       "      <th>11</th>\n",
       "      <td>retroperitoneal, and pelvic masses</td>\n",
       "      <td>PROBLEM</td>\n",
       "      <td>Abdomen, excluding retroperitoneal</td>\n",
       "      <td>1.13</td>\n",
       "    </tr>\n",
       "    <tr>\n",
       "      <th>12</th>\n",
       "      <td>Typical markers</td>\n",
       "      <td>TEST</td>\n",
       "      <td>Acid-base markers and blood gases</td>\n",
       "      <td>1.11</td>\n",
       "    </tr>\n",
       "    <tr>\n",
       "      <th>13</th>\n",
       "      <td>moderate left hydroureteronephrosis</td>\n",
       "      <td>PROBLEM</td>\n",
       "      <td>Moderate left ventricular systolic</td>\n",
       "      <td>1.10</td>\n",
       "    </tr>\n",
       "    <tr>\n",
       "      <th>14</th>\n",
       "      <td>the beta–human chorionic gonadotrop</td>\n",
       "      <td>TEST</td>\n",
       "      <td>Human chorionic gonadotropin level</td>\n",
       "      <td>1.07</td>\n",
       "    </tr>\n",
       "    <tr>\n",
       "      <th>15</th>\n",
       "      <td>large multifocal intra-abdominal</td>\n",
       "      <td>PROBLEM</td>\n",
       "      <td>Neoplasm of large intestine</td>\n",
       "      <td>1.06</td>\n",
       "    </tr>\n",
       "    <tr>\n",
       "      <th>16</th>\n",
       "      <td>liver function tests</td>\n",
       "      <td>TEST</td>\n",
       "      <td>Lung function tests</td>\n",
       "      <td>1.06</td>\n",
       "    </tr>\n",
       "    <tr>\n",
       "      <th>17</th>\n",
       "      <td>three separate pelvic masses</td>\n",
       "      <td>PROBLEM</td>\n",
       "      <td>Mass of pelvic structure</td>\n",
       "      <td>1.05</td>\n",
       "    </tr>\n",
       "    <tr>\n",
       "      <th>18</th>\n",
       "      <td>basic chemistry panel</td>\n",
       "      <td>TEST</td>\n",
       "      <td>Serum chemistry test</td>\n",
       "      <td>1.05</td>\n",
       "    </tr>\n",
       "    <tr>\n",
       "      <th>19</th>\n",
       "      <td>Further mutational analysis of the</td>\n",
       "      <td>TEST</td>\n",
       "      <td>The smothers</td>\n",
       "      <td>1.04</td>\n",
       "    </tr>\n",
       "    <tr>\n",
       "      <th>20</th>\n",
       "      <td>hyperchromatic nuclei</td>\n",
       "      <td>PROBLEM</td>\n",
       "      <td>Special examination arranged</td>\n",
       "      <td>1.03</td>\n",
       "    </tr>\n",
       "    <tr>\n",
       "      <th>21</th>\n",
       "      <td>invading fibrous tissue—as</td>\n",
       "      <td>PROBLEM</td>\n",
       "      <td>Fibrous cavernositis</td>\n",
       "      <td>1.03</td>\n",
       "    </tr>\n",
       "    <tr>\n",
       "      <th>22</th>\n",
       "      <td>strong positivity</td>\n",
       "      <td>PROBLEM</td>\n",
       "      <td>Neospora</td>\n",
       "      <td>1.03</td>\n",
       "    </tr>\n",
       "    <tr>\n",
       "      <th>23</th>\n",
       "      <td>Immunohistochemical staining</td>\n",
       "      <td>TEST</td>\n",
       "      <td>Trichrome staining</td>\n",
       "      <td>1.02</td>\n",
       "    </tr>\n",
       "    <tr>\n",
       "      <th>24</th>\n",
       "      <td>a hard paratesticular mass</td>\n",
       "      <td>PROBLEM</td>\n",
       "      <td>Paratesticular mass (disorder)</td>\n",
       "      <td>1.02</td>\n",
       "    </tr>\n",
       "    <tr>\n",
       "      <th>25</th>\n",
       "      <td>A hard, lower abdominal mass in the</td>\n",
       "      <td>PROBLEM</td>\n",
       "      <td>Left lower quadrant abdominal swell</td>\n",
       "      <td>1.02</td>\n",
       "    </tr>\n",
       "    <tr>\n",
       "      <th>26</th>\n",
       "      <td>cellular islands with oval to elong</td>\n",
       "      <td>PROBLEM</td>\n",
       "      <td>Adult pubic hair in type and quanti</td>\n",
       "      <td>1.01</td>\n",
       "    </tr>\n",
       "    <tr>\n",
       "      <th>27</th>\n",
       "      <td>blood work</td>\n",
       "      <td>TEST</td>\n",
       "      <td>Uncongenial work</td>\n",
       "      <td>1.01</td>\n",
       "    </tr>\n",
       "    <tr>\n",
       "      <th>28</th>\n",
       "      <td>pelvic masses</td>\n",
       "      <td>PROBLEM</td>\n",
       "      <td>Pelvic lymphangiogram</td>\n",
       "      <td>1.01</td>\n",
       "    </tr>\n",
       "    <tr>\n",
       "      <th>29</th>\n",
       "      <td>mild constipation</td>\n",
       "      <td>PROBLEM</td>\n",
       "      <td>Intractable constipation</td>\n",
       "      <td>1.01</td>\n",
       "    </tr>\n",
       "    <tr>\n",
       "      <th>30</th>\n",
       "      <td>a large left scrotal mass</td>\n",
       "      <td>PROBLEM</td>\n",
       "      <td>Mass of left ovary</td>\n",
       "      <td>1.00</td>\n",
       "    </tr>\n",
       "    <tr>\n",
       "      <th>31</th>\n",
       "      <td>progressively increased in size</td>\n",
       "      <td>PROBLEM</td>\n",
       "      <td>Ischaemia co-occurrent and due to i</td>\n",
       "      <td>1.00</td>\n",
       "    </tr>\n",
       "    <tr>\n",
       "      <th>32</th>\n",
       "      <td>the alpha fetoprotein level</td>\n",
       "      <td>TEST</td>\n",
       "      <td>Maternal serum alpha fetoprotein le</td>\n",
       "      <td>1.00</td>\n",
       "    </tr>\n",
       "    <tr>\n",
       "      <th>33</th>\n",
       "      <td>Microscopic examination of the tiss</td>\n",
       "      <td>TEST</td>\n",
       "      <td>Microscopic examination of specimen</td>\n",
       "      <td>1.00</td>\n",
       "    </tr>\n",
       "    <tr>\n",
       "      <th>34</th>\n",
       "      <td>cross-sectional imaging</td>\n",
       "      <td>TEST</td>\n",
       "      <td>Cardiovascular flow study imaging</td>\n",
       "      <td>1.00</td>\n",
       "    </tr>\n",
       "    <tr>\n",
       "      <th>35</th>\n",
       "      <td>these displaced the bladder anterio</td>\n",
       "      <td>PROBLEM</td>\n",
       "      <td>Anaerobic gram-negative, straight,</td>\n",
       "      <td>1.00</td>\n",
       "    </tr>\n",
       "    <tr>\n",
       "      <th>36</th>\n",
       "      <td>left scrotal swelling</td>\n",
       "      <td>PROBLEM</td>\n",
       "      <td>Swelling of left foot</td>\n",
       "      <td>1.00</td>\n",
       "    </tr>\n",
       "    <tr>\n",
       "      <th>37</th>\n",
       "      <td>vimentin</td>\n",
       "      <td>TEST</td>\n",
       "      <td>Vimentin (substance)</td>\n",
       "      <td>1.00</td>\n",
       "    </tr>\n",
       "    <tr>\n",
       "      <th>38</th>\n",
       "      <td>desmoplastic small round cell tumor</td>\n",
       "      <td>PROBLEM</td>\n",
       "      <td>Desmoplastic small round cell tumor</td>\n",
       "      <td>0.50</td>\n",
       "    </tr>\n",
       "    <tr>\n",
       "      <th>39</th>\n",
       "      <td>physical examination</td>\n",
       "      <td>TEST</td>\n",
       "      <td>Physical examination</td>\n",
       "      <td>0.50</td>\n",
       "    </tr>\n",
       "    <tr>\n",
       "      <th>40</th>\n",
       "      <td>hard stools</td>\n",
       "      <td>PROBLEM</td>\n",
       "      <td>Hard stools</td>\n",
       "      <td>0.50</td>\n",
       "    </tr>\n",
       "    <tr>\n",
       "      <th>41</th>\n",
       "      <td>ultrasound-guided needle biopsy</td>\n",
       "      <td>TEST</td>\n",
       "      <td>Needle biopsy</td>\n",
       "      <td>-7.16</td>\n",
       "    </tr>\n",
       "  </tbody>\n",
       "</table>\n",
       "</div>"
      ],
      "text/plain": [
       "                                  chunk  ...  conf\n",
       "0           a complete blood cell count  ...  2.54\n",
       "1          an EWS-WT1 fusion transcript  ...  1.66\n",
       "2                     coagulation panel  ...  1.55\n",
       "3                mild left scrotal pain  ...  1.54\n",
       "4                    urinary complaints  ...  1.51\n",
       "5             a 7.8-cm para-aortic mass  ...  1.43\n",
       "6                                desmin  ...  1.32\n",
       "7                    further evaluation  ...  1.24\n",
       "8   A CT scan of the chest, abdomen, an  ...  1.23\n",
       "9              a serum creatinine level  ...  1.19\n",
       "10         a testicular germ cell tumor  ...  1.17\n",
       "11   retroperitoneal, and pelvic masses  ...  1.13\n",
       "12                      Typical markers  ...  1.11\n",
       "13  moderate left hydroureteronephrosis  ...  1.10\n",
       "14  the beta–human chorionic gonadotrop  ...  1.07\n",
       "15     large multifocal intra-abdominal  ...  1.06\n",
       "16                 liver function tests  ...  1.06\n",
       "17         three separate pelvic masses  ...  1.05\n",
       "18                basic chemistry panel  ...  1.05\n",
       "19  Further mutational analysis of the   ...  1.04\n",
       "20                hyperchromatic nuclei  ...  1.03\n",
       "21           invading fibrous tissue—as  ...  1.03\n",
       "22                    strong positivity  ...  1.03\n",
       "23         Immunohistochemical staining  ...  1.02\n",
       "24           a hard paratesticular mass  ...  1.02\n",
       "25  A hard, lower abdominal mass in the  ...  1.02\n",
       "26  cellular islands with oval to elong  ...  1.01\n",
       "27                           blood work  ...  1.01\n",
       "28                        pelvic masses  ...  1.01\n",
       "29                    mild constipation  ...  1.01\n",
       "30            a large left scrotal mass  ...  1.00\n",
       "31      progressively increased in size  ...  1.00\n",
       "32          the alpha fetoprotein level  ...  1.00\n",
       "33  Microscopic examination of the tiss  ...  1.00\n",
       "34              cross-sectional imaging  ...  1.00\n",
       "35  these displaced the bladder anterio  ...  1.00\n",
       "36                left scrotal swelling  ...  1.00\n",
       "37                             vimentin  ...  1.00\n",
       "38  desmoplastic small round cell tumor  ...  0.50\n",
       "39                 physical examination  ...  0.50\n",
       "40                          hard stools  ...  0.50\n",
       "41      ultrasound-guided needle biopsy  ... -7.16\n",
       "\n",
       "[42 rows x 4 columns]"
      ]
     },
     "execution_count": 80,
     "metadata": {
      "tags": []
     },
     "output_type": "execute_result"
    }
   ],
   "source": [
    "output.select(F.explode(F.arrays_zip(\"ner_chunk.result\",\"ner_chunk.metadata\",\"snomed_result.result\",\"snomed_result.metadata\")).alias(\"icdo_result\")) \\\n",
    ".select(F.expr(\"substring(icdo_result['0'],0,35)\").alias(\"chunk\"),\n",
    "        F.expr(\"icdo_result['1'].entity\").alias(\"entity\"),\n",
    "        #F.expr(\"icdo_result['3'].target_text\").alias(\"target_text\"),\n",
    "        F.expr(\"substring(icdo_result['3'].resolved_text,0,35)\").alias(\"resolved_text\"),\n",
    "        #F.expr(\"icdo_result['2']\").alias(\"code\"),\n",
    "        #F.expr(\"icdo_result['2'].alternative_codes\").alias(\"alternative_codes\"),\n",
    "        F.expr(\"round(icdo_result['3'].confidence_ratio,2)\").alias(\"conf\")\n",
    "       ) \\\n",
    ".distinct() \\\n",
    ".orderBy(\"conf\",ascending=False)\\\n",
    ".toPandas()"
   ]
  },
  {
   "cell_type": "code",
   "execution_count": null,
   "metadata": {
    "colab": {},
    "colab_type": "code",
    "id": "eO993LOZzn7_"
   },
   "outputs": [],
   "source": []
  }
 ],
 "metadata": {
  "colab": {
   "collapsed_sections": [],
   "name": "3.Clinical_Entity_Resolvers.ipynb",
   "provenance": []
  },
  "kernelspec": {
   "display_name": "Python 3",
   "language": "python",
   "name": "python3"
  },
  "language_info": {
   "codemirror_mode": {
    "name": "ipython",
    "version": 3
   },
   "file_extension": ".py",
   "mimetype": "text/x-python",
   "name": "python",
   "nbconvert_exporter": "python",
   "pygments_lexer": "ipython3",
   "version": "3.7.4"
  }
 },
 "nbformat": 4,
 "nbformat_minor": 4
}
