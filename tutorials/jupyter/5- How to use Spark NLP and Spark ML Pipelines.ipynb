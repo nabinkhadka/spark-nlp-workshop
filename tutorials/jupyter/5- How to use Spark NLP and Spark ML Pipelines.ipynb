{
  "nbformat": 4,
  "nbformat_minor": 0,
  "metadata": {
    "kernelspec": {
      "display_name": "dependency_parser_py3.7",
      "language": "python",
      "name": "dependency_parser_py3.7"
    },
    "language_info": {
      "codemirror_mode": {
        "name": "ipython",
        "version": 3
      },
      "file_extension": ".py",
      "mimetype": "text/x-python",
      "name": "python",
      "nbconvert_exporter": "python",
      "pygments_lexer": "ipython3",
      "version": "3.7.6"
    },
    "colab": {
      "name": "5- How to use Spark NLP and Spark ML Pipelines.ipynb",
      "provenance": [],
      "collapsed_sections": []
    }
  },
  "cells": [
    {
      "cell_type": "markdown",
      "metadata": {
        "id": "4z7qzgHN57Da",
        "colab_type": "text"
      },
      "source": [
        "![JohnSnowLabs](https://nlp.johnsnowlabs.com/assets/images/logo.png)"
      ]
    },
    {
      "cell_type": "markdown",
      "metadata": {
        "id": "2IAGcd8757D3",
        "colab_type": "text"
      },
      "source": [
        "# Spark NLP and Spark ML Pipelines"
      ]
    },
    {
      "cell_type": "markdown",
      "metadata": {
        "id": "0EPeAfbf57EN",
        "colab_type": "text"
      },
      "source": [
        "## Simple Topic Modeling\n",
        "\n",
        "`Spark-NLP`\n",
        "* DocumentAssembler\n",
        "* SentenceDetector\n",
        "* Tokenizer\n",
        "* Normalizer\n",
        "* POS tagger\n",
        "* Chunker\n",
        "* Finisher\n",
        "\n",
        "`Spark ML`\n",
        "* Hashing\n",
        "* TF-IDF\n",
        "* LDA"
      ]
    },
    {
      "cell_type": "code",
      "metadata": {
        "id": "KEuzEtYE57Eg",
        "colab_type": "code",
        "colab": {}
      },
      "source": [
        "import sys\n",
        "import time\n",
        "\n",
        "from pyspark.sql.functions import col\n",
        "from pyspark.ml.feature import CountVectorizer, HashingTF, IDF, Tokenizer\n",
        "from pyspark.ml.clustering import LDA, LDAModel\n",
        "\n",
        "#Spark NLP\n",
        "import sparknlp\n",
        "from sparknlp.pretrained import PretrainedPipeline\n",
        "from sparknlp.annotator import *\n",
        "from sparknlp.common import RegexRule\n",
        "from sparknlp.base import *"
      ],
      "execution_count": 2,
      "outputs": []
    },
    {
      "cell_type": "markdown",
      "metadata": {
        "id": "wVWI81h257FH",
        "colab_type": "text"
      },
      "source": [
        "### Let's create a Spark Session for our app"
      ]
    },
    {
      "cell_type": "code",
      "metadata": {
        "id": "-aMxhxT057FM",
        "colab_type": "code",
        "colab": {
          "base_uri": "https://localhost:8080/",
          "height": 50
        },
        "outputId": "e08fd8a1-24c9-4de3-d9d1-eed3080e5cdd"
      },
      "source": [
        "spark = sparknlp.start()\n",
        "\n",
        "print(\"Spark NLP version: \", sparknlp.version())\n",
        "print(\"Apache Spark version: \", spark.version)"
      ],
      "execution_count": 3,
      "outputs": [
        {
          "output_type": "stream",
          "text": [
            "Spark NLP version:  2.4.2\n",
            "Apache Spark version:  2.4.4\n"
          ],
          "name": "stdout"
        }
      ]
    },
    {
      "cell_type": "markdown",
      "metadata": {
        "id": "ljYdLGFg57Fn",
        "colab_type": "text"
      },
      "source": [
        "Let's download some scientific sample from PubMed dataset:\n",
        "```\n",
        "wget -N \thttps://s3.amazonaws.com/auxdata.johnsnowlabs.com/public/resources/en/pubmed/pubmed-sample.csv -P /tmp\n",
        "```"
      ]
    },
    {
      "cell_type": "code",
      "metadata": {
        "id": "THoie2TP57Fq",
        "colab_type": "code",
        "colab": {
          "base_uri": "https://localhost:8080/",
          "height": 196
        },
        "outputId": "73cd41ae-823f-4fc3-d53d-d919786a61c9"
      },
      "source": [
        "! wget -N \thttps://s3.amazonaws.com/auxdata.johnsnowlabs.com/public/resources/en/pubmed/pubmed-sample.csv -P /tmp"
      ],
      "execution_count": 4,
      "outputs": [
        {
          "output_type": "stream",
          "text": [
            "--2020-06-29 16:32:06--  https://s3.amazonaws.com/auxdata.johnsnowlabs.com/public/resources/en/pubmed/pubmed-sample.csv\n",
            "Resolving s3.amazonaws.com (s3.amazonaws.com)... 52.216.26.158\n",
            "Connecting to s3.amazonaws.com (s3.amazonaws.com)|52.216.26.158|:443... connected.\n",
            "HTTP request sent, awaiting response... 200 OK\n",
            "Length: 10484510 (10.0M) [text/csv]\n",
            "Saving to: ‘/tmp/pubmed-sample.csv’\n",
            "\n",
            "pubmed-sample.csv   100%[===================>]  10.00M  16.1MB/s    in 0.6s    \n",
            "\n",
            "2020-06-29 16:32:07 (16.1 MB/s) - ‘/tmp/pubmed-sample.csv’ saved [10484510/10484510]\n",
            "\n"
          ],
          "name": "stdout"
        }
      ]
    },
    {
      "cell_type": "code",
      "metadata": {
        "id": "emTfVUoT57F1",
        "colab_type": "code",
        "colab": {}
      },
      "source": [
        "pubMedDF = spark.read\\\n",
        "                .option(\"header\", \"true\")\\\n",
        "                .csv(\"/tmp/pubmed-sample.csv\")\\\n",
        "                .filter(\"AB IS NOT null\")\\\n",
        "                .withColumn(\"text\", col(\"AB\"))\\\n",
        "                .drop(\"TI\", \"AB\")"
      ],
      "execution_count": 5,
      "outputs": []
    },
    {
      "cell_type": "code",
      "metadata": {
        "id": "BJLM8EJg57F-",
        "colab_type": "code",
        "colab": {
          "base_uri": "https://localhost:8080/",
          "height": 505
        },
        "outputId": "2259b358-109a-4d0d-d5b9-b83e25ca89af"
      },
      "source": [
        "pubMedDF.printSchema()\n",
        "pubMedDF.show()\n",
        "print('rows', pubMedDF.count())\n",
        "pubMedDF = pubMedDF.limit(200) #minimize dataset if you are not running on a cluster"
      ],
      "execution_count": 6,
      "outputs": [
        {
          "output_type": "stream",
          "text": [
            "root\n",
            " |-- text: string (nullable = true)\n",
            "\n",
            "+--------------------+\n",
            "|                text|\n",
            "+--------------------+\n",
            "|The human KCNJ9 (...|\n",
            "|BACKGROUND: At pr...|\n",
            "|OBJECTIVE: To inv...|\n",
            "|Combined EEG/fMRI...|\n",
            "|Kohlschutter synd...|\n",
            "|Statistical analy...|\n",
            "|The synthetic DOX...|\n",
            "|Our objective was...|\n",
            "|We conducted a ph...|\n",
            "|\"Monomeric sarcos...|\n",
            "|We presented the ...|\n",
            "|The literature de...|\n",
            "|A novel approach ...|\n",
            "|An HPLC-ESI-MS-MS...|\n",
            "|The localizing an...|\n",
            "|OBJECTIVE: To eva...|\n",
            "|For the construct...|\n",
            "|We report the res...|\n",
            "|Intraparenchymal ...|\n",
            "|It is known that ...|\n",
            "+--------------------+\n",
            "only showing top 20 rows\n",
            "\n",
            "rows 7537\n"
          ],
          "name": "stdout"
        }
      ]
    },
    {
      "cell_type": "markdown",
      "metadata": {
        "id": "vqdu2hFt57GL",
        "colab_type": "text"
      },
      "source": [
        "### Let's create Spark-NLP Pipeline"
      ]
    },
    {
      "cell_type": "code",
      "metadata": {
        "id": "KF4bSQGg57GN",
        "colab_type": "code",
        "colab": {
          "base_uri": "https://localhost:8080/",
          "height": 66
        },
        "outputId": "12e95e44-f7f1-438f-c82c-15d1fd8e75ac"
      },
      "source": [
        "# Spark NLP Pipeline\n",
        "\n",
        "document_assembler = DocumentAssembler() \\\n",
        "    .setInputCol(\"text\")\n",
        "\n",
        "sentence_detector = SentenceDetector() \\\n",
        "    .setInputCols([\"document\"]) \\\n",
        "    .setOutputCol(\"sentence\")\n",
        "\n",
        "tokenizer = Tokenizer() \\\n",
        "    .setInputCols([\"sentence\"]) \\\n",
        "    .setOutputCol(\"token\")\n",
        "\n",
        "posTagger = PerceptronModel.pretrained() \\\n",
        "  .setInputCols([\"sentence\", \"token\"])\n",
        "\n",
        "chunker = Chunker() \\\n",
        "    .setInputCols([\"sentence\", \"pos\"]) \\\n",
        "    .setOutputCol(\"chunk\") \\\n",
        "    .setRegexParsers([\"<NNP>+\", \"<DT>?<JJ>*<NN>\"])\n",
        "\n",
        "finisher = Finisher() \\\n",
        "  .setInputCols([\"chunk\"]) \\\n",
        "  .setIncludeMetadata(False)\n",
        "\n",
        "nlpPipeline = Pipeline(stages=[\n",
        "    document_assembler, \n",
        "    sentence_detector, \n",
        "    tokenizer,\n",
        "    posTagger,\n",
        "    chunker,\n",
        "    finisher\n",
        "])"
      ],
      "execution_count": 7,
      "outputs": [
        {
          "output_type": "stream",
          "text": [
            "pos_anc download started this may take some time.\n",
            "Approximate size to download 4.3 MB\n",
            "[OK!]\n"
          ],
          "name": "stdout"
        }
      ]
    },
    {
      "cell_type": "code",
      "metadata": {
        "id": "wQpoBmBQ57GZ",
        "colab_type": "code",
        "colab": {}
      },
      "source": [
        "nlpPipelineDF = nlpPipeline.fit(pubMedDF).transform(pubMedDF)"
      ],
      "execution_count": 8,
      "outputs": []
    },
    {
      "cell_type": "markdown",
      "metadata": {
        "id": "v3cTHcvM57Gh",
        "colab_type": "text"
      },
      "source": [
        "### Let's create Spark ML Pipeline"
      ]
    },
    {
      "cell_type": "code",
      "metadata": {
        "id": "J86d68dw57Gi",
        "colab_type": "code",
        "colab": {}
      },
      "source": [
        "# SPark ML Pipeline\n",
        "\n",
        "cv = CountVectorizer(inputCol=\"finished_chunk\", outputCol=\"features\", vocabSize=1000, minDF=10.0, minTF=10.0)\n",
        "idf = IDF(inputCol=\"features\", outputCol=\"idf\")\n",
        "lda = LDA(k=10, maxIter=5)\n",
        "### Let's create Spark-NLP Pipeline\n",
        "mlPipeline = Pipeline(stages=[\n",
        "    cv,\n",
        "    idf,\n",
        "    lda\n",
        "])"
      ],
      "execution_count": 9,
      "outputs": []
    },
    {
      "cell_type": "markdown",
      "metadata": {
        "id": "3gsgIMYb57Gp",
        "colab_type": "text"
      },
      "source": [
        "### We are going to train Spark ML Pipeline by using Spark-NLP Pipeline"
      ]
    },
    {
      "cell_type": "code",
      "metadata": {
        "id": "02kj9BFc57Gr",
        "colab_type": "code",
        "colab": {}
      },
      "source": [
        "# Let's create Spark-NLP Pipeline\n",
        "mlModel = mlPipeline.fit(nlpPipelineDF)"
      ],
      "execution_count": 10,
      "outputs": []
    },
    {
      "cell_type": "code",
      "metadata": {
        "id": "uePteSjt57Gw",
        "colab_type": "code",
        "colab": {}
      },
      "source": [
        "mlPipelineDF = mlModel.transform(nlpPipelineDF)"
      ],
      "execution_count": 11,
      "outputs": []
    },
    {
      "cell_type": "code",
      "metadata": {
        "id": "h1aJa9wq57G5",
        "colab_type": "code",
        "colab": {
          "base_uri": "https://localhost:8080/",
          "height": 440
        },
        "outputId": "9353f6f5-75cd-4497-d4f3-a347ca7da40a"
      },
      "source": [
        "mlPipelineDF.show()"
      ],
      "execution_count": 12,
      "outputs": [
        {
          "output_type": "stream",
          "text": [
            "+--------------------+--------------------+----------+----------+--------------------+\n",
            "|                text|      finished_chunk|  features|       idf|   topicDistribution|\n",
            "+--------------------+--------------------+----------+----------+--------------------+\n",
            "|The human KCNJ9 (...|[KCNJ9, Kir, GIRK...|(39,[],[])|(39,[],[])|[0.0,0.0,0.0,0.0,...|\n",
            "|BACKGROUND: At pr...|[BACKGROUND, the ...|(39,[],[])|(39,[],[])|[0.0,0.0,0.0,0.0,...|\n",
            "|OBJECTIVE: To inv...|[OBJECTIVE, =9796...|(39,[],[])|(39,[],[])|[0.0,0.0,0.0,0.0,...|\n",
            "|Combined EEG/fMRI...|[Combined EEG/fMR...|(39,[],[])|(39,[],[])|[0.0,0.0,0.0,0.0,...|\n",
            "|Kohlschutter synd...|[Kohlschutter, sy...|(39,[],[])|(39,[],[])|[0.0,0.0,0.0,0.0,...|\n",
            "|Statistical analy...|[Statistical, ana...|(39,[],[])|(39,[],[])|[0.0,0.0,0.0,0.0,...|\n",
            "|The synthetic DOX...|[DOX-LNA, conjuga...|(39,[],[])|(39,[],[])|[0.0,0.0,0.0,0.0,...|\n",
            "|Our objective was...|[objective, blood...|(39,[],[])|(39,[],[])|[0.0,0.0,0.0,0.0,...|\n",
            "|We conducted a ph...|[II, a phase, stu...|(39,[],[])|(39,[],[])|[0.0,0.0,0.0,0.0,...|\n",
            "|\"Monomeric sarcos...|[Monomeric, MSOX,...|(39,[],[])|(39,[],[])|[0.0,0.0,0.0,0.0,...|\n",
            "|We presented the ...|[Exorista, Mythim...|(39,[],[])|(39,[],[])|[0.0,0.0,0.0,0.0,...|\n",
            "|The literature de...|[The literature, ...|(39,[],[])|(39,[],[])|[0.0,0.0,0.0,0.0,...|\n",
            "|A novel approach ...|[A novel, approac...|(39,[],[])|(39,[],[])|[0.0,0.0,0.0,0.0,...|\n",
            "|An HPLC-ESI-MS-MS...|[HPLC-ESI-MS-MS, ...|(39,[],[])|(39,[],[])|[0.0,0.0,0.0,0.0,...|\n",
            "|The localizing an...|[The localizing, ...|(39,[],[])|(39,[],[])|[0.0,0.0,0.0,0.0,...|\n",
            "|OBJECTIVE: To eva...|[OBJECTIVE, June,...|(39,[],[])|(39,[],[])|[0.0,0.0,0.0,0.0,...|\n",
            "|For the construct...|[the construction...|(39,[],[])|(39,[],[])|[0.0,0.0,0.0,0.0,...|\n",
            "|We report the res...|[PNP, GSTO, Yaqui...|(39,[],[])|(39,[],[])|[0.0,0.0,0.0,0.0,...|\n",
            "|Intraparenchymal ...|[Intraparenchymal...|(39,[],[])|(39,[],[])|[0.0,0.0,0.0,0.0,...|\n",
            "|It is known that ...|[Klinefelter's, s...|(39,[],[])|(39,[],[])|[0.0,0.0,0.0,0.0,...|\n",
            "+--------------------+--------------------+----------+----------+--------------------+\n",
            "only showing top 20 rows\n",
            "\n"
          ],
          "name": "stdout"
        }
      ]
    },
    {
      "cell_type": "code",
      "metadata": {
        "id": "suE9r6hs57HB",
        "colab_type": "code",
        "colab": {}
      },
      "source": [
        "ldaModel = mlModel.stages[2]"
      ],
      "execution_count": 13,
      "outputs": []
    },
    {
      "cell_type": "code",
      "metadata": {
        "id": "tCXM4vDp57HH",
        "colab_type": "code",
        "colab": {
          "base_uri": "https://localhost:8080/",
          "height": 50
        },
        "outputId": "543801e3-25f1-4a43-9488-82d6e76e5e6c"
      },
      "source": [
        "ll = ldaModel.logLikelihood(mlPipelineDF)\n",
        "lp = ldaModel.logPerplexity(mlPipelineDF)\n",
        "print(\"The lower bound on the log likelihood of the entire corpus: \" + str(ll))\n",
        "print(\"The upper bound on perplexity: \" + str(lp))\n"
      ],
      "execution_count": 14,
      "outputs": [
        {
          "output_type": "stream",
          "text": [
            "The lower bound on the log likelihood of the entire corpus: -474.6273762902821\n",
            "The upper bound on perplexity: 20.635972882186177\n"
          ],
          "name": "stdout"
        }
      ]
    },
    {
      "cell_type": "code",
      "metadata": {
        "id": "RxnifLA257HO",
        "colab_type": "code",
        "colab": {
          "base_uri": "https://localhost:8080/",
          "height": 277
        },
        "outputId": "a2423f29-cc71-4030-8887-c8c5e96670ad"
      },
      "source": [
        "# Describe topics.\n",
        "print(\"The topics described by their top-weighted terms:\")\n",
        "ldaModel.describeTopics(3).show(truncate=False)"
      ],
      "execution_count": 15,
      "outputs": [
        {
          "output_type": "stream",
          "text": [
            "The topics described by their top-weighted terms:\n",
            "+-----+------------+-----------------------------------------------------------------+\n",
            "|topic|termIndices |termWeights                                                      |\n",
            "+-----+------------+-----------------------------------------------------------------+\n",
            "|0    |[1, 14, 16] |[0.18960784769081807, 0.025568247138736146, 0.025372059866659222]|\n",
            "|1    |[38, 5, 22] |[0.03254468182866637, 0.031060649278838486, 0.030587731414429147]|\n",
            "|2    |[13, 10, 26]|[0.032003890160653546, 0.03181408544349651, 0.0302091169229786]  |\n",
            "|3    |[16, 11, 6] |[0.03042165553411352, 0.02967264902618647, 0.029588840236766063] |\n",
            "|4    |[32, 21, 19]|[0.03062140328168646, 0.0296858256326627, 0.029651478380734106]  |\n",
            "|5    |[14, 20, 5] |[0.0314283137127807, 0.030943996152498814, 0.029890273233763708] |\n",
            "|6    |[14, 2, 25] |[0.030355539329409865, 0.02958853115882957, 0.02892428233776194] |\n",
            "|7    |[20, 38, 12]|[0.03160353985995292, 0.03039394774029663, 0.030041690192499047] |\n",
            "|8    |[7, 37, 35] |[0.03068411265502387, 0.03065315527575335, 0.029542582501680157] |\n",
            "|9    |[10, 7, 17] |[0.03112030905054645, 0.030238768243513015, 0.02989768881468135] |\n",
            "+-----+------------+-----------------------------------------------------------------+\n",
            "\n"
          ],
          "name": "stdout"
        }
      ]
    },
    {
      "cell_type": "markdown",
      "metadata": {
        "id": "63TxUsJw57HS",
        "colab_type": "text"
      },
      "source": [
        "### Let's look at out topics\n",
        "NOTE: More cleaning, filtering, playing around with `CountVectorizer`, and more iterations in `LDA` will result in better Topic Modelling results."
      ]
    },
    {
      "cell_type": "code",
      "metadata": {
        "id": "wVzJ8Vcv57HU",
        "colab_type": "code",
        "colab": {
          "base_uri": "https://localhost:8080/",
          "height": 1000
        },
        "outputId": "1427a7e1-cc6e-4fcf-c7d0-634894d2723e"
      },
      "source": [
        "# Output topics. Each is a distribution over words (matching word count vectors)\n",
        "print(\"Learned topics (as distributions over vocab of \" + str(ldaModel.vocabSize())\n",
        "      + \" words):\")\n",
        "\n",
        "topics = ldaModel.describeTopics(20)\n",
        "topics_rdd = topics.rdd\n",
        "\n",
        "vocab = mlModel.stages[0].vocabulary\n",
        "\n",
        "topics_words = topics_rdd\\\n",
        "       .map(lambda row: row['termIndices'])\\\n",
        "       .map(lambda idx_list: [vocab[idx] for idx in idx_list])\\\n",
        "       .collect()\n",
        "\n",
        "for idx, topic in enumerate(topics_words):\n",
        "    print(\"topic: \", idx)\n",
        "    print(\"----------\")\n",
        "    for word in topic:\n",
        "        print(word)\n",
        "    print(\"----------\")"
      ],
      "execution_count": 16,
      "outputs": [
        {
          "output_type": "stream",
          "text": [
            "Learned topics (as distributions over vocab of 39 words):\n",
            "topic:  0\n",
            "----------\n",
            "),\n",
            "BACKGROUND\n",
            "activity\n",
            "age\n",
            "cell\n",
            "risk\n",
            "this study\n",
            "response\n",
            "CONCLUSIONS\n",
            "addition\n",
            "contrast\n",
            "disease\n",
            "function\n",
            "factor\n",
            "study\n",
            ").\n",
            "DNA\n",
            "cancer\n",
            "protein\n",
            "expression\n",
            "----------\n",
            "topic:  1\n",
            "----------\n",
            "factor\n",
            "protein\n",
            "gene\n",
            "<\n",
            "group\n",
            "this study\n",
            "contrast\n",
            "risk\n",
            "serum\n",
            "vitro\n",
            "time\n",
            "analysis\n",
            "P\n",
            "study\n",
            "CONCLUSION\n",
            "family\n",
            "disease\n",
            "PURPOSE\n",
            "vivo\n",
            "treatment\n",
            "----------\n",
            "topic:  2\n",
            "----------\n",
            "rate\n",
            "CONCLUSIONS\n",
            "study\n",
            "expression\n",
            "disease\n",
            ").\n",
            "therapy\n",
            "P\n",
            "vitro\n",
            "response\n",
            "serum\n",
            "method\n",
            "contrast\n",
            "time\n",
            "protein\n",
            "addition\n",
            "METHODS\n",
            "DNA\n",
            "group\n",
            "level\n",
            "----------\n",
            "topic:  3\n",
            "----------\n",
            "activity\n",
            "<\n",
            "group\n",
            "contrast\n",
            "vitro\n",
            "vivo\n",
            "method\n",
            "cell\n",
            ").\n",
            "BACKGROUND\n",
            "CONCLUSIONS\n",
            "disease\n",
            "PURPOSE\n",
            "CONCLUSION\n",
            "analysis\n",
            "factor\n",
            "age\n",
            "family\n",
            "addition\n",
            "protein\n",
            "----------\n",
            "topic:  4\n",
            "----------\n",
            "risk\n",
            "serum\n",
            "CONCLUSION\n",
            "this study\n",
            "contrast\n",
            "level\n",
            "),\n",
            "<\n",
            "METHODS\n",
            "treatment\n",
            "analysis\n",
            "addition\n",
            "response\n",
            "protein\n",
            "rate\n",
            "therapy\n",
            "cancer\n",
            "P\n",
            "time\n",
            "vivo\n",
            "----------\n",
            "topic:  5\n",
            "----------\n",
            "BACKGROUND\n",
            "expression\n",
            "protein\n",
            "response\n",
            "cancer\n",
            "activity\n",
            "CONCLUSION\n",
            "study\n",
            "rate\n",
            "CONCLUSIONS\n",
            "treatment\n",
            "METHODS\n",
            "this study\n",
            "vivo\n",
            "risk\n",
            "gene\n",
            "level\n",
            "vitro\n",
            "function\n",
            "contrast\n",
            "----------\n",
            "topic:  6\n",
            "----------\n",
            "BACKGROUND\n",
            "P\n",
            "method\n",
            "contrast\n",
            "addition\n",
            "treatment\n",
            "cancer\n",
            "response\n",
            "activity\n",
            "<\n",
            "CONCLUSIONS\n",
            "function\n",
            "PURPOSE\n",
            "vivo\n",
            "risk\n",
            "factor\n",
            "group\n",
            "family\n",
            "gene\n",
            "this study\n",
            "----------\n",
            "topic:  7\n",
            "----------\n",
            "expression\n",
            "factor\n",
            "DNA\n",
            "response\n",
            "method\n",
            "risk\n",
            "disease\n",
            "treatment\n",
            "BACKGROUND\n",
            "analysis\n",
            "time\n",
            "addition\n",
            "OBJECTIVE\n",
            "age\n",
            "rate\n",
            "level\n",
            "this study\n",
            "CONCLUSION\n",
            "activity\n",
            "group\n",
            "----------\n",
            "topic:  8\n",
            "----------\n",
            "cell\n",
            "vivo\n",
            "family\n",
            "P\n",
            "level\n",
            "response\n",
            "group\n",
            "therapy\n",
            "protein\n",
            "study\n",
            "treatment\n",
            "vitro\n",
            "this study\n",
            "CONCLUSIONS\n",
            "CONCLUSION\n",
            "<\n",
            "analysis\n",
            "risk\n",
            "contrast\n",
            "addition\n",
            "----------\n",
            "topic:  9\n",
            "----------\n",
            "CONCLUSIONS\n",
            "cell\n",
            "function\n",
            "this study\n",
            "contrast\n",
            "disease\n",
            "gene\n",
            "OBJECTIVE\n",
            "CONCLUSION\n",
            "addition\n",
            "),\n",
            "factor\n",
            "expression\n",
            "level\n",
            "activity\n",
            "risk\n",
            "rate\n",
            "PURPOSE\n",
            "vivo\n",
            "protein\n",
            "----------\n"
          ],
          "name": "stdout"
        }
      ]
    }
  ]
}